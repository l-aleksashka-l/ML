{
 "cells": [
  {
   "cell_type": "code",
   "execution_count": 1,
   "id": "956c726d",
   "metadata": {},
   "outputs": [],
   "source": [
    "from sklearn import tree\n",
    "import pandas as pd\n",
    "import matplotlib.pyplot as plt\n",
    "import seaborn as sns\n",
    "%matplotlib inline"
   ]
  },
  {
   "cell_type": "code",
   "execution_count": 2,
   "id": "8df36e9f",
   "metadata": {},
   "outputs": [],
   "source": [
    "data = pd.DataFrame({'X_1': [1, 1, 1, 0, 0, 0, 0, 1], 'X_2': [0, 0, 0, 1, 0, 0, 0, 1], 'Y': [1, 1, 1, 1, 0, 0, 0, 0]})"
   ]
  },
  {
   "cell_type": "code",
   "execution_count": 3,
   "id": "2657edf2",
   "metadata": {},
   "outputs": [
    {
     "data": {
      "text/html": [
       "<div>\n",
       "<style scoped>\n",
       "    .dataframe tbody tr th:only-of-type {\n",
       "        vertical-align: middle;\n",
       "    }\n",
       "\n",
       "    .dataframe tbody tr th {\n",
       "        vertical-align: top;\n",
       "    }\n",
       "\n",
       "    .dataframe thead th {\n",
       "        text-align: right;\n",
       "    }\n",
       "</style>\n",
       "<table border=\"1\" class=\"dataframe\">\n",
       "  <thead>\n",
       "    <tr style=\"text-align: right;\">\n",
       "      <th></th>\n",
       "      <th>X_1</th>\n",
       "      <th>X_2</th>\n",
       "      <th>Y</th>\n",
       "    </tr>\n",
       "  </thead>\n",
       "  <tbody>\n",
       "    <tr>\n",
       "      <th>0</th>\n",
       "      <td>1</td>\n",
       "      <td>0</td>\n",
       "      <td>1</td>\n",
       "    </tr>\n",
       "    <tr>\n",
       "      <th>1</th>\n",
       "      <td>1</td>\n",
       "      <td>0</td>\n",
       "      <td>1</td>\n",
       "    </tr>\n",
       "    <tr>\n",
       "      <th>2</th>\n",
       "      <td>1</td>\n",
       "      <td>0</td>\n",
       "      <td>1</td>\n",
       "    </tr>\n",
       "    <tr>\n",
       "      <th>3</th>\n",
       "      <td>0</td>\n",
       "      <td>1</td>\n",
       "      <td>1</td>\n",
       "    </tr>\n",
       "    <tr>\n",
       "      <th>4</th>\n",
       "      <td>0</td>\n",
       "      <td>0</td>\n",
       "      <td>0</td>\n",
       "    </tr>\n",
       "    <tr>\n",
       "      <th>5</th>\n",
       "      <td>0</td>\n",
       "      <td>0</td>\n",
       "      <td>0</td>\n",
       "    </tr>\n",
       "    <tr>\n",
       "      <th>6</th>\n",
       "      <td>0</td>\n",
       "      <td>0</td>\n",
       "      <td>0</td>\n",
       "    </tr>\n",
       "    <tr>\n",
       "      <th>7</th>\n",
       "      <td>1</td>\n",
       "      <td>1</td>\n",
       "      <td>0</td>\n",
       "    </tr>\n",
       "  </tbody>\n",
       "</table>\n",
       "</div>"
      ],
      "text/plain": [
       "   X_1  X_2  Y\n",
       "0    1    0  1\n",
       "1    1    0  1\n",
       "2    1    0  1\n",
       "3    0    1  1\n",
       "4    0    0  0\n",
       "5    0    0  0\n",
       "6    0    0  0\n",
       "7    1    1  0"
      ]
     },
     "execution_count": 3,
     "metadata": {},
     "output_type": "execute_result"
    }
   ],
   "source": [
    "data"
   ]
  },
  {
   "cell_type": "code",
   "execution_count": 7,
   "id": "aaf848ad",
   "metadata": {},
   "outputs": [],
   "source": [
    "clf = tree.DecisionTreeClassifier(criterion='entropy')"
   ]
  },
  {
   "cell_type": "code",
   "execution_count": 8,
   "id": "0ad3250e",
   "metadata": {},
   "outputs": [
    {
     "data": {
      "text/plain": [
       "DecisionTreeClassifier(criterion='entropy')"
      ]
     },
     "execution_count": 8,
     "metadata": {},
     "output_type": "execute_result"
    }
   ],
   "source": [
    "clf"
   ]
  },
  {
   "cell_type": "code",
   "execution_count": 9,
   "id": "48e447d9",
   "metadata": {},
   "outputs": [],
   "source": [
    "X = data[['X_1', 'X_2']]\n",
    "y = data['Y']"
   ]
  },
  {
   "cell_type": "code",
   "execution_count": 10,
   "id": "e463be24",
   "metadata": {},
   "outputs": [
    {
     "data": {
      "text/plain": [
       "DecisionTreeClassifier(criterion='entropy')"
      ]
     },
     "execution_count": 10,
     "metadata": {},
     "output_type": "execute_result"
    }
   ],
   "source": [
    "clf.fit(X,y)"
   ]
  },
  {
   "cell_type": "code",
   "execution_count": 14,
   "id": "ccad9e69",
   "metadata": {},
   "outputs": [
    {
     "data": {
      "text/plain": [
       "[Text(167.4, 181.2, 'X_1 <= 0.5\\nentropy = 1.0\\nsamples = 8\\nvalue = [4, 4]\\nclass = Negative'),\n",
       " Text(83.7, 108.72, 'X_2 <= 0.5\\nentropy = 0.811\\nsamples = 4\\nvalue = [3, 1]\\nclass = Negative'),\n",
       " Text(41.85, 36.23999999999998, 'entropy = 0.0\\nsamples = 3\\nvalue = [3, 0]\\nclass = Negative'),\n",
       " Text(125.55000000000001, 36.23999999999998, 'entropy = 0.0\\nsamples = 1\\nvalue = [0, 1]\\nclass = Positive'),\n",
       " Text(251.10000000000002, 108.72, 'X_2 <= 0.5\\nentropy = 0.811\\nsamples = 4\\nvalue = [1, 3]\\nclass = Positive'),\n",
       " Text(209.25, 36.23999999999998, 'entropy = 0.0\\nsamples = 3\\nvalue = [0, 3]\\nclass = Positive'),\n",
       " Text(292.95, 36.23999999999998, 'entropy = 0.0\\nsamples = 1\\nvalue = [1, 0]\\nclass = Negative')]"
      ]
     },
     "execution_count": 14,
     "metadata": {},
     "output_type": "execute_result"
    },
    {
     "data": {
      "image/png": "[encoded data removed]",
      "text/plain": [
       "<Figure size 432x288 with 1 Axes>"
      ]
     },
     "metadata": {
      "needs_background": "light"
     },
     "output_type": "display_data"
    }
   ],
   "source": [
    "tree.plot_tree(clf, feature_names=list(X),\n",
    "               class_names=['Negative', 'Positive'],\n",
    "               filled=True)"
   ]
  },
  {
   "cell_type": "code",
   "execution_count": 16,
   "id": "23a43082",
   "metadata": {},
   "outputs": [],
   "source": [
    "titanic_data = pd.read_csv('csv/titanic.csv')"
   ]
  },
  {
   "cell_type": "code",
   "execution_count": 17,
   "id": "cb52ea51",
   "metadata": {},
   "outputs": [
    {
     "data": {
      "text/html": [
       "<div>\n",
       "<style scoped>\n",
       "    .dataframe tbody tr th:only-of-type {\n",
       "        vertical-align: middle;\n",
       "    }\n",
       "\n",
       "    .dataframe tbody tr th {\n",
       "        vertical-align: top;\n",
       "    }\n",
       "\n",
       "    .dataframe thead th {\n",
       "        text-align: right;\n",
       "    }\n",
       "</style>\n",
       "<table border=\"1\" class=\"dataframe\">\n",
       "  <thead>\n",
       "    <tr style=\"text-align: right;\">\n",
       "      <th></th>\n",
       "      <th>PassengerId</th>\n",
       "      <th>Survived</th>\n",
       "      <th>Pclass</th>\n",
       "      <th>Name</th>\n",
       "      <th>Sex</th>\n",
       "      <th>Age</th>\n",
       "      <th>SibSp</th>\n",
       "      <th>Parch</th>\n",
       "      <th>Ticket</th>\n",
       "      <th>Fare</th>\n",
       "      <th>Cabin</th>\n",
       "      <th>Embarked</th>\n",
       "    </tr>\n",
       "  </thead>\n",
       "  <tbody>\n",
       "    <tr>\n",
       "      <th>0</th>\n",
       "      <td>1</td>\n",
       "      <td>0</td>\n",
       "      <td>3</td>\n",
       "      <td>Braund, Mr. Owen Harris</td>\n",
       "      <td>male</td>\n",
       "      <td>22.0</td>\n",
       "      <td>1</td>\n",
       "      <td>0</td>\n",
       "      <td>A/5 21171</td>\n",
       "      <td>7.2500</td>\n",
       "      <td>NaN</td>\n",
       "      <td>S</td>\n",
       "    </tr>\n",
       "    <tr>\n",
       "      <th>1</th>\n",
       "      <td>2</td>\n",
       "      <td>1</td>\n",
       "      <td>1</td>\n",
       "      <td>Cumings, Mrs. John Bradley (Florence Briggs Th...</td>\n",
       "      <td>female</td>\n",
       "      <td>38.0</td>\n",
       "      <td>1</td>\n",
       "      <td>0</td>\n",
       "      <td>PC 17599</td>\n",
       "      <td>71.2833</td>\n",
       "      <td>C85</td>\n",
       "      <td>C</td>\n",
       "    </tr>\n",
       "    <tr>\n",
       "      <th>2</th>\n",
       "      <td>3</td>\n",
       "      <td>1</td>\n",
       "      <td>3</td>\n",
       "      <td>Heikkinen, Miss. Laina</td>\n",
       "      <td>female</td>\n",
       "      <td>26.0</td>\n",
       "      <td>0</td>\n",
       "      <td>0</td>\n",
       "      <td>STON/O2. 3101282</td>\n",
       "      <td>7.9250</td>\n",
       "      <td>NaN</td>\n",
       "      <td>S</td>\n",
       "    </tr>\n",
       "    <tr>\n",
       "      <th>3</th>\n",
       "      <td>4</td>\n",
       "      <td>1</td>\n",
       "      <td>1</td>\n",
       "      <td>Futrelle, Mrs. Jacques Heath (Lily May Peel)</td>\n",
       "      <td>female</td>\n",
       "      <td>35.0</td>\n",
       "      <td>1</td>\n",
       "      <td>0</td>\n",
       "      <td>113803</td>\n",
       "      <td>53.1000</td>\n",
       "      <td>C123</td>\n",
       "      <td>S</td>\n",
       "    </tr>\n",
       "    <tr>\n",
       "      <th>4</th>\n",
       "      <td>5</td>\n",
       "      <td>0</td>\n",
       "      <td>3</td>\n",
       "      <td>Allen, Mr. William Henry</td>\n",
       "      <td>male</td>\n",
       "      <td>35.0</td>\n",
       "      <td>0</td>\n",
       "      <td>0</td>\n",
       "      <td>373450</td>\n",
       "      <td>8.0500</td>\n",
       "      <td>NaN</td>\n",
       "      <td>S</td>\n",
       "    </tr>\n",
       "    <tr>\n",
       "      <th>...</th>\n",
       "      <td>...</td>\n",
       "      <td>...</td>\n",
       "      <td>...</td>\n",
       "      <td>...</td>\n",
       "      <td>...</td>\n",
       "      <td>...</td>\n",
       "      <td>...</td>\n",
       "      <td>...</td>\n",
       "      <td>...</td>\n",
       "      <td>...</td>\n",
       "      <td>...</td>\n",
       "      <td>...</td>\n",
       "    </tr>\n",
       "    <tr>\n",
       "      <th>886</th>\n",
       "      <td>887</td>\n",
       "      <td>0</td>\n",
       "      <td>2</td>\n",
       "      <td>Montvila, Rev. Juozas</td>\n",
       "      <td>male</td>\n",
       "      <td>27.0</td>\n",
       "      <td>0</td>\n",
       "      <td>0</td>\n",
       "      <td>211536</td>\n",
       "      <td>13.0000</td>\n",
       "      <td>NaN</td>\n",
       "      <td>S</td>\n",
       "    </tr>\n",
       "    <tr>\n",
       "      <th>887</th>\n",
       "      <td>888</td>\n",
       "      <td>1</td>\n",
       "      <td>1</td>\n",
       "      <td>Graham, Miss. Margaret Edith</td>\n",
       "      <td>female</td>\n",
       "      <td>19.0</td>\n",
       "      <td>0</td>\n",
       "      <td>0</td>\n",
       "      <td>112053</td>\n",
       "      <td>30.0000</td>\n",
       "      <td>B42</td>\n",
       "      <td>S</td>\n",
       "    </tr>\n",
       "    <tr>\n",
       "      <th>888</th>\n",
       "      <td>889</td>\n",
       "      <td>0</td>\n",
       "      <td>3</td>\n",
       "      <td>Johnston, Miss. Catherine Helen \"Carrie\"</td>\n",
       "      <td>female</td>\n",
       "      <td>NaN</td>\n",
       "      <td>1</td>\n",
       "      <td>2</td>\n",
       "      <td>W./C. 6607</td>\n",
       "      <td>23.4500</td>\n",
       "      <td>NaN</td>\n",
       "      <td>S</td>\n",
       "    </tr>\n",
       "    <tr>\n",
       "      <th>889</th>\n",
       "      <td>890</td>\n",
       "      <td>1</td>\n",
       "      <td>1</td>\n",
       "      <td>Behr, Mr. Karl Howell</td>\n",
       "      <td>male</td>\n",
       "      <td>26.0</td>\n",
       "      <td>0</td>\n",
       "      <td>0</td>\n",
       "      <td>111369</td>\n",
       "      <td>30.0000</td>\n",
       "      <td>C148</td>\n",
       "      <td>C</td>\n",
       "    </tr>\n",
       "    <tr>\n",
       "      <th>890</th>\n",
       "      <td>891</td>\n",
       "      <td>0</td>\n",
       "      <td>3</td>\n",
       "      <td>Dooley, Mr. Patrick</td>\n",
       "      <td>male</td>\n",
       "      <td>32.0</td>\n",
       "      <td>0</td>\n",
       "      <td>0</td>\n",
       "      <td>370376</td>\n",
       "      <td>7.7500</td>\n",
       "      <td>NaN</td>\n",
       "      <td>Q</td>\n",
       "    </tr>\n",
       "  </tbody>\n",
       "</table>\n",
       "<p>891 rows × 12 columns</p>\n",
       "</div>"
      ],
      "text/plain": [
       "     PassengerId  Survived  Pclass  \\\n",
       "0              1         0       3   \n",
       "1              2         1       1   \n",
       "2              3         1       3   \n",
       "3              4         1       1   \n",
       "4              5         0       3   \n",
       "..           ...       ...     ...   \n",
       "886          887         0       2   \n",
       "887          888         1       1   \n",
       "888          889         0       3   \n",
       "889          890         1       1   \n",
       "890          891         0       3   \n",
       "\n",
       "                                                  Name     Sex   Age  SibSp  \\\n",
       "0                              Braund, Mr. Owen Harris    male  22.0      1   \n",
       "1    Cumings, Mrs. John Bradley (Florence Briggs Th...  female  38.0      1   \n",
       "2                               Heikkinen, Miss. Laina  female  26.0      0   \n",
       "3         Futrelle, Mrs. Jacques Heath (Lily May Peel)  female  35.0      1   \n",
       "4                             Allen, Mr. William Henry    male  35.0      0   \n",
       "..                                                 ...     ...   ...    ...   \n",
       "886                              Montvila, Rev. Juozas    male  27.0      0   \n",
       "887                       Graham, Miss. Margaret Edith  female  19.0      0   \n",
       "888           Johnston, Miss. Catherine Helen \"Carrie\"  female   NaN      1   \n",
       "889                              Behr, Mr. Karl Howell    male  26.0      0   \n",
       "890                                Dooley, Mr. Patrick    male  32.0      0   \n",
       "\n",
       "     Parch            Ticket     Fare Cabin Embarked  \n",
       "0        0         A/5 21171   7.2500   NaN        S  \n",
       "1        0          PC 17599  71.2833   C85        C  \n",
       "2        0  STON/O2. 3101282   7.9250   NaN        S  \n",
       "3        0            113803  53.1000  C123        S  \n",
       "4        0            373450   8.0500   NaN        S  \n",
       "..     ...               ...      ...   ...      ...  \n",
       "886      0            211536  13.0000   NaN        S  \n",
       "887      0            112053  30.0000   B42        S  \n",
       "888      2        W./C. 6607  23.4500   NaN        S  \n",
       "889      0            111369  30.0000  C148        C  \n",
       "890      0            370376   7.7500   NaN        Q  \n",
       "\n",
       "[891 rows x 12 columns]"
      ]
     },
     "execution_count": 17,
     "metadata": {},
     "output_type": "execute_result"
    }
   ],
   "source": [
    "titanic_data.head()"
   ]
  },
  {
   "cell_type": "code",
   "execution_count": 21,
   "id": "cffe8f33",
   "metadata": {},
   "outputs": [
    {
     "data": {
      "text/plain": [
       "PassengerId      0\n",
       "Survived         0\n",
       "Pclass           0\n",
       "Name             0\n",
       "Sex              0\n",
       "Age            177\n",
       "SibSp            0\n",
       "Parch            0\n",
       "Ticket           0\n",
       "Fare             0\n",
       "Cabin          687\n",
       "Embarked         2\n",
       "dtype: int64"
      ]
     },
     "execution_count": 21,
     "metadata": {},
     "output_type": "execute_result"
    }
   ],
   "source": [
    "titanic_data.isnull().sum()"
   ]
  },
  {
   "cell_type": "code",
   "execution_count": 24,
   "id": "a376c0d9",
   "metadata": {},
   "outputs": [],
   "source": [
    "X = titanic_data.drop(['PassengerId', 'Name', 'Cabin', 'Ticket', 'Survived'], axis=1)\n",
    "y = titanic_data.Survived"
   ]
  },
  {
   "cell_type": "code",
   "execution_count": 26,
   "id": "cbadab43",
   "metadata": {},
   "outputs": [],
   "source": [
    "X = pd.get_dummies(X)"
   ]
  },
  {
   "cell_type": "code",
   "execution_count": 41,
   "id": "f5d67a37",
   "metadata": {},
   "outputs": [],
   "source": [
    "clf = tree.DecisionTreeClassifier(criterion='entropy')"
   ]
  },
  {
   "cell_type": "code",
   "execution_count": 42,
   "id": "73d1b435",
   "metadata": {},
   "outputs": [
    {
     "data": {
      "text/plain": [
       "DecisionTreeClassifier(criterion='entropy')"
      ]
     },
     "execution_count": 42,
     "metadata": {},
     "output_type": "execute_result"
    }
   ],
   "source": [
    "clf.fit(X, y)"
   ]
  },
  {
   "cell_type": "code",
   "execution_count": 36,
   "id": "9d35526f",
   "metadata": {},
   "outputs": [],
   "source": [
    "X = X.fillna({'Age' :X.Age.median()})"
   ]
  },
  {
   "cell_type": "code",
   "execution_count": 37,
   "id": "224c34e9",
   "metadata": {},
   "outputs": [
    {
     "data": {
      "text/html": [
       "<div>\n",
       "<style scoped>\n",
       "    .dataframe tbody tr th:only-of-type {\n",
       "        vertical-align: middle;\n",
       "    }\n",
       "\n",
       "    .dataframe tbody tr th {\n",
       "        vertical-align: top;\n",
       "    }\n",
       "\n",
       "    .dataframe thead th {\n",
       "        text-align: right;\n",
       "    }\n",
       "</style>\n",
       "<table border=\"1\" class=\"dataframe\">\n",
       "  <thead>\n",
       "    <tr style=\"text-align: right;\">\n",
       "      <th></th>\n",
       "      <th>Pclass</th>\n",
       "      <th>Age</th>\n",
       "      <th>SibSp</th>\n",
       "      <th>Parch</th>\n",
       "      <th>Fare</th>\n",
       "      <th>Sex_female</th>\n",
       "      <th>Sex_male</th>\n",
       "      <th>Embarked_C</th>\n",
       "      <th>Embarked_Q</th>\n",
       "      <th>Embarked_S</th>\n",
       "    </tr>\n",
       "  </thead>\n",
       "  <tbody>\n",
       "    <tr>\n",
       "      <th>0</th>\n",
       "      <td>3</td>\n",
       "      <td>22.0</td>\n",
       "      <td>1</td>\n",
       "      <td>0</td>\n",
       "      <td>7.2500</td>\n",
       "      <td>0</td>\n",
       "      <td>1</td>\n",
       "      <td>0</td>\n",
       "      <td>0</td>\n",
       "      <td>1</td>\n",
       "    </tr>\n",
       "    <tr>\n",
       "      <th>1</th>\n",
       "      <td>1</td>\n",
       "      <td>38.0</td>\n",
       "      <td>1</td>\n",
       "      <td>0</td>\n",
       "      <td>71.2833</td>\n",
       "      <td>1</td>\n",
       "      <td>0</td>\n",
       "      <td>1</td>\n",
       "      <td>0</td>\n",
       "      <td>0</td>\n",
       "    </tr>\n",
       "    <tr>\n",
       "      <th>2</th>\n",
       "      <td>3</td>\n",
       "      <td>26.0</td>\n",
       "      <td>0</td>\n",
       "      <td>0</td>\n",
       "      <td>7.9250</td>\n",
       "      <td>1</td>\n",
       "      <td>0</td>\n",
       "      <td>0</td>\n",
       "      <td>0</td>\n",
       "      <td>1</td>\n",
       "    </tr>\n",
       "    <tr>\n",
       "      <th>3</th>\n",
       "      <td>1</td>\n",
       "      <td>35.0</td>\n",
       "      <td>1</td>\n",
       "      <td>0</td>\n",
       "      <td>53.1000</td>\n",
       "      <td>1</td>\n",
       "      <td>0</td>\n",
       "      <td>0</td>\n",
       "      <td>0</td>\n",
       "      <td>1</td>\n",
       "    </tr>\n",
       "    <tr>\n",
       "      <th>4</th>\n",
       "      <td>3</td>\n",
       "      <td>35.0</td>\n",
       "      <td>0</td>\n",
       "      <td>0</td>\n",
       "      <td>8.0500</td>\n",
       "      <td>0</td>\n",
       "      <td>1</td>\n",
       "      <td>0</td>\n",
       "      <td>0</td>\n",
       "      <td>1</td>\n",
       "    </tr>\n",
       "    <tr>\n",
       "      <th>...</th>\n",
       "      <td>...</td>\n",
       "      <td>...</td>\n",
       "      <td>...</td>\n",
       "      <td>...</td>\n",
       "      <td>...</td>\n",
       "      <td>...</td>\n",
       "      <td>...</td>\n",
       "      <td>...</td>\n",
       "      <td>...</td>\n",
       "      <td>...</td>\n",
       "    </tr>\n",
       "    <tr>\n",
       "      <th>886</th>\n",
       "      <td>2</td>\n",
       "      <td>27.0</td>\n",
       "      <td>0</td>\n",
       "      <td>0</td>\n",
       "      <td>13.0000</td>\n",
       "      <td>0</td>\n",
       "      <td>1</td>\n",
       "      <td>0</td>\n",
       "      <td>0</td>\n",
       "      <td>1</td>\n",
       "    </tr>\n",
       "    <tr>\n",
       "      <th>887</th>\n",
       "      <td>1</td>\n",
       "      <td>19.0</td>\n",
       "      <td>0</td>\n",
       "      <td>0</td>\n",
       "      <td>30.0000</td>\n",
       "      <td>1</td>\n",
       "      <td>0</td>\n",
       "      <td>0</td>\n",
       "      <td>0</td>\n",
       "      <td>1</td>\n",
       "    </tr>\n",
       "    <tr>\n",
       "      <th>888</th>\n",
       "      <td>3</td>\n",
       "      <td>28.0</td>\n",
       "      <td>1</td>\n",
       "      <td>2</td>\n",
       "      <td>23.4500</td>\n",
       "      <td>1</td>\n",
       "      <td>0</td>\n",
       "      <td>0</td>\n",
       "      <td>0</td>\n",
       "      <td>1</td>\n",
       "    </tr>\n",
       "    <tr>\n",
       "      <th>889</th>\n",
       "      <td>1</td>\n",
       "      <td>26.0</td>\n",
       "      <td>0</td>\n",
       "      <td>0</td>\n",
       "      <td>30.0000</td>\n",
       "      <td>0</td>\n",
       "      <td>1</td>\n",
       "      <td>1</td>\n",
       "      <td>0</td>\n",
       "      <td>0</td>\n",
       "    </tr>\n",
       "    <tr>\n",
       "      <th>890</th>\n",
       "      <td>3</td>\n",
       "      <td>32.0</td>\n",
       "      <td>0</td>\n",
       "      <td>0</td>\n",
       "      <td>7.7500</td>\n",
       "      <td>0</td>\n",
       "      <td>1</td>\n",
       "      <td>0</td>\n",
       "      <td>1</td>\n",
       "      <td>0</td>\n",
       "    </tr>\n",
       "  </tbody>\n",
       "</table>\n",
       "<p>891 rows × 10 columns</p>\n",
       "</div>"
      ],
      "text/plain": [
       "     Pclass   Age  SibSp  Parch     Fare  Sex_female  Sex_male  Embarked_C  \\\n",
       "0         3  22.0      1      0   7.2500           0         1           0   \n",
       "1         1  38.0      1      0  71.2833           1         0           1   \n",
       "2         3  26.0      0      0   7.9250           1         0           0   \n",
       "3         1  35.0      1      0  53.1000           1         0           0   \n",
       "4         3  35.0      0      0   8.0500           0         1           0   \n",
       "..      ...   ...    ...    ...      ...         ...       ...         ...   \n",
       "886       2  27.0      0      0  13.0000           0         1           0   \n",
       "887       1  19.0      0      0  30.0000           1         0           0   \n",
       "888       3  28.0      1      2  23.4500           1         0           0   \n",
       "889       1  26.0      0      0  30.0000           0         1           1   \n",
       "890       3  32.0      0      0   7.7500           0         1           0   \n",
       "\n",
       "     Embarked_Q  Embarked_S  \n",
       "0             0           1  \n",
       "1             0           0  \n",
       "2             0           1  \n",
       "3             0           1  \n",
       "4             0           1  \n",
       "..          ...         ...  \n",
       "886           0           1  \n",
       "887           0           1  \n",
       "888           0           1  \n",
       "889           0           0  \n",
       "890           1           0  \n",
       "\n",
       "[891 rows x 10 columns]"
      ]
     },
     "execution_count": 37,
     "metadata": {},
     "output_type": "execute_result"
    }
   ],
   "source": [
    "X"
   ]
  },
  {
   "cell_type": "code",
   "execution_count": 45,
   "id": "9226f017",
   "metadata": {
    "scrolled": true
   },
   "outputs": [
    {
     "data": {
      "text/plain": [
       "[Text(145.63624392667845, 212.004, 'Sex_male <= 0.5\\nentropy = 0.961\\nsamples = 891\\nvalue = [549, 342]\\nclass = Died'),\n",
       " Text(54.05008833922262, 201.132, 'Pclass <= 2.5\\nentropy = 0.824\\nsamples = 314\\nvalue = [81, 233]\\nclass = Survived'),\n",
       " Text(20.111660777385158, 190.26, 'Fare <= 28.856\\nentropy = 0.299\\nsamples = 170\\nvalue = [9, 161]\\nclass = Survived'),\n",
       " Text(15.379505300353356, 179.388, 'Fare <= 28.231\\nentropy = 0.469\\nsamples = 70\\nvalue = [7, 63]\\nclass = Survived'),\n",
       " Text(13.013427561837457, 168.516, 'Age <= 23.5\\nentropy = 0.426\\nsamples = 69\\nvalue = [6, 63]\\nclass = Survived'),\n",
       " Text(10.647349823321555, 157.644, 'entropy = 0.0\\nsamples = 15\\nvalue = [0, 15]\\nclass = Survived'),\n",
       " Text(15.379505300353356, 157.644, 'Age <= 27.5\\nentropy = 0.503\\nsamples = 54\\nvalue = [6, 48]\\nclass = Survived'),\n",
       " Text(9.464310954063604, 146.772, 'Age <= 25.5\\nentropy = 0.845\\nsamples = 11\\nvalue = [3, 8]\\nclass = Survived'),\n",
       " Text(4.732155477031802, 135.9, 'Fare <= 13.75\\nentropy = 0.592\\nsamples = 7\\nvalue = [1, 6]\\nclass = Survived'),\n",
       " Text(2.366077738515901, 125.02799999999999, 'entropy = 1.0\\nsamples = 2\\nvalue = [1, 1]\\nclass = Died'),\n",
       " Text(7.098233215547703, 125.02799999999999, 'entropy = 0.0\\nsamples = 5\\nvalue = [0, 5]\\nclass = Survived'),\n",
       " Text(14.196466431095406, 135.9, 'Fare <= 17.429\\nentropy = 1.0\\nsamples = 4\\nvalue = [2, 2]\\nclass = Died'),\n",
       " Text(11.830388692579506, 125.02799999999999, 'entropy = 0.0\\nsamples = 2\\nvalue = [0, 2]\\nclass = Survived'),\n",
       " Text(16.562544169611307, 125.02799999999999, 'entropy = 0.0\\nsamples = 2\\nvalue = [2, 0]\\nclass = Died'),\n",
       " Text(21.29469964664311, 146.772, 'Age <= 37.0\\nentropy = 0.365\\nsamples = 43\\nvalue = [3, 40]\\nclass = Survived'),\n",
       " Text(18.92862190812721, 135.9, 'entropy = 0.0\\nsamples = 24\\nvalue = [0, 24]\\nclass = Survived'),\n",
       " Text(23.66077738515901, 135.9, 'Age <= 39.0\\nentropy = 0.629\\nsamples = 19\\nvalue = [3, 16]\\nclass = Survived'),\n",
       " Text(21.29469964664311, 125.02799999999999, 'entropy = 0.0\\nsamples = 1\\nvalue = [1, 0]\\nclass = Died'),\n",
       " Text(26.026855123674913, 125.02799999999999, 'Age <= 56.0\\nentropy = 0.503\\nsamples = 18\\nvalue = [2, 16]\\nclass = Survived'),\n",
       " Text(21.29469964664311, 114.156, 'SibSp <= 0.5\\nentropy = 0.337\\nsamples = 16\\nvalue = [1, 15]\\nclass = Survived'),\n",
       " Text(18.92862190812721, 103.28399999999999, 'entropy = 0.0\\nsamples = 12\\nvalue = [0, 12]\\nclass = Survived'),\n",
       " Text(23.66077738515901, 103.28399999999999, 'Age <= 44.5\\nentropy = 0.811\\nsamples = 4\\nvalue = [1, 3]\\nclass = Survived'),\n",
       " Text(21.29469964664311, 92.412, 'Age <= 43.0\\nentropy = 1.0\\nsamples = 2\\nvalue = [1, 1]\\nclass = Died'),\n",
       " Text(18.92862190812721, 81.53999999999999, 'entropy = 0.0\\nsamples = 1\\nvalue = [0, 1]\\nclass = Survived'),\n",
       " Text(23.66077738515901, 81.53999999999999, 'entropy = 0.0\\nsamples = 1\\nvalue = [1, 0]\\nclass = Died'),\n",
       " Text(26.026855123674913, 92.412, 'entropy = 0.0\\nsamples = 2\\nvalue = [0, 2]\\nclass = Survived'),\n",
       " Text(30.759010600706713, 114.156, 'Pclass <= 1.5\\nentropy = 1.0\\nsamples = 2\\nvalue = [1, 1]\\nclass = Died'),\n",
       " Text(28.39293286219081, 103.28399999999999, 'entropy = 0.0\\nsamples = 1\\nvalue = [0, 1]\\nclass = Survived'),\n",
       " Text(33.125088339222614, 103.28399999999999, 'entropy = 0.0\\nsamples = 1\\nvalue = [1, 0]\\nclass = Died'),\n",
       " Text(17.74558303886926, 168.516, 'entropy = 0.0\\nsamples = 1\\nvalue = [1, 0]\\nclass = Died'),\n",
       " Text(24.84381625441696, 179.388, 'Age <= 2.5\\nentropy = 0.141\\nsamples = 100\\nvalue = [2, 98]\\nclass = Survived'),\n",
       " Text(22.47773851590106, 168.516, 'entropy = 0.0\\nsamples = 1\\nvalue = [1, 0]\\nclass = Died'),\n",
       " Text(27.209893992932862, 168.516, 'Parch <= 1.5\\nentropy = 0.081\\nsamples = 99\\nvalue = [1, 98]\\nclass = Survived'),\n",
       " Text(24.84381625441696, 157.644, 'entropy = 0.0\\nsamples = 84\\nvalue = [0, 84]\\nclass = Survived'),\n",
       " Text(29.575971731448764, 157.644, 'Age <= 24.5\\nentropy = 0.353\\nsamples = 15\\nvalue = [1, 14]\\nclass = Survived'),\n",
       " Text(27.209893992932862, 146.772, 'entropy = 0.0\\nsamples = 10\\nvalue = [0, 10]\\nclass = Survived'),\n",
       " Text(31.942049469964665, 146.772, 'Age <= 28.0\\nentropy = 0.722\\nsamples = 5\\nvalue = [1, 4]\\nclass = Survived'),\n",
       " Text(29.575971731448764, 135.9, 'entropy = 0.0\\nsamples = 1\\nvalue = [1, 0]\\nclass = Died'),\n",
       " Text(34.30812720848056, 135.9, 'entropy = 0.0\\nsamples = 4\\nvalue = [0, 4]\\nclass = Survived'),\n",
       " Text(87.98851590106007, 190.26, 'Fare <= 23.35\\nentropy = 1.0\\nsamples = 144\\nvalue = [72, 72]\\nclass = Died'),\n",
       " Text(78.96784452296819, 179.388, 'Age <= 36.5\\nentropy = 0.977\\nsamples = 117\\nvalue = [48, 69]\\nclass = Survived'),\n",
       " Text(68.02473498233216, 168.516, 'Embarked_S <= 0.5\\nentropy = 0.959\\nsamples = 110\\nvalue = [42, 68]\\nclass = Survived'),\n",
       " Text(53.236749116607776, 157.644, 'Fare <= 15.621\\nentropy = 0.86\\nsamples = 53\\nvalue = [15, 38]\\nclass = Survived'),\n",
       " Text(50.87067137809187, 146.772, 'Fare <= 13.935\\nentropy = 0.918\\nsamples = 45\\nvalue = [15, 30]\\nclass = Survived'),\n",
       " Text(40.223321554770315, 135.9, 'Age <= 17.0\\nentropy = 0.758\\nsamples = 32\\nvalue = [7, 25]\\nclass = Survived'),\n",
       " Text(37.85724381625442, 125.02799999999999, 'entropy = 0.0\\nsamples = 7\\nvalue = [0, 7]\\nclass = Survived'),\n",
       " Text(42.58939929328622, 125.02799999999999, 'Parch <= 1.0\\nentropy = 0.855\\nsamples = 25\\nvalue = [7, 18]\\nclass = Survived'),\n",
       " Text(40.223321554770315, 114.156, 'Fare <= 6.987\\nentropy = 0.811\\nsamples = 24\\nvalue = [6, 18]\\nclass = Survived'),\n",
       " Text(37.85724381625442, 103.28399999999999, 'entropy = 0.0\\nsamples = 1\\nvalue = [1, 0]\\nclass = Died'),\n",
       " Text(42.58939929328622, 103.28399999999999, 'Fare <= 8.008\\nentropy = 0.755\\nsamples = 23\\nvalue = [5, 18]\\nclass = Survived'),\n",
       " Text(40.223321554770315, 92.412, 'Age <= 29.25\\nentropy = 0.684\\nsamples = 22\\nvalue = [4, 18]\\nclass = Survived'),\n",
       " Text(37.85724381625442, 81.53999999999999, 'Fare <= 7.769\\nentropy = 0.592\\nsamples = 21\\nvalue = [3, 18]\\nclass = Survived'),\n",
       " Text(35.49116607773852, 70.668, 'Age <= 21.5\\nentropy = 0.722\\nsamples = 15\\nvalue = [3, 12]\\nclass = Survived'),\n",
       " Text(33.125088339222614, 59.79599999999999, 'entropy = 0.0\\nsamples = 1\\nvalue = [1, 0]\\nclass = Died'),\n",
       " Text(37.85724381625442, 59.79599999999999, 'Fare <= 7.681\\nentropy = 0.592\\nsamples = 14\\nvalue = [2, 12]\\nclass = Survived'),\n",
       " Text(33.125088339222614, 48.92400000000001, 'Embarked_C <= 0.5\\nentropy = 0.918\\nsamples = 3\\nvalue = [1, 2]\\nclass = Survived'),\n",
       " Text(30.759010600706713, 38.05199999999999, 'entropy = 0.0\\nsamples = 1\\nvalue = [1, 0]\\nclass = Died'),\n",
       " Text(35.49116607773852, 38.05199999999999, 'entropy = 0.0\\nsamples = 2\\nvalue = [0, 2]\\nclass = Survived'),\n",
       " Text(42.58939929328622, 48.92400000000001, 'Fare <= 7.744\\nentropy = 0.439\\nsamples = 11\\nvalue = [1, 10]\\nclass = Survived'),\n",
       " Text(40.223321554770315, 38.05199999999999, 'entropy = 0.0\\nsamples = 2\\nvalue = [0, 2]\\nclass = Survived'),\n",
       " Text(44.95547703180212, 38.05199999999999, 'Age <= 25.0\\nentropy = 0.503\\nsamples = 9\\nvalue = [1, 8]\\nclass = Survived'),\n",
       " Text(42.58939929328622, 27.180000000000007, 'entropy = 0.0\\nsamples = 1\\nvalue = [0, 1]\\nclass = Survived'),\n",
       " Text(47.32155477031802, 27.180000000000007, 'entropy = 0.544\\nsamples = 8\\nvalue = [1, 7]\\nclass = Survived'),\n",
       " Text(40.223321554770315, 70.668, 'entropy = 0.0\\nsamples = 6\\nvalue = [0, 6]\\nclass = Survived'),\n",
       " Text(42.58939929328622, 81.53999999999999, 'entropy = 0.0\\nsamples = 1\\nvalue = [1, 0]\\nclass = Died'),\n",
       " Text(44.95547703180212, 92.412, 'entropy = 0.0\\nsamples = 1\\nvalue = [1, 0]\\nclass = Died'),\n",
       " Text(44.95547703180212, 114.156, 'entropy = 0.0\\nsamples = 1\\nvalue = [1, 0]\\nclass = Died'),\n",
       " Text(61.518021201413426, 135.9, 'Fare <= 15.373\\nentropy = 0.961\\nsamples = 13\\nvalue = [8, 5]\\nclass = Died'),\n",
       " Text(56.78586572438162, 125.02799999999999, 'Age <= 28.5\\nentropy = 0.764\\nsamples = 9\\nvalue = [7, 2]\\nclass = Died'),\n",
       " Text(54.419787985865725, 114.156, 'Age <= 16.0\\nentropy = 0.544\\nsamples = 8\\nvalue = [7, 1]\\nclass = Died'),\n",
       " Text(52.05371024734983, 103.28399999999999, 'Age <= 14.75\\nentropy = 0.918\\nsamples = 3\\nvalue = [2, 1]\\nclass = Died'),\n",
       " Text(49.68763250883392, 92.412, 'entropy = 0.0\\nsamples = 2\\nvalue = [2, 0]\\nclass = Died'),\n",
       " Text(54.419787985865725, 92.412, 'entropy = 0.0\\nsamples = 1\\nvalue = [0, 1]\\nclass = Survived'),\n",
       " Text(56.78586572438162, 103.28399999999999, 'entropy = 0.0\\nsamples = 5\\nvalue = [5, 0]\\nclass = Died'),\n",
       " Text(59.15194346289753, 114.156, 'entropy = 0.0\\nsamples = 1\\nvalue = [0, 1]\\nclass = Survived'),\n",
       " Text(66.25017667844523, 125.02799999999999, 'Age <= 30.0\\nentropy = 0.811\\nsamples = 4\\nvalue = [1, 3]\\nclass = Survived'),\n",
       " Text(63.88409893992933, 114.156, 'entropy = 0.0\\nsamples = 3\\nvalue = [0, 3]\\nclass = Survived'),\n",
       " Text(68.61625441696113, 114.156, 'entropy = 0.0\\nsamples = 1\\nvalue = [1, 0]\\nclass = Died'),\n",
       " Text(55.60282685512367, 146.772, 'entropy = 0.0\\nsamples = 8\\nvalue = [0, 8]\\nclass = Survived'),\n",
       " Text(82.81272084805654, 157.644, 'Age <= 32.0\\nentropy = 0.998\\nsamples = 57\\nvalue = [27, 30]\\nclass = Survived'),\n",
       " Text(80.44664310954063, 146.772, 'Fare <= 7.763\\nentropy = 1.0\\nsamples = 54\\nvalue = [27, 27]\\nclass = Died'),\n",
       " Text(73.34840989399294, 135.9, 'Age <= 25.5\\nentropy = 0.65\\nsamples = 6\\nvalue = [1, 5]\\nclass = Survived'),\n",
       " Text(70.98233215547704, 125.02799999999999, 'entropy = 0.0\\nsamples = 5\\nvalue = [0, 5]\\nclass = Survived'),\n",
       " Text(75.71448763250883, 125.02799999999999, 'entropy = 0.0\\nsamples = 1\\nvalue = [1, 0]\\nclass = Died'),\n",
       " Text(87.54487632508834, 135.9, 'Fare <= 10.825\\nentropy = 0.995\\nsamples = 48\\nvalue = [26, 22]\\nclass = Died'),\n",
       " Text(80.44664310954063, 125.02799999999999, 'Fare <= 10.152\\nentropy = 0.918\\nsamples = 27\\nvalue = [18, 9]\\nclass = Died'),\n",
       " Text(78.08056537102473, 114.156, 'Parch <= 0.5\\nentropy = 0.954\\nsamples = 24\\nvalue = [15, 9]\\nclass = Died'),\n",
       " Text(75.71448763250883, 103.28399999999999, 'Fare <= 9.84\\nentropy = 0.902\\nsamples = 22\\nvalue = [15, 7]\\nclass = Died'),\n",
       " Text(73.34840989399294, 92.412, 'Fare <= 8.767\\nentropy = 0.863\\nsamples = 21\\nvalue = [15, 6]\\nclass = Died'),\n",
       " Text(70.98233215547704, 81.53999999999999, 'Fare <= 8.673\\nentropy = 0.937\\nsamples = 17\\nvalue = [11, 6]\\nclass = Died'),\n",
       " Text(68.61625441696113, 70.668, 'Age <= 27.5\\nentropy = 0.896\\nsamples = 16\\nvalue = [11, 5]\\nclass = Died'),\n",
       " Text(66.25017667844523, 59.79599999999999, 'Age <= 25.5\\nentropy = 0.994\\nsamples = 11\\nvalue = [6, 5]\\nclass = Died'),\n",
       " Text(63.88409893992933, 48.92400000000001, 'Fare <= 7.89\\nentropy = 0.811\\nsamples = 8\\nvalue = [6, 2]\\nclass = Died'),\n",
       " Text(61.518021201413426, 38.05199999999999, 'Age <= 18.5\\nentropy = 0.971\\nsamples = 5\\nvalue = [3, 2]\\nclass = Died'),\n",
       " Text(59.15194346289753, 27.180000000000007, 'entropy = 0.0\\nsamples = 2\\nvalue = [2, 0]\\nclass = Died'),\n",
       " Text(63.88409893992933, 27.180000000000007, 'Age <= 23.5\\nentropy = 0.918\\nsamples = 3\\nvalue = [1, 2]\\nclass = Survived'),\n",
       " Text(61.518021201413426, 16.307999999999993, 'entropy = 0.0\\nsamples = 2\\nvalue = [0, 2]\\nclass = Survived'),\n",
       " Text(66.25017667844523, 16.307999999999993, 'entropy = 0.0\\nsamples = 1\\nvalue = [1, 0]\\nclass = Died'),\n",
       " Text(66.25017667844523, 38.05199999999999, 'entropy = 0.0\\nsamples = 3\\nvalue = [3, 0]\\nclass = Died'),\n",
       " Text(68.61625441696113, 48.92400000000001, 'entropy = 0.0\\nsamples = 3\\nvalue = [0, 3]\\nclass = Survived'),\n",
       " Text(70.98233215547704, 59.79599999999999, 'entropy = 0.0\\nsamples = 5\\nvalue = [5, 0]\\nclass = Died'),\n",
       " Text(73.34840989399294, 70.668, 'entropy = 0.0\\nsamples = 1\\nvalue = [0, 1]\\nclass = Survived'),\n",
       " Text(75.71448763250883, 81.53999999999999, 'entropy = 0.0\\nsamples = 4\\nvalue = [4, 0]\\nclass = Died'),\n",
       " Text(78.08056537102473, 92.412, 'entropy = 0.0\\nsamples = 1\\nvalue = [0, 1]\\nclass = Survived'),\n",
       " Text(80.44664310954063, 103.28399999999999, 'entropy = 0.0\\nsamples = 2\\nvalue = [0, 2]\\nclass = Survived'),\n",
       " Text(82.81272084805654, 114.156, 'entropy = 0.0\\nsamples = 3\\nvalue = [3, 0]\\nclass = Died'),\n",
       " Text(94.64310954063605, 125.02799999999999, 'Fare <= 17.25\\nentropy = 0.959\\nsamples = 21\\nvalue = [8, 13]\\nclass = Survived'),\n",
       " Text(87.54487632508834, 114.156, 'Age <= 25.0\\nentropy = 0.619\\nsamples = 13\\nvalue = [2, 11]\\nclass = Survived'),\n",
       " Text(85.17879858657244, 103.28399999999999, 'entropy = 0.0\\nsamples = 6\\nvalue = [0, 6]\\nclass = Survived'),\n",
       " Text(89.91095406360424, 103.28399999999999, 'Age <= 26.5\\nentropy = 0.863\\nsamples = 7\\nvalue = [2, 5]\\nclass = Survived'),\n",
       " Text(87.54487632508834, 92.412, 'entropy = 0.0\\nsamples = 1\\nvalue = [1, 0]\\nclass = Died'),\n",
       " Text(92.27703180212015, 92.412, 'SibSp <= 0.5\\nentropy = 0.65\\nsamples = 6\\nvalue = [1, 5]\\nclass = Survived'),\n",
       " Text(89.91095406360424, 81.53999999999999, 'entropy = 0.0\\nsamples = 3\\nvalue = [0, 3]\\nclass = Survived'),\n",
       " Text(94.64310954063605, 81.53999999999999, 'Fare <= 15.25\\nentropy = 0.918\\nsamples = 3\\nvalue = [1, 2]\\nclass = Survived'),\n",
       " Text(92.27703180212015, 70.668, 'entropy = 0.0\\nsamples = 1\\nvalue = [1, 0]\\nclass = Died'),\n",
       " Text(97.00918727915194, 70.668, 'entropy = 0.0\\nsamples = 2\\nvalue = [0, 2]\\nclass = Survived'),\n",
       " Text(101.74134275618374, 114.156, 'Fare <= 21.55\\nentropy = 0.811\\nsamples = 8\\nvalue = [6, 2]\\nclass = Died'),\n",
       " Text(99.37526501766784, 103.28399999999999, 'Age <= 30.0\\nentropy = 0.592\\nsamples = 7\\nvalue = [6, 1]\\nclass = Died'),\n",
       " Text(97.00918727915194, 92.412, 'entropy = 0.0\\nsamples = 5\\nvalue = [5, 0]\\nclass = Died'),\n",
       " Text(101.74134275618374, 92.412, 'Fare <= 19.262\\nentropy = 1.0\\nsamples = 2\\nvalue = [1, 1]\\nclass = Died'),\n",
       " Text(99.37526501766784, 81.53999999999999, 'entropy = 0.0\\nsamples = 1\\nvalue = [1, 0]\\nclass = Died'),\n",
       " Text(104.10742049469965, 81.53999999999999, 'entropy = 0.0\\nsamples = 1\\nvalue = [0, 1]\\nclass = Survived'),\n",
       " Text(104.10742049469965, 103.28399999999999, 'entropy = 0.0\\nsamples = 1\\nvalue = [0, 1]\\nclass = Survived'),\n",
       " Text(85.17879858657244, 146.772, 'entropy = 0.0\\nsamples = 3\\nvalue = [0, 3]\\nclass = Survived'),\n",
       " Text(89.91095406360424, 168.516, 'Age <= 55.0\\nentropy = 0.592\\nsamples = 7\\nvalue = [6, 1]\\nclass = Died'),\n",
       " Text(87.54487632508834, 157.644, 'entropy = 0.0\\nsamples = 6\\nvalue = [6, 0]\\nclass = Died'),\n",
       " Text(92.27703180212015, 157.644, 'entropy = 0.0\\nsamples = 1\\nvalue = [0, 1]\\nclass = Survived'),\n",
       " Text(97.00918727915194, 179.388, 'Parch <= 0.5\\nentropy = 0.503\\nsamples = 27\\nvalue = [24, 3]\\nclass = Died'),\n",
       " Text(94.64310954063605, 168.516, 'entropy = 0.0\\nsamples = 1\\nvalue = [0, 1]\\nclass = Survived'),\n",
       " Text(99.37526501766784, 168.516, 'Fare <= 31.331\\nentropy = 0.391\\nsamples = 26\\nvalue = [24, 2]\\nclass = Died'),\n",
       " Text(97.00918727915194, 157.644, 'entropy = 0.0\\nsamples = 15\\nvalue = [15, 0]\\nclass = Died'),\n",
       " Text(101.74134275618374, 157.644, 'Fare <= 32.881\\nentropy = 0.684\\nsamples = 11\\nvalue = [9, 2]\\nclass = Died'),\n",
       " Text(99.37526501766784, 146.772, 'entropy = 0.0\\nsamples = 2\\nvalue = [0, 2]\\nclass = Survived'),\n",
       " Text(104.10742049469965, 146.772, 'entropy = 0.0\\nsamples = 9\\nvalue = [9, 0]\\nclass = Died'),\n",
       " Text(237.22239951413428, 201.132, 'Fare <= 26.269\\nentropy = 0.699\\nsamples = 577\\nvalue = [468, 109]\\nclass = Died'),\n",
       " Text(171.66078842756184, 190.26, 'Age <= 13.5\\nentropy = 0.558\\nsamples = 415\\nvalue = [361, 54]\\nclass = Died'),\n",
       " Text(128.35971731448763, 179.388, 'SibSp <= 2.0\\nentropy = 0.567\\nsamples = 15\\nvalue = [2, 13]\\nclass = Survived'),\n",
       " Text(125.99363957597173, 168.516, 'Age <= 10.0\\nentropy = 0.371\\nsamples = 14\\nvalue = [1, 13]\\nclass = Survived'),\n",
       " Text(123.62756183745583, 157.644, 'entropy = 0.0\\nsamples = 12\\nvalue = [0, 12]\\nclass = Survived'),\n",
       " Text(128.35971731448763, 157.644, 'Fare <= 15.015\\nentropy = 1.0\\nsamples = 2\\nvalue = [1, 1]\\nclass = Died'),\n",
       " Text(125.99363957597173, 146.772, 'entropy = 0.0\\nsamples = 1\\nvalue = [0, 1]\\nclass = Survived'),\n",
       " Text(130.72579505300354, 146.772, 'entropy = 0.0\\nsamples = 1\\nvalue = [1, 0]\\nclass = Died'),\n",
       " Text(130.72579505300354, 168.516, 'entropy = 0.0\\nsamples = 1\\nvalue = [1, 0]\\nclass = Died'),\n",
       " Text(214.96185954063606, 179.388, 'Embarked_C <= 0.5\\nentropy = 0.477\\nsamples = 400\\nvalue = [359, 41]\\nclass = Died'),\n",
       " Text(183.85163427561838, 168.516, 'Fare <= 13.25\\nentropy = 0.437\\nsamples = 355\\nvalue = [323, 32]\\nclass = Died'),\n",
       " Text(156.53083038869258, 157.644, 'Fare <= 7.91\\nentropy = 0.479\\nsamples = 291\\nvalue = [261, 30]\\nclass = Died'),\n",
       " Text(135.45795053003533, 146.772, 'Fare <= 7.865\\nentropy = 0.353\\nsamples = 150\\nvalue = [140, 10]\\nclass = Died'),\n",
       " Text(133.09187279151945, 135.9, 'Age <= 32.5\\nentropy = 0.424\\nsamples = 116\\nvalue = [106, 10]\\nclass = Died'),\n",
       " Text(130.72579505300354, 125.02799999999999, 'Age <= 20.75\\nentropy = 0.507\\nsamples = 89\\nvalue = [79, 10]\\nclass = Died'),\n",
       " Text(128.35971731448763, 114.156, 'entropy = 0.0\\nsamples = 16\\nvalue = [16, 0]\\nclass = Died'),\n",
       " Text(133.09187279151945, 114.156, 'Fare <= 7.763\\nentropy = 0.576\\nsamples = 73\\nvalue = [63, 10]\\nclass = Died'),\n",
       " Text(117.1208480565371, 103.28399999999999, 'Age <= 27.5\\nentropy = 0.451\\nsamples = 53\\nvalue = [48, 5]\\nclass = Died'),\n",
       " Text(111.20565371024735, 92.412, 'Fare <= 7.013\\nentropy = 0.672\\nsamples = 17\\nvalue = [14, 3]\\nclass = Died'),\n",
       " Text(108.83957597173145, 81.53999999999999, 'entropy = 0.0\\nsamples = 2\\nvalue = [0, 2]\\nclass = Survived'),\n",
       " Text(113.57173144876324, 81.53999999999999, 'Fare <= 7.196\\nentropy = 0.353\\nsamples = 15\\nvalue = [14, 1]\\nclass = Died'),\n",
       " Text(111.20565371024735, 70.668, 'Fare <= 7.133\\nentropy = 0.722\\nsamples = 5\\nvalue = [4, 1]\\nclass = Died'),\n",
       " Text(108.83957597173145, 59.79599999999999, 'entropy = 0.0\\nsamples = 4\\nvalue = [4, 0]\\nclass = Died'),\n",
       " Text(113.57173144876324, 59.79599999999999, 'entropy = 0.0\\nsamples = 1\\nvalue = [0, 1]\\nclass = Survived'),\n",
       " Text(115.93780918727916, 70.668, 'entropy = 0.0\\nsamples = 10\\nvalue = [10, 0]\\nclass = Died'),\n",
       " Text(123.03604240282685, 92.412, 'Fare <= 7.744\\nentropy = 0.31\\nsamples = 36\\nvalue = [34, 2]\\nclass = Died'),\n",
       " Text(120.66996466431095, 81.53999999999999, 'entropy = 0.0\\nsamples = 22\\nvalue = [22, 0]\\nclass = Died'),\n",
       " Text(125.40212014134276, 81.53999999999999, 'Age <= 28.5\\nentropy = 0.592\\nsamples = 14\\nvalue = [12, 2]\\nclass = Died'),\n",
       " Text(120.66996466431095, 70.668, 'SibSp <= 0.5\\nentropy = 0.439\\nsamples = 11\\nvalue = [10, 1]\\nclass = Died'),\n",
       " Text(118.30388692579506, 59.79599999999999, 'entropy = 0.469\\nsamples = 10\\nvalue = [9, 1]\\nclass = Died'),\n",
       " Text(123.03604240282685, 59.79599999999999, 'entropy = 0.0\\nsamples = 1\\nvalue = [1, 0]\\nclass = Died'),\n",
       " Text(130.13427561837457, 70.668, 'Age <= 30.0\\nentropy = 0.918\\nsamples = 3\\nvalue = [2, 1]\\nclass = Died'),\n",
       " Text(127.76819787985866, 59.79599999999999, 'entropy = 0.0\\nsamples = 1\\nvalue = [0, 1]\\nclass = Survived'),\n",
       " Text(132.50035335689046, 59.79599999999999, 'entropy = 0.0\\nsamples = 2\\nvalue = [2, 0]\\nclass = Died'),\n",
       " Text(149.06289752650176, 103.28399999999999, 'Age <= 31.5\\nentropy = 0.811\\nsamples = 20\\nvalue = [15, 5]\\nclass = Died'),\n",
       " Text(146.69681978798587, 92.412, 'Fare <= 7.798\\nentropy = 0.742\\nsamples = 19\\nvalue = [15, 4]\\nclass = Died'),\n",
       " Text(144.33074204946996, 81.53999999999999, 'Age <= 28.5\\nentropy = 0.89\\nsamples = 13\\nvalue = [9, 4]\\nclass = Died'),\n",
       " Text(141.96466431095408, 70.668, 'Age <= 26.5\\nentropy = 0.946\\nsamples = 11\\nvalue = [7, 4]\\nclass = Died'),\n",
       " Text(137.23250883392225, 59.79599999999999, 'Age <= 25.5\\nentropy = 0.863\\nsamples = 7\\nvalue = [5, 2]\\nclass = Died'),\n",
       " Text(134.86643109540637, 48.92400000000001, 'SibSp <= 0.5\\nentropy = 0.918\\nsamples = 6\\nvalue = [4, 2]\\nclass = Died'),\n",
       " Text(132.50035335689046, 38.05199999999999, 'Age <= 21.5\\nentropy = 0.811\\nsamples = 4\\nvalue = [3, 1]\\nclass = Died'),\n",
       " Text(130.13427561837457, 27.180000000000007, 'Fare <= 7.785\\nentropy = 1.0\\nsamples = 2\\nvalue = [1, 1]\\nclass = Died'),\n",
       " Text(127.76819787985866, 16.307999999999993, 'entropy = 0.0\\nsamples = 1\\nvalue = [1, 0]\\nclass = Died'),\n",
       " Text(132.50035335689046, 16.307999999999993, 'entropy = 0.0\\nsamples = 1\\nvalue = [0, 1]\\nclass = Survived'),\n",
       " Text(134.86643109540637, 27.180000000000007, 'entropy = 0.0\\nsamples = 2\\nvalue = [2, 0]\\nclass = Died'),\n",
       " Text(137.23250883392225, 38.05199999999999, 'entropy = 1.0\\nsamples = 2\\nvalue = [1, 1]\\nclass = Died'),\n",
       " Text(139.59858657243817, 48.92400000000001, 'entropy = 0.0\\nsamples = 1\\nvalue = [1, 0]\\nclass = Died'),\n",
       " Text(146.69681978798587, 59.79599999999999, 'Age <= 27.5\\nentropy = 1.0\\nsamples = 4\\nvalue = [2, 2]\\nclass = Died'),\n",
       " Text(144.33074204946996, 48.92400000000001, 'entropy = 0.0\\nsamples = 1\\nvalue = [0, 1]\\nclass = Survived'),\n",
       " Text(149.06289752650176, 48.92400000000001, 'Fare <= 7.785\\nentropy = 0.918\\nsamples = 3\\nvalue = [2, 1]\\nclass = Died'),\n",
       " Text(146.69681978798587, 38.05199999999999, 'entropy = 1.0\\nsamples = 2\\nvalue = [1, 1]\\nclass = Died'),\n",
       " Text(151.42897526501767, 38.05199999999999, 'entropy = 0.0\\nsamples = 1\\nvalue = [1, 0]\\nclass = Died'),\n",
       " Text(146.69681978798587, 70.668, 'entropy = 0.0\\nsamples = 2\\nvalue = [2, 0]\\nclass = Died'),\n",
       " Text(149.06289752650176, 81.53999999999999, 'entropy = 0.0\\nsamples = 6\\nvalue = [6, 0]\\nclass = Died'),\n",
       " Text(151.42897526501767, 92.412, 'entropy = 0.0\\nsamples = 1\\nvalue = [0, 1]\\nclass = Survived'),\n",
       " Text(135.45795053003533, 125.02799999999999, 'entropy = 0.0\\nsamples = 27\\nvalue = [27, 0]\\nclass = Died'),\n",
       " Text(137.82402826855125, 135.9, 'entropy = 0.0\\nsamples = 34\\nvalue = [34, 0]\\nclass = Died'),\n",
       " Text(177.60371024734982, 146.772, 'Fare <= 7.988\\nentropy = 0.589\\nsamples = 141\\nvalue = [121, 20]\\nclass = Died'),\n",
       " Text(165.62544169611309, 135.9, 'SibSp <= 1.5\\nentropy = 0.961\\nsamples = 13\\nvalue = [8, 5]\\nclass = Died'),\n",
       " Text(163.25936395759717, 125.02799999999999, 'Age <= 41.5\\nentropy = 0.994\\nsamples = 11\\nvalue = [6, 5]\\nclass = Died'),\n",
       " Text(160.89328621908126, 114.156, 'SibSp <= 0.5\\nentropy = 0.971\\nsamples = 10\\nvalue = [6, 4]\\nclass = Died'),\n",
       " Text(158.52720848056538, 103.28399999999999, 'Age <= 26.0\\nentropy = 0.918\\nsamples = 9\\nvalue = [6, 3]\\nclass = Died'),\n",
       " Text(156.16113074204947, 92.412, 'entropy = 0.0\\nsamples = 3\\nvalue = [3, 0]\\nclass = Died'),\n",
       " Text(160.89328621908126, 92.412, 'Age <= 31.5\\nentropy = 1.0\\nsamples = 6\\nvalue = [3, 3]\\nclass = Died'),\n",
       " Text(158.52720848056538, 81.53999999999999, 'entropy = 0.0\\nsamples = 1\\nvalue = [0, 1]\\nclass = Survived'),\n",
       " Text(163.25936395759717, 81.53999999999999, 'Age <= 35.5\\nentropy = 0.971\\nsamples = 5\\nvalue = [3, 2]\\nclass = Died'),\n",
       " Text(160.89328621908126, 70.668, 'entropy = 0.918\\nsamples = 3\\nvalue = [2, 1]\\nclass = Died'),\n",
       " Text(165.62544169611309, 70.668, 'entropy = 1.0\\nsamples = 2\\nvalue = [1, 1]\\nclass = Died'),\n",
       " Text(163.25936395759717, 103.28399999999999, 'entropy = 0.0\\nsamples = 1\\nvalue = [0, 1]\\nclass = Survived'),\n",
       " Text(165.62544169611309, 114.156, 'entropy = 0.0\\nsamples = 1\\nvalue = [0, 1]\\nclass = Survived'),\n",
       " Text(167.99151943462897, 125.02799999999999, 'entropy = 0.0\\nsamples = 2\\nvalue = [2, 0]\\nclass = Died'),\n",
       " Text(189.58197879858656, 135.9, 'Age <= 19.5\\nentropy = 0.521\\nsamples = 128\\nvalue = [113, 15]\\nclass = Died'),\n",
       " Text(175.08975265017668, 125.02799999999999, 'Fare <= 8.104\\nentropy = 0.722\\nsamples = 20\\nvalue = [16, 4]\\nclass = Died'),\n",
       " Text(170.35759717314488, 114.156, 'Age <= 17.0\\nentropy = 0.971\\nsamples = 5\\nvalue = [2, 3]\\nclass = Survived'),\n",
       " Text(167.99151943462897, 103.28399999999999, 'entropy = 1.0\\nsamples = 2\\nvalue = [1, 1]\\nclass = Died'),\n",
       " Text(172.72367491166077, 103.28399999999999, 'Age <= 18.5\\nentropy = 0.918\\nsamples = 3\\nvalue = [1, 2]\\nclass = Survived'),\n",
       " Text(170.35759717314488, 92.412, 'entropy = 0.0\\nsamples = 1\\nvalue = [0, 1]\\nclass = Survived'),\n",
       " Text(175.08975265017668, 92.412, 'entropy = 1.0\\nsamples = 2\\nvalue = [1, 1]\\nclass = Died'),\n",
       " Text(179.82190812720847, 114.156, 'Age <= 18.5\\nentropy = 0.353\\nsamples = 15\\nvalue = [14, 1]\\nclass = Died'),\n",
       " Text(177.4558303886926, 103.28399999999999, 'entropy = 0.0\\nsamples = 10\\nvalue = [10, 0]\\nclass = Died'),\n",
       " Text(182.1879858657244, 103.28399999999999, 'Pclass <= 2.5\\nentropy = 0.722\\nsamples = 5\\nvalue = [4, 1]\\nclass = Died'),\n",
       " Text(179.82190812720847, 92.412, 'Fare <= 11.75\\nentropy = 0.918\\nsamples = 3\\nvalue = [2, 1]\\nclass = Died'),\n",
       " Text(177.4558303886926, 81.53999999999999, 'entropy = 1.0\\nsamples = 2\\nvalue = [1, 1]\\nclass = Died'),\n",
       " Text(182.1879858657244, 81.53999999999999, 'entropy = 0.0\\nsamples = 1\\nvalue = [1, 0]\\nclass = Died'),\n",
       " Text(184.5540636042403, 92.412, 'entropy = 0.0\\nsamples = 2\\nvalue = [2, 0]\\nclass = Died'),\n",
       " Text(204.07420494699647, 125.02799999999999, 'Age <= 26.5\\nentropy = 0.475\\nsamples = 108\\nvalue = [97, 11]\\nclass = Died'),\n",
       " Text(201.70812720848056, 114.156, 'entropy = 0.0\\nsamples = 31\\nvalue = [31, 0]\\nclass = Died'),\n",
       " Text(206.44028268551236, 114.156, 'Fare <= 8.081\\nentropy = 0.592\\nsamples = 77\\nvalue = [66, 11]\\nclass = Died'),\n",
       " Text(191.65229681978798, 103.28399999999999, 'Age <= 31.25\\nentropy = 0.371\\nsamples = 28\\nvalue = [26, 2]\\nclass = Died'),\n",
       " Text(189.2862190812721, 92.412, 'entropy = 0.0\\nsamples = 16\\nvalue = [16, 0]\\nclass = Died'),\n",
       " Text(194.0183745583039, 92.412, 'Age <= 33.0\\nentropy = 0.65\\nsamples = 12\\nvalue = [10, 2]\\nclass = Died'),\n",
       " Text(191.65229681978798, 81.53999999999999, 'entropy = 0.0\\nsamples = 1\\nvalue = [0, 1]\\nclass = Survived'),\n",
       " Text(196.3844522968198, 81.53999999999999, 'Age <= 44.5\\nentropy = 0.439\\nsamples = 11\\nvalue = [10, 1]\\nclass = Died'),\n",
       " Text(194.0183745583039, 70.668, 'entropy = 0.0\\nsamples = 7\\nvalue = [7, 0]\\nclass = Died'),\n",
       " Text(198.7505300353357, 70.668, 'Age <= 47.5\\nentropy = 0.811\\nsamples = 4\\nvalue = [3, 1]\\nclass = Died'),\n",
       " Text(196.3844522968198, 59.79599999999999, 'entropy = 0.0\\nsamples = 1\\nvalue = [0, 1]\\nclass = Survived'),\n",
       " Text(201.1166077738516, 59.79599999999999, 'entropy = 0.0\\nsamples = 3\\nvalue = [3, 0]\\nclass = Died'),\n",
       " Text(221.22826855123674, 103.28399999999999, 'Fare <= 8.238\\nentropy = 0.688\\nsamples = 49\\nvalue = [40, 9]\\nclass = Died'),\n",
       " Text(218.86219081272085, 92.412, 'entropy = 0.0\\nsamples = 1\\nvalue = [0, 1]\\nclass = Survived'),\n",
       " Text(223.59434628975265, 92.412, 'Fare <= 8.658\\nentropy = 0.65\\nsamples = 48\\nvalue = [40, 8]\\nclass = Died'),\n",
       " Text(221.22826855123674, 81.53999999999999, 'entropy = 0.0\\nsamples = 4\\nvalue = [4, 0]\\nclass = Died'),\n",
       " Text(225.96042402826856, 81.53999999999999, 'Age <= 31.5\\nentropy = 0.684\\nsamples = 44\\nvalue = [36, 8]\\nclass = Died'),\n",
       " Text(212.9469964664311, 70.668, 'Fare <= 10.0\\nentropy = 0.811\\nsamples = 20\\nvalue = [15, 5]\\nclass = Died'),\n",
       " Text(205.8487632508834, 59.79599999999999, 'Age <= 27.5\\nentropy = 0.954\\nsamples = 8\\nvalue = [5, 3]\\nclass = Died'),\n",
       " Text(203.48268551236748, 48.92400000000001, 'entropy = 0.0\\nsamples = 1\\nvalue = [0, 1]\\nclass = Survived'),\n",
       " Text(208.2148409893993, 48.92400000000001, 'Age <= 28.5\\nentropy = 0.863\\nsamples = 7\\nvalue = [5, 2]\\nclass = Died'),\n",
       " Text(205.8487632508834, 38.05199999999999, 'entropy = 0.0\\nsamples = 4\\nvalue = [4, 0]\\nclass = Died'),\n",
       " Text(210.5809187279152, 38.05199999999999, 'Fare <= 9.492\\nentropy = 0.918\\nsamples = 3\\nvalue = [1, 2]\\nclass = Survived'),\n",
       " Text(208.2148409893993, 27.180000000000007, 'entropy = 0.0\\nsamples = 1\\nvalue = [1, 0]\\nclass = Died'),\n",
       " Text(212.9469964664311, 27.180000000000007, 'entropy = 0.0\\nsamples = 2\\nvalue = [0, 2]\\nclass = Survived'),\n",
       " Text(220.0452296819788, 59.79599999999999, 'Fare <= 11.75\\nentropy = 0.65\\nsamples = 12\\nvalue = [10, 2]\\nclass = Died'),\n",
       " Text(217.6791519434629, 48.92400000000001, 'entropy = 0.0\\nsamples = 4\\nvalue = [4, 0]\\nclass = Died'),\n",
       " Text(222.4113074204947, 48.92400000000001, 'Age <= 30.5\\nentropy = 0.811\\nsamples = 8\\nvalue = [6, 2]\\nclass = Died'),\n",
       " Text(220.0452296819788, 38.05199999999999, 'Age <= 29.0\\nentropy = 0.592\\nsamples = 7\\nvalue = [6, 1]\\nclass = Died'),\n",
       " Text(217.6791519434629, 27.180000000000007, 'Age <= 27.5\\nentropy = 0.811\\nsamples = 4\\nvalue = [3, 1]\\nclass = Died'),\n",
       " Text(215.313074204947, 16.307999999999993, 'entropy = 0.0\\nsamples = 2\\nvalue = [2, 0]\\nclass = Died'),\n",
       " Text(220.0452296819788, 16.307999999999993, 'entropy = 1.0\\nsamples = 2\\nvalue = [1, 1]\\nclass = Died'),\n",
       " Text(222.4113074204947, 27.180000000000007, 'entropy = 0.0\\nsamples = 3\\nvalue = [3, 0]\\nclass = Died'),\n",
       " Text(224.7773851590106, 38.05199999999999, 'entropy = 0.0\\nsamples = 1\\nvalue = [0, 1]\\nclass = Survived'),\n",
       " Text(238.97385159010602, 70.668, 'Pclass <= 2.5\\nentropy = 0.544\\nsamples = 24\\nvalue = [21, 3]\\nclass = Died'),\n",
       " Text(236.6077738515901, 59.79599999999999, 'Age <= 59.5\\nentropy = 0.61\\nsamples = 20\\nvalue = [17, 3]\\nclass = Died'),\n",
       " Text(231.87561837455831, 48.92400000000001, 'Fare <= 12.762\\nentropy = 0.523\\nsamples = 17\\nvalue = [15, 2]\\nclass = Died'),\n",
       " Text(229.5095406360424, 38.05199999999999, 'entropy = 0.0\\nsamples = 6\\nvalue = [6, 0]\\nclass = Died'),\n",
       " Text(234.2416961130742, 38.05199999999999, 'Age <= 45.0\\nentropy = 0.684\\nsamples = 11\\nvalue = [9, 2]\\nclass = Died'),\n",
       " Text(231.87561837455831, 27.180000000000007, 'Age <= 40.5\\nentropy = 0.811\\nsamples = 8\\nvalue = [6, 2]\\nclass = Died'),\n",
       " Text(229.5095406360424, 16.307999999999993, 'Age <= 35.0\\nentropy = 0.65\\nsamples = 6\\nvalue = [5, 1]\\nclass = Died'),\n",
       " Text(227.1434628975265, 5.436000000000007, 'entropy = 0.918\\nsamples = 3\\nvalue = [2, 1]\\nclass = Died'),\n",
       " Text(231.87561837455831, 5.436000000000007, 'entropy = 0.0\\nsamples = 3\\nvalue = [3, 0]\\nclass = Died'),\n",
       " Text(234.2416961130742, 16.307999999999993, 'entropy = 1.0\\nsamples = 2\\nvalue = [1, 1]\\nclass = Died'),\n",
       " Text(236.6077738515901, 27.180000000000007, 'entropy = 0.0\\nsamples = 3\\nvalue = [3, 0]\\nclass = Died'),\n",
       " Text(241.3399293286219, 48.92400000000001, 'Age <= 64.0\\nentropy = 0.918\\nsamples = 3\\nvalue = [2, 1]\\nclass = Died'),\n",
       " Text(238.97385159010602, 38.05199999999999, 'entropy = 0.0\\nsamples = 1\\nvalue = [0, 1]\\nclass = Survived'),\n",
       " Text(243.70600706713782, 38.05199999999999, 'entropy = 0.0\\nsamples = 2\\nvalue = [2, 0]\\nclass = Died'),\n",
       " Text(241.3399293286219, 59.79599999999999, 'entropy = 0.0\\nsamples = 4\\nvalue = [4, 0]\\nclass = Died'),\n",
       " Text(211.17243816254418, 157.644, 'Fare <= 22.887\\nentropy = 0.201\\nsamples = 64\\nvalue = [62, 2]\\nclass = Died'),\n",
       " Text(208.80636042402827, 146.772, 'entropy = 0.0\\nsamples = 37\\nvalue = [37, 0]\\nclass = Died'),\n",
       " Text(213.53851590106007, 146.772, 'Fare <= 23.35\\nentropy = 0.381\\nsamples = 27\\nvalue = [25, 2]\\nclass = Died'),\n",
       " Text(211.17243816254418, 135.9, 'entropy = 0.0\\nsamples = 1\\nvalue = [0, 1]\\nclass = Survived'),\n",
       " Text(215.90459363957598, 135.9, 'Age <= 33.0\\nentropy = 0.235\\nsamples = 26\\nvalue = [25, 1]\\nclass = Died'),\n",
       " Text(213.53851590106007, 125.02799999999999, 'Age <= 31.5\\nentropy = 0.414\\nsamples = 12\\nvalue = [11, 1]\\nclass = Died'),\n",
       " Text(211.17243816254418, 114.156, 'entropy = 0.0\\nsamples = 11\\nvalue = [11, 0]\\nclass = Died'),\n",
       " Text(215.90459363957598, 114.156, 'entropy = 0.0\\nsamples = 1\\nvalue = [0, 1]\\nclass = Survived'),\n",
       " Text(218.27067137809186, 125.02799999999999, 'entropy = 0.0\\nsamples = 14\\nvalue = [14, 0]\\nclass = Died'),\n",
       " Text(246.0720848056537, 168.516, 'Fare <= 15.148\\nentropy = 0.722\\nsamples = 45\\nvalue = [36, 9]\\nclass = Died'),\n",
       " Text(241.3399293286219, 157.644, 'Age <= 29.5\\nentropy = 0.552\\nsamples = 39\\nvalue = [34, 5]\\nclass = Died'),\n",
       " Text(238.97385159010602, 146.772, 'Age <= 28.75\\nentropy = 0.65\\nsamples = 30\\nvalue = [25, 5]\\nclass = Died'),\n",
       " Text(236.6077738515901, 135.9, 'Age <= 22.5\\nentropy = 0.579\\nsamples = 29\\nvalue = [25, 4]\\nclass = Died'),\n",
       " Text(230.69257950530036, 125.02799999999999, 'Parch <= 0.5\\nentropy = 0.918\\nsamples = 6\\nvalue = [4, 2]\\nclass = Died'),\n",
       " Text(228.32650176678445, 114.156, 'Fare <= 5.619\\nentropy = 1.0\\nsamples = 4\\nvalue = [2, 2]\\nclass = Died'),\n",
       " Text(225.96042402826856, 103.28399999999999, 'entropy = 0.0\\nsamples = 1\\nvalue = [1, 0]\\nclass = Died'),\n",
       " Text(230.69257950530036, 103.28399999999999, 'Age <= 21.0\\nentropy = 0.918\\nsamples = 3\\nvalue = [1, 2]\\nclass = Survived'),\n",
       " Text(228.32650176678445, 92.412, 'entropy = 0.0\\nsamples = 1\\nvalue = [0, 1]\\nclass = Survived'),\n",
       " Text(233.05865724381627, 92.412, 'Fare <= 7.227\\nentropy = 1.0\\nsamples = 2\\nvalue = [1, 1]\\nclass = Died'),\n",
       " Text(230.69257950530036, 81.53999999999999, 'entropy = 0.0\\nsamples = 1\\nvalue = [0, 1]\\nclass = Survived'),\n",
       " Text(235.42473498233215, 81.53999999999999, 'entropy = 0.0\\nsamples = 1\\nvalue = [1, 0]\\nclass = Died'),\n",
       " Text(233.05865724381627, 114.156, 'entropy = 0.0\\nsamples = 2\\nvalue = [2, 0]\\nclass = Died'),\n",
       " Text(242.52296819787986, 125.02799999999999, 'Pclass <= 2.5\\nentropy = 0.426\\nsamples = 23\\nvalue = [21, 2]\\nclass = Died'),\n",
       " Text(237.79081272084807, 114.156, 'Fare <= 14.454\\nentropy = 0.918\\nsamples = 3\\nvalue = [2, 1]\\nclass = Died'),\n",
       " Text(235.42473498233215, 103.28399999999999, 'entropy = 0.0\\nsamples = 1\\nvalue = [0, 1]\\nclass = Survived'),\n",
       " Text(240.15689045936395, 103.28399999999999, 'entropy = 0.0\\nsamples = 2\\nvalue = [2, 0]\\nclass = Died'),\n",
       " Text(247.25512367491166, 114.156, 'Fare <= 7.227\\nentropy = 0.286\\nsamples = 20\\nvalue = [19, 1]\\nclass = Died'),\n",
       " Text(244.88904593639577, 103.28399999999999, 'entropy = 0.0\\nsamples = 6\\nvalue = [6, 0]\\nclass = Died'),\n",
       " Text(249.62120141342757, 103.28399999999999, 'Fare <= 7.562\\nentropy = 0.371\\nsamples = 14\\nvalue = [13, 1]\\nclass = Died'),\n",
       " Text(247.25512367491166, 92.412, 'Age <= 25.75\\nentropy = 0.544\\nsamples = 8\\nvalue = [7, 1]\\nclass = Died'),\n",
       " Text(244.88904593639577, 81.53999999999999, 'entropy = 0.0\\nsamples = 1\\nvalue = [1, 0]\\nclass = Died'),\n",
       " Text(249.62120141342757, 81.53999999999999, 'Age <= 28.25\\nentropy = 0.592\\nsamples = 7\\nvalue = [6, 1]\\nclass = Died'),\n",
       " Text(247.25512367491166, 70.668, 'entropy = 0.65\\nsamples = 6\\nvalue = [5, 1]\\nclass = Died'),\n",
       " Text(251.98727915194345, 70.668, 'entropy = 0.0\\nsamples = 1\\nvalue = [1, 0]\\nclass = Died'),\n",
       " Text(251.98727915194345, 92.412, 'entropy = 0.0\\nsamples = 6\\nvalue = [6, 0]\\nclass = Died'),\n",
       " Text(241.3399293286219, 135.9, 'entropy = 0.0\\nsamples = 1\\nvalue = [0, 1]\\nclass = Survived'),\n",
       " Text(243.70600706713782, 146.772, 'entropy = 0.0\\nsamples = 9\\nvalue = [9, 0]\\nclass = Died'),\n",
       " Text(250.80424028268553, 157.644, 'Fare <= 20.233\\nentropy = 0.918\\nsamples = 6\\nvalue = [2, 4]\\nclass = Survived'),\n",
       " Text(248.43816254416961, 146.772, 'entropy = 0.0\\nsamples = 4\\nvalue = [0, 4]\\nclass = Survived'),\n",
       " Text(253.1703180212014, 146.772, 'entropy = 0.0\\nsamples = 2\\nvalue = [2, 0]\\nclass = Died'),\n",
       " Text(302.7840106007067, 190.26, 'SibSp <= 2.5\\nentropy = 0.924\\nsamples = 162\\nvalue = [107, 55]\\nclass = Died'),\n",
       " Text(295.685777385159, 179.388, 'Age <= 13.5\\nentropy = 0.964\\nsamples = 139\\nvalue = [85, 54]\\nclass = Died'),\n",
       " Text(293.31969964664313, 168.516, 'entropy = 0.0\\nsamples = 7\\nvalue = [0, 7]\\nclass = Survived'),\n",
       " Text(298.0518551236749, 168.516, 'Fare <= 26.469\\nentropy = 0.939\\nsamples = 132\\nvalue = [85, 47]\\nclass = Died'),\n",
       " Text(295.685777385159, 157.644, 'entropy = 0.0\\nsamples = 4\\nvalue = [0, 4]\\nclass = Survived'),\n",
       " Text(300.4179328621908, 157.644, 'Age <= 53.0\\nentropy = 0.921\\nsamples = 128\\nvalue = [85, 43]\\nclass = Died'),\n",
       " Text(270.76802120141343, 146.772, 'Fare <= 26.775\\nentropy = 0.956\\nsamples = 106\\nvalue = [66, 40]\\nclass = Died'),\n",
       " Text(261.4515901060071, 135.9, 'Age <= 46.5\\nentropy = 0.764\\nsamples = 9\\nvalue = [2, 7]\\nclass = Survived'),\n",
       " Text(259.08551236749116, 125.02799999999999, 'Embarked_S <= 0.5\\nentropy = 0.863\\nsamples = 7\\nvalue = [2, 5]\\nclass = Survived'),\n",
       " Text(256.71943462897525, 114.156, 'entropy = 0.0\\nsamples = 1\\nvalue = [0, 1]\\nclass = Survived'),\n",
       " Text(261.4515901060071, 114.156, 'Age <= 39.5\\nentropy = 0.918\\nsamples = 6\\nvalue = [2, 4]\\nclass = Survived'),\n",
       " Text(259.08551236749116, 103.28399999999999, 'Age <= 31.0\\nentropy = 0.811\\nsamples = 4\\nvalue = [1, 3]\\nclass = Survived'),\n",
       " Text(256.71943462897525, 92.412, 'entropy = 0.918\\nsamples = 3\\nvalue = [1, 2]\\nclass = Survived'),\n",
       " Text(261.4515901060071, 92.412, 'entropy = 0.0\\nsamples = 1\\nvalue = [0, 1]\\nclass = Survived'),\n",
       " Text(263.817667844523, 103.28399999999999, 'entropy = 1.0\\nsamples = 2\\nvalue = [1, 1]\\nclass = Died'),\n",
       " Text(263.817667844523, 125.02799999999999, 'entropy = 0.0\\nsamples = 2\\nvalue = [0, 2]\\nclass = Survived'),\n",
       " Text(280.0844522968198, 135.9, 'Fare <= 29.1\\nentropy = 0.925\\nsamples = 97\\nvalue = [64, 33]\\nclass = Died'),\n",
       " Text(277.7183745583039, 125.02799999999999, 'entropy = 0.0\\nsamples = 9\\nvalue = [9, 0]\\nclass = Died'),\n",
       " Text(282.4505300353357, 125.02799999999999, 'Fare <= 30.598\\nentropy = 0.954\\nsamples = 88\\nvalue = [55, 33]\\nclass = Died'),\n",
       " Text(270.91590106007067, 114.156, 'Age <= 28.5\\nentropy = 0.881\\nsamples = 10\\nvalue = [3, 7]\\nclass = Survived'),\n",
       " Text(268.54982332155475, 103.28399999999999, 'entropy = 0.0\\nsamples = 5\\nvalue = [0, 5]\\nclass = Survived'),\n",
       " Text(273.2819787985866, 103.28399999999999, 'Fare <= 30.285\\nentropy = 0.971\\nsamples = 5\\nvalue = [3, 2]\\nclass = Died'),\n",
       " Text(270.91590106007067, 92.412, 'entropy = 0.0\\nsamples = 3\\nvalue = [3, 0]\\nclass = Died'),\n",
       " Text(275.6480565371025, 92.412, 'entropy = 0.0\\nsamples = 2\\nvalue = [0, 2]\\nclass = Survived'),\n",
       " Text(293.9851590106007, 114.156, 'Fare <= 52.277\\nentropy = 0.918\\nsamples = 78\\nvalue = [52, 26]\\nclass = Died'),\n",
       " Text(282.74628975265017, 103.28399999999999, 'Age <= 47.5\\nentropy = 0.619\\nsamples = 26\\nvalue = [22, 4]\\nclass = Died'),\n",
       " Text(280.38021201413426, 92.412, 'Fare <= 36.125\\nentropy = 0.529\\nsamples = 25\\nvalue = [22, 3]\\nclass = Died'),\n",
       " Text(278.0141342756184, 81.53999999999999, 'Fare <= 35.25\\nentropy = 0.845\\nsamples = 11\\nvalue = [8, 3]\\nclass = Died'),\n",
       " Text(273.2819787985866, 70.668, 'Embarked_S <= 0.5\\nentropy = 0.544\\nsamples = 8\\nvalue = [7, 1]\\nclass = Died'),\n",
       " Text(270.91590106007067, 59.79599999999999, 'Age <= 34.0\\nentropy = 1.0\\nsamples = 2\\nvalue = [1, 1]\\nclass = Died'),\n",
       " Text(268.54982332155475, 48.92400000000001, 'entropy = 0.0\\nsamples = 1\\nvalue = [1, 0]\\nclass = Died'),\n",
       " Text(273.2819787985866, 48.92400000000001, 'entropy = 0.0\\nsamples = 1\\nvalue = [0, 1]\\nclass = Survived'),\n",
       " Text(275.6480565371025, 59.79599999999999, 'entropy = 0.0\\nsamples = 6\\nvalue = [6, 0]\\nclass = Died'),\n",
       " Text(282.74628975265017, 70.668, 'Age <= 36.5\\nentropy = 0.918\\nsamples = 3\\nvalue = [1, 2]\\nclass = Survived'),\n",
       " Text(280.38021201413426, 59.79599999999999, 'entropy = 0.0\\nsamples = 2\\nvalue = [0, 2]\\nclass = Survived'),\n",
       " Text(285.1123674911661, 59.79599999999999, 'entropy = 0.0\\nsamples = 1\\nvalue = [1, 0]\\nclass = Died'),\n",
       " Text(282.74628975265017, 81.53999999999999, 'entropy = 0.0\\nsamples = 14\\nvalue = [14, 0]\\nclass = Died'),\n",
       " Text(285.1123674911661, 92.412, 'entropy = 0.0\\nsamples = 1\\nvalue = [0, 1]\\nclass = Survived'),\n",
       " Text(305.22402826855125, 103.28399999999999, 'Fare <= 59.087\\nentropy = 0.983\\nsamples = 52\\nvalue = [30, 22]\\nclass = Died'),\n",
       " Text(292.21060070671376, 92.412, 'Age <= 22.0\\nentropy = 0.896\\nsamples = 16\\nvalue = [5, 11]\\nclass = Survived'),\n",
       " Text(289.8445229681979, 81.53999999999999, 'entropy = 0.0\\nsamples = 1\\nvalue = [1, 0]\\nclass = Died'),\n",
       " Text(294.5766784452297, 81.53999999999999, 'Age <= 49.5\\nentropy = 0.837\\nsamples = 15\\nvalue = [4, 11]\\nclass = Survived'),\n",
       " Text(292.21060070671376, 70.668, 'Age <= 27.5\\nentropy = 0.75\\nsamples = 14\\nvalue = [3, 11]\\nclass = Survived'),\n",
       " Text(289.8445229681979, 59.79599999999999, 'entropy = 0.0\\nsamples = 3\\nvalue = [0, 3]\\nclass = Survived'),\n",
       " Text(294.5766784452297, 59.79599999999999, 'Age <= 29.5\\nentropy = 0.845\\nsamples = 11\\nvalue = [3, 8]\\nclass = Survived'),\n",
       " Text(292.21060070671376, 48.92400000000001, 'entropy = 1.0\\nsamples = 4\\nvalue = [2, 2]\\nclass = Died'),\n",
       " Text(296.9427561837456, 48.92400000000001, 'Fare <= 54.798\\nentropy = 0.592\\nsamples = 7\\nvalue = [1, 6]\\nclass = Survived'),\n",
       " Text(294.5766784452297, 38.05199999999999, 'Fare <= 52.827\\nentropy = 0.918\\nsamples = 3\\nvalue = [1, 2]\\nclass = Survived'),\n",
       " Text(292.21060070671376, 27.180000000000007, 'entropy = 0.0\\nsamples = 2\\nvalue = [0, 2]\\nclass = Survived'),\n",
       " Text(296.9427561837456, 27.180000000000007, 'entropy = 0.0\\nsamples = 1\\nvalue = [1, 0]\\nclass = Died'),\n",
       " Text(299.3088339222615, 38.05199999999999, 'entropy = 0.0\\nsamples = 4\\nvalue = [0, 4]\\nclass = Survived'),\n",
       " Text(296.9427561837456, 70.668, 'entropy = 0.0\\nsamples = 1\\nvalue = [1, 0]\\nclass = Died'),\n",
       " Text(318.2374558303887, 92.412, 'Fare <= 379.925\\nentropy = 0.888\\nsamples = 36\\nvalue = [25, 11]\\nclass = Died'),\n",
       " Text(315.87137809187277, 81.53999999999999, 'Fare <= 134.642\\nentropy = 0.834\\nsamples = 34\\nvalue = [25, 9]\\nclass = Died'),\n",
       " Text(313.5053003533569, 70.668, 'Fare <= 86.29\\nentropy = 0.906\\nsamples = 28\\nvalue = [19, 9]\\nclass = Died'),\n",
       " Text(308.7731448763251, 59.79599999999999, 'Embarked_S <= 0.5\\nentropy = 0.65\\nsamples = 18\\nvalue = [15, 3]\\nclass = Died'),\n",
       " Text(306.4070671378092, 48.92400000000001, 'Fare <= 77.965\\nentropy = 0.985\\nsamples = 7\\nvalue = [4, 3]\\nclass = Died'),\n",
       " Text(304.04098939929327, 38.05199999999999, 'Fare <= 62.369\\nentropy = 0.811\\nsamples = 4\\nvalue = [1, 3]\\nclass = Survived'),\n",
       " Text(301.6749116607774, 27.180000000000007, 'entropy = 0.0\\nsamples = 1\\nvalue = [1, 0]\\nclass = Died'),\n",
       " Text(306.4070671378092, 27.180000000000007, 'entropy = 0.0\\nsamples = 3\\nvalue = [0, 3]\\nclass = Survived'),\n",
       " Text(308.7731448763251, 38.05199999999999, 'entropy = 0.0\\nsamples = 3\\nvalue = [3, 0]\\nclass = Died'),\n",
       " Text(311.139222614841, 48.92400000000001, 'entropy = 0.0\\nsamples = 11\\nvalue = [11, 0]\\nclass = Died'),\n",
       " Text(318.2374558303887, 59.79599999999999, 'Embarked_S <= 0.5\\nentropy = 0.971\\nsamples = 10\\nvalue = [4, 6]\\nclass = Survived'),\n",
       " Text(315.87137809187277, 48.92400000000001, 'SibSp <= 0.5\\nentropy = 0.985\\nsamples = 7\\nvalue = [4, 3]\\nclass = Died'),\n",
       " Text(313.5053003533569, 38.05199999999999, 'entropy = 0.0\\nsamples = 1\\nvalue = [0, 1]\\nclass = Survived'),\n",
       " Text(318.2374558303887, 38.05199999999999, 'Fare <= 98.752\\nentropy = 0.918\\nsamples = 6\\nvalue = [4, 2]\\nclass = Died'),\n",
       " Text(315.87137809187277, 27.180000000000007, 'Embarked_C <= 0.5\\nentropy = 0.918\\nsamples = 3\\nvalue = [1, 2]\\nclass = Survived'),\n",
       " Text(313.5053003533569, 16.307999999999993, 'entropy = 0.0\\nsamples = 1\\nvalue = [1, 0]\\nclass = Died'),\n",
       " Text(318.2374558303887, 16.307999999999993, 'entropy = 0.0\\nsamples = 2\\nvalue = [0, 2]\\nclass = Survived'),\n",
       " Text(320.6035335689046, 27.180000000000007, 'entropy = 0.0\\nsamples = 3\\nvalue = [3, 0]\\nclass = Died'),\n",
       " Text(320.6035335689046, 48.92400000000001, 'entropy = 0.0\\nsamples = 3\\nvalue = [0, 3]\\nclass = Survived'),\n",
       " Text(318.2374558303887, 70.668, 'entropy = 0.0\\nsamples = 6\\nvalue = [6, 0]\\nclass = Died'),\n",
       " Text(320.6035335689046, 81.53999999999999, 'entropy = 0.0\\nsamples = 2\\nvalue = [0, 2]\\nclass = Survived'),\n",
       " Text(330.0678445229682, 146.772, 'Age <= 75.5\\nentropy = 0.575\\nsamples = 22\\nvalue = [19, 3]\\nclass = Died'),\n",
       " Text(327.7017667844523, 135.9, 'Embarked_C <= 0.5\\nentropy = 0.454\\nsamples = 21\\nvalue = [19, 2]\\nclass = Died'),\n",
       " Text(325.3356890459364, 125.02799999999999, 'entropy = 0.0\\nsamples = 13\\nvalue = [13, 0]\\nclass = Died'),\n",
       " Text(330.0678445229682, 125.02799999999999, 'SibSp <= 0.5\\nentropy = 0.811\\nsamples = 8\\nvalue = [6, 2]\\nclass = Died'),\n",
       " Text(327.7017667844523, 114.156, 'Age <= 57.0\\nentropy = 0.592\\nsamples = 7\\nvalue = [6, 1]\\nclass = Died'),\n",
       " Text(325.3356890459364, 103.28399999999999, 'Fare <= 33.098\\nentropy = 1.0\\nsamples = 2\\nvalue = [1, 1]\\nclass = Died'),\n",
       " Text(322.9696113074205, 92.412, 'entropy = 0.0\\nsamples = 1\\nvalue = [1, 0]\\nclass = Died'),\n",
       " Text(327.7017667844523, 92.412, 'entropy = 0.0\\nsamples = 1\\nvalue = [0, 1]\\nclass = Survived'),\n",
       " Text(330.0678445229682, 103.28399999999999, 'entropy = 0.0\\nsamples = 5\\nvalue = [5, 0]\\nclass = Died'),\n",
       " Text(332.4339222614841, 114.156, 'entropy = 0.0\\nsamples = 1\\nvalue = [0, 1]\\nclass = Survived'),\n",
       " Text(332.4339222614841, 135.9, 'entropy = 0.0\\nsamples = 1\\nvalue = [0, 1]\\nclass = Survived'),\n",
       " Text(309.8822438162544, 179.388, 'Age <= 3.5\\nentropy = 0.258\\nsamples = 23\\nvalue = [22, 1]\\nclass = Died'),\n",
       " Text(307.51616607773855, 168.516, 'Age <= 2.5\\nentropy = 0.722\\nsamples = 5\\nvalue = [4, 1]\\nclass = Died'),\n",
       " Text(305.15008833922263, 157.644, 'entropy = 0.0\\nsamples = 4\\nvalue = [4, 0]\\nclass = Died'),\n",
       " Text(309.8822438162544, 157.644, 'entropy = 0.0\\nsamples = 1\\nvalue = [0, 1]\\nclass = Survived'),\n",
       " Text(312.2483215547703, 168.516, 'entropy = 0.0\\nsamples = 18\\nvalue = [18, 0]\\nclass = Died')]"
      ]
     },
     "execution_count": 45,
     "metadata": {},
     "output_type": "execute_result"
    },
    {
     "data": {
      "image/png": "[encoded data removed]",
      "text/plain": [
       "<Figure size 432x288 with 1 Axes>"
      ]
     },
     "metadata": {
      "needs_background": "light"
     },
     "output_type": "display_data"
    }
   ],
   "source": [
    "tree.plot_tree(clf,feature_names=list(X),\n",
    "               class_names=['Died', 'Survived'],\n",
    "               filled=True,)"
   ]
  },
  {
   "cell_type": "code",
   "execution_count": 47,
   "id": "268c9847",
   "metadata": {},
   "outputs": [],
   "source": [
    "from sklearn.model_selection import train_test_split"
   ]
  },
  {
   "cell_type": "code",
   "execution_count": 48,
   "id": "f1a7baa5",
   "metadata": {},
   "outputs": [],
   "source": [
    "X_train, X_test, y_train, y_test = train_test_split(X, y, test_size = 0.33, random_state = 42)"
   ]
  },
  {
   "cell_type": "code",
   "execution_count": 52,
   "id": "62900359",
   "metadata": {},
   "outputs": [
    {
     "data": {
      "text/plain": [
       "(295, 10)"
      ]
     },
     "execution_count": 52,
     "metadata": {},
     "output_type": "execute_result"
    }
   ],
   "source": [
    "X_test.shape"
   ]
  },
  {
   "cell_type": "code",
   "execution_count": 53,
   "id": "6d129931",
   "metadata": {},
   "outputs": [
    {
     "data": {
      "text/plain": [
       "(596, 10)"
      ]
     },
     "execution_count": 53,
     "metadata": {},
     "output_type": "execute_result"
    }
   ],
   "source": [
    "X_train.shape"
   ]
  },
  {
   "cell_type": "code",
   "execution_count": 54,
   "id": "c3350de3",
   "metadata": {},
   "outputs": [
    {
     "data": {
      "text/plain": [
       "(891, 10)"
      ]
     },
     "execution_count": 54,
     "metadata": {},
     "output_type": "execute_result"
    }
   ],
   "source": [
    "X.shape"
   ]
  },
  {
   "cell_type": "code",
   "execution_count": 67,
   "id": "e27f3306",
   "metadata": {},
   "outputs": [
    {
     "data": {
      "text/plain": [
       "0.9797979797979798"
      ]
     },
     "execution_count": 67,
     "metadata": {},
     "output_type": "execute_result"
    }
   ],
   "source": [
    "clf.score(X, y)"
   ]
  },
  {
   "cell_type": "code",
   "execution_count": 70,
   "id": "6b265674",
   "metadata": {},
   "outputs": [
    {
     "data": {
      "text/plain": [
       "DecisionTreeClassifier(criterion='entropy')"
      ]
     },
     "execution_count": 70,
     "metadata": {},
     "output_type": "execute_result"
    }
   ],
   "source": [
    "clf.fit(X, y)"
   ]
  },
  {
   "cell_type": "code",
   "execution_count": 71,
   "id": "8c9b80f2",
   "metadata": {},
   "outputs": [
    {
     "data": {
      "text/plain": [
       "0.9966101694915255"
      ]
     },
     "execution_count": 71,
     "metadata": {},
     "output_type": "execute_result"
    }
   ],
   "source": [
    "clf.score(X_test, y_test)"
   ]
  },
  {
   "cell_type": "code",
   "execution_count": 98,
   "id": "cc89ec2c",
   "metadata": {},
   "outputs": [],
   "source": [
    "#EXAMPLE\n",
    "clf = tree.DecisionTreeClassifier(criterion='entropy')\n",
    "X_train, X_test, y_train, y_test = train_test_split(X, y, test_size = 0.33, random_state = 42)"
   ]
  },
  {
   "cell_type": "code",
   "execution_count": 75,
   "id": "642f06c3",
   "metadata": {},
   "outputs": [
    {
     "data": {
      "text/plain": [
       "DecisionTreeClassifier(criterion='entropy')"
      ]
     },
     "execution_count": 75,
     "metadata": {},
     "output_type": "execute_result"
    }
   ],
   "source": [
    "clf.fit(X_train, y_train)"
   ]
  },
  {
   "cell_type": "code",
   "execution_count": 76,
   "id": "05a12310",
   "metadata": {},
   "outputs": [
    {
     "data": {
      "text/plain": [
       "0.7762711864406779"
      ]
     },
     "execution_count": 76,
     "metadata": {},
     "output_type": "execute_result"
    }
   ],
   "source": [
    "clf.score(X_test, y_test)"
   ]
  },
  {
   "cell_type": "code",
   "execution_count": 77,
   "id": "5e6c7bd5",
   "metadata": {},
   "outputs": [
    {
     "data": {
      "text/plain": [
       "DecisionTreeClassifier(criterion='entropy', max_depth=5)"
      ]
     },
     "execution_count": 77,
     "metadata": {},
     "output_type": "execute_result"
    }
   ],
   "source": [
    "clf = tree.DecisionTreeClassifier(criterion='entropy', max_depth=5)\n",
    "clf.fit(X_train, y_train)"
   ]
  },
  {
   "cell_type": "code",
   "execution_count": 78,
   "id": "71504c99",
   "metadata": {},
   "outputs": [
    {
     "data": {
      "text/plain": [
       "0.8101694915254237"
      ]
     },
     "execution_count": 78,
     "metadata": {},
     "output_type": "execute_result"
    }
   ],
   "source": [
    "clf.score(X_test, y_test)"
   ]
  },
  {
   "cell_type": "code",
   "execution_count": 79,
   "id": "015cfac8",
   "metadata": {},
   "outputs": [
    {
     "data": {
      "text/plain": [
       "DecisionTreeClassifier(criterion='entropy', max_depth=7)"
      ]
     },
     "execution_count": 79,
     "metadata": {},
     "output_type": "execute_result"
    }
   ],
   "source": [
    "clf = tree.DecisionTreeClassifier(criterion='entropy', max_depth=7)\n",
    "clf.fit(X_train, y_train)"
   ]
  },
  {
   "cell_type": "code",
   "execution_count": 80,
   "id": "35a340b7",
   "metadata": {},
   "outputs": [
    {
     "data": {
      "text/plain": [
       "0.7762711864406779"
      ]
     },
     "execution_count": 80,
     "metadata": {},
     "output_type": "execute_result"
    }
   ],
   "source": [
    "clf.score(X_test, y_test)"
   ]
  },
  {
   "cell_type": "code",
   "execution_count": 84,
   "id": "3f6db902",
   "metadata": {},
   "outputs": [
    {
     "data": {
      "text/plain": [
       "0.8203389830508474"
      ]
     },
     "execution_count": 84,
     "metadata": {},
     "output_type": "execute_result"
    }
   ],
   "source": [
    "clf = tree.DecisionTreeClassifier(criterion='entropy', max_depth=3)\n",
    "clf.fit(X_train, y_train)\n",
    "clf.score(X_test, y_test)"
   ]
  },
  {
   "cell_type": "code",
   "execution_count": 85,
   "id": "9d7233ca",
   "metadata": {},
   "outputs": [
    {
     "data": {
      "text/plain": [
       "0.7661016949152543"
      ]
     },
     "execution_count": 85,
     "metadata": {},
     "output_type": "execute_result"
    }
   ],
   "source": [
    "clf = tree.DecisionTreeClassifier(criterion='entropy', max_depth=6)\n",
    "clf.fit(X_train, y_train)\n",
    "clf.score(X_test, y_test)"
   ]
  },
  {
   "cell_type": "markdown",
   "id": "238006d0",
   "metadata": {},
   "source": [
    "#1 That was better result with entropy."
   ]
  },
  {
   "cell_type": "code",
   "execution_count": 88,
   "id": "a9062807",
   "metadata": {
    "scrolled": true
   },
   "outputs": [
    {
     "data": {
      "text/plain": [
       "0.823728813559322"
      ]
     },
     "execution_count": 88,
     "metadata": {},
     "output_type": "execute_result"
    }
   ],
   "source": [
    "clf = tree.DecisionTreeClassifier(criterion='entropy', max_depth=4)\n",
    "clf.fit(X_train, y_train)\n",
    "clf.score(X_test, y_test)"
   ]
  },
  {
   "cell_type": "code",
   "execution_count": 121,
   "id": "c2a7d647",
   "metadata": {},
   "outputs": [],
   "source": [
    "max_depth_values = range(1, 100)"
   ]
  },
  {
   "cell_type": "code",
   "execution_count": 122,
   "id": "85cf8eb4",
   "metadata": {},
   "outputs": [],
   "source": [
    "scores_data = pd.DataFrame()"
   ]
  },
  {
   "cell_type": "code",
   "execution_count": 123,
   "id": "3e2dad6e",
   "metadata": {},
   "outputs": [],
   "source": [
    "for max_depth in max_depth_values:\n",
    "    clf = tree.DecisionTreeClassifier(criterion='entropy', max_depth=max_depth)\n",
    "    clf.fit(X_train, y_train)\n",
    "    train_score = clf.score(X_train, y_train)\n",
    "    test_score = clf.score(X_test, y_test)\n",
    "    mean_cross_val_score = cross_val_score(clf, X_train, y_train, cv=5).mean()\n",
    "    temp_score_data = pd.DataFrame({'depth' : [max_depth], 'train_score' : [train_score], 'test_score':[test_score], \n",
    "                                   'cross_validation':[mean_cross_val_score]})\n",
    "    scores_data = scores_data.append(temp_score_data)"
   ]
  },
  {
   "cell_type": "code",
   "execution_count": 128,
   "id": "f78bf228",
   "metadata": {},
   "outputs": [
    {
     "data": {
      "text/html": [
       "<div>\n",
       "<style scoped>\n",
       "    .dataframe tbody tr th:only-of-type {\n",
       "        vertical-align: middle;\n",
       "    }\n",
       "\n",
       "    .dataframe tbody tr th {\n",
       "        vertical-align: top;\n",
       "    }\n",
       "\n",
       "    .dataframe thead th {\n",
       "        text-align: right;\n",
       "    }\n",
       "</style>\n",
       "<table border=\"1\" class=\"dataframe\">\n",
       "  <thead>\n",
       "    <tr style=\"text-align: right;\">\n",
       "      <th></th>\n",
       "      <th>depth</th>\n",
       "      <th>train_score</th>\n",
       "      <th>test_score</th>\n",
       "      <th>cross_validation</th>\n",
       "    </tr>\n",
       "  </thead>\n",
       "  <tbody>\n",
       "    <tr>\n",
       "      <th>0</th>\n",
       "      <td>1</td>\n",
       "      <td>0.781879</td>\n",
       "      <td>0.796610</td>\n",
       "      <td>0.781961</td>\n",
       "    </tr>\n",
       "    <tr>\n",
       "      <th>0</th>\n",
       "      <td>2</td>\n",
       "      <td>0.805369</td>\n",
       "      <td>0.776271</td>\n",
       "      <td>0.770196</td>\n",
       "    </tr>\n",
       "    <tr>\n",
       "      <th>0</th>\n",
       "      <td>3</td>\n",
       "      <td>0.823826</td>\n",
       "      <td>0.820339</td>\n",
       "      <td>0.790322</td>\n",
       "    </tr>\n",
       "    <tr>\n",
       "      <th>0</th>\n",
       "      <td>4</td>\n",
       "      <td>0.833893</td>\n",
       "      <td>0.823729</td>\n",
       "      <td>0.788627</td>\n",
       "    </tr>\n",
       "    <tr>\n",
       "      <th>0</th>\n",
       "      <td>5</td>\n",
       "      <td>0.840604</td>\n",
       "      <td>0.810169</td>\n",
       "      <td>0.800392</td>\n",
       "    </tr>\n",
       "    <tr>\n",
       "      <th>0</th>\n",
       "      <td>6</td>\n",
       "      <td>0.867450</td>\n",
       "      <td>0.769492</td>\n",
       "      <td>0.803754</td>\n",
       "    </tr>\n",
       "    <tr>\n",
       "      <th>0</th>\n",
       "      <td>7</td>\n",
       "      <td>0.882550</td>\n",
       "      <td>0.779661</td>\n",
       "      <td>0.800378</td>\n",
       "    </tr>\n",
       "    <tr>\n",
       "      <th>0</th>\n",
       "      <td>8</td>\n",
       "      <td>0.907718</td>\n",
       "      <td>0.789831</td>\n",
       "      <td>0.800364</td>\n",
       "    </tr>\n",
       "    <tr>\n",
       "      <th>0</th>\n",
       "      <td>9</td>\n",
       "      <td>0.917785</td>\n",
       "      <td>0.800000</td>\n",
       "      <td>0.805392</td>\n",
       "    </tr>\n",
       "    <tr>\n",
       "      <th>0</th>\n",
       "      <td>10</td>\n",
       "      <td>0.926174</td>\n",
       "      <td>0.800000</td>\n",
       "      <td>0.796989</td>\n",
       "    </tr>\n",
       "  </tbody>\n",
       "</table>\n",
       "</div>"
      ],
      "text/plain": [
       "   depth  train_score  test_score  cross_validation\n",
       "0      1     0.781879    0.796610          0.781961\n",
       "0      2     0.805369    0.776271          0.770196\n",
       "0      3     0.823826    0.820339          0.790322\n",
       "0      4     0.833893    0.823729          0.788627\n",
       "0      5     0.840604    0.810169          0.800392\n",
       "0      6     0.867450    0.769492          0.803754\n",
       "0      7     0.882550    0.779661          0.800378\n",
       "0      8     0.907718    0.789831          0.800364\n",
       "0      9     0.917785    0.800000          0.805392\n",
       "0     10     0.926174    0.800000          0.796989"
      ]
     },
     "execution_count": 128,
     "metadata": {},
     "output_type": "execute_result"
    }
   ],
   "source": [
    "scores_data.head(10)"
   ]
  },
  {
   "cell_type": "code",
   "execution_count": 125,
   "id": "e15fb208",
   "metadata": {},
   "outputs": [
    {
     "data": {
      "text/plain": [
       "0.823728813559322"
      ]
     },
     "execution_count": 125,
     "metadata": {},
     "output_type": "execute_result"
    }
   ],
   "source": [
    "scores_data.test_score.max()"
   ]
  },
  {
   "cell_type": "code",
   "execution_count": 129,
   "id": "c1d031c9",
   "metadata": {},
   "outputs": [],
   "source": [
    "scores_data_long = pd.melt(scores_data, id_vars='depth', value_vars=['train_score', 'test_score', 'cross_validation'], \n",
    "                          var_name='set_type', value_name='score')"
   ]
  },
  {
   "cell_type": "code",
   "execution_count": 132,
   "id": "24fc63e9",
   "metadata": {},
   "outputs": [
    {
     "data": {
      "text/html": [
       "<div>\n",
       "<style scoped>\n",
       "    .dataframe tbody tr th:only-of-type {\n",
       "        vertical-align: middle;\n",
       "    }\n",
       "\n",
       "    .dataframe tbody tr th {\n",
       "        vertical-align: top;\n",
       "    }\n",
       "\n",
       "    .dataframe thead th {\n",
       "        text-align: right;\n",
       "    }\n",
       "</style>\n",
       "<table border=\"1\" class=\"dataframe\">\n",
       "  <thead>\n",
       "    <tr style=\"text-align: right;\">\n",
       "      <th></th>\n",
       "      <th>depth</th>\n",
       "      <th>set_type</th>\n",
       "      <th>score</th>\n",
       "    </tr>\n",
       "  </thead>\n",
       "  <tbody>\n",
       "    <tr>\n",
       "      <th>0</th>\n",
       "      <td>1</td>\n",
       "      <td>train_score</td>\n",
       "      <td>0.781879</td>\n",
       "    </tr>\n",
       "    <tr>\n",
       "      <th>1</th>\n",
       "      <td>2</td>\n",
       "      <td>train_score</td>\n",
       "      <td>0.805369</td>\n",
       "    </tr>\n",
       "    <tr>\n",
       "      <th>2</th>\n",
       "      <td>3</td>\n",
       "      <td>train_score</td>\n",
       "      <td>0.823826</td>\n",
       "    </tr>\n",
       "    <tr>\n",
       "      <th>3</th>\n",
       "      <td>4</td>\n",
       "      <td>train_score</td>\n",
       "      <td>0.833893</td>\n",
       "    </tr>\n",
       "    <tr>\n",
       "      <th>4</th>\n",
       "      <td>5</td>\n",
       "      <td>train_score</td>\n",
       "      <td>0.840604</td>\n",
       "    </tr>\n",
       "  </tbody>\n",
       "</table>\n",
       "</div>"
      ],
      "text/plain": [
       "   depth     set_type     score\n",
       "0      1  train_score  0.781879\n",
       "1      2  train_score  0.805369\n",
       "2      3  train_score  0.823826\n",
       "3      4  train_score  0.833893\n",
       "4      5  train_score  0.840604"
      ]
     },
     "execution_count": 132,
     "metadata": {},
     "output_type": "execute_result"
    }
   ],
   "source": [
    "scores_data_long.head()"
   ]
  },
  {
   "cell_type": "code",
   "execution_count": 134,
   "id": "5c753fd4",
   "metadata": {},
   "outputs": [
    {
     "data": {
      "text/html": [
       "<div>\n",
       "<style scoped>\n",
       "    .dataframe tbody tr th:only-of-type {\n",
       "        vertical-align: middle;\n",
       "    }\n",
       "\n",
       "    .dataframe tbody tr th {\n",
       "        vertical-align: top;\n",
       "    }\n",
       "\n",
       "    .dataframe thead th {\n",
       "        text-align: right;\n",
       "    }\n",
       "</style>\n",
       "<table border=\"1\" class=\"dataframe\">\n",
       "  <thead>\n",
       "    <tr style=\"text-align: right;\">\n",
       "      <th></th>\n",
       "      <th>depth</th>\n",
       "      <th>set_type</th>\n",
       "      <th>score</th>\n",
       "    </tr>\n",
       "  </thead>\n",
       "  <tbody>\n",
       "    <tr>\n",
       "      <th>198</th>\n",
       "      <td>1</td>\n",
       "      <td>cross_validation</td>\n",
       "      <td>0.781961</td>\n",
       "    </tr>\n",
       "    <tr>\n",
       "      <th>199</th>\n",
       "      <td>2</td>\n",
       "      <td>cross_validation</td>\n",
       "      <td>0.770196</td>\n",
       "    </tr>\n",
       "    <tr>\n",
       "      <th>200</th>\n",
       "      <td>3</td>\n",
       "      <td>cross_validation</td>\n",
       "      <td>0.790322</td>\n",
       "    </tr>\n",
       "    <tr>\n",
       "      <th>201</th>\n",
       "      <td>4</td>\n",
       "      <td>cross_validation</td>\n",
       "      <td>0.788627</td>\n",
       "    </tr>\n",
       "    <tr>\n",
       "      <th>202</th>\n",
       "      <td>5</td>\n",
       "      <td>cross_validation</td>\n",
       "      <td>0.800392</td>\n",
       "    </tr>\n",
       "    <tr>\n",
       "      <th>...</th>\n",
       "      <td>...</td>\n",
       "      <td>...</td>\n",
       "      <td>...</td>\n",
       "    </tr>\n",
       "    <tr>\n",
       "      <th>292</th>\n",
       "      <td>95</td>\n",
       "      <td>cross_validation</td>\n",
       "      <td>0.761793</td>\n",
       "    </tr>\n",
       "    <tr>\n",
       "      <th>293</th>\n",
       "      <td>96</td>\n",
       "      <td>cross_validation</td>\n",
       "      <td>0.768501</td>\n",
       "    </tr>\n",
       "    <tr>\n",
       "      <th>294</th>\n",
       "      <td>97</td>\n",
       "      <td>cross_validation</td>\n",
       "      <td>0.761779</td>\n",
       "    </tr>\n",
       "    <tr>\n",
       "      <th>295</th>\n",
       "      <td>98</td>\n",
       "      <td>cross_validation</td>\n",
       "      <td>0.763473</td>\n",
       "    </tr>\n",
       "    <tr>\n",
       "      <th>296</th>\n",
       "      <td>99</td>\n",
       "      <td>cross_validation</td>\n",
       "      <td>0.765154</td>\n",
       "    </tr>\n",
       "  </tbody>\n",
       "</table>\n",
       "<p>99 rows × 3 columns</p>\n",
       "</div>"
      ],
      "text/plain": [
       "     depth          set_type     score\n",
       "198      1  cross_validation  0.781961\n",
       "199      2  cross_validation  0.770196\n",
       "200      3  cross_validation  0.790322\n",
       "201      4  cross_validation  0.788627\n",
       "202      5  cross_validation  0.800392\n",
       "..     ...               ...       ...\n",
       "292     95  cross_validation  0.761793\n",
       "293     96  cross_validation  0.768501\n",
       "294     97  cross_validation  0.761779\n",
       "295     98  cross_validation  0.763473\n",
       "296     99  cross_validation  0.765154\n",
       "\n",
       "[99 rows x 3 columns]"
      ]
     },
     "execution_count": 134,
     "metadata": {},
     "output_type": "execute_result"
    }
   ],
   "source": [
    "scores_data_long.query(\"set_type == 'cross_validation'\")"
   ]
  },
  {
   "cell_type": "code",
   "execution_count": 133,
   "id": "718fc4ed",
   "metadata": {},
   "outputs": [
    {
     "data": {
      "text/plain": [
       "<AxesSubplot:xlabel='depth', ylabel='score'>"
      ]
     },
     "execution_count": 133,
     "metadata": {},
     "output_type": "execute_result"
    },
    {
     "data": {
      "image/png": "[encoded data removed]",
      "text/plain": [
       "<Figure size 432x288 with 1 Axes>"
      ]
     },
     "metadata": {
      "needs_background": "light"
     },
     "output_type": "display_data"
    }
   ],
   "source": [
    "sns.lineplot(x='depth', y='score', hue='set_type', data=scores_data_long)\n"
   ]
  },
  {
   "cell_type": "code",
   "execution_count": 116,
   "id": "f102e760",
   "metadata": {},
   "outputs": [],
   "source": [
    "from sklearn.model_selection import cross_val_score"
   ]
  },
  {
   "cell_type": "code",
   "execution_count": 117,
   "id": "57651f58",
   "metadata": {},
   "outputs": [
    {
     "data": {
      "text/plain": [
       "array([0.75      , 0.77310924, 0.76470588, 0.78991597, 0.74789916])"
      ]
     },
     "execution_count": 117,
     "metadata": {},
     "output_type": "execute_result"
    }
   ],
   "source": [
    "cross_val_score(clf, X_train, y_train, cv=5)"
   ]
  },
  {
   "cell_type": "code",
   "execution_count": 118,
   "id": "d04e10ba",
   "metadata": {},
   "outputs": [
    {
     "data": {
      "text/plain": [
       "0.7651400560224089"
      ]
     },
     "execution_count": 118,
     "metadata": {},
     "output_type": "execute_result"
    }
   ],
   "source": [
    "cross_val_score(clf, X_train, y_train, cv=5).mean()"
   ]
  },
  {
   "cell_type": "code",
   "execution_count": null,
   "id": "e180148e",
   "metadata": {},
   "outputs": [],
   "source": []
  }
 ],
 "metadata": {
  "kernelspec": {
   "display_name": "Python 3 (ipykernel)",
   "language": "python",
   "name": "python3"
  },
  "language_info": {
   "codemirror_mode": {
    "name": "ipython",
    "version": 3
   },
   "file_extension": ".py",
   "mimetype": "text/x-python",
   "name": "python",
   "nbconvert_exporter": "python",
   "pygments_lexer": "ipython3",
   "version": "3.9.7"
  }
 },
 "nbformat": 4,
 "nbformat_minor": 5
}
