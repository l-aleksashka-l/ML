{
 "cells": [
  {
   "cell_type": "code",
   "execution_count": 1,
   "id": "b824d343",
   "metadata": {},
   "outputs": [],
   "source": [
    "import pickle\n",
    "\n",
    "import numpy as np\n",
    "import pandas as pd\n",
    "from scipy.sparse import csr_matrix, hstack\n",
    "from sklearn.linear_model import LogisticRegression\n",
    "from sklearn.metrics import roc_auc_score\n",
    "from sklearn.preprocessing import StandardScaler\n",
    "from tqdm import tqdm_notebook\n",
    "\n",
    "%matplotlib inline\n",
    "import seaborn as sns\n",
    "from matplotlib import pyplot as plt"
   ]
  },
  {
   "cell_type": "code",
   "execution_count": 11,
   "id": "82f63840",
   "metadata": {},
   "outputs": [],
   "source": [
    "train_df = pd.read_csv(\"train_sessions.csv\", index_col=\"session_id\")\n",
    "test_df = pd.read_csv(\"test_sessions.csv\", index_col=\"session_id\")"
   ]
  },
  {
   "cell_type": "code",
   "execution_count": 19,
   "id": "5b96d306",
   "metadata": {},
   "outputs": [
    {
     "data": {
      "text/plain": [
       "15759"
      ]
     },
     "execution_count": 19,
     "metadata": {},
     "output_type": "execute_result"
    }
   ],
   "source": [
    "train_df[\"site3\"].nunique()"
   ]
  },
  {
   "cell_type": "code",
   "execution_count": 20,
   "id": "394670a1",
   "metadata": {},
   "outputs": [],
   "source": [
    "# приведем колонки time1, ..., time10 к временному формату\n",
    "times = [\"time%s\" % i for i in range(1, 11)]\n",
    "train_df[times] = train_df[times].apply(pd.to_datetime)\n",
    "test_df[times] = test_df[times].apply(pd.to_datetime)\n"
   ]
  },
  {
   "cell_type": "code",
   "execution_count": 24,
   "id": "16b2ae86",
   "metadata": {},
   "outputs": [
    {
     "data": {
      "text/plain": [
       "(253561, 21)"
      ]
     },
     "execution_count": 24,
     "metadata": {},
     "output_type": "execute_result"
    }
   ],
   "source": [
    "train_df.shape"
   ]
  },
  {
   "cell_type": "code",
   "execution_count": 26,
   "id": "2a8eb96b",
   "metadata": {},
   "outputs": [
    {
     "name": "stdout",
     "output_type": "stream",
     "text": [
      "<class 'pandas.core.frame.DataFrame'>\n",
      "Int64Index: 253561 entries, 1 to 253561\n",
      "Data columns (total 21 columns):\n",
      " #   Column  Non-Null Count   Dtype         \n",
      "---  ------  --------------   -----         \n",
      " 0   site1   253561 non-null  int64         \n",
      " 1   time1   253561 non-null  datetime64[ns]\n",
      " 2   site2   250098 non-null  float64       \n",
      " 3   time2   250098 non-null  datetime64[ns]\n",
      " 4   site3   246919 non-null  float64       \n",
      " 5   time3   246919 non-null  datetime64[ns]\n",
      " 6   site4   244321 non-null  float64       \n",
      " 7   time4   244321 non-null  datetime64[ns]\n",
      " 8   site5   241829 non-null  float64       \n",
      " 9   time5   241829 non-null  datetime64[ns]\n",
      " 10  site6   239495 non-null  float64       \n",
      " 11  time6   239495 non-null  datetime64[ns]\n",
      " 12  site7   237297 non-null  float64       \n",
      " 13  time7   237297 non-null  datetime64[ns]\n",
      " 14  site8   235224 non-null  float64       \n",
      " 15  time8   235224 non-null  datetime64[ns]\n",
      " 16  site9   233084 non-null  float64       \n",
      " 17  time9   233084 non-null  datetime64[ns]\n",
      " 18  site10  231052 non-null  float64       \n",
      " 19  time10  231052 non-null  datetime64[ns]\n",
      " 20  target  253561 non-null  int64         \n",
      "dtypes: datetime64[ns](10), float64(9), int64(2)\n",
      "memory usage: 42.6 MB\n"
     ]
    }
   ],
   "source": [
    "train_df.info()"
   ]
  },
  {
   "cell_type": "code",
   "execution_count": 27,
   "id": "6da2b378",
   "metadata": {},
   "outputs": [],
   "source": [
    "# отсортируем данные по времени\n",
    "train_df = train_df.sort_values(by=\"time1\")"
   ]
  },
  {
   "cell_type": "code",
   "execution_count": 29,
   "id": "1ca3cafd",
   "metadata": {},
   "outputs": [
    {
     "data": {
      "text/html": [
       "<div>\n",
       "<style scoped>\n",
       "    .dataframe tbody tr th:only-of-type {\n",
       "        vertical-align: middle;\n",
       "    }\n",
       "\n",
       "    .dataframe tbody tr th {\n",
       "        vertical-align: top;\n",
       "    }\n",
       "\n",
       "    .dataframe thead th {\n",
       "        text-align: right;\n",
       "    }\n",
       "</style>\n",
       "<table border=\"1\" class=\"dataframe\">\n",
       "  <thead>\n",
       "    <tr style=\"text-align: right;\">\n",
       "      <th></th>\n",
       "      <th>site1</th>\n",
       "      <th>time1</th>\n",
       "      <th>site2</th>\n",
       "      <th>time2</th>\n",
       "      <th>site3</th>\n",
       "      <th>time3</th>\n",
       "      <th>site4</th>\n",
       "      <th>time4</th>\n",
       "      <th>site5</th>\n",
       "      <th>time5</th>\n",
       "      <th>...</th>\n",
       "      <th>time6</th>\n",
       "      <th>site7</th>\n",
       "      <th>time7</th>\n",
       "      <th>site8</th>\n",
       "      <th>time8</th>\n",
       "      <th>site9</th>\n",
       "      <th>time9</th>\n",
       "      <th>site10</th>\n",
       "      <th>time10</th>\n",
       "      <th>target</th>\n",
       "    </tr>\n",
       "    <tr>\n",
       "      <th>session_id</th>\n",
       "      <th></th>\n",
       "      <th></th>\n",
       "      <th></th>\n",
       "      <th></th>\n",
       "      <th></th>\n",
       "      <th></th>\n",
       "      <th></th>\n",
       "      <th></th>\n",
       "      <th></th>\n",
       "      <th></th>\n",
       "      <th></th>\n",
       "      <th></th>\n",
       "      <th></th>\n",
       "      <th></th>\n",
       "      <th></th>\n",
       "      <th></th>\n",
       "      <th></th>\n",
       "      <th></th>\n",
       "      <th></th>\n",
       "      <th></th>\n",
       "      <th></th>\n",
       "    </tr>\n",
       "  </thead>\n",
       "  <tbody>\n",
       "    <tr>\n",
       "      <th>21669</th>\n",
       "      <td>56</td>\n",
       "      <td>2013-01-12 08:05:57</td>\n",
       "      <td>55.0</td>\n",
       "      <td>2013-01-12 08:05:57</td>\n",
       "      <td>NaN</td>\n",
       "      <td>NaT</td>\n",
       "      <td>NaN</td>\n",
       "      <td>NaT</td>\n",
       "      <td>NaN</td>\n",
       "      <td>NaT</td>\n",
       "      <td>...</td>\n",
       "      <td>NaT</td>\n",
       "      <td>NaN</td>\n",
       "      <td>NaT</td>\n",
       "      <td>NaN</td>\n",
       "      <td>NaT</td>\n",
       "      <td>NaN</td>\n",
       "      <td>NaT</td>\n",
       "      <td>NaN</td>\n",
       "      <td>NaT</td>\n",
       "      <td>0</td>\n",
       "    </tr>\n",
       "    <tr>\n",
       "      <th>54843</th>\n",
       "      <td>56</td>\n",
       "      <td>2013-01-12 08:37:23</td>\n",
       "      <td>55.0</td>\n",
       "      <td>2013-01-12 08:37:23</td>\n",
       "      <td>56.0</td>\n",
       "      <td>2013-01-12 09:07:07</td>\n",
       "      <td>55.0</td>\n",
       "      <td>2013-01-12 09:07:09</td>\n",
       "      <td>NaN</td>\n",
       "      <td>NaT</td>\n",
       "      <td>...</td>\n",
       "      <td>NaT</td>\n",
       "      <td>NaN</td>\n",
       "      <td>NaT</td>\n",
       "      <td>NaN</td>\n",
       "      <td>NaT</td>\n",
       "      <td>NaN</td>\n",
       "      <td>NaT</td>\n",
       "      <td>NaN</td>\n",
       "      <td>NaT</td>\n",
       "      <td>0</td>\n",
       "    </tr>\n",
       "    <tr>\n",
       "      <th>77292</th>\n",
       "      <td>946</td>\n",
       "      <td>2013-01-12 08:50:13</td>\n",
       "      <td>946.0</td>\n",
       "      <td>2013-01-12 08:50:14</td>\n",
       "      <td>951.0</td>\n",
       "      <td>2013-01-12 08:50:15</td>\n",
       "      <td>946.0</td>\n",
       "      <td>2013-01-12 08:50:15</td>\n",
       "      <td>946.0</td>\n",
       "      <td>2013-01-12 08:50:16</td>\n",
       "      <td>...</td>\n",
       "      <td>2013-01-12 08:50:16</td>\n",
       "      <td>948.0</td>\n",
       "      <td>2013-01-12 08:50:16</td>\n",
       "      <td>784.0</td>\n",
       "      <td>2013-01-12 08:50:16</td>\n",
       "      <td>949.0</td>\n",
       "      <td>2013-01-12 08:50:17</td>\n",
       "      <td>946.0</td>\n",
       "      <td>2013-01-12 08:50:17</td>\n",
       "      <td>0</td>\n",
       "    </tr>\n",
       "    <tr>\n",
       "      <th>114021</th>\n",
       "      <td>945</td>\n",
       "      <td>2013-01-12 08:50:17</td>\n",
       "      <td>948.0</td>\n",
       "      <td>2013-01-12 08:50:17</td>\n",
       "      <td>949.0</td>\n",
       "      <td>2013-01-12 08:50:18</td>\n",
       "      <td>948.0</td>\n",
       "      <td>2013-01-12 08:50:18</td>\n",
       "      <td>945.0</td>\n",
       "      <td>2013-01-12 08:50:18</td>\n",
       "      <td>...</td>\n",
       "      <td>2013-01-12 08:50:18</td>\n",
       "      <td>947.0</td>\n",
       "      <td>2013-01-12 08:50:19</td>\n",
       "      <td>945.0</td>\n",
       "      <td>2013-01-12 08:50:19</td>\n",
       "      <td>946.0</td>\n",
       "      <td>2013-01-12 08:50:19</td>\n",
       "      <td>946.0</td>\n",
       "      <td>2013-01-12 08:50:20</td>\n",
       "      <td>0</td>\n",
       "    </tr>\n",
       "    <tr>\n",
       "      <th>146670</th>\n",
       "      <td>947</td>\n",
       "      <td>2013-01-12 08:50:20</td>\n",
       "      <td>950.0</td>\n",
       "      <td>2013-01-12 08:50:20</td>\n",
       "      <td>948.0</td>\n",
       "      <td>2013-01-12 08:50:20</td>\n",
       "      <td>947.0</td>\n",
       "      <td>2013-01-12 08:50:21</td>\n",
       "      <td>950.0</td>\n",
       "      <td>2013-01-12 08:50:21</td>\n",
       "      <td>...</td>\n",
       "      <td>2013-01-12 08:50:21</td>\n",
       "      <td>946.0</td>\n",
       "      <td>2013-01-12 08:50:21</td>\n",
       "      <td>951.0</td>\n",
       "      <td>2013-01-12 08:50:22</td>\n",
       "      <td>946.0</td>\n",
       "      <td>2013-01-12 08:50:22</td>\n",
       "      <td>947.0</td>\n",
       "      <td>2013-01-12 08:50:22</td>\n",
       "      <td>0</td>\n",
       "    </tr>\n",
       "  </tbody>\n",
       "</table>\n",
       "<p>5 rows × 21 columns</p>\n",
       "</div>"
      ],
      "text/plain": [
       "            site1               time1  site2               time2  site3  \\\n",
       "session_id                                                                \n",
       "21669          56 2013-01-12 08:05:57   55.0 2013-01-12 08:05:57    NaN   \n",
       "54843          56 2013-01-12 08:37:23   55.0 2013-01-12 08:37:23   56.0   \n",
       "77292         946 2013-01-12 08:50:13  946.0 2013-01-12 08:50:14  951.0   \n",
       "114021        945 2013-01-12 08:50:17  948.0 2013-01-12 08:50:17  949.0   \n",
       "146670        947 2013-01-12 08:50:20  950.0 2013-01-12 08:50:20  948.0   \n",
       "\n",
       "                         time3  site4               time4  site5  \\\n",
       "session_id                                                         \n",
       "21669                      NaT    NaN                 NaT    NaN   \n",
       "54843      2013-01-12 09:07:07   55.0 2013-01-12 09:07:09    NaN   \n",
       "77292      2013-01-12 08:50:15  946.0 2013-01-12 08:50:15  946.0   \n",
       "114021     2013-01-12 08:50:18  948.0 2013-01-12 08:50:18  945.0   \n",
       "146670     2013-01-12 08:50:20  947.0 2013-01-12 08:50:21  950.0   \n",
       "\n",
       "                         time5  ...               time6  site7  \\\n",
       "session_id                      ...                              \n",
       "21669                      NaT  ...                 NaT    NaN   \n",
       "54843                      NaT  ...                 NaT    NaN   \n",
       "77292      2013-01-12 08:50:16  ... 2013-01-12 08:50:16  948.0   \n",
       "114021     2013-01-12 08:50:18  ... 2013-01-12 08:50:18  947.0   \n",
       "146670     2013-01-12 08:50:21  ... 2013-01-12 08:50:21  946.0   \n",
       "\n",
       "                         time7  site8               time8  site9  \\\n",
       "session_id                                                         \n",
       "21669                      NaT    NaN                 NaT    NaN   \n",
       "54843                      NaT    NaN                 NaT    NaN   \n",
       "77292      2013-01-12 08:50:16  784.0 2013-01-12 08:50:16  949.0   \n",
       "114021     2013-01-12 08:50:19  945.0 2013-01-12 08:50:19  946.0   \n",
       "146670     2013-01-12 08:50:21  951.0 2013-01-12 08:50:22  946.0   \n",
       "\n",
       "                         time9 site10              time10 target  \n",
       "session_id                                                        \n",
       "21669                      NaT    NaN                 NaT      0  \n",
       "54843                      NaT    NaN                 NaT      0  \n",
       "77292      2013-01-12 08:50:17  946.0 2013-01-12 08:50:17      0  \n",
       "114021     2013-01-12 08:50:19  946.0 2013-01-12 08:50:20      0  \n",
       "146670     2013-01-12 08:50:22  947.0 2013-01-12 08:50:22      0  \n",
       "\n",
       "[5 rows x 21 columns]"
      ]
     },
     "execution_count": 29,
     "metadata": {},
     "output_type": "execute_result"
    }
   ],
   "source": [
    "train_df.head()"
   ]
  },
  {
   "cell_type": "code",
   "execution_count": 30,
   "id": "81fa2917",
   "metadata": {},
   "outputs": [],
   "source": [
    "# приведем колонки site1, ..., site10 к целочисленному формату и заменим пропуски нулями\n",
    "sites = [\"site%s\" % i for i in range(1, 11)]\n",
    "train_df[sites] = train_df[sites].fillna(0).astype(\"int\")\n",
    "test_df[sites] = test_df[sites].fillna(0).astype(\"int\")"
   ]
  },
  {
   "cell_type": "code",
   "execution_count": 31,
   "id": "49939db1",
   "metadata": {},
   "outputs": [
    {
     "data": {
      "text/html": [
       "<div>\n",
       "<style scoped>\n",
       "    .dataframe tbody tr th:only-of-type {\n",
       "        vertical-align: middle;\n",
       "    }\n",
       "\n",
       "    .dataframe tbody tr th {\n",
       "        vertical-align: top;\n",
       "    }\n",
       "\n",
       "    .dataframe thead th {\n",
       "        text-align: right;\n",
       "    }\n",
       "</style>\n",
       "<table border=\"1\" class=\"dataframe\">\n",
       "  <thead>\n",
       "    <tr style=\"text-align: right;\">\n",
       "      <th></th>\n",
       "      <th>site1</th>\n",
       "      <th>time1</th>\n",
       "      <th>site2</th>\n",
       "      <th>time2</th>\n",
       "      <th>site3</th>\n",
       "      <th>time3</th>\n",
       "      <th>site4</th>\n",
       "      <th>time4</th>\n",
       "      <th>site5</th>\n",
       "      <th>time5</th>\n",
       "      <th>...</th>\n",
       "      <th>time6</th>\n",
       "      <th>site7</th>\n",
       "      <th>time7</th>\n",
       "      <th>site8</th>\n",
       "      <th>time8</th>\n",
       "      <th>site9</th>\n",
       "      <th>time9</th>\n",
       "      <th>site10</th>\n",
       "      <th>time10</th>\n",
       "      <th>target</th>\n",
       "    </tr>\n",
       "    <tr>\n",
       "      <th>session_id</th>\n",
       "      <th></th>\n",
       "      <th></th>\n",
       "      <th></th>\n",
       "      <th></th>\n",
       "      <th></th>\n",
       "      <th></th>\n",
       "      <th></th>\n",
       "      <th></th>\n",
       "      <th></th>\n",
       "      <th></th>\n",
       "      <th></th>\n",
       "      <th></th>\n",
       "      <th></th>\n",
       "      <th></th>\n",
       "      <th></th>\n",
       "      <th></th>\n",
       "      <th></th>\n",
       "      <th></th>\n",
       "      <th></th>\n",
       "      <th></th>\n",
       "      <th></th>\n",
       "    </tr>\n",
       "  </thead>\n",
       "  <tbody>\n",
       "    <tr>\n",
       "      <th>21669</th>\n",
       "      <td>56</td>\n",
       "      <td>2013-01-12 08:05:57</td>\n",
       "      <td>55</td>\n",
       "      <td>2013-01-12 08:05:57</td>\n",
       "      <td>0</td>\n",
       "      <td>NaT</td>\n",
       "      <td>0</td>\n",
       "      <td>NaT</td>\n",
       "      <td>0</td>\n",
       "      <td>NaT</td>\n",
       "      <td>...</td>\n",
       "      <td>NaT</td>\n",
       "      <td>0</td>\n",
       "      <td>NaT</td>\n",
       "      <td>0</td>\n",
       "      <td>NaT</td>\n",
       "      <td>0</td>\n",
       "      <td>NaT</td>\n",
       "      <td>0</td>\n",
       "      <td>NaT</td>\n",
       "      <td>0</td>\n",
       "    </tr>\n",
       "    <tr>\n",
       "      <th>54843</th>\n",
       "      <td>56</td>\n",
       "      <td>2013-01-12 08:37:23</td>\n",
       "      <td>55</td>\n",
       "      <td>2013-01-12 08:37:23</td>\n",
       "      <td>56</td>\n",
       "      <td>2013-01-12 09:07:07</td>\n",
       "      <td>55</td>\n",
       "      <td>2013-01-12 09:07:09</td>\n",
       "      <td>0</td>\n",
       "      <td>NaT</td>\n",
       "      <td>...</td>\n",
       "      <td>NaT</td>\n",
       "      <td>0</td>\n",
       "      <td>NaT</td>\n",
       "      <td>0</td>\n",
       "      <td>NaT</td>\n",
       "      <td>0</td>\n",
       "      <td>NaT</td>\n",
       "      <td>0</td>\n",
       "      <td>NaT</td>\n",
       "      <td>0</td>\n",
       "    </tr>\n",
       "    <tr>\n",
       "      <th>77292</th>\n",
       "      <td>946</td>\n",
       "      <td>2013-01-12 08:50:13</td>\n",
       "      <td>946</td>\n",
       "      <td>2013-01-12 08:50:14</td>\n",
       "      <td>951</td>\n",
       "      <td>2013-01-12 08:50:15</td>\n",
       "      <td>946</td>\n",
       "      <td>2013-01-12 08:50:15</td>\n",
       "      <td>946</td>\n",
       "      <td>2013-01-12 08:50:16</td>\n",
       "      <td>...</td>\n",
       "      <td>2013-01-12 08:50:16</td>\n",
       "      <td>948</td>\n",
       "      <td>2013-01-12 08:50:16</td>\n",
       "      <td>784</td>\n",
       "      <td>2013-01-12 08:50:16</td>\n",
       "      <td>949</td>\n",
       "      <td>2013-01-12 08:50:17</td>\n",
       "      <td>946</td>\n",
       "      <td>2013-01-12 08:50:17</td>\n",
       "      <td>0</td>\n",
       "    </tr>\n",
       "    <tr>\n",
       "      <th>114021</th>\n",
       "      <td>945</td>\n",
       "      <td>2013-01-12 08:50:17</td>\n",
       "      <td>948</td>\n",
       "      <td>2013-01-12 08:50:17</td>\n",
       "      <td>949</td>\n",
       "      <td>2013-01-12 08:50:18</td>\n",
       "      <td>948</td>\n",
       "      <td>2013-01-12 08:50:18</td>\n",
       "      <td>945</td>\n",
       "      <td>2013-01-12 08:50:18</td>\n",
       "      <td>...</td>\n",
       "      <td>2013-01-12 08:50:18</td>\n",
       "      <td>947</td>\n",
       "      <td>2013-01-12 08:50:19</td>\n",
       "      <td>945</td>\n",
       "      <td>2013-01-12 08:50:19</td>\n",
       "      <td>946</td>\n",
       "      <td>2013-01-12 08:50:19</td>\n",
       "      <td>946</td>\n",
       "      <td>2013-01-12 08:50:20</td>\n",
       "      <td>0</td>\n",
       "    </tr>\n",
       "    <tr>\n",
       "      <th>146670</th>\n",
       "      <td>947</td>\n",
       "      <td>2013-01-12 08:50:20</td>\n",
       "      <td>950</td>\n",
       "      <td>2013-01-12 08:50:20</td>\n",
       "      <td>948</td>\n",
       "      <td>2013-01-12 08:50:20</td>\n",
       "      <td>947</td>\n",
       "      <td>2013-01-12 08:50:21</td>\n",
       "      <td>950</td>\n",
       "      <td>2013-01-12 08:50:21</td>\n",
       "      <td>...</td>\n",
       "      <td>2013-01-12 08:50:21</td>\n",
       "      <td>946</td>\n",
       "      <td>2013-01-12 08:50:21</td>\n",
       "      <td>951</td>\n",
       "      <td>2013-01-12 08:50:22</td>\n",
       "      <td>946</td>\n",
       "      <td>2013-01-12 08:50:22</td>\n",
       "      <td>947</td>\n",
       "      <td>2013-01-12 08:50:22</td>\n",
       "      <td>0</td>\n",
       "    </tr>\n",
       "  </tbody>\n",
       "</table>\n",
       "<p>5 rows × 21 columns</p>\n",
       "</div>"
      ],
      "text/plain": [
       "            site1               time1  site2               time2  site3  \\\n",
       "session_id                                                                \n",
       "21669          56 2013-01-12 08:05:57     55 2013-01-12 08:05:57      0   \n",
       "54843          56 2013-01-12 08:37:23     55 2013-01-12 08:37:23     56   \n",
       "77292         946 2013-01-12 08:50:13    946 2013-01-12 08:50:14    951   \n",
       "114021        945 2013-01-12 08:50:17    948 2013-01-12 08:50:17    949   \n",
       "146670        947 2013-01-12 08:50:20    950 2013-01-12 08:50:20    948   \n",
       "\n",
       "                         time3  site4               time4  site5  \\\n",
       "session_id                                                         \n",
       "21669                      NaT      0                 NaT      0   \n",
       "54843      2013-01-12 09:07:07     55 2013-01-12 09:07:09      0   \n",
       "77292      2013-01-12 08:50:15    946 2013-01-12 08:50:15    946   \n",
       "114021     2013-01-12 08:50:18    948 2013-01-12 08:50:18    945   \n",
       "146670     2013-01-12 08:50:20    947 2013-01-12 08:50:21    950   \n",
       "\n",
       "                         time5  ...               time6 site7  \\\n",
       "session_id                      ...                             \n",
       "21669                      NaT  ...                 NaT     0   \n",
       "54843                      NaT  ...                 NaT     0   \n",
       "77292      2013-01-12 08:50:16  ... 2013-01-12 08:50:16   948   \n",
       "114021     2013-01-12 08:50:18  ... 2013-01-12 08:50:18   947   \n",
       "146670     2013-01-12 08:50:21  ... 2013-01-12 08:50:21   946   \n",
       "\n",
       "                         time7 site8               time8 site9  \\\n",
       "session_id                                                       \n",
       "21669                      NaT     0                 NaT     0   \n",
       "54843                      NaT     0                 NaT     0   \n",
       "77292      2013-01-12 08:50:16   784 2013-01-12 08:50:16   949   \n",
       "114021     2013-01-12 08:50:19   945 2013-01-12 08:50:19   946   \n",
       "146670     2013-01-12 08:50:21   951 2013-01-12 08:50:22   946   \n",
       "\n",
       "                         time9 site10              time10 target  \n",
       "session_id                                                        \n",
       "21669                      NaT      0                 NaT      0  \n",
       "54843                      NaT      0                 NaT      0  \n",
       "77292      2013-01-12 08:50:17    946 2013-01-12 08:50:17      0  \n",
       "114021     2013-01-12 08:50:19    946 2013-01-12 08:50:20      0  \n",
       "146670     2013-01-12 08:50:22    947 2013-01-12 08:50:22      0  \n",
       "\n",
       "[5 rows x 21 columns]"
      ]
     },
     "execution_count": 31,
     "metadata": {},
     "output_type": "execute_result"
    }
   ],
   "source": [
    "train_df.head()"
   ]
  },
  {
   "cell_type": "code",
   "execution_count": 33,
   "id": "a9f261f8",
   "metadata": {},
   "outputs": [],
   "source": [
    "# загрузим словарик сайтов\n",
    "with open(r\"site_dic.pkl\", \"rb\") as input_file:\n",
    "    site_dict = pickle.load(input_file)"
   ]
  },
  {
   "cell_type": "code",
   "execution_count": 39,
   "id": "7633566f",
   "metadata": {},
   "outputs": [
    {
     "name": "stdout",
     "output_type": "stream",
     "text": [
      "всего сайтов: 48371\n"
     ]
    },
    {
     "data": {
      "text/html": [
       "<div>\n",
       "<style scoped>\n",
       "    .dataframe tbody tr th:only-of-type {\n",
       "        vertical-align: middle;\n",
       "    }\n",
       "\n",
       "    .dataframe tbody tr th {\n",
       "        vertical-align: top;\n",
       "    }\n",
       "\n",
       "    .dataframe thead th {\n",
       "        text-align: right;\n",
       "    }\n",
       "</style>\n",
       "<table border=\"1\" class=\"dataframe\">\n",
       "  <thead>\n",
       "    <tr style=\"text-align: right;\">\n",
       "      <th></th>\n",
       "      <th>site</th>\n",
       "    </tr>\n",
       "  </thead>\n",
       "  <tbody>\n",
       "    <tr>\n",
       "      <th>1</th>\n",
       "      <td>fpdownload2.macromedia.com</td>\n",
       "    </tr>\n",
       "    <tr>\n",
       "      <th>2</th>\n",
       "      <td>hotmail.fr</td>\n",
       "    </tr>\n",
       "    <tr>\n",
       "      <th>3</th>\n",
       "      <td>login.live.com</td>\n",
       "    </tr>\n",
       "    <tr>\n",
       "      <th>4</th>\n",
       "      <td>mail.live.com</td>\n",
       "    </tr>\n",
       "    <tr>\n",
       "      <th>5</th>\n",
       "      <td>dub122.mail.live.com</td>\n",
       "    </tr>\n",
       "  </tbody>\n",
       "</table>\n",
       "</div>"
      ],
      "text/plain": [
       "                         site\n",
       "1  fpdownload2.macromedia.com\n",
       "2                  hotmail.fr\n",
       "3              login.live.com\n",
       "4               mail.live.com\n",
       "5        dub122.mail.live.com"
      ]
     },
     "execution_count": 39,
     "metadata": {},
     "output_type": "execute_result"
    }
   ],
   "source": [
    "# датафрейм словарика сайтов\n",
    "sites_dict_df = pd.DataFrame(\n",
    "    list(site_dict.keys()), index=list(site_dict.values()), columns=[\"site\"]\n",
    ")\n",
    "sites_dict_df.sort_index(inplace=True)\n",
    "print(u\"всего сайтов:\", sites_dict_df.shape[0])\n",
    "sites_dict_df.head()"
   ]
  },
  {
   "cell_type": "code",
   "execution_count": 40,
   "id": "d5c85358",
   "metadata": {},
   "outputs": [],
   "source": [
    "# наша целевая переменная\n",
    "y_train = train_df[\"target\"]"
   ]
  },
  {
   "cell_type": "code",
   "execution_count": 68,
   "id": "394e4e29",
   "metadata": {},
   "outputs": [
    {
     "data": {
      "text/plain": [
       "(336358, 20)"
      ]
     },
     "execution_count": 68,
     "metadata": {},
     "output_type": "execute_result"
    }
   ],
   "source": [
    "# объединенная таблица исходных данных\n",
    "full_df = pd.concat([train_df.drop(\"target\", axis=1), test_df])\n",
    "full_df.shape"
   ]
  },
  {
   "cell_type": "code",
   "execution_count": 42,
   "id": "d847593e",
   "metadata": {},
   "outputs": [],
   "source": [
    "# индекс, по которому будем отделять обучающую выборку от тестовой\n",
    "idx_split = train_df.shape[0]"
   ]
  },
  {
   "cell_type": "code",
   "execution_count": 43,
   "id": "0fd13363",
   "metadata": {},
   "outputs": [
    {
     "data": {
      "text/plain": [
       "253561"
      ]
     },
     "execution_count": 43,
     "metadata": {},
     "output_type": "execute_result"
    }
   ],
   "source": [
    "idx_split"
   ]
  },
  {
   "cell_type": "code",
   "execution_count": 44,
   "id": "98c511ad",
   "metadata": {},
   "outputs": [
    {
     "data": {
      "text/html": [
       "<div>\n",
       "<style scoped>\n",
       "    .dataframe tbody tr th:only-of-type {\n",
       "        vertical-align: middle;\n",
       "    }\n",
       "\n",
       "    .dataframe tbody tr th {\n",
       "        vertical-align: top;\n",
       "    }\n",
       "\n",
       "    .dataframe thead th {\n",
       "        text-align: right;\n",
       "    }\n",
       "</style>\n",
       "<table border=\"1\" class=\"dataframe\">\n",
       "  <thead>\n",
       "    <tr style=\"text-align: right;\">\n",
       "      <th></th>\n",
       "      <th>site1</th>\n",
       "      <th>site2</th>\n",
       "      <th>site3</th>\n",
       "      <th>site4</th>\n",
       "      <th>site5</th>\n",
       "      <th>site6</th>\n",
       "      <th>site7</th>\n",
       "      <th>site8</th>\n",
       "      <th>site9</th>\n",
       "      <th>site10</th>\n",
       "    </tr>\n",
       "    <tr>\n",
       "      <th>session_id</th>\n",
       "      <th></th>\n",
       "      <th></th>\n",
       "      <th></th>\n",
       "      <th></th>\n",
       "      <th></th>\n",
       "      <th></th>\n",
       "      <th></th>\n",
       "      <th></th>\n",
       "      <th></th>\n",
       "      <th></th>\n",
       "    </tr>\n",
       "  </thead>\n",
       "  <tbody>\n",
       "    <tr>\n",
       "      <th>21669</th>\n",
       "      <td>56</td>\n",
       "      <td>55</td>\n",
       "      <td>0</td>\n",
       "      <td>0</td>\n",
       "      <td>0</td>\n",
       "      <td>0</td>\n",
       "      <td>0</td>\n",
       "      <td>0</td>\n",
       "      <td>0</td>\n",
       "      <td>0</td>\n",
       "    </tr>\n",
       "    <tr>\n",
       "      <th>54843</th>\n",
       "      <td>56</td>\n",
       "      <td>55</td>\n",
       "      <td>56</td>\n",
       "      <td>55</td>\n",
       "      <td>0</td>\n",
       "      <td>0</td>\n",
       "      <td>0</td>\n",
       "      <td>0</td>\n",
       "      <td>0</td>\n",
       "      <td>0</td>\n",
       "    </tr>\n",
       "    <tr>\n",
       "      <th>77292</th>\n",
       "      <td>946</td>\n",
       "      <td>946</td>\n",
       "      <td>951</td>\n",
       "      <td>946</td>\n",
       "      <td>946</td>\n",
       "      <td>945</td>\n",
       "      <td>948</td>\n",
       "      <td>784</td>\n",
       "      <td>949</td>\n",
       "      <td>946</td>\n",
       "    </tr>\n",
       "    <tr>\n",
       "      <th>114021</th>\n",
       "      <td>945</td>\n",
       "      <td>948</td>\n",
       "      <td>949</td>\n",
       "      <td>948</td>\n",
       "      <td>945</td>\n",
       "      <td>946</td>\n",
       "      <td>947</td>\n",
       "      <td>945</td>\n",
       "      <td>946</td>\n",
       "      <td>946</td>\n",
       "    </tr>\n",
       "    <tr>\n",
       "      <th>146670</th>\n",
       "      <td>947</td>\n",
       "      <td>950</td>\n",
       "      <td>948</td>\n",
       "      <td>947</td>\n",
       "      <td>950</td>\n",
       "      <td>952</td>\n",
       "      <td>946</td>\n",
       "      <td>951</td>\n",
       "      <td>946</td>\n",
       "      <td>947</td>\n",
       "    </tr>\n",
       "  </tbody>\n",
       "</table>\n",
       "</div>"
      ],
      "text/plain": [
       "            site1  site2  site3  site4  site5  site6  site7  site8  site9  \\\n",
       "session_id                                                                  \n",
       "21669          56     55      0      0      0      0      0      0      0   \n",
       "54843          56     55     56     55      0      0      0      0      0   \n",
       "77292         946    946    951    946    946    945    948    784    949   \n",
       "114021        945    948    949    948    945    946    947    945    946   \n",
       "146670        947    950    948    947    950    952    946    951    946   \n",
       "\n",
       "            site10  \n",
       "session_id          \n",
       "21669            0  \n",
       "54843            0  \n",
       "77292          946  \n",
       "114021         946  \n",
       "146670         947  "
      ]
     },
     "execution_count": 44,
     "metadata": {},
     "output_type": "execute_result"
    }
   ],
   "source": [
    "# табличка с индексами посещенных сайтов в сессии\n",
    "full_sites = full_df[sites]\n",
    "full_sites.head()"
   ]
  },
  {
   "cell_type": "code",
   "execution_count": 46,
   "id": "316e065e",
   "metadata": {},
   "outputs": [
    {
     "data": {
      "text/html": [
       "<div>\n",
       "<style scoped>\n",
       "    .dataframe tbody tr th:only-of-type {\n",
       "        vertical-align: middle;\n",
       "    }\n",
       "\n",
       "    .dataframe tbody tr th {\n",
       "        vertical-align: top;\n",
       "    }\n",
       "\n",
       "    .dataframe thead th {\n",
       "        text-align: right;\n",
       "    }\n",
       "</style>\n",
       "<table border=\"1\" class=\"dataframe\">\n",
       "  <thead>\n",
       "    <tr style=\"text-align: right;\">\n",
       "      <th></th>\n",
       "      <th>site1</th>\n",
       "      <th>time1</th>\n",
       "      <th>site2</th>\n",
       "      <th>time2</th>\n",
       "      <th>site3</th>\n",
       "      <th>time3</th>\n",
       "      <th>site4</th>\n",
       "      <th>time4</th>\n",
       "      <th>site5</th>\n",
       "      <th>time5</th>\n",
       "      <th>site6</th>\n",
       "      <th>time6</th>\n",
       "      <th>site7</th>\n",
       "      <th>time7</th>\n",
       "      <th>site8</th>\n",
       "      <th>time8</th>\n",
       "      <th>site9</th>\n",
       "      <th>time9</th>\n",
       "      <th>site10</th>\n",
       "      <th>time10</th>\n",
       "    </tr>\n",
       "    <tr>\n",
       "      <th>session_id</th>\n",
       "      <th></th>\n",
       "      <th></th>\n",
       "      <th></th>\n",
       "      <th></th>\n",
       "      <th></th>\n",
       "      <th></th>\n",
       "      <th></th>\n",
       "      <th></th>\n",
       "      <th></th>\n",
       "      <th></th>\n",
       "      <th></th>\n",
       "      <th></th>\n",
       "      <th></th>\n",
       "      <th></th>\n",
       "      <th></th>\n",
       "      <th></th>\n",
       "      <th></th>\n",
       "      <th></th>\n",
       "      <th></th>\n",
       "      <th></th>\n",
       "    </tr>\n",
       "  </thead>\n",
       "  <tbody>\n",
       "    <tr>\n",
       "      <th>21669</th>\n",
       "      <td>56</td>\n",
       "      <td>2013-01-12 08:05:57</td>\n",
       "      <td>55</td>\n",
       "      <td>2013-01-12 08:05:57</td>\n",
       "      <td>0</td>\n",
       "      <td>NaT</td>\n",
       "      <td>0</td>\n",
       "      <td>NaT</td>\n",
       "      <td>0</td>\n",
       "      <td>NaT</td>\n",
       "      <td>0</td>\n",
       "      <td>NaT</td>\n",
       "      <td>0</td>\n",
       "      <td>NaT</td>\n",
       "      <td>0</td>\n",
       "      <td>NaT</td>\n",
       "      <td>0</td>\n",
       "      <td>NaT</td>\n",
       "      <td>0</td>\n",
       "      <td>NaT</td>\n",
       "    </tr>\n",
       "    <tr>\n",
       "      <th>54843</th>\n",
       "      <td>56</td>\n",
       "      <td>2013-01-12 08:37:23</td>\n",
       "      <td>55</td>\n",
       "      <td>2013-01-12 08:37:23</td>\n",
       "      <td>56</td>\n",
       "      <td>2013-01-12 09:07:07</td>\n",
       "      <td>55</td>\n",
       "      <td>2013-01-12 09:07:09</td>\n",
       "      <td>0</td>\n",
       "      <td>NaT</td>\n",
       "      <td>0</td>\n",
       "      <td>NaT</td>\n",
       "      <td>0</td>\n",
       "      <td>NaT</td>\n",
       "      <td>0</td>\n",
       "      <td>NaT</td>\n",
       "      <td>0</td>\n",
       "      <td>NaT</td>\n",
       "      <td>0</td>\n",
       "      <td>NaT</td>\n",
       "    </tr>\n",
       "    <tr>\n",
       "      <th>77292</th>\n",
       "      <td>946</td>\n",
       "      <td>2013-01-12 08:50:13</td>\n",
       "      <td>946</td>\n",
       "      <td>2013-01-12 08:50:14</td>\n",
       "      <td>951</td>\n",
       "      <td>2013-01-12 08:50:15</td>\n",
       "      <td>946</td>\n",
       "      <td>2013-01-12 08:50:15</td>\n",
       "      <td>946</td>\n",
       "      <td>2013-01-12 08:50:16</td>\n",
       "      <td>945</td>\n",
       "      <td>2013-01-12 08:50:16</td>\n",
       "      <td>948</td>\n",
       "      <td>2013-01-12 08:50:16</td>\n",
       "      <td>784</td>\n",
       "      <td>2013-01-12 08:50:16</td>\n",
       "      <td>949</td>\n",
       "      <td>2013-01-12 08:50:17</td>\n",
       "      <td>946</td>\n",
       "      <td>2013-01-12 08:50:17</td>\n",
       "    </tr>\n",
       "    <tr>\n",
       "      <th>114021</th>\n",
       "      <td>945</td>\n",
       "      <td>2013-01-12 08:50:17</td>\n",
       "      <td>948</td>\n",
       "      <td>2013-01-12 08:50:17</td>\n",
       "      <td>949</td>\n",
       "      <td>2013-01-12 08:50:18</td>\n",
       "      <td>948</td>\n",
       "      <td>2013-01-12 08:50:18</td>\n",
       "      <td>945</td>\n",
       "      <td>2013-01-12 08:50:18</td>\n",
       "      <td>946</td>\n",
       "      <td>2013-01-12 08:50:18</td>\n",
       "      <td>947</td>\n",
       "      <td>2013-01-12 08:50:19</td>\n",
       "      <td>945</td>\n",
       "      <td>2013-01-12 08:50:19</td>\n",
       "      <td>946</td>\n",
       "      <td>2013-01-12 08:50:19</td>\n",
       "      <td>946</td>\n",
       "      <td>2013-01-12 08:50:20</td>\n",
       "    </tr>\n",
       "    <tr>\n",
       "      <th>146670</th>\n",
       "      <td>947</td>\n",
       "      <td>2013-01-12 08:50:20</td>\n",
       "      <td>950</td>\n",
       "      <td>2013-01-12 08:50:20</td>\n",
       "      <td>948</td>\n",
       "      <td>2013-01-12 08:50:20</td>\n",
       "      <td>947</td>\n",
       "      <td>2013-01-12 08:50:21</td>\n",
       "      <td>950</td>\n",
       "      <td>2013-01-12 08:50:21</td>\n",
       "      <td>952</td>\n",
       "      <td>2013-01-12 08:50:21</td>\n",
       "      <td>946</td>\n",
       "      <td>2013-01-12 08:50:21</td>\n",
       "      <td>951</td>\n",
       "      <td>2013-01-12 08:50:22</td>\n",
       "      <td>946</td>\n",
       "      <td>2013-01-12 08:50:22</td>\n",
       "      <td>947</td>\n",
       "      <td>2013-01-12 08:50:22</td>\n",
       "    </tr>\n",
       "  </tbody>\n",
       "</table>\n",
       "</div>"
      ],
      "text/plain": [
       "            site1               time1  site2               time2  site3  \\\n",
       "session_id                                                                \n",
       "21669          56 2013-01-12 08:05:57     55 2013-01-12 08:05:57      0   \n",
       "54843          56 2013-01-12 08:37:23     55 2013-01-12 08:37:23     56   \n",
       "77292         946 2013-01-12 08:50:13    946 2013-01-12 08:50:14    951   \n",
       "114021        945 2013-01-12 08:50:17    948 2013-01-12 08:50:17    949   \n",
       "146670        947 2013-01-12 08:50:20    950 2013-01-12 08:50:20    948   \n",
       "\n",
       "                         time3  site4               time4  site5  \\\n",
       "session_id                                                         \n",
       "21669                      NaT      0                 NaT      0   \n",
       "54843      2013-01-12 09:07:07     55 2013-01-12 09:07:09      0   \n",
       "77292      2013-01-12 08:50:15    946 2013-01-12 08:50:15    946   \n",
       "114021     2013-01-12 08:50:18    948 2013-01-12 08:50:18    945   \n",
       "146670     2013-01-12 08:50:20    947 2013-01-12 08:50:21    950   \n",
       "\n",
       "                         time5  site6               time6  site7  \\\n",
       "session_id                                                         \n",
       "21669                      NaT      0                 NaT      0   \n",
       "54843                      NaT      0                 NaT      0   \n",
       "77292      2013-01-12 08:50:16    945 2013-01-12 08:50:16    948   \n",
       "114021     2013-01-12 08:50:18    946 2013-01-12 08:50:18    947   \n",
       "146670     2013-01-12 08:50:21    952 2013-01-12 08:50:21    946   \n",
       "\n",
       "                         time7  site8               time8  site9  \\\n",
       "session_id                                                         \n",
       "21669                      NaT      0                 NaT      0   \n",
       "54843                      NaT      0                 NaT      0   \n",
       "77292      2013-01-12 08:50:16    784 2013-01-12 08:50:16    949   \n",
       "114021     2013-01-12 08:50:19    945 2013-01-12 08:50:19    946   \n",
       "146670     2013-01-12 08:50:21    951 2013-01-12 08:50:22    946   \n",
       "\n",
       "                         time9  site10              time10  \n",
       "session_id                                                  \n",
       "21669                      NaT       0                 NaT  \n",
       "54843                      NaT       0                 NaT  \n",
       "77292      2013-01-12 08:50:17     946 2013-01-12 08:50:17  \n",
       "114021     2013-01-12 08:50:19     946 2013-01-12 08:50:20  \n",
       "146670     2013-01-12 08:50:22     947 2013-01-12 08:50:22  "
      ]
     },
     "execution_count": 46,
     "metadata": {},
     "output_type": "execute_result"
    }
   ],
   "source": [
    "full_df.head()"
   ]
  },
  {
   "cell_type": "code",
   "execution_count": 47,
   "id": "02fb353a",
   "metadata": {},
   "outputs": [],
   "source": [
    "from scipy.sparse import csr_matrix"
   ]
  },
  {
   "cell_type": "code",
   "execution_count": 48,
   "id": "72879407",
   "metadata": {},
   "outputs": [],
   "source": [
    "csr_matrix?"
   ]
  },
  {
   "cell_type": "code",
   "execution_count": 49,
   "id": "62250bab",
   "metadata": {},
   "outputs": [],
   "source": [
    "# последовательность с индексами\n",
    "sites_flatten = full_sites.values.flatten()"
   ]
  },
  {
   "cell_type": "code",
   "execution_count": 50,
   "id": "af01306a",
   "metadata": {},
   "outputs": [
    {
     "data": {
      "text/plain": [
       "array([  56,   55,    0, ..., 1098, 1098, 1098])"
      ]
     },
     "execution_count": 50,
     "metadata": {},
     "output_type": "execute_result"
    }
   ],
   "source": [
    "sites_flatten"
   ]
  },
  {
   "cell_type": "code",
   "execution_count": 55,
   "id": "4f3d0c45",
   "metadata": {},
   "outputs": [
    {
     "data": {
      "text/plain": [
       "(3363580,)"
      ]
     },
     "execution_count": 55,
     "metadata": {},
     "output_type": "execute_result"
    }
   ],
   "source": [
    "sites_flatten.shape"
   ]
  },
  {
   "cell_type": "code",
   "execution_count": 56,
   "id": "25f05efb",
   "metadata": {},
   "outputs": [],
   "source": [
    "# искомая матрица\n",
    "full_sites_sparse = csr_matrix(\n",
    "    (\n",
    "        [1] * sites_flatten.shape[0],\n",
    "        sites_flatten,\n",
    "        range(0, sites_flatten.shape[0] + 10, 10),\n",
    "    )\n",
    ")[:, 1:]"
   ]
  },
  {
   "cell_type": "code",
   "execution_count": 60,
   "id": "a1a236a2",
   "metadata": {},
   "outputs": [
    {
     "data": {
      "text/plain": [
       "(336358, 48371)"
      ]
     },
     "execution_count": 60,
     "metadata": {},
     "output_type": "execute_result"
    }
   ],
   "source": [
    "full_sites_sparse.shape"
   ]
  },
  {
   "cell_type": "code",
   "execution_count": 169,
   "id": "f8467522",
   "metadata": {},
   "outputs": [],
   "source": [
    "X_train_sparse = full_sites_sparse[:idx_split]\n",
    "X_test_sparse = full_sites_sparse[idx_split:]"
   ]
  },
  {
   "cell_type": "code",
   "execution_count": 67,
   "id": "682032f5",
   "metadata": {},
   "outputs": [
    {
     "data": {
      "text/plain": [
       "(253561, 48371)"
      ]
     },
     "execution_count": 67,
     "metadata": {},
     "output_type": "execute_result"
    }
   ],
   "source": [
    "X_train_sparse.shape"
   ]
  },
  {
   "cell_type": "code",
   "execution_count": 90,
   "id": "66fe69a6",
   "metadata": {},
   "outputs": [],
   "source": [
    "def get_auc_lr_valid(X, y, C=1.0, ratio=0.9, seed=17):\n",
    "    \"\"\"\n",
    "    X, y – выборка\n",
    "    ratio – в каком отношении поделить выборку\n",
    "    C, seed – коэф-т регуляризации и random_state \n",
    "              логистической регрессии\n",
    "    \"\"\"\n",
    "    train_len = int(ratio * X.shape[0])\n",
    "    X_train = X[:train_len, :]\n",
    "    X_holdout = X[train_len:, :]\n",
    "    y_train1 = y[:train_len]\n",
    "    y_holdout = y[train_len:]\n",
    "    logit = LogisticRegression(C=C, n_jobs=-1,random_state=seed)\n",
    "    logit.fit(X_train, y_train1)\n",
    "    holdout_pred = logit.predict_proba(X_holdout)[:,1]\n",
    "    return roc_auc_score(y_holdout, holdout_pred)"
   ]
  },
  {
   "cell_type": "code",
   "execution_count": 91,
   "id": "89966f84",
   "metadata": {},
   "outputs": [
    {
     "name": "stdout",
     "output_type": "stream",
     "text": [
      "CPU times: user 24.9 ms, sys: 29.8 ms, total: 54.7 ms\n",
      "Wall time: 2.98 s\n"
     ]
    },
    {
     "name": "stderr",
     "output_type": "stream",
     "text": [
      "/Users/aleksashka/opt/anaconda3/lib/python3.9/site-packages/sklearn/linear_model/_logistic.py:763: ConvergenceWarning: lbfgs failed to converge (status=1):\n",
      "STOP: TOTAL NO. of ITERATIONS REACHED LIMIT.\n",
      "\n",
      "Increase the number of iterations (max_iter) or scale the data as shown in:\n",
      "    https://scikit-learn.org/stable/modules/preprocessing.html\n",
      "Please also refer to the documentation for alternative solver options:\n",
      "    https://scikit-learn.org/stable/modules/linear_model.html#logistic-regression\n",
      "  n_iter_i = _check_optimize_result(\n"
     ]
    },
    {
     "data": {
      "text/plain": [
       "LogisticRegression(n_jobs=-1, random_state=17)"
      ]
     },
     "execution_count": 91,
     "metadata": {},
     "output_type": "execute_result"
    }
   ],
   "source": [
    "%%time\n",
    "logit = LogisticRegression(n_jobs=-1,random_state=17)\n",
    "logit.fit(X_train_sparse, y_train)"
   ]
  },
  {
   "cell_type": "code",
   "execution_count": 92,
   "id": "5921996c",
   "metadata": {},
   "outputs": [
    {
     "data": {
      "text/plain": [
       "array([[9.97780636e-01, 2.21936381e-03],\n",
       "       [9.99999997e-01, 2.51890707e-09],\n",
       "       [9.99999994e-01, 6.16001107e-09],\n",
       "       [9.99999987e-01, 1.32266119e-08],\n",
       "       [9.99972709e-01, 2.72908248e-05]])"
      ]
     },
     "execution_count": 92,
     "metadata": {},
     "output_type": "execute_result"
    }
   ],
   "source": [
    "logit.predict_proba(X_test_sparse[0:5,:])"
   ]
  },
  {
   "cell_type": "code",
   "execution_count": 93,
   "id": "d7bd59e6",
   "metadata": {},
   "outputs": [
    {
     "data": {
      "text/plain": [
       "array([2.21936381e-03, 2.51890707e-09, 6.16001107e-09, 1.32266119e-08,\n",
       "       2.72908248e-05])"
      ]
     },
     "execution_count": 93,
     "metadata": {},
     "output_type": "execute_result"
    }
   ],
   "source": [
    "logit.predict_proba(X_test_sparse[0:5,:])[:,1]"
   ]
  },
  {
   "cell_type": "code",
   "execution_count": 94,
   "id": "ef6cf15e",
   "metadata": {},
   "outputs": [
    {
     "name": "stdout",
     "output_type": "stream",
     "text": [
      "CPU times: user 36 ms, sys: 18.8 ms, total: 54.9 ms\n",
      "Wall time: 2.73 s\n"
     ]
    },
    {
     "name": "stderr",
     "output_type": "stream",
     "text": [
      "/Users/aleksashka/opt/anaconda3/lib/python3.9/site-packages/sklearn/linear_model/_logistic.py:763: ConvergenceWarning: lbfgs failed to converge (status=1):\n",
      "STOP: TOTAL NO. of ITERATIONS REACHED LIMIT.\n",
      "\n",
      "Increase the number of iterations (max_iter) or scale the data as shown in:\n",
      "    https://scikit-learn.org/stable/modules/preprocessing.html\n",
      "Please also refer to the documentation for alternative solver options:\n",
      "    https://scikit-learn.org/stable/modules/linear_model.html#logistic-regression\n",
      "  n_iter_i = _check_optimize_result(\n"
     ]
    },
    {
     "data": {
      "text/plain": [
       "0.9197952555886043"
      ]
     },
     "execution_count": 94,
     "metadata": {},
     "output_type": "execute_result"
    }
   ],
   "source": [
    "%%time\n",
    "get_auc_lr_valid(X_train_sparse, y_train)"
   ]
  },
  {
   "cell_type": "code",
   "execution_count": 98,
   "id": "ea68f289",
   "metadata": {},
   "outputs": [],
   "source": [
    "test_pred = logit.predict_proba(X_test_sparse)[:,1]"
   ]
  },
  {
   "cell_type": "code",
   "execution_count": 99,
   "id": "46b396b1",
   "metadata": {},
   "outputs": [
    {
     "data": {
      "text/plain": [
       "(82797,)"
      ]
     },
     "execution_count": 99,
     "metadata": {},
     "output_type": "execute_result"
    }
   ],
   "source": [
    "test_pred.shape"
   ]
  },
  {
   "cell_type": "code",
   "execution_count": 100,
   "id": "ab55d69f",
   "metadata": {},
   "outputs": [],
   "source": [
    "# функция для записи прогнозов в файл\n",
    "def write_to_submission_file(\n",
    "    predicted_labels, out_file, target=\"target\", index_label=\"session_id\"\n",
    "):\n",
    "    predicted_df = pd.DataFrame(\n",
    "        predicted_labels,\n",
    "        index=np.arange(1, predicted_labels.shape[0] + 1),\n",
    "        columns=[target],\n",
    "    )\n",
    "    predicted_df.to_csv(out_file, index_label=index_label)"
   ]
  },
  {
   "cell_type": "code",
   "execution_count": 208,
   "id": "cdc6ba9c",
   "metadata": {},
   "outputs": [],
   "source": [
    "    pd.Series(test_pred, index=range(1, test_pred.shape[0]+1), name=\"target\").to_csv(\n",
    "        'benchmark1.csv', header=True, index_label=\"session_id\")"
   ]
  },
  {
   "cell_type": "code",
   "execution_count": 209,
   "id": "43f2dbdb",
   "metadata": {},
   "outputs": [
    {
     "name": "stdout",
     "output_type": "stream",
     "text": [
      "session_id,target\r\n",
      "1,0.002219363806458602\r\n",
      "2,2.5189070719913367e-09\r\n",
      "3,6.160011074673938e-09\r\n",
      "4,1.322661186415569e-08\r\n",
      "5,2.7290824830065995e-05\r\n",
      "6,0.0001511784746722188\r\n",
      "7,0.0004423739851154876\r\n",
      "8,0.00010124653100774808\r\n",
      "9,0.0007771572100006697\r\n"
     ]
    }
   ],
   "source": [
    "!head benchmark1.csv"
   ]
  },
  {
   "cell_type": "code",
   "execution_count": 111,
   "id": "96d3ab33",
   "metadata": {},
   "outputs": [],
   "source": [
    "times = ['time%d' % i for i in range(1,11)]"
   ]
  },
  {
   "cell_type": "code",
   "execution_count": 114,
   "id": "7b7a0cb8",
   "metadata": {},
   "outputs": [
    {
     "data": {
      "text/html": [
       "<div>\n",
       "<style scoped>\n",
       "    .dataframe tbody tr th:only-of-type {\n",
       "        vertical-align: middle;\n",
       "    }\n",
       "\n",
       "    .dataframe tbody tr th {\n",
       "        vertical-align: top;\n",
       "    }\n",
       "\n",
       "    .dataframe thead th {\n",
       "        text-align: right;\n",
       "    }\n",
       "</style>\n",
       "<table border=\"1\" class=\"dataframe\">\n",
       "  <thead>\n",
       "    <tr style=\"text-align: right;\">\n",
       "      <th></th>\n",
       "      <th>time1</th>\n",
       "      <th>time2</th>\n",
       "      <th>time3</th>\n",
       "      <th>time4</th>\n",
       "      <th>time5</th>\n",
       "      <th>time6</th>\n",
       "      <th>time7</th>\n",
       "      <th>time8</th>\n",
       "      <th>time9</th>\n",
       "      <th>time10</th>\n",
       "    </tr>\n",
       "    <tr>\n",
       "      <th>session_id</th>\n",
       "      <th></th>\n",
       "      <th></th>\n",
       "      <th></th>\n",
       "      <th></th>\n",
       "      <th></th>\n",
       "      <th></th>\n",
       "      <th></th>\n",
       "      <th></th>\n",
       "      <th></th>\n",
       "      <th></th>\n",
       "    </tr>\n",
       "  </thead>\n",
       "  <tbody>\n",
       "    <tr>\n",
       "      <th>21669</th>\n",
       "      <td>2013-01-12 08:05:57</td>\n",
       "      <td>2013-01-12 08:05:57</td>\n",
       "      <td>NaT</td>\n",
       "      <td>NaT</td>\n",
       "      <td>NaT</td>\n",
       "      <td>NaT</td>\n",
       "      <td>NaT</td>\n",
       "      <td>NaT</td>\n",
       "      <td>NaT</td>\n",
       "      <td>NaT</td>\n",
       "    </tr>\n",
       "    <tr>\n",
       "      <th>54843</th>\n",
       "      <td>2013-01-12 08:37:23</td>\n",
       "      <td>2013-01-12 08:37:23</td>\n",
       "      <td>2013-01-12 09:07:07</td>\n",
       "      <td>2013-01-12 09:07:09</td>\n",
       "      <td>NaT</td>\n",
       "      <td>NaT</td>\n",
       "      <td>NaT</td>\n",
       "      <td>NaT</td>\n",
       "      <td>NaT</td>\n",
       "      <td>NaT</td>\n",
       "    </tr>\n",
       "    <tr>\n",
       "      <th>77292</th>\n",
       "      <td>2013-01-12 08:50:13</td>\n",
       "      <td>2013-01-12 08:50:14</td>\n",
       "      <td>2013-01-12 08:50:15</td>\n",
       "      <td>2013-01-12 08:50:15</td>\n",
       "      <td>2013-01-12 08:50:16</td>\n",
       "      <td>2013-01-12 08:50:16</td>\n",
       "      <td>2013-01-12 08:50:16</td>\n",
       "      <td>2013-01-12 08:50:16</td>\n",
       "      <td>2013-01-12 08:50:17</td>\n",
       "      <td>2013-01-12 08:50:17</td>\n",
       "    </tr>\n",
       "    <tr>\n",
       "      <th>114021</th>\n",
       "      <td>2013-01-12 08:50:17</td>\n",
       "      <td>2013-01-12 08:50:17</td>\n",
       "      <td>2013-01-12 08:50:18</td>\n",
       "      <td>2013-01-12 08:50:18</td>\n",
       "      <td>2013-01-12 08:50:18</td>\n",
       "      <td>2013-01-12 08:50:18</td>\n",
       "      <td>2013-01-12 08:50:19</td>\n",
       "      <td>2013-01-12 08:50:19</td>\n",
       "      <td>2013-01-12 08:50:19</td>\n",
       "      <td>2013-01-12 08:50:20</td>\n",
       "    </tr>\n",
       "    <tr>\n",
       "      <th>146670</th>\n",
       "      <td>2013-01-12 08:50:20</td>\n",
       "      <td>2013-01-12 08:50:20</td>\n",
       "      <td>2013-01-12 08:50:20</td>\n",
       "      <td>2013-01-12 08:50:21</td>\n",
       "      <td>2013-01-12 08:50:21</td>\n",
       "      <td>2013-01-12 08:50:21</td>\n",
       "      <td>2013-01-12 08:50:21</td>\n",
       "      <td>2013-01-12 08:50:22</td>\n",
       "      <td>2013-01-12 08:50:22</td>\n",
       "      <td>2013-01-12 08:50:22</td>\n",
       "    </tr>\n",
       "  </tbody>\n",
       "</table>\n",
       "</div>"
      ],
      "text/plain": [
       "                         time1               time2               time3  \\\n",
       "session_id                                                               \n",
       "21669      2013-01-12 08:05:57 2013-01-12 08:05:57                 NaT   \n",
       "54843      2013-01-12 08:37:23 2013-01-12 08:37:23 2013-01-12 09:07:07   \n",
       "77292      2013-01-12 08:50:13 2013-01-12 08:50:14 2013-01-12 08:50:15   \n",
       "114021     2013-01-12 08:50:17 2013-01-12 08:50:17 2013-01-12 08:50:18   \n",
       "146670     2013-01-12 08:50:20 2013-01-12 08:50:20 2013-01-12 08:50:20   \n",
       "\n",
       "                         time4               time5               time6  \\\n",
       "session_id                                                               \n",
       "21669                      NaT                 NaT                 NaT   \n",
       "54843      2013-01-12 09:07:09                 NaT                 NaT   \n",
       "77292      2013-01-12 08:50:15 2013-01-12 08:50:16 2013-01-12 08:50:16   \n",
       "114021     2013-01-12 08:50:18 2013-01-12 08:50:18 2013-01-12 08:50:18   \n",
       "146670     2013-01-12 08:50:21 2013-01-12 08:50:21 2013-01-12 08:50:21   \n",
       "\n",
       "                         time7               time8               time9  \\\n",
       "session_id                                                               \n",
       "21669                      NaT                 NaT                 NaT   \n",
       "54843                      NaT                 NaT                 NaT   \n",
       "77292      2013-01-12 08:50:16 2013-01-12 08:50:16 2013-01-12 08:50:17   \n",
       "114021     2013-01-12 08:50:19 2013-01-12 08:50:19 2013-01-12 08:50:19   \n",
       "146670     2013-01-12 08:50:21 2013-01-12 08:50:22 2013-01-12 08:50:22   \n",
       "\n",
       "                        time10  \n",
       "session_id                      \n",
       "21669                      NaT  \n",
       "54843                      NaT  \n",
       "77292      2013-01-12 08:50:17  \n",
       "114021     2013-01-12 08:50:20  \n",
       "146670     2013-01-12 08:50:22  "
      ]
     },
     "execution_count": 114,
     "metadata": {},
     "output_type": "execute_result"
    }
   ],
   "source": [
    "train_df[times].head()"
   ]
  },
  {
   "cell_type": "code",
   "execution_count": 125,
   "id": "5a738b75",
   "metadata": {},
   "outputs": [
    {
     "data": {
      "text/plain": [
       "session_id\n",
       "1    201410\n",
       "2    201407\n",
       "3    201412\n",
       "4    201411\n",
       "5    201405\n",
       "Name: time1, dtype: int64"
      ]
     },
     "execution_count": 125,
     "metadata": {},
     "output_type": "execute_result"
    }
   ],
   "source": [
    "test_df[\"time1\"].apply(lambda ts: 100 * ts.year + ts.month).head()"
   ]
  },
  {
   "cell_type": "code",
   "execution_count": 187,
   "id": "ff308ff7",
   "metadata": {},
   "outputs": [],
   "source": [
    "new_feat_train = pd.DataFrame(index=train_df.index)\n",
    "new_feat_test = pd.DataFrame(index=test_df.index)"
   ]
  },
  {
   "cell_type": "code",
   "execution_count": 188,
   "id": "e6c6cc11",
   "metadata": {},
   "outputs": [],
   "source": [
    "new_feat_train['year_month'] = train_df[\"time1\"].apply(lambda ts: 100 * ts.year + ts.month)\n",
    "new_feat_test['year_month'] = test_df[\"time1\"].apply(lambda ts: 100 * ts.year + ts.month)"
   ]
  },
  {
   "cell_type": "code",
   "execution_count": 189,
   "id": "1d4f6029",
   "metadata": {},
   "outputs": [],
   "source": [
    "scaler = StandardScaler()\n",
    "scaler_test = StandardScaler()\n",
    "scaler.fit(new_feat_train['year_month'].values.reshape(-1,1))\n",
    "new_feat_train['year_month_scaled'] = scaler.transform(new_feat_train['year_month'].values.reshape(-1,1))\n",
    "scaler_test.fit(new_feat_test['year_month'].values.reshape(-1,1))\n",
    "new_feat_test['year_month_scaled'] = scaler_test.transform(new_feat_test['year_month'].values.reshape(-1,1))"
   ]
  },
  {
   "cell_type": "code",
   "execution_count": 190,
   "id": "9bc6bc24",
   "metadata": {},
   "outputs": [
    {
     "data": {
      "text/plain": [
       "(year_month           201402.000000\n",
       " year_month_scaled         0.634518\n",
       " dtype: float64,\n",
       " (82797,))"
      ]
     },
     "execution_count": 190,
     "metadata": {},
     "output_type": "execute_result"
    }
   ],
   "source": [
    "new_feat_train.median(),new_feat_test['year_month_scaled'].shape"
   ]
  },
  {
   "cell_type": "code",
   "execution_count": 241,
   "id": "e01f5e49",
   "metadata": {},
   "outputs": [
    {
     "data": {
      "text/html": [
       "<div>\n",
       "<style scoped>\n",
       "    .dataframe tbody tr th:only-of-type {\n",
       "        vertical-align: middle;\n",
       "    }\n",
       "\n",
       "    .dataframe tbody tr th {\n",
       "        vertical-align: top;\n",
       "    }\n",
       "\n",
       "    .dataframe thead th {\n",
       "        text-align: right;\n",
       "    }\n",
       "</style>\n",
       "<table border=\"1\" class=\"dataframe\">\n",
       "  <thead>\n",
       "    <tr style=\"text-align: right;\">\n",
       "      <th></th>\n",
       "      <th>year_month</th>\n",
       "      <th>year_month_scaled</th>\n",
       "      <th>start_day</th>\n",
       "      <th>start_month</th>\n",
       "      <th>start_hour</th>\n",
       "      <th>month</th>\n",
       "      <th>morning</th>\n",
       "      <th>day</th>\n",
       "      <th>evening</th>\n",
       "      <th>night</th>\n",
       "      <th>start_hour_scaled</th>\n",
       "      <th>start_day_scaled</th>\n",
       "      <th>start_month_scaled</th>\n",
       "    </tr>\n",
       "    <tr>\n",
       "      <th>session_id</th>\n",
       "      <th></th>\n",
       "      <th></th>\n",
       "      <th></th>\n",
       "      <th></th>\n",
       "      <th></th>\n",
       "      <th></th>\n",
       "      <th></th>\n",
       "      <th></th>\n",
       "      <th></th>\n",
       "      <th></th>\n",
       "      <th></th>\n",
       "      <th></th>\n",
       "      <th></th>\n",
       "    </tr>\n",
       "  </thead>\n",
       "  <tbody>\n",
       "  </tbody>\n",
       "</table>\n",
       "</div>"
      ],
      "text/plain": [
       "Empty DataFrame\n",
       "Columns: [year_month, year_month_scaled, start_day, start_month, start_hour, month, morning, day, evening, night, start_hour_scaled, start_day_scaled, start_month_scaled]\n",
       "Index: []"
      ]
     },
     "execution_count": 241,
     "metadata": {},
     "output_type": "execute_result"
    }
   ],
   "source": [
    "new_feat_train[(new_feat_train[\"year_month_scaled\"]<=5)&(new_feat_train[\"year_month_scaled\"]>=0.9)]"
   ]
  },
  {
   "cell_type": "code",
   "execution_count": 192,
   "id": "a31ae1bf",
   "metadata": {},
   "outputs": [],
   "source": [
    "X_train_sparse_new = csr_matrix(hstack([X_train_sparse, new_feat_train[\"year_month_scaled\"].values.reshape(-1,1)]))\n"
   ]
  },
  {
   "cell_type": "code",
   "execution_count": 193,
   "id": "a5db303f",
   "metadata": {},
   "outputs": [
    {
     "data": {
      "text/plain": [
       "(253561, 253561, 336358, 82797, 82797)"
      ]
     },
     "execution_count": 193,
     "metadata": {},
     "output_type": "execute_result"
    }
   ],
   "source": [
    "X_train_sparse_new.shape[0], X_train_sparse.shape[0], full_sites_sparse.shape[0], X_test_sparse.shape[0], new_feat_test.shape[0]"
   ]
  },
  {
   "cell_type": "code",
   "execution_count": 194,
   "id": "2b1dd928",
   "metadata": {},
   "outputs": [],
   "source": [
    "X_test_sparse_new = csr_matrix(hstack([X_test_sparse, new_feat_test[\"year_month_scaled\"].values.reshape(-1,1)]))"
   ]
  },
  {
   "cell_type": "code",
   "execution_count": 195,
   "id": "49dde465",
   "metadata": {},
   "outputs": [
    {
     "data": {
      "text/plain": [
       "(82797, 48371)"
      ]
     },
     "execution_count": 195,
     "metadata": {},
     "output_type": "execute_result"
    }
   ],
   "source": [
    "X_test_sparse.shape"
   ]
  },
  {
   "cell_type": "code",
   "execution_count": 196,
   "id": "2f93d943",
   "metadata": {},
   "outputs": [
    {
     "name": "stdout",
     "output_type": "stream",
     "text": [
      "CPU times: user 60.2 ms, sys: 126 ms, total: 187 ms\n",
      "Wall time: 3.58 s\n"
     ]
    },
    {
     "name": "stderr",
     "output_type": "stream",
     "text": [
      "/Users/aleksashka/opt/anaconda3/lib/python3.9/site-packages/sklearn/linear_model/_logistic.py:763: ConvergenceWarning: lbfgs failed to converge (status=1):\n",
      "STOP: TOTAL NO. of ITERATIONS REACHED LIMIT.\n",
      "\n",
      "Increase the number of iterations (max_iter) or scale the data as shown in:\n",
      "    https://scikit-learn.org/stable/modules/preprocessing.html\n",
      "Please also refer to the documentation for alternative solver options:\n",
      "    https://scikit-learn.org/stable/modules/linear_model.html#logistic-regression\n",
      "  n_iter_i = _check_optimize_result(\n"
     ]
    },
    {
     "data": {
      "text/plain": [
       "0.9198902054055882"
      ]
     },
     "execution_count": 196,
     "metadata": {},
     "output_type": "execute_result"
    }
   ],
   "source": [
    "%%time\n",
    "get_auc_lr_valid(X_train_sparse_new, y_train)"
   ]
  },
  {
   "cell_type": "code",
   "execution_count": 201,
   "id": "b910eaba",
   "metadata": {},
   "outputs": [],
   "source": [
    "test_pred_1 = logit1.predict_proba(X_test_sparse_new)[:,1]"
   ]
  },
  {
   "cell_type": "code",
   "execution_count": 199,
   "id": "6b77fcee",
   "metadata": {},
   "outputs": [
    {
     "name": "stdout",
     "output_type": "stream",
     "text": [
      "CPU times: user 24 ms, sys: 22.6 ms, total: 46.6 ms\n",
      "Wall time: 3 s\n"
     ]
    },
    {
     "name": "stderr",
     "output_type": "stream",
     "text": [
      "/Users/aleksashka/opt/anaconda3/lib/python3.9/site-packages/sklearn/linear_model/_logistic.py:763: ConvergenceWarning: lbfgs failed to converge (status=1):\n",
      "STOP: TOTAL NO. of ITERATIONS REACHED LIMIT.\n",
      "\n",
      "Increase the number of iterations (max_iter) or scale the data as shown in:\n",
      "    https://scikit-learn.org/stable/modules/preprocessing.html\n",
      "Please also refer to the documentation for alternative solver options:\n",
      "    https://scikit-learn.org/stable/modules/linear_model.html#logistic-regression\n",
      "  n_iter_i = _check_optimize_result(\n"
     ]
    },
    {
     "data": {
      "text/plain": [
       "LogisticRegression(n_jobs=-1, random_state=17)"
      ]
     },
     "execution_count": 199,
     "metadata": {},
     "output_type": "execute_result"
    }
   ],
   "source": [
    "%%time\n",
    "logit1 = LogisticRegression(n_jobs=-1,random_state=17)\n",
    "logit1.fit(X_train_sparse_new, y_train)"
   ]
  },
  {
   "cell_type": "code",
   "execution_count": 206,
   "id": "9438a335",
   "metadata": {},
   "outputs": [],
   "source": [
    "pd.Series(test_pred, index=range(1, test_pred_1.shape[0]+1), name=\"target\").to_csv(\n",
    "    'benchmark2.csv', header=True, index_label=\"session_id\")"
   ]
  },
  {
   "cell_type": "code",
   "execution_count": 207,
   "id": "b2692f3e",
   "metadata": {},
   "outputs": [
    {
     "name": "stdout",
     "output_type": "stream",
     "text": [
      "session_id,target\r\n",
      "1,0.002219363806458602\r\n",
      "2,2.5189070719913367e-09\r\n",
      "3,6.160011074673938e-09\r\n",
      "4,1.322661186415569e-08\r\n",
      "5,2.7290824830065995e-05\r\n",
      "6,0.0001511784746722188\r\n",
      "7,0.0004423739851154876\r\n",
      "8,0.00010124653100774808\r\n",
      "9,0.0007771572100006697\r\n"
     ]
    }
   ],
   "source": [
    "!head \"benchmark2.csv\""
   ]
  },
  {
   "cell_type": "code",
   "execution_count": 211,
   "id": "00b3e4a0",
   "metadata": {},
   "outputs": [
    {
     "data": {
      "text/plain": [
       "25"
      ]
     },
     "execution_count": 211,
     "metadata": {},
     "output_type": "execute_result"
    }
   ],
   "source": [
    "train_df[\"time1\"].apply(lambda ts:  ts.day).nunique()"
   ]
  },
  {
   "cell_type": "code",
   "execution_count": 212,
   "id": "a6deb66f",
   "metadata": {},
   "outputs": [],
   "source": [
    "new_feat_train['start_day'] = train_df[\"time1\"].apply(lambda ts:  ts.day)\n",
    "new_feat_test['start_day'] = test_df[\"time1\"].apply(lambda ts:  ts.day)"
   ]
  },
  {
   "cell_type": "code",
   "execution_count": 216,
   "id": "51385b2d",
   "metadata": {},
   "outputs": [],
   "source": [
    "new_feat_train['month'] = train_df[\"time1\"].apply(lambda ts:  ts.month)\n",
    "new_feat_test['month'] = test_df[\"time1\"].apply(lambda ts:  ts.month)"
   ]
  },
  {
   "cell_type": "code",
   "execution_count": 214,
   "id": "d4cf6f25",
   "metadata": {},
   "outputs": [],
   "source": [
    "new_feat_train['start_hour'] = train_df[\"time1\"].apply(lambda ts:  ts.hour)\n",
    "new_feat_test['start_hour'] = test_df[\"time1\"].apply(lambda ts:  ts.hour)"
   ]
  },
  {
   "cell_type": "code",
   "execution_count": 224,
   "id": "251dabe3",
   "metadata": {},
   "outputs": [],
   "source": [
    "new_feat_train['morning'] = train_df['time1'].apply(lambda st: 1 if (st.hour <= 11)&(st.hour >5) else 0)\n",
    "new_feat_test['morning'] = test_df['time1'].apply(lambda st: 1 if (st.hour <= 11)&(st.hour > 5) else 0) "
   ]
  },
  {
   "cell_type": "code",
   "execution_count": 225,
   "id": "791143eb",
   "metadata": {},
   "outputs": [],
   "source": [
    "new_feat_train['day'] = train_df['time1'].apply(lambda st: 1 if (st.hour > 11)&(st.hour <=17 ) else 0)\n",
    "new_feat_test['day'] = test_df['time1'].apply(lambda st: 1 if (st.hour > 11)&(st.hour <= 17) else 0) "
   ]
  },
  {
   "cell_type": "code",
   "execution_count": 226,
   "id": "7c1858c7",
   "metadata": {},
   "outputs": [],
   "source": [
    "new_feat_train['evening'] = train_df['time1'].apply(lambda st: 1 if (st.hour <= 23)&(st.hour >17 ) else 0)\n",
    "new_feat_test['evening'] = test_df['time1'].apply(lambda st: 1 if (st.hour <=23)&(st.hour > 17) else 0) "
   ]
  },
  {
   "cell_type": "code",
   "execution_count": 227,
   "id": "01cfcf30",
   "metadata": {},
   "outputs": [],
   "source": [
    "new_feat_train['night'] = train_df['time1'].apply(lambda st: 1 if (st.hour <= 5 ) else 0)\n",
    "new_feat_test['night'] = test_df['time1'].apply(lambda st: 1 if (st.hour <= 5) else 0) "
   ]
  },
  {
   "cell_type": "code",
   "execution_count": 229,
   "id": "62ccebbb",
   "metadata": {},
   "outputs": [
    {
     "data": {
      "text/html": [
       "<div>\n",
       "<style scoped>\n",
       "    .dataframe tbody tr th:only-of-type {\n",
       "        vertical-align: middle;\n",
       "    }\n",
       "\n",
       "    .dataframe tbody tr th {\n",
       "        vertical-align: top;\n",
       "    }\n",
       "\n",
       "    .dataframe thead th {\n",
       "        text-align: right;\n",
       "    }\n",
       "</style>\n",
       "<table border=\"1\" class=\"dataframe\">\n",
       "  <thead>\n",
       "    <tr style=\"text-align: right;\">\n",
       "      <th></th>\n",
       "      <th>year_month</th>\n",
       "      <th>year_month_scaled</th>\n",
       "      <th>start_day</th>\n",
       "      <th>start_month</th>\n",
       "      <th>start_hour</th>\n",
       "      <th>month</th>\n",
       "      <th>morning</th>\n",
       "      <th>day</th>\n",
       "      <th>evening</th>\n",
       "      <th>night</th>\n",
       "    </tr>\n",
       "    <tr>\n",
       "      <th>session_id</th>\n",
       "      <th></th>\n",
       "      <th></th>\n",
       "      <th></th>\n",
       "      <th></th>\n",
       "      <th></th>\n",
       "      <th></th>\n",
       "      <th></th>\n",
       "      <th></th>\n",
       "      <th></th>\n",
       "      <th></th>\n",
       "    </tr>\n",
       "  </thead>\n",
       "  <tbody>\n",
       "    <tr>\n",
       "      <th>12224</th>\n",
       "      <td>201404</td>\n",
       "      <td>0.681626</td>\n",
       "      <td>30</td>\n",
       "      <td>4</td>\n",
       "      <td>23</td>\n",
       "      <td>4</td>\n",
       "      <td>0</td>\n",
       "      <td>0</td>\n",
       "      <td>1</td>\n",
       "      <td>0</td>\n",
       "    </tr>\n",
       "    <tr>\n",
       "      <th>164438</th>\n",
       "      <td>201404</td>\n",
       "      <td>0.681626</td>\n",
       "      <td>30</td>\n",
       "      <td>4</td>\n",
       "      <td>23</td>\n",
       "      <td>4</td>\n",
       "      <td>0</td>\n",
       "      <td>0</td>\n",
       "      <td>1</td>\n",
       "      <td>0</td>\n",
       "    </tr>\n",
       "    <tr>\n",
       "      <th>12221</th>\n",
       "      <td>201404</td>\n",
       "      <td>0.681626</td>\n",
       "      <td>30</td>\n",
       "      <td>4</td>\n",
       "      <td>23</td>\n",
       "      <td>4</td>\n",
       "      <td>0</td>\n",
       "      <td>0</td>\n",
       "      <td>1</td>\n",
       "      <td>0</td>\n",
       "    </tr>\n",
       "    <tr>\n",
       "      <th>156968</th>\n",
       "      <td>201404</td>\n",
       "      <td>0.681626</td>\n",
       "      <td>30</td>\n",
       "      <td>4</td>\n",
       "      <td>23</td>\n",
       "      <td>4</td>\n",
       "      <td>0</td>\n",
       "      <td>0</td>\n",
       "      <td>1</td>\n",
       "      <td>0</td>\n",
       "    </tr>\n",
       "    <tr>\n",
       "      <th>204762</th>\n",
       "      <td>201404</td>\n",
       "      <td>0.681626</td>\n",
       "      <td>30</td>\n",
       "      <td>4</td>\n",
       "      <td>23</td>\n",
       "      <td>4</td>\n",
       "      <td>0</td>\n",
       "      <td>0</td>\n",
       "      <td>1</td>\n",
       "      <td>0</td>\n",
       "    </tr>\n",
       "  </tbody>\n",
       "</table>\n",
       "</div>"
      ],
      "text/plain": [
       "            year_month  year_month_scaled  start_day  start_month  start_hour  \\\n",
       "session_id                                                                      \n",
       "12224           201404           0.681626         30            4          23   \n",
       "164438          201404           0.681626         30            4          23   \n",
       "12221           201404           0.681626         30            4          23   \n",
       "156968          201404           0.681626         30            4          23   \n",
       "204762          201404           0.681626         30            4          23   \n",
       "\n",
       "            month  morning  day  evening  night  \n",
       "session_id                                       \n",
       "12224           4        0    0        1      0  \n",
       "164438          4        0    0        1      0  \n",
       "12221           4        0    0        1      0  \n",
       "156968          4        0    0        1      0  \n",
       "204762          4        0    0        1      0  "
      ]
     },
     "execution_count": 229,
     "metadata": {},
     "output_type": "execute_result"
    }
   ],
   "source": [
    "new_feat_train.tail()"
   ]
  },
  {
   "cell_type": "code",
   "execution_count": 232,
   "id": "3208dfdd",
   "metadata": {},
   "outputs": [],
   "source": [
    "scaler2 = StandardScaler()\n",
    "scaler2.fit(new_feat_train['start_hour'].values.reshape(-1,1))\n",
    "new_feat_train['start_hour_scaled'] = scaler2.transform(new_feat_train['start_hour'].values.reshape(-1,1))\n",
    "new_feat_test['start_hour_scaled'] = scaler2.transform(new_feat_test['start_hour'].values.reshape(-1,1))"
   ]
  },
  {
   "cell_type": "code",
   "execution_count": 234,
   "id": "85f6d356",
   "metadata": {},
   "outputs": [],
   "source": [
    "scaler3 = StandardScaler()\n",
    "scaler3.fit(new_feat_train['start_day'].values.reshape(-1,1))\n",
    "new_feat_train['start_day_scaled'] = scaler3.transform(new_feat_train['start_day'].values.reshape(-1,1))\n",
    "new_feat_test['start_day_scaled'] = scaler3.transform(new_feat_test['start_day'].values.reshape(-1,1))"
   ]
  },
  {
   "cell_type": "code",
   "execution_count": 235,
   "id": "16590ff5",
   "metadata": {},
   "outputs": [],
   "source": [
    "scaler4 = StandardScaler()\n",
    "scaler4.fit(new_feat_train['start_month'].values.reshape(-1,1))\n",
    "new_feat_train['start_month_scaled'] = scaler4.transform(new_feat_train['start_month'].values.reshape(-1,1))\n",
    "new_feat_test['start_month_scaled'] = scaler4.transform(new_feat_test['start_month'].values.reshape(-1,1))"
   ]
  },
  {
   "cell_type": "code",
   "execution_count": 236,
   "id": "9b2adebf",
   "metadata": {},
   "outputs": [
    {
     "data": {
      "text/html": [
       "<div>\n",
       "<style scoped>\n",
       "    .dataframe tbody tr th:only-of-type {\n",
       "        vertical-align: middle;\n",
       "    }\n",
       "\n",
       "    .dataframe tbody tr th {\n",
       "        vertical-align: top;\n",
       "    }\n",
       "\n",
       "    .dataframe thead th {\n",
       "        text-align: right;\n",
       "    }\n",
       "</style>\n",
       "<table border=\"1\" class=\"dataframe\">\n",
       "  <thead>\n",
       "    <tr style=\"text-align: right;\">\n",
       "      <th></th>\n",
       "      <th>year_month</th>\n",
       "      <th>year_month_scaled</th>\n",
       "      <th>start_day</th>\n",
       "      <th>start_month</th>\n",
       "      <th>start_hour</th>\n",
       "      <th>month</th>\n",
       "      <th>morning</th>\n",
       "      <th>day</th>\n",
       "      <th>evening</th>\n",
       "      <th>night</th>\n",
       "      <th>start_hour_scaled</th>\n",
       "      <th>start_day_scaled</th>\n",
       "      <th>start_month_scaled</th>\n",
       "    </tr>\n",
       "    <tr>\n",
       "      <th>session_id</th>\n",
       "      <th></th>\n",
       "      <th></th>\n",
       "      <th></th>\n",
       "      <th></th>\n",
       "      <th></th>\n",
       "      <th></th>\n",
       "      <th></th>\n",
       "      <th></th>\n",
       "      <th></th>\n",
       "      <th></th>\n",
       "      <th></th>\n",
       "      <th></th>\n",
       "      <th></th>\n",
       "    </tr>\n",
       "  </thead>\n",
       "  <tbody>\n",
       "    <tr>\n",
       "      <th>21669</th>\n",
       "      <td>201301</td>\n",
       "      <td>-1.744405</td>\n",
       "      <td>12</td>\n",
       "      <td>1</td>\n",
       "      <td>8</td>\n",
       "      <td>1</td>\n",
       "      <td>1</td>\n",
       "      <td>0</td>\n",
       "      <td>0</td>\n",
       "      <td>0</td>\n",
       "      <td>-1.357366</td>\n",
       "      <td>-0.857231</td>\n",
       "      <td>-0.943567</td>\n",
       "    </tr>\n",
       "    <tr>\n",
       "      <th>54843</th>\n",
       "      <td>201301</td>\n",
       "      <td>-1.744405</td>\n",
       "      <td>12</td>\n",
       "      <td>1</td>\n",
       "      <td>8</td>\n",
       "      <td>1</td>\n",
       "      <td>1</td>\n",
       "      <td>0</td>\n",
       "      <td>0</td>\n",
       "      <td>0</td>\n",
       "      <td>-1.357366</td>\n",
       "      <td>-0.857231</td>\n",
       "      <td>-0.943567</td>\n",
       "    </tr>\n",
       "    <tr>\n",
       "      <th>77292</th>\n",
       "      <td>201301</td>\n",
       "      <td>-1.744405</td>\n",
       "      <td>12</td>\n",
       "      <td>1</td>\n",
       "      <td>8</td>\n",
       "      <td>1</td>\n",
       "      <td>1</td>\n",
       "      <td>0</td>\n",
       "      <td>0</td>\n",
       "      <td>0</td>\n",
       "      <td>-1.357366</td>\n",
       "      <td>-0.857231</td>\n",
       "      <td>-0.943567</td>\n",
       "    </tr>\n",
       "    <tr>\n",
       "      <th>114021</th>\n",
       "      <td>201301</td>\n",
       "      <td>-1.744405</td>\n",
       "      <td>12</td>\n",
       "      <td>1</td>\n",
       "      <td>8</td>\n",
       "      <td>1</td>\n",
       "      <td>1</td>\n",
       "      <td>0</td>\n",
       "      <td>0</td>\n",
       "      <td>0</td>\n",
       "      <td>-1.357366</td>\n",
       "      <td>-0.857231</td>\n",
       "      <td>-0.943567</td>\n",
       "    </tr>\n",
       "    <tr>\n",
       "      <th>146670</th>\n",
       "      <td>201301</td>\n",
       "      <td>-1.744405</td>\n",
       "      <td>12</td>\n",
       "      <td>1</td>\n",
       "      <td>8</td>\n",
       "      <td>1</td>\n",
       "      <td>1</td>\n",
       "      <td>0</td>\n",
       "      <td>0</td>\n",
       "      <td>0</td>\n",
       "      <td>-1.357366</td>\n",
       "      <td>-0.857231</td>\n",
       "      <td>-0.943567</td>\n",
       "    </tr>\n",
       "    <tr>\n",
       "      <th>...</th>\n",
       "      <td>...</td>\n",
       "      <td>...</td>\n",
       "      <td>...</td>\n",
       "      <td>...</td>\n",
       "      <td>...</td>\n",
       "      <td>...</td>\n",
       "      <td>...</td>\n",
       "      <td>...</td>\n",
       "      <td>...</td>\n",
       "      <td>...</td>\n",
       "      <td>...</td>\n",
       "      <td>...</td>\n",
       "      <td>...</td>\n",
       "    </tr>\n",
       "    <tr>\n",
       "      <th>12224</th>\n",
       "      <td>201404</td>\n",
       "      <td>0.681626</td>\n",
       "      <td>30</td>\n",
       "      <td>4</td>\n",
       "      <td>23</td>\n",
       "      <td>4</td>\n",
       "      <td>0</td>\n",
       "      <td>0</td>\n",
       "      <td>1</td>\n",
       "      <td>0</td>\n",
       "      <td>3.390349</td>\n",
       "      <td>1.502272</td>\n",
       "      <td>-0.137395</td>\n",
       "    </tr>\n",
       "    <tr>\n",
       "      <th>164438</th>\n",
       "      <td>201404</td>\n",
       "      <td>0.681626</td>\n",
       "      <td>30</td>\n",
       "      <td>4</td>\n",
       "      <td>23</td>\n",
       "      <td>4</td>\n",
       "      <td>0</td>\n",
       "      <td>0</td>\n",
       "      <td>1</td>\n",
       "      <td>0</td>\n",
       "      <td>3.390349</td>\n",
       "      <td>1.502272</td>\n",
       "      <td>-0.137395</td>\n",
       "    </tr>\n",
       "    <tr>\n",
       "      <th>12221</th>\n",
       "      <td>201404</td>\n",
       "      <td>0.681626</td>\n",
       "      <td>30</td>\n",
       "      <td>4</td>\n",
       "      <td>23</td>\n",
       "      <td>4</td>\n",
       "      <td>0</td>\n",
       "      <td>0</td>\n",
       "      <td>1</td>\n",
       "      <td>0</td>\n",
       "      <td>3.390349</td>\n",
       "      <td>1.502272</td>\n",
       "      <td>-0.137395</td>\n",
       "    </tr>\n",
       "    <tr>\n",
       "      <th>156968</th>\n",
       "      <td>201404</td>\n",
       "      <td>0.681626</td>\n",
       "      <td>30</td>\n",
       "      <td>4</td>\n",
       "      <td>23</td>\n",
       "      <td>4</td>\n",
       "      <td>0</td>\n",
       "      <td>0</td>\n",
       "      <td>1</td>\n",
       "      <td>0</td>\n",
       "      <td>3.390349</td>\n",
       "      <td>1.502272</td>\n",
       "      <td>-0.137395</td>\n",
       "    </tr>\n",
       "    <tr>\n",
       "      <th>204762</th>\n",
       "      <td>201404</td>\n",
       "      <td>0.681626</td>\n",
       "      <td>30</td>\n",
       "      <td>4</td>\n",
       "      <td>23</td>\n",
       "      <td>4</td>\n",
       "      <td>0</td>\n",
       "      <td>0</td>\n",
       "      <td>1</td>\n",
       "      <td>0</td>\n",
       "      <td>3.390349</td>\n",
       "      <td>1.502272</td>\n",
       "      <td>-0.137395</td>\n",
       "    </tr>\n",
       "  </tbody>\n",
       "</table>\n",
       "<p>253561 rows × 13 columns</p>\n",
       "</div>"
      ],
      "text/plain": [
       "            year_month  year_month_scaled  start_day  start_month  start_hour  \\\n",
       "session_id                                                                      \n",
       "21669           201301          -1.744405         12            1           8   \n",
       "54843           201301          -1.744405         12            1           8   \n",
       "77292           201301          -1.744405         12            1           8   \n",
       "114021          201301          -1.744405         12            1           8   \n",
       "146670          201301          -1.744405         12            1           8   \n",
       "...                ...                ...        ...          ...         ...   \n",
       "12224           201404           0.681626         30            4          23   \n",
       "164438          201404           0.681626         30            4          23   \n",
       "12221           201404           0.681626         30            4          23   \n",
       "156968          201404           0.681626         30            4          23   \n",
       "204762          201404           0.681626         30            4          23   \n",
       "\n",
       "            month  morning  day  evening  night  start_hour_scaled  \\\n",
       "session_id                                                           \n",
       "21669           1        1    0        0      0          -1.357366   \n",
       "54843           1        1    0        0      0          -1.357366   \n",
       "77292           1        1    0        0      0          -1.357366   \n",
       "114021          1        1    0        0      0          -1.357366   \n",
       "146670          1        1    0        0      0          -1.357366   \n",
       "...           ...      ...  ...      ...    ...                ...   \n",
       "12224           4        0    0        1      0           3.390349   \n",
       "164438          4        0    0        1      0           3.390349   \n",
       "12221           4        0    0        1      0           3.390349   \n",
       "156968          4        0    0        1      0           3.390349   \n",
       "204762          4        0    0        1      0           3.390349   \n",
       "\n",
       "            start_day_scaled  start_month_scaled  \n",
       "session_id                                        \n",
       "21669              -0.857231           -0.943567  \n",
       "54843              -0.857231           -0.943567  \n",
       "77292              -0.857231           -0.943567  \n",
       "114021             -0.857231           -0.943567  \n",
       "146670             -0.857231           -0.943567  \n",
       "...                      ...                 ...  \n",
       "12224               1.502272           -0.137395  \n",
       "164438              1.502272           -0.137395  \n",
       "12221               1.502272           -0.137395  \n",
       "156968              1.502272           -0.137395  \n",
       "204762              1.502272           -0.137395  \n",
       "\n",
       "[253561 rows x 13 columns]"
      ]
     },
     "execution_count": 236,
     "metadata": {},
     "output_type": "execute_result"
    }
   ],
   "source": [
    "new_feat_train"
   ]
  },
  {
   "cell_type": "code",
   "execution_count": 238,
   "id": "61ae646a",
   "metadata": {},
   "outputs": [
    {
     "data": {
      "text/html": [
       "<div>\n",
       "<style scoped>\n",
       "    .dataframe tbody tr th:only-of-type {\n",
       "        vertical-align: middle;\n",
       "    }\n",
       "\n",
       "    .dataframe tbody tr th {\n",
       "        vertical-align: top;\n",
       "    }\n",
       "\n",
       "    .dataframe thead th {\n",
       "        text-align: right;\n",
       "    }\n",
       "</style>\n",
       "<table border=\"1\" class=\"dataframe\">\n",
       "  <thead>\n",
       "    <tr style=\"text-align: right;\">\n",
       "      <th></th>\n",
       "      <th>year_month</th>\n",
       "      <th>year_month_scaled</th>\n",
       "      <th>start_day</th>\n",
       "      <th>start_month</th>\n",
       "      <th>start_hour</th>\n",
       "      <th>month</th>\n",
       "      <th>morning</th>\n",
       "      <th>day</th>\n",
       "      <th>evening</th>\n",
       "      <th>night</th>\n",
       "      <th>start_hour_scaled</th>\n",
       "      <th>start_day_scaled</th>\n",
       "      <th>start_month_scaled</th>\n",
       "    </tr>\n",
       "    <tr>\n",
       "      <th>session_id</th>\n",
       "      <th></th>\n",
       "      <th></th>\n",
       "      <th></th>\n",
       "      <th></th>\n",
       "      <th></th>\n",
       "      <th></th>\n",
       "      <th></th>\n",
       "      <th></th>\n",
       "      <th></th>\n",
       "      <th></th>\n",
       "      <th></th>\n",
       "      <th></th>\n",
       "      <th></th>\n",
       "    </tr>\n",
       "  </thead>\n",
       "  <tbody>\n",
       "    <tr>\n",
       "      <th>27876</th>\n",
       "      <td>201305</td>\n",
       "      <td>-1.650190</td>\n",
       "      <td>12</td>\n",
       "      <td>5</td>\n",
       "      <td>8</td>\n",
       "      <td>5</td>\n",
       "      <td>1</td>\n",
       "      <td>0</td>\n",
       "      <td>0</td>\n",
       "      <td>0</td>\n",
       "      <td>-1.357366</td>\n",
       "      <td>-0.857231</td>\n",
       "      <td>0.131329</td>\n",
       "    </tr>\n",
       "    <tr>\n",
       "      <th>113470</th>\n",
       "      <td>201305</td>\n",
       "      <td>-1.650190</td>\n",
       "      <td>12</td>\n",
       "      <td>5</td>\n",
       "      <td>8</td>\n",
       "      <td>5</td>\n",
       "      <td>1</td>\n",
       "      <td>0</td>\n",
       "      <td>0</td>\n",
       "      <td>0</td>\n",
       "      <td>-1.357366</td>\n",
       "      <td>-0.857231</td>\n",
       "      <td>0.131329</td>\n",
       "    </tr>\n",
       "    <tr>\n",
       "      <th>248880</th>\n",
       "      <td>201305</td>\n",
       "      <td>-1.650190</td>\n",
       "      <td>12</td>\n",
       "      <td>5</td>\n",
       "      <td>8</td>\n",
       "      <td>5</td>\n",
       "      <td>1</td>\n",
       "      <td>0</td>\n",
       "      <td>0</td>\n",
       "      <td>0</td>\n",
       "      <td>-1.357366</td>\n",
       "      <td>-0.857231</td>\n",
       "      <td>0.131329</td>\n",
       "    </tr>\n",
       "    <tr>\n",
       "      <th>168463</th>\n",
       "      <td>201305</td>\n",
       "      <td>-1.650190</td>\n",
       "      <td>12</td>\n",
       "      <td>5</td>\n",
       "      <td>8</td>\n",
       "      <td>5</td>\n",
       "      <td>1</td>\n",
       "      <td>0</td>\n",
       "      <td>0</td>\n",
       "      <td>0</td>\n",
       "      <td>-1.357366</td>\n",
       "      <td>-0.857231</td>\n",
       "      <td>0.131329</td>\n",
       "    </tr>\n",
       "    <tr>\n",
       "      <th>60553</th>\n",
       "      <td>201305</td>\n",
       "      <td>-1.650190</td>\n",
       "      <td>12</td>\n",
       "      <td>5</td>\n",
       "      <td>8</td>\n",
       "      <td>5</td>\n",
       "      <td>1</td>\n",
       "      <td>0</td>\n",
       "      <td>0</td>\n",
       "      <td>0</td>\n",
       "      <td>-1.357366</td>\n",
       "      <td>-0.857231</td>\n",
       "      <td>0.131329</td>\n",
       "    </tr>\n",
       "    <tr>\n",
       "      <th>...</th>\n",
       "      <td>...</td>\n",
       "      <td>...</td>\n",
       "      <td>...</td>\n",
       "      <td>...</td>\n",
       "      <td>...</td>\n",
       "      <td>...</td>\n",
       "      <td>...</td>\n",
       "      <td>...</td>\n",
       "      <td>...</td>\n",
       "      <td>...</td>\n",
       "      <td>...</td>\n",
       "      <td>...</td>\n",
       "      <td>...</td>\n",
       "    </tr>\n",
       "    <tr>\n",
       "      <th>137692</th>\n",
       "      <td>201312</td>\n",
       "      <td>-1.485314</td>\n",
       "      <td>28</td>\n",
       "      <td>12</td>\n",
       "      <td>21</td>\n",
       "      <td>12</td>\n",
       "      <td>0</td>\n",
       "      <td>0</td>\n",
       "      <td>1</td>\n",
       "      <td>0</td>\n",
       "      <td>2.757320</td>\n",
       "      <td>1.240105</td>\n",
       "      <td>2.012399</td>\n",
       "    </tr>\n",
       "    <tr>\n",
       "      <th>170829</th>\n",
       "      <td>201312</td>\n",
       "      <td>-1.485314</td>\n",
       "      <td>28</td>\n",
       "      <td>12</td>\n",
       "      <td>22</td>\n",
       "      <td>12</td>\n",
       "      <td>0</td>\n",
       "      <td>0</td>\n",
       "      <td>1</td>\n",
       "      <td>0</td>\n",
       "      <td>3.073835</td>\n",
       "      <td>1.240105</td>\n",
       "      <td>2.012399</td>\n",
       "    </tr>\n",
       "    <tr>\n",
       "      <th>197571</th>\n",
       "      <td>201312</td>\n",
       "      <td>-1.485314</td>\n",
       "      <td>28</td>\n",
       "      <td>12</td>\n",
       "      <td>22</td>\n",
       "      <td>12</td>\n",
       "      <td>0</td>\n",
       "      <td>0</td>\n",
       "      <td>1</td>\n",
       "      <td>0</td>\n",
       "      <td>3.073835</td>\n",
       "      <td>1.240105</td>\n",
       "      <td>2.012399</td>\n",
       "    </tr>\n",
       "    <tr>\n",
       "      <th>171583</th>\n",
       "      <td>201312</td>\n",
       "      <td>-1.485314</td>\n",
       "      <td>28</td>\n",
       "      <td>12</td>\n",
       "      <td>23</td>\n",
       "      <td>12</td>\n",
       "      <td>0</td>\n",
       "      <td>0</td>\n",
       "      <td>1</td>\n",
       "      <td>0</td>\n",
       "      <td>3.390349</td>\n",
       "      <td>1.240105</td>\n",
       "      <td>2.012399</td>\n",
       "    </tr>\n",
       "    <tr>\n",
       "      <th>81877</th>\n",
       "      <td>201312</td>\n",
       "      <td>-1.485314</td>\n",
       "      <td>31</td>\n",
       "      <td>12</td>\n",
       "      <td>15</td>\n",
       "      <td>12</td>\n",
       "      <td>0</td>\n",
       "      <td>1</td>\n",
       "      <td>0</td>\n",
       "      <td>0</td>\n",
       "      <td>0.858234</td>\n",
       "      <td>1.633355</td>\n",
       "      <td>2.012399</td>\n",
       "    </tr>\n",
       "  </tbody>\n",
       "</table>\n",
       "<p>63049 rows × 13 columns</p>\n",
       "</div>"
      ],
      "text/plain": [
       "            year_month  year_month_scaled  start_day  start_month  start_hour  \\\n",
       "session_id                                                                      \n",
       "27876           201305          -1.650190         12            5           8   \n",
       "113470          201305          -1.650190         12            5           8   \n",
       "248880          201305          -1.650190         12            5           8   \n",
       "168463          201305          -1.650190         12            5           8   \n",
       "60553           201305          -1.650190         12            5           8   \n",
       "...                ...                ...        ...          ...         ...   \n",
       "137692          201312          -1.485314         28           12          21   \n",
       "170829          201312          -1.485314         28           12          22   \n",
       "197571          201312          -1.485314         28           12          22   \n",
       "171583          201312          -1.485314         28           12          23   \n",
       "81877           201312          -1.485314         31           12          15   \n",
       "\n",
       "            month  morning  day  evening  night  start_hour_scaled  \\\n",
       "session_id                                                           \n",
       "27876           5        1    0        0      0          -1.357366   \n",
       "113470          5        1    0        0      0          -1.357366   \n",
       "248880          5        1    0        0      0          -1.357366   \n",
       "168463          5        1    0        0      0          -1.357366   \n",
       "60553           5        1    0        0      0          -1.357366   \n",
       "...           ...      ...  ...      ...    ...                ...   \n",
       "137692         12        0    0        1      0           2.757320   \n",
       "170829         12        0    0        1      0           3.073835   \n",
       "197571         12        0    0        1      0           3.073835   \n",
       "171583         12        0    0        1      0           3.390349   \n",
       "81877          12        0    1        0      0           0.858234   \n",
       "\n",
       "            start_day_scaled  start_month_scaled  \n",
       "session_id                                        \n",
       "27876              -0.857231            0.131329  \n",
       "113470             -0.857231            0.131329  \n",
       "248880             -0.857231            0.131329  \n",
       "168463             -0.857231            0.131329  \n",
       "60553              -0.857231            0.131329  \n",
       "...                      ...                 ...  \n",
       "137692              1.240105            2.012399  \n",
       "170829              1.240105            2.012399  \n",
       "197571              1.240105            2.012399  \n",
       "171583              1.240105            2.012399  \n",
       "81877               1.633355            2.012399  \n",
       "\n",
       "[63049 rows x 13 columns]"
      ]
     },
     "execution_count": 238,
     "metadata": {},
     "output_type": "execute_result"
    }
   ],
   "source": [
    "new_feat_train[new_feat_train['start_month_scaled']>0]"
   ]
  },
  {
   "cell_type": "code",
   "execution_count": 242,
   "id": "983d5ef7",
   "metadata": {},
   "outputs": [
    {
     "data": {
      "text/plain": [
       "<253561x48372 sparse matrix of type '<class 'numpy.float64'>'\n",
       "\twith 1683237 stored elements in Compressed Sparse Row format>"
      ]
     },
     "execution_count": 242,
     "metadata": {},
     "output_type": "execute_result"
    }
   ],
   "source": [
    "X_train_sparse_new"
   ]
  },
  {
   "cell_type": "markdown",
   "id": "fb69fbc0",
   "metadata": {},
   "source": [
    "### start_month + start_hour"
   ]
  },
  {
   "cell_type": "code",
   "execution_count": 246,
   "id": "c852cb1a",
   "metadata": {},
   "outputs": [],
   "source": [
    "X_train_sparse_new_1 = csr_matrix(hstack([X_train_sparse, new_feat_train[\"start_month\"].values.reshape(-1,1)]))\n",
    "X_train_sparse_new_1 = csr_matrix(hstack([X_train_sparse_new_1, new_feat_test[\"start_hour\"].values.reshape(-1,1)]))"
   ]
  },
  {
   "cell_type": "code",
   "execution_count": 247,
   "id": "0805ece8",
   "metadata": {},
   "outputs": [],
   "source": [
    "X_test_sparse_new_1 = csr_matrix(hstack([X_test_sparse, new_feat_test[\"start_month\"].values.reshape(-1,1)]))\n",
    "X_test_sparse_new_1 = csr_matrix(hstack([X_test_sparse_new_1, new_feat_test[\"start_hour\"].values.reshape(-1,1)]))"
   ]
  },
  {
   "cell_type": "code",
   "execution_count": 248,
   "id": "df486dfb",
   "metadata": {},
   "outputs": [
    {
     "name": "stdout",
     "output_type": "stream",
     "text": [
      "CPU times: user 67.5 ms, sys: 138 ms, total: 206 ms\n",
      "Wall time: 3.94 s\n"
     ]
    },
    {
     "name": "stderr",
     "output_type": "stream",
     "text": [
      "/Users/aleksashka/opt/anaconda3/lib/python3.9/site-packages/sklearn/linear_model/_logistic.py:763: ConvergenceWarning: lbfgs failed to converge (status=1):\n",
      "STOP: TOTAL NO. of ITERATIONS REACHED LIMIT.\n",
      "\n",
      "Increase the number of iterations (max_iter) or scale the data as shown in:\n",
      "    https://scikit-learn.org/stable/modules/preprocessing.html\n",
      "Please also refer to the documentation for alternative solver options:\n",
      "    https://scikit-learn.org/stable/modules/linear_model.html#logistic-regression\n",
      "  n_iter_i = _check_optimize_result(\n"
     ]
    },
    {
     "data": {
      "text/plain": [
       "0.9561679793592079"
      ]
     },
     "execution_count": 248,
     "metadata": {},
     "output_type": "execute_result"
    }
   ],
   "source": [
    "%%time\n",
    "get_auc_lr_valid(X_train_sparse_new_1, y_train)"
   ]
  },
  {
   "cell_type": "code",
   "execution_count": 260,
   "id": "90724879",
   "metadata": {},
   "outputs": [
    {
     "name": "stdout",
     "output_type": "stream",
     "text": [
      "CPU times: user 34.5 ms, sys: 40.5 ms, total: 75 ms\n",
      "Wall time: 3.24 s\n"
     ]
    },
    {
     "name": "stderr",
     "output_type": "stream",
     "text": [
      "/Users/aleksashka/opt/anaconda3/lib/python3.9/site-packages/sklearn/linear_model/_logistic.py:763: ConvergenceWarning: lbfgs failed to converge (status=1):\n",
      "STOP: TOTAL NO. of ITERATIONS REACHED LIMIT.\n",
      "\n",
      "Increase the number of iterations (max_iter) or scale the data as shown in:\n",
      "    https://scikit-learn.org/stable/modules/preprocessing.html\n",
      "Please also refer to the documentation for alternative solver options:\n",
      "    https://scikit-learn.org/stable/modules/linear_model.html#logistic-regression\n",
      "  n_iter_i = _check_optimize_result(\n"
     ]
    }
   ],
   "source": [
    "%%time\n",
    "logit_1 = LogisticRegression(n_jobs=-1,random_state=17)\n",
    "logit_1.fit(X_train_sparse_new_1, y_train)\n",
    "test_pred_1 = logit_1.predict_proba(X_test_sparse_new_1)[:,1]"
   ]
  },
  {
   "cell_type": "code",
   "execution_count": 261,
   "id": "8ea5e98c",
   "metadata": {},
   "outputs": [],
   "source": [
    "pd.Series(test_pred_1, index=range(1, test_pred_1.shape[0]+1), name=\"target\").to_csv(\n",
    "    'benchmark_md.csv', header=True, index_label=\"session_id\")"
   ]
  },
  {
   "cell_type": "code",
   "execution_count": 262,
   "id": "e0bd1244",
   "metadata": {},
   "outputs": [
    {
     "name": "stdout",
     "output_type": "stream",
     "text": [
      "session_id,target\r\n",
      "1,0.002045161499296301\r\n",
      "2,7.404737622814331e-17\r\n",
      "3,2.8041663159359286e-12\r\n",
      "4,1.0740095641989812e-07\r\n",
      "5,1.7739616767522177e-05\r\n",
      "6,0.0001522755286591329\r\n",
      "7,0.0008009626563439108\r\n",
      "8,0.0005631713286019478\r\n",
      "9,0.0003626054391721216\r\n"
     ]
    }
   ],
   "source": [
    "!head 'benchmark_md.csv'"
   ]
  },
  {
   "cell_type": "code",
   "execution_count": 256,
   "id": "691fbe55",
   "metadata": {},
   "outputs": [
    {
     "data": {
      "text/plain": [
       "array([1.60067112e-03, 8.85470616e-09, 1.82445834e-09, 4.85686236e-09,\n",
       "       5.41302732e-05, 7.75215810e-05])"
      ]
     },
     "execution_count": 256,
     "metadata": {},
     "output_type": "execute_result"
    }
   ],
   "source": [
    "test_pred_1[0:6]"
   ]
  },
  {
   "cell_type": "markdown",
   "id": "ad5ab41a",
   "metadata": {},
   "source": [
    "### -||-  + full scale "
   ]
  },
  {
   "cell_type": "code",
   "execution_count": 266,
   "id": "67f9009e",
   "metadata": {},
   "outputs": [
    {
     "name": "stderr",
     "output_type": "stream",
     "text": [
      "/Users/aleksashka/opt/anaconda3/lib/python3.9/site-packages/sklearn/linear_model/_logistic.py:763: ConvergenceWarning: lbfgs failed to converge (status=1):\n",
      "STOP: TOTAL NO. of ITERATIONS REACHED LIMIT.\n",
      "\n",
      "Increase the number of iterations (max_iter) or scale the data as shown in:\n",
      "    https://scikit-learn.org/stable/modules/preprocessing.html\n",
      "Please also refer to the documentation for alternative solver options:\n",
      "    https://scikit-learn.org/stable/modules/linear_model.html#logistic-regression\n",
      "  n_iter_i = _check_optimize_result(\n",
      "/Users/aleksashka/opt/anaconda3/lib/python3.9/site-packages/sklearn/linear_model/_logistic.py:763: ConvergenceWarning: lbfgs failed to converge (status=1):\n",
      "STOP: TOTAL NO. of ITERATIONS REACHED LIMIT.\n",
      "\n",
      "Increase the number of iterations (max_iter) or scale the data as shown in:\n",
      "    https://scikit-learn.org/stable/modules/preprocessing.html\n",
      "Please also refer to the documentation for alternative solver options:\n",
      "    https://scikit-learn.org/stable/modules/linear_model.html#logistic-regression\n",
      "  n_iter_i = _check_optimize_result(\n"
     ]
    },
    {
     "name": "stdout",
     "output_type": "stream",
     "text": [
      "CPU times: user 398 ms, sys: 198 ms, total: 596 ms\n",
      "Wall time: 6.55 s\n"
     ]
    }
   ],
   "source": [
    "%%time\n",
    "X_train_sparse_new_1_sc = csr_matrix(hstack([X_train_sparse, new_feat_train[\"start_month_scaled\"].values.reshape(-1,1)]))\n",
    "X_train_sparse_new_1_sc = csr_matrix(hstack([X_train_sparse_new_1_sc, new_feat_train[\"start_hour_scaled\"].values.reshape(-1,1)]))\n",
    "X_test_sparse_new_1_sc = csr_matrix(hstack([X_test_sparse, new_feat_test[\"start_month_scaled\"].values.reshape(-1,1)]))\n",
    "X_test_sparse_new_1_sc = csr_matrix(hstack([X_test_sparse_new_1_sc, new_feat_test[\"start_hour_scaled\"].values.reshape(-1,1)]))\n",
    "logit_1_sc = LogisticRegression(n_jobs=-1,random_state=17)\n",
    "logit_1_sc.fit(X_train_sparse_new_1_sc, y_train)\n",
    "test_pred_1_sc = logit_1_sc.predict_proba(X_test_sparse_new_1_sc)[:,1]\n",
    "pd.Series(test_pred_1_sc, index=range(1, test_pred_1_sc.shape[0]+1), name=\"target\").to_csv(\n",
    "    'benchmark_md_sc.csv', header=True, index_label=\"session_id\")"
   ]
  },
  {
   "cell_type": "code",
   "execution_count": 267,
   "id": "7d3fcc42",
   "metadata": {},
   "outputs": [
    {
     "name": "stderr",
     "output_type": "stream",
     "text": [
      "/Users/aleksashka/opt/anaconda3/lib/python3.9/site-packages/sklearn/linear_model/_logistic.py:763: ConvergenceWarning: lbfgs failed to converge (status=1):\n",
      "STOP: TOTAL NO. of ITERATIONS REACHED LIMIT.\n",
      "\n",
      "Increase the number of iterations (max_iter) or scale the data as shown in:\n",
      "    https://scikit-learn.org/stable/modules/preprocessing.html\n",
      "Please also refer to the documentation for alternative solver options:\n",
      "    https://scikit-learn.org/stable/modules/linear_model.html#logistic-regression\n",
      "  n_iter_i = _check_optimize_result(\n"
     ]
    },
    {
     "data": {
      "text/plain": [
       "0.9568427419695702"
      ]
     },
     "execution_count": 267,
     "metadata": {},
     "output_type": "execute_result"
    }
   ],
   "source": [
    "get_auc_lr_valid(X_train_sparse_new_1_sc, y_train)"
   ]
  },
  {
   "cell_type": "code",
   "execution_count": 268,
   "id": "4aaed8e1",
   "metadata": {},
   "outputs": [
    {
     "name": "stderr",
     "output_type": "stream",
     "text": [
      "/Users/aleksashka/opt/anaconda3/lib/python3.9/site-packages/sklearn/linear_model/_logistic.py:763: ConvergenceWarning: lbfgs failed to converge (status=1):\n",
      "STOP: TOTAL NO. of ITERATIONS REACHED LIMIT.\n",
      "\n",
      "Increase the number of iterations (max_iter) or scale the data as shown in:\n",
      "    https://scikit-learn.org/stable/modules/preprocessing.html\n",
      "Please also refer to the documentation for alternative solver options:\n",
      "    https://scikit-learn.org/stable/modules/linear_model.html#logistic-regression\n",
      "  n_iter_i = _check_optimize_result(\n"
     ]
    },
    {
     "data": {
      "text/plain": [
       "0.9561679793592079"
      ]
     },
     "execution_count": 268,
     "metadata": {},
     "output_type": "execute_result"
    }
   ],
   "source": [
    "get_auc_lr_valid(X_train_sparse_new_1, y_train)"
   ]
  },
  {
   "cell_type": "markdown",
   "id": "8eeda253",
   "metadata": {},
   "source": [
    "### month + time of a day"
   ]
  },
  {
   "cell_type": "code",
   "execution_count": 270,
   "id": "6e35fe46",
   "metadata": {},
   "outputs": [
    {
     "name": "stderr",
     "output_type": "stream",
     "text": [
      "/Users/aleksashka/opt/anaconda3/lib/python3.9/site-packages/sklearn/linear_model/_logistic.py:763: ConvergenceWarning: lbfgs failed to converge (status=1):\n",
      "STOP: TOTAL NO. of ITERATIONS REACHED LIMIT.\n",
      "\n",
      "Increase the number of iterations (max_iter) or scale the data as shown in:\n",
      "    https://scikit-learn.org/stable/modules/preprocessing.html\n",
      "Please also refer to the documentation for alternative solver options:\n",
      "    https://scikit-learn.org/stable/modules/linear_model.html#logistic-regression\n",
      "  n_iter_i = _check_optimize_result(\n"
     ]
    },
    {
     "name": "stdout",
     "output_type": "stream",
     "text": [
      "CPU times: user 483 ms, sys: 171 ms, total: 654 ms\n",
      "Wall time: 4.03 s\n"
     ]
    }
   ],
   "source": [
    "%%time\n",
    "X_train_sparse_new_2_sc = csr_matrix(hstack([X_train_sparse, new_feat_train[\"start_month\"].values.reshape(-1,1)]))\n",
    "X_train_sparse_new_2_sc = csr_matrix(hstack([X_train_sparse_new_2_sc, new_feat_train[\"morning\"].values.reshape(-1,1)]))\n",
    "X_train_sparse_new_2_sc = csr_matrix(hstack([X_train_sparse_new_2_sc, new_feat_train[\"day\"].values.reshape(-1,1)]))\n",
    "X_train_sparse_new_2_sc = csr_matrix(hstack([X_train_sparse_new_2_sc, new_feat_train[\"evening\"].values.reshape(-1,1)]))\n",
    "X_train_sparse_new_2_sc = csr_matrix(hstack([X_train_sparse_new_2_sc, new_feat_train[\"night\"].values.reshape(-1,1)]))\n",
    "X_test_sparse_new_2_sc = csr_matrix(hstack([X_test_sparse, new_feat_test[\"start_month\"].values.reshape(-1,1)]))\n",
    "X_test_sparse_new_2_sc = csr_matrix(hstack([X_test_sparse_new_2_sc, new_feat_test[\"morning\"].values.reshape(-1,1)]))\n",
    "X_test_sparse_new_2_sc = csr_matrix(hstack([X_test_sparse_new_2_sc, new_feat_test[\"day\"].values.reshape(-1,1)]))\n",
    "X_test_sparse_new_2_sc = csr_matrix(hstack([X_test_sparse_new_2_sc, new_feat_test[\"evening\"].values.reshape(-1,1)]))\n",
    "X_test_sparse_new_2_sc = csr_matrix(hstack([X_test_sparse_new_2_sc, new_feat_test[\"night\"].values.reshape(-1,1)]))\n",
    "logit_2_sc = LogisticRegression(n_jobs=-1,random_state=17)\n",
    "logit_2_sc.fit(X_train_sparse_new_2_sc, y_train)\n",
    "test_pred_2_sc = logit_2_sc.predict_proba(X_test_sparse_new_2_sc)[:,1]\n",
    "pd.Series(test_pred_2_sc, index=range(1, test_pred_2_sc.shape[0]+1), name=\"target\").to_csv(\n",
    "    'benchmark_md_sc.csv', header=True, index_label=\"session_id\")"
   ]
  },
  {
   "cell_type": "code",
   "execution_count": 271,
   "id": "b6479e98",
   "metadata": {},
   "outputs": [
    {
     "name": "stderr",
     "output_type": "stream",
     "text": [
      "/Users/aleksashka/opt/anaconda3/lib/python3.9/site-packages/sklearn/linear_model/_logistic.py:763: ConvergenceWarning: lbfgs failed to converge (status=1):\n",
      "STOP: TOTAL NO. of ITERATIONS REACHED LIMIT.\n",
      "\n",
      "Increase the number of iterations (max_iter) or scale the data as shown in:\n",
      "    https://scikit-learn.org/stable/modules/preprocessing.html\n",
      "Please also refer to the documentation for alternative solver options:\n",
      "    https://scikit-learn.org/stable/modules/linear_model.html#logistic-regression\n",
      "  n_iter_i = _check_optimize_result(\n"
     ]
    },
    {
     "data": {
      "text/plain": [
       "0.9467687022458273"
      ]
     },
     "execution_count": 271,
     "metadata": {},
     "output_type": "execute_result"
    }
   ],
   "source": [
    "get_auc_lr_valid(X_train_sparse_new_2_sc, y_train)"
   ]
  },
  {
   "cell_type": "markdown",
   "id": "c90b110e",
   "metadata": {},
   "source": [
    "### month + time of a day + scale"
   ]
  },
  {
   "cell_type": "code",
   "execution_count": 303,
   "id": "4bd6ff14",
   "metadata": {},
   "outputs": [
    {
     "name": "stderr",
     "output_type": "stream",
     "text": [
      "/Users/aleksashka/opt/anaconda3/lib/python3.9/site-packages/sklearn/linear_model/_logistic.py:763: ConvergenceWarning: lbfgs failed to converge (status=1):\n",
      "STOP: TOTAL NO. of ITERATIONS REACHED LIMIT.\n",
      "\n",
      "Increase the number of iterations (max_iter) or scale the data as shown in:\n",
      "    https://scikit-learn.org/stable/modules/preprocessing.html\n",
      "Please also refer to the documentation for alternative solver options:\n",
      "    https://scikit-learn.org/stable/modules/linear_model.html#logistic-regression\n",
      "  n_iter_i = _check_optimize_result(\n"
     ]
    }
   ],
   "source": [
    "X_train_sparse_new_2 = csr_matrix(hstack([X_train_sparse, new_feat_train[\"start_month_scaled\"].values.reshape(-1,1)]))\n",
    "X_train_sparse_new_2 = csr_matrix(hstack([X_train_sparse_new_2, new_feat_train[\"morning\"].values.reshape(-1,1)]))\n",
    "X_train_sparse_new_2 = csr_matrix(hstack([X_train_sparse_new_2, new_feat_train[\"day\"].values.reshape(-1,1)]))\n",
    "X_train_sparse_new_2 = csr_matrix(hstack([X_train_sparse_new_2, new_feat_train[\"evening\"].values.reshape(-1,1)]))\n",
    "X_train_sparse_new_2 = csr_matrix(hstack([X_train_sparse_new_2, new_feat_train[\"night\"].values.reshape(-1,1)]))\n",
    "X_test_sparse_new_2 = csr_matrix(hstack([X_test_sparse, new_feat_test[\"start_month_scaled\"].values.reshape(-1,1)]))\n",
    "X_test_sparse_new_2 = csr_matrix(hstack([X_test_sparse_new_2, new_feat_test[\"morning\"].values.reshape(-1,1)]))\n",
    "X_test_sparse_new_2 = csr_matrix(hstack([X_test_sparse_new_2, new_feat_test[\"day\"].values.reshape(-1,1)]))\n",
    "X_test_sparse_new_2 = csr_matrix(hstack([X_test_sparse_new_2, new_feat_test[\"evening\"].values.reshape(-1,1)]))\n",
    "X_test_sparse_new_2 = csr_matrix(hstack([X_test_sparse_new_2, new_feat_test[\"night\"].values.reshape(-1,1)]))\n",
    "logit_2 = LogisticRegression(n_jobs=-1,random_state=17, C=0.46415888336127775)\n",
    "logit_2.fit(X_train_sparse_new_2, y_train)\n",
    "test_pred_2 = logit_2.predict_proba(X_test_sparse_new_2)[:,1]\n",
    "pd.Series(test_pred_2, index=range(1, test_pred_2.shape[0]+1), name=\"target\").to_csv(\n",
    "    'benchmark_md_sc.csv', header=True, index_label=\"session_id\")"
   ]
  },
  {
   "cell_type": "code",
   "execution_count": 304,
   "id": "31a7c581",
   "metadata": {},
   "outputs": [
    {
     "name": "stderr",
     "output_type": "stream",
     "text": [
      "/Users/aleksashka/opt/anaconda3/lib/python3.9/site-packages/sklearn/linear_model/_logistic.py:763: ConvergenceWarning: lbfgs failed to converge (status=1):\n",
      "STOP: TOTAL NO. of ITERATIONS REACHED LIMIT.\n",
      "\n",
      "Increase the number of iterations (max_iter) or scale the data as shown in:\n",
      "    https://scikit-learn.org/stable/modules/preprocessing.html\n",
      "Please also refer to the documentation for alternative solver options:\n",
      "    https://scikit-learn.org/stable/modules/linear_model.html#logistic-regression\n",
      "  n_iter_i = _check_optimize_result(\n"
     ]
    },
    {
     "data": {
      "text/plain": [
       "0.9469832073172647"
      ]
     },
     "execution_count": 304,
     "metadata": {},
     "output_type": "execute_result"
    }
   ],
   "source": [
    "get_auc_lr_valid(X_train_sparse_new_2, y_train)"
   ]
  },
  {
   "cell_type": "code",
   "execution_count": 276,
   "id": "5abb6670",
   "metadata": {},
   "outputs": [
    {
     "name": "stderr",
     "output_type": "stream",
     "text": [
      "/Users/aleksashka/opt/anaconda3/lib/python3.9/site-packages/sklearn/linear_model/_logistic.py:763: ConvergenceWarning: lbfgs failed to converge (status=1):\n",
      "STOP: TOTAL NO. of ITERATIONS REACHED LIMIT.\n",
      "\n",
      "Increase the number of iterations (max_iter) or scale the data as shown in:\n",
      "    https://scikit-learn.org/stable/modules/preprocessing.html\n",
      "Please also refer to the documentation for alternative solver options:\n",
      "    https://scikit-learn.org/stable/modules/linear_model.html#logistic-regression\n",
      "  n_iter_i = _check_optimize_result(\n",
      "/Users/aleksashka/opt/anaconda3/lib/python3.9/site-packages/sklearn/linear_model/_logistic.py:763: ConvergenceWarning: lbfgs failed to converge (status=1):\n",
      "STOP: TOTAL NO. of ITERATIONS REACHED LIMIT.\n",
      "\n",
      "Increase the number of iterations (max_iter) or scale the data as shown in:\n",
      "    https://scikit-learn.org/stable/modules/preprocessing.html\n",
      "Please also refer to the documentation for alternative solver options:\n",
      "    https://scikit-learn.org/stable/modules/linear_model.html#logistic-regression\n",
      "  n_iter_i = _check_optimize_result(\n"
     ]
    },
    {
     "data": {
      "text/plain": [
       "0.0002145050714373875"
      ]
     },
     "execution_count": 276,
     "metadata": {},
     "output_type": "execute_result"
    }
   ],
   "source": [
    "get_auc_lr_valid(X_train_sparse_new_2, y_train)-get_auc_lr_valid(X_train_sparse_new_2_sc, y_train)"
   ]
  },
  {
   "cell_type": "code",
   "execution_count": null,
   "id": "818b441d",
   "metadata": {},
   "outputs": [],
   "source": []
  },
  {
   "cell_type": "markdown",
   "id": "bfc4f581",
   "metadata": {},
   "source": [
    "## Scale better than without scale"
   ]
  },
  {
   "cell_type": "code",
   "execution_count": 301,
   "id": "e298db7f",
   "metadata": {},
   "outputs": [
    {
     "name": "stderr",
     "output_type": "stream",
     "text": [
      "/Users/aleksashka/opt/anaconda3/lib/python3.9/site-packages/sklearn/linear_model/_logistic.py:763: ConvergenceWarning: lbfgs failed to converge (status=1):\n",
      "STOP: TOTAL NO. of ITERATIONS REACHED LIMIT.\n",
      "\n",
      "Increase the number of iterations (max_iter) or scale the data as shown in:\n",
      "    https://scikit-learn.org/stable/modules/preprocessing.html\n",
      "Please also refer to the documentation for alternative solver options:\n",
      "    https://scikit-learn.org/stable/modules/linear_model.html#logistic-regression\n",
      "  n_iter_i = _check_optimize_result(\n"
     ]
    }
   ],
   "source": [
    "X_train_sparse_new_2 = csr_matrix(hstack([X_train_sparse_new_2, new_feat_train[\"start_hour_scaled\"].values.reshape(-1,1)]))\n",
    "X_test_sparse_new_2 = csr_matrix(hstack([X_test_sparse_new_2, new_feat_test[\"start_hour_scaled\"].values.reshape(-1,1)]))\n",
    "X_train_sparse_new_2 = csr_matrix(hstack([X_train_sparse_new_2, new_feat_train[\"start_day_scaled\"].values.reshape(-1,1)]))\n",
    "X_test_sparse_new_2 = csr_matrix(hstack([X_test_sparse_new_2, new_feat_test[\"start_day_scaled\"].values.reshape(-1,1)]))\n",
    "X_train_sparse_new_2 = csr_matrix(hstack([X_train_sparse_new_2, new_feat_train[\"year_month_scaled\"].values.reshape(-1,1)]))\n",
    "X_test_sparse_new_2 = csr_matrix(hstack([X_test_sparse_new_2, new_feat_test[\"year_month_scaled\"].values.reshape(-1,1)]))\n",
    "logit_2 = LogisticRegression(n_jobs=-1,random_state=17, C=0.46415888336127775)\n",
    "logit_2.fit(X_train_sparse_new_2, y_train)\n",
    "test_pred_2 = logit_2.predict_proba(X_test_sparse_new_2)[:,1]\n",
    "pd.Series(test_pred_2, index=range(1, test_pred_2.shape[0]+1), name=\"target\").to_csv(\n",
    "    'benchmark_top_sc.csv', header=True, index_label=\"session_id\")"
   ]
  },
  {
   "cell_type": "code",
   "execution_count": 302,
   "id": "f8ffd888",
   "metadata": {},
   "outputs": [
    {
     "name": "stderr",
     "output_type": "stream",
     "text": [
      "/Users/aleksashka/opt/anaconda3/lib/python3.9/site-packages/sklearn/linear_model/_logistic.py:763: ConvergenceWarning: lbfgs failed to converge (status=1):\n",
      "STOP: TOTAL NO. of ITERATIONS REACHED LIMIT.\n",
      "\n",
      "Increase the number of iterations (max_iter) or scale the data as shown in:\n",
      "    https://scikit-learn.org/stable/modules/preprocessing.html\n",
      "Please also refer to the documentation for alternative solver options:\n",
      "    https://scikit-learn.org/stable/modules/linear_model.html#logistic-regression\n",
      "  n_iter_i = _check_optimize_result(\n"
     ]
    },
    {
     "data": {
      "text/plain": [
       "0.9627897856338059"
      ]
     },
     "execution_count": 302,
     "metadata": {},
     "output_type": "execute_result"
    }
   ],
   "source": [
    "get_auc_lr_valid(X_train_sparse_new_2, y_train)"
   ]
  },
  {
   "cell_type": "code",
   "execution_count": 282,
   "id": "e8c297e6",
   "metadata": {},
   "outputs": [],
   "source": [
    "X_train_sparse_new_3 = csr_matrix(hstack([X_train_sparse, new_feat_train[\"start_month_scaled\"].values.reshape(-1,1)]))\n",
    "X_train_sparse_new_3 = csr_matrix(hstack([X_train_sparse_new_3, new_feat_train[\"morning\"].values.reshape(-1,1)]))\n",
    "X_train_sparse_new_3 = csr_matrix(hstack([X_train_sparse_new_3, new_feat_train[\"day\"].values.reshape(-1,1)]))\n",
    "X_train_sparse_new_3 = csr_matrix(hstack([X_train_sparse_new_3, new_feat_train[\"evening\"].values.reshape(-1,1)]))\n",
    "X_train_sparse_new_3 = csr_matrix(hstack([X_train_sparse_new_3, new_feat_train[\"night\"].values.reshape(-1,1)]))\n",
    "X_test_sparse_new_3 = csr_matrix(hstack([X_test_sparse, new_feat_test[\"start_month_scaled\"].values.reshape(-1,1)]))\n",
    "X_test_sparse_new_3 = csr_matrix(hstack([X_test_sparse_new_3, new_feat_test[\"morning\"].values.reshape(-1,1)]))\n",
    "X_test_sparse_new_3 = csr_matrix(hstack([X_test_sparse_new_3, new_feat_test[\"day\"].values.reshape(-1,1)]))\n",
    "X_test_sparse_new_3 = csr_matrix(hstack([X_test_sparse_new_3, new_feat_test[\"evening\"].values.reshape(-1,1)]))\n",
    "X_test_sparse_new_3 = csr_matrix(hstack([X_test_sparse_new_3, new_feat_test[\"night\"].values.reshape(-1,1)]))\n",
    "X_train_sparse_new_3 = csr_matrix(hstack([X_train_sparse_new_3, new_feat_train[\"start_hour_scaled\"].values.reshape(-1,1)]))\n",
    "X_test_sparse_new_3 = csr_matrix(hstack([X_test_sparse_new_3, new_feat_test[\"start_hour_scaled\"].values.reshape(-1,1)]))\n",
    "X_train_sparse_new_3 = csr_matrix(hstack([X_train_sparse_new_3, new_feat_train[\"start_day_scaled\"].values.reshape(-1,1)]))\n",
    "X_test_sparse_new_3 = csr_matrix(hstack([X_test_sparse_new_3, new_feat_test[\"start_day_scaled\"].values.reshape(-1,1)]))\n",
    "\n"
   ]
  },
  {
   "cell_type": "code",
   "execution_count": 283,
   "id": "344a4d23",
   "metadata": {},
   "outputs": [
    {
     "name": "stderr",
     "output_type": "stream",
     "text": [
      "/Users/aleksashka/opt/anaconda3/lib/python3.9/site-packages/sklearn/linear_model/_logistic.py:763: ConvergenceWarning: lbfgs failed to converge (status=1):\n",
      "STOP: TOTAL NO. of ITERATIONS REACHED LIMIT.\n",
      "\n",
      "Increase the number of iterations (max_iter) or scale the data as shown in:\n",
      "    https://scikit-learn.org/stable/modules/preprocessing.html\n",
      "Please also refer to the documentation for alternative solver options:\n",
      "    https://scikit-learn.org/stable/modules/linear_model.html#logistic-regression\n",
      "  n_iter_i = _check_optimize_result(\n"
     ]
    }
   ],
   "source": [
    "logit_3 = LogisticRegression(n_jobs=-1,random_state=17)\n",
    "logit_3.fit(X_train_sparse_new_3, y_train)\n",
    "test_pred_3 = logit_3.predict_proba(X_test_sparse_new_3)[:,1]\n",
    "pd.Series(test_pred_3, index=range(1, test_pred_3.shape[0]+1), name=\"target\").to_csv(\n",
    "    'benchmark_top1_sc.csv', header=True, index_label=\"session_id\")"
   ]
  },
  {
   "cell_type": "code",
   "execution_count": 284,
   "id": "039138b6",
   "metadata": {},
   "outputs": [
    {
     "name": "stderr",
     "output_type": "stream",
     "text": [
      "/Users/aleksashka/opt/anaconda3/lib/python3.9/site-packages/sklearn/linear_model/_logistic.py:763: ConvergenceWarning: lbfgs failed to converge (status=1):\n",
      "STOP: TOTAL NO. of ITERATIONS REACHED LIMIT.\n",
      "\n",
      "Increase the number of iterations (max_iter) or scale the data as shown in:\n",
      "    https://scikit-learn.org/stable/modules/preprocessing.html\n",
      "Please also refer to the documentation for alternative solver options:\n",
      "    https://scikit-learn.org/stable/modules/linear_model.html#logistic-regression\n",
      "  n_iter_i = _check_optimize_result(\n"
     ]
    },
    {
     "data": {
      "text/plain": [
       "0.9627173279038341"
      ]
     },
     "execution_count": 284,
     "metadata": {},
     "output_type": "execute_result"
    }
   ],
   "source": [
    "get_auc_lr_valid(X_train_sparse_new_3, y_train)"
   ]
  },
  {
   "cell_type": "code",
   "execution_count": 285,
   "id": "d123eff6",
   "metadata": {},
   "outputs": [],
   "source": [
    "X_train_sparse_new_3 = csr_matrix(hstack([X_train_sparse, new_feat_train[\"start_month_scaled\"].values.reshape(-1,1)]))\n",
    "X_train_sparse_new_3 = csr_matrix(hstack([X_train_sparse_new_3, new_feat_train[\"morning\"].values.reshape(-1,1)]))\n",
    "X_train_sparse_new_3 = csr_matrix(hstack([X_train_sparse_new_3, new_feat_train[\"day\"].values.reshape(-1,1)]))\n",
    "X_train_sparse_new_3 = csr_matrix(hstack([X_train_sparse_new_3, new_feat_train[\"evening\"].values.reshape(-1,1)]))\n",
    "X_train_sparse_new_3 = csr_matrix(hstack([X_train_sparse_new_3, new_feat_train[\"night\"].values.reshape(-1,1)]))\n",
    "X_test_sparse_new_3 = csr_matrix(hstack([X_test_sparse, new_feat_test[\"start_month_scaled\"].values.reshape(-1,1)]))\n",
    "X_test_sparse_new_3 = csr_matrix(hstack([X_test_sparse_new_3, new_feat_test[\"morning\"].values.reshape(-1,1)]))\n",
    "X_test_sparse_new_3 = csr_matrix(hstack([X_test_sparse_new_3, new_feat_test[\"day\"].values.reshape(-1,1)]))\n",
    "X_test_sparse_new_3 = csr_matrix(hstack([X_test_sparse_new_3, new_feat_test[\"evening\"].values.reshape(-1,1)]))\n",
    "X_test_sparse_new_3 = csr_matrix(hstack([X_test_sparse_new_3, new_feat_test[\"night\"].values.reshape(-1,1)]))\n",
    "X_train_sparse_new_3 = csr_matrix(hstack([X_train_sparse_new_3, new_feat_train[\"start_day_scaled\"].values.reshape(-1,1)]))\n",
    "X_test_sparse_new_3 = csr_matrix(hstack([X_test_sparse_new_3, new_feat_test[\"start_day_scaled\"].values.reshape(-1,1)]))\n",
    "\n",
    "\n"
   ]
  },
  {
   "cell_type": "code",
   "execution_count": 295,
   "id": "d88db554",
   "metadata": {},
   "outputs": [
    {
     "name": "stderr",
     "output_type": "stream",
     "text": [
      "/Users/aleksashka/opt/anaconda3/lib/python3.9/site-packages/sklearn/linear_model/_logistic.py:763: ConvergenceWarning: lbfgs failed to converge (status=1):\n",
      "STOP: TOTAL NO. of ITERATIONS REACHED LIMIT.\n",
      "\n",
      "Increase the number of iterations (max_iter) or scale the data as shown in:\n",
      "    https://scikit-learn.org/stable/modules/preprocessing.html\n",
      "Please also refer to the documentation for alternative solver options:\n",
      "    https://scikit-learn.org/stable/modules/linear_model.html#logistic-regression\n",
      "  n_iter_i = _check_optimize_result(\n"
     ]
    }
   ],
   "source": [
    "logit_3 = LogisticRegression(n_jobs=-1,random_state=17)\n",
    "logit_3.fit(X_train_sparse_new_3, y_train)\n",
    "test_pred_3 = logit_3.predict_proba(X_test_sparse_new_3)[:,1]\n",
    "pd.Series(test_pred_3, index=range(1, test_pred_3.shape[0]+1), name=\"target\").to_csv(\n",
    "    'benchmark_top1_sc.csv', header=True, index_label=\"session_id\")"
   ]
  },
  {
   "cell_type": "code",
   "execution_count": 294,
   "id": "6bb5c77b",
   "metadata": {},
   "outputs": [
    {
     "name": "stderr",
     "output_type": "stream",
     "text": [
      "/Users/aleksashka/opt/anaconda3/lib/python3.9/site-packages/sklearn/linear_model/_logistic.py:763: ConvergenceWarning: lbfgs failed to converge (status=1):\n",
      "STOP: TOTAL NO. of ITERATIONS REACHED LIMIT.\n",
      "\n",
      "Increase the number of iterations (max_iter) or scale the data as shown in:\n",
      "    https://scikit-learn.org/stable/modules/preprocessing.html\n",
      "Please also refer to the documentation for alternative solver options:\n",
      "    https://scikit-learn.org/stable/modules/linear_model.html#logistic-regression\n",
      "  n_iter_i = _check_optimize_result(\n"
     ]
    },
    {
     "data": {
      "text/plain": [
       "0.9574430089763051"
      ]
     },
     "execution_count": 294,
     "metadata": {},
     "output_type": "execute_result"
    }
   ],
   "source": [
    "get_auc_lr_valid(X_train_sparse_new_3, y_train)"
   ]
  },
  {
   "cell_type": "code",
   "execution_count": 293,
   "id": "f74ee086",
   "metadata": {},
   "outputs": [],
   "source": [
    "X_train_sparse_new_3 = csr_matrix(hstack([X_train_sparse, new_feat_train[\"start_month_scaled\"].values.reshape(-1,1)]))\n",
    "X_test_sparse_new_3 = csr_matrix(hstack([X_test_sparse, new_feat_test[\"start_month_scaled\"].values.reshape(-1,1)]))\n",
    "X_train_sparse_new_3 = csr_matrix(hstack([X_train_sparse_new_3, new_feat_train[\"start_day_scaled\"].values.reshape(-1,1)]))\n",
    "X_test_sparse_new_3 = csr_matrix(hstack([X_test_sparse_new_3, new_feat_test[\"start_day_scaled\"].values.reshape(-1,1)]))\n",
    "X_train_sparse_new_3 = csr_matrix(hstack([X_train_sparse_new_3, new_feat_train[\"start_hour_scaled\"].values.reshape(-1,1)]))\n",
    "X_test_sparse_new_3 = csr_matrix(hstack([X_test_sparse_new_3, new_feat_test[\"start_hour_scaled\"].values.reshape(-1,1)]))\n",
    "X_train_sparse_new_3 = csr_matrix(hstack([X_train_sparse_new_3, new_feat_train[\"year_month_scaled\"].values.reshape(-1,1)]))\n",
    "X_test_sparse_new_3 = csr_matrix(hstack([X_test_sparse_new_3, new_feat_test[\"year_month_scaled\"].values.reshape(-1,1)]))\n",
    "\n",
    "\n"
   ]
  },
  {
   "cell_type": "code",
   "execution_count": null,
   "id": "5434a5b9",
   "metadata": {},
   "outputs": [],
   "source": []
  },
  {
   "cell_type": "code",
   "execution_count": null,
   "id": "5d177734",
   "metadata": {},
   "outputs": [],
   "source": []
  }
 ],
 "metadata": {
  "kernelspec": {
   "display_name": "Python 3 (ipykernel)",
   "language": "python",
   "name": "python3"
  },
  "language_info": {
   "codemirror_mode": {
    "name": "ipython",
    "version": 3
   },
   "file_extension": ".py",
   "mimetype": "text/x-python",
   "name": "python",
   "nbconvert_exporter": "python",
   "pygments_lexer": "ipython3",
   "version": "3.9.7"
  }
 },
 "nbformat": 4,
 "nbformat_minor": 5
}
