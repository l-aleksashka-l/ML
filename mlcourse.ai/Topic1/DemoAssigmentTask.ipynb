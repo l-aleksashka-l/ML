{
 "cells": [
  {
   "cell_type": "code",
   "execution_count": 1,
   "id": "f6d0673e",
   "metadata": {},
   "outputs": [],
   "source": [
    "import numpy as np\n",
    "import pandas as pd\n",
    "\n",
    "pd.set_option(\"display.max.columns\", 100)\n",
    "# to draw pictures in jupyter notebook\n",
    "%matplotlib inline\n",
    "# we don't like warnings\n",
    "# you can comment the following 2 lines if you'd like to\n",
    "import warnings\n",
    "\n",
    "import matplotlib.pyplot as plt\n",
    "import seaborn as sns\n",
    "\n",
    "warnings.filterwarnings(\"ignore\")"
   ]
  },
  {
   "cell_type": "code",
   "execution_count": 2,
   "id": "2238b009",
   "metadata": {},
   "outputs": [],
   "source": [
    "# for Jupyter-book, we copy data from GitHub, locally, to save Internet traffic,\n",
    "# you can specify the data/ folder from the root of your cloned\n",
    "# https://github.com/Yorko/mlcourse.ai repo, to save Internet traffic\n",
    "DATA_URL = \"https://raw.githubusercontent.com/Yorko/mlcourse.ai/master/data/\""
   ]
  },
  {
   "cell_type": "code",
   "execution_count": 3,
   "id": "ffe89f78",
   "metadata": {},
   "outputs": [
    {
     "data": {
      "text/html": [
       "<div>\n",
       "<style scoped>\n",
       "    .dataframe tbody tr th:only-of-type {\n",
       "        vertical-align: middle;\n",
       "    }\n",
       "\n",
       "    .dataframe tbody tr th {\n",
       "        vertical-align: top;\n",
       "    }\n",
       "\n",
       "    .dataframe thead th {\n",
       "        text-align: right;\n",
       "    }\n",
       "</style>\n",
       "<table border=\"1\" class=\"dataframe\">\n",
       "  <thead>\n",
       "    <tr style=\"text-align: right;\">\n",
       "      <th></th>\n",
       "      <th>age</th>\n",
       "      <th>workclass</th>\n",
       "      <th>fnlwgt</th>\n",
       "      <th>education</th>\n",
       "      <th>education-num</th>\n",
       "      <th>marital-status</th>\n",
       "      <th>occupation</th>\n",
       "      <th>relationship</th>\n",
       "      <th>race</th>\n",
       "      <th>sex</th>\n",
       "      <th>capital-gain</th>\n",
       "      <th>capital-loss</th>\n",
       "      <th>hours-per-week</th>\n",
       "      <th>native-country</th>\n",
       "      <th>salary</th>\n",
       "    </tr>\n",
       "  </thead>\n",
       "  <tbody>\n",
       "    <tr>\n",
       "      <th>0</th>\n",
       "      <td>39</td>\n",
       "      <td>State-gov</td>\n",
       "      <td>77516</td>\n",
       "      <td>Bachelors</td>\n",
       "      <td>13</td>\n",
       "      <td>Never-married</td>\n",
       "      <td>Adm-clerical</td>\n",
       "      <td>Not-in-family</td>\n",
       "      <td>White</td>\n",
       "      <td>Male</td>\n",
       "      <td>2174</td>\n",
       "      <td>0</td>\n",
       "      <td>40</td>\n",
       "      <td>United-States</td>\n",
       "      <td>&lt;=50K</td>\n",
       "    </tr>\n",
       "    <tr>\n",
       "      <th>1</th>\n",
       "      <td>50</td>\n",
       "      <td>Self-emp-not-inc</td>\n",
       "      <td>83311</td>\n",
       "      <td>Bachelors</td>\n",
       "      <td>13</td>\n",
       "      <td>Married-civ-spouse</td>\n",
       "      <td>Exec-managerial</td>\n",
       "      <td>Husband</td>\n",
       "      <td>White</td>\n",
       "      <td>Male</td>\n",
       "      <td>0</td>\n",
       "      <td>0</td>\n",
       "      <td>13</td>\n",
       "      <td>United-States</td>\n",
       "      <td>&lt;=50K</td>\n",
       "    </tr>\n",
       "    <tr>\n",
       "      <th>2</th>\n",
       "      <td>38</td>\n",
       "      <td>Private</td>\n",
       "      <td>215646</td>\n",
       "      <td>HS-grad</td>\n",
       "      <td>9</td>\n",
       "      <td>Divorced</td>\n",
       "      <td>Handlers-cleaners</td>\n",
       "      <td>Not-in-family</td>\n",
       "      <td>White</td>\n",
       "      <td>Male</td>\n",
       "      <td>0</td>\n",
       "      <td>0</td>\n",
       "      <td>40</td>\n",
       "      <td>United-States</td>\n",
       "      <td>&lt;=50K</td>\n",
       "    </tr>\n",
       "    <tr>\n",
       "      <th>3</th>\n",
       "      <td>53</td>\n",
       "      <td>Private</td>\n",
       "      <td>234721</td>\n",
       "      <td>11th</td>\n",
       "      <td>7</td>\n",
       "      <td>Married-civ-spouse</td>\n",
       "      <td>Handlers-cleaners</td>\n",
       "      <td>Husband</td>\n",
       "      <td>Black</td>\n",
       "      <td>Male</td>\n",
       "      <td>0</td>\n",
       "      <td>0</td>\n",
       "      <td>40</td>\n",
       "      <td>United-States</td>\n",
       "      <td>&lt;=50K</td>\n",
       "    </tr>\n",
       "    <tr>\n",
       "      <th>4</th>\n",
       "      <td>28</td>\n",
       "      <td>Private</td>\n",
       "      <td>338409</td>\n",
       "      <td>Bachelors</td>\n",
       "      <td>13</td>\n",
       "      <td>Married-civ-spouse</td>\n",
       "      <td>Prof-specialty</td>\n",
       "      <td>Wife</td>\n",
       "      <td>Black</td>\n",
       "      <td>Female</td>\n",
       "      <td>0</td>\n",
       "      <td>0</td>\n",
       "      <td>40</td>\n",
       "      <td>Cuba</td>\n",
       "      <td>&lt;=50K</td>\n",
       "    </tr>\n",
       "  </tbody>\n",
       "</table>\n",
       "</div>"
      ],
      "text/plain": [
       "   age         workclass  fnlwgt  education  education-num  \\\n",
       "0   39         State-gov   77516  Bachelors             13   \n",
       "1   50  Self-emp-not-inc   83311  Bachelors             13   \n",
       "2   38           Private  215646    HS-grad              9   \n",
       "3   53           Private  234721       11th              7   \n",
       "4   28           Private  338409  Bachelors             13   \n",
       "\n",
       "       marital-status         occupation   relationship   race     sex  \\\n",
       "0       Never-married       Adm-clerical  Not-in-family  White    Male   \n",
       "1  Married-civ-spouse    Exec-managerial        Husband  White    Male   \n",
       "2            Divorced  Handlers-cleaners  Not-in-family  White    Male   \n",
       "3  Married-civ-spouse  Handlers-cleaners        Husband  Black    Male   \n",
       "4  Married-civ-spouse     Prof-specialty           Wife  Black  Female   \n",
       "\n",
       "   capital-gain  capital-loss  hours-per-week native-country salary  \n",
       "0          2174             0              40  United-States  <=50K  \n",
       "1             0             0              13  United-States  <=50K  \n",
       "2             0             0              40  United-States  <=50K  \n",
       "3             0             0              40  United-States  <=50K  \n",
       "4             0             0              40           Cuba  <=50K  "
      ]
     },
     "execution_count": 3,
     "metadata": {},
     "output_type": "execute_result"
    }
   ],
   "source": [
    "data = pd.read_csv(DATA_URL + \"adult.data.csv\")\n",
    "data.head()"
   ]
  },
  {
   "cell_type": "markdown",
   "id": "1fbf23d6",
   "metadata": {},
   "source": [
    "### 1. How many men and women (sex feature) are represented in this dataset?"
   ]
  },
  {
   "cell_type": "code",
   "execution_count": 8,
   "id": "3a6c4c2a",
   "metadata": {},
   "outputs": [
    {
     "data": {
      "text/plain": [
       "Male      21790\n",
       "Female    10771\n",
       "Name: sex, dtype: int64"
      ]
     },
     "execution_count": 8,
     "metadata": {},
     "output_type": "execute_result"
    }
   ],
   "source": [
    "data[\"sex\"].value_counts()"
   ]
  },
  {
   "cell_type": "markdown",
   "id": "d5b23dec",
   "metadata": {},
   "source": [
    "### 2. What is the average age (age feature) of women?"
   ]
  },
  {
   "cell_type": "code",
   "execution_count": 9,
   "id": "d9cf68ff",
   "metadata": {},
   "outputs": [
    {
     "data": {
      "text/plain": [
       "36.85823043357163"
      ]
     },
     "execution_count": 9,
     "metadata": {},
     "output_type": "execute_result"
    }
   ],
   "source": [
    "data[data.sex==\"Female\"][\"age\"].mean()"
   ]
  },
  {
   "cell_type": "markdown",
   "id": "c10f6662",
   "metadata": {},
   "source": [
    "### 3. What is the percentage of German citizens (native-country feature)?"
   ]
  },
  {
   "cell_type": "code",
   "execution_count": 30,
   "id": "b1a532ac",
   "metadata": {},
   "outputs": [
    {
     "data": {
      "text/plain": [
       "0.42074874850281013"
      ]
     },
     "execution_count": 30,
     "metadata": {},
     "output_type": "execute_result"
    }
   ],
   "source": [
    "float((data[\"native-country\"] == \"Germany\").sum()) * 100 / data.shape[0]"
   ]
  },
  {
   "cell_type": "code",
   "execution_count": 27,
   "id": "208c84fb",
   "metadata": {},
   "outputs": [
    {
     "data": {
      "text/plain": [
       "32561"
      ]
     },
     "execution_count": 27,
     "metadata": {},
     "output_type": "execute_result"
    }
   ],
   "source": [
    "data.shape[0]"
   ]
  },
  {
   "cell_type": "code",
   "execution_count": 28,
   "id": "40b5e646",
   "metadata": {},
   "outputs": [
    {
     "data": {
      "text/plain": [
       "United-States                 29170\n",
       "Mexico                          643\n",
       "?                               583\n",
       "Philippines                     198\n",
       "Germany                         137\n",
       "Canada                          121\n",
       "Puerto-Rico                     114\n",
       "El-Salvador                     106\n",
       "India                           100\n",
       "Cuba                             95\n",
       "England                          90\n",
       "Jamaica                          81\n",
       "South                            80\n",
       "China                            75\n",
       "Italy                            73\n",
       "Dominican-Republic               70\n",
       "Vietnam                          67\n",
       "Guatemala                        64\n",
       "Japan                            62\n",
       "Poland                           60\n",
       "Columbia                         59\n",
       "Taiwan                           51\n",
       "Haiti                            44\n",
       "Iran                             43\n",
       "Portugal                         37\n",
       "Nicaragua                        34\n",
       "Peru                             31\n",
       "France                           29\n",
       "Greece                           29\n",
       "Ecuador                          28\n",
       "Ireland                          24\n",
       "Hong                             20\n",
       "Cambodia                         19\n",
       "Trinadad&Tobago                  19\n",
       "Laos                             18\n",
       "Thailand                         18\n",
       "Yugoslavia                       16\n",
       "Outlying-US(Guam-USVI-etc)       14\n",
       "Honduras                         13\n",
       "Hungary                          13\n",
       "Scotland                         12\n",
       "Holand-Netherlands                1\n",
       "Name: native-country, dtype: int64"
      ]
     },
     "execution_count": 28,
     "metadata": {},
     "output_type": "execute_result"
    }
   ],
   "source": [
    "data[\"native-country\"].value_counts()"
   ]
  },
  {
   "cell_type": "code",
   "execution_count": 31,
   "id": "c6234642",
   "metadata": {},
   "outputs": [],
   "source": [
    "test = pd.read_csv(\"shmya_final_version.csv\")"
   ]
  },
  {
   "cell_type": "code",
   "execution_count": 32,
   "id": "e75f2e03",
   "metadata": {},
   "outputs": [
    {
     "data": {
      "text/html": [
       "<div>\n",
       "<style scoped>\n",
       "    .dataframe tbody tr th:only-of-type {\n",
       "        vertical-align: middle;\n",
       "    }\n",
       "\n",
       "    .dataframe tbody tr th {\n",
       "        vertical-align: top;\n",
       "    }\n",
       "\n",
       "    .dataframe thead th {\n",
       "        text-align: right;\n",
       "    }\n",
       "</style>\n",
       "<table border=\"1\" class=\"dataframe\">\n",
       "  <thead>\n",
       "    <tr style=\"text-align: right;\">\n",
       "      <th></th>\n",
       "      <th>date</th>\n",
       "      <th>cutlery</th>\n",
       "      <th>tips</th>\n",
       "      <th>order_price</th>\n",
       "      <th>uid</th>\n",
       "      <th>order_id</th>\n",
       "    </tr>\n",
       "  </thead>\n",
       "  <tbody>\n",
       "    <tr>\n",
       "      <th>0</th>\n",
       "      <td>2022-01-17 06:38:43</td>\n",
       "      <td>3</td>\n",
       "      <td>100</td>\n",
       "      <td>1001</td>\n",
       "      <td>120967</td>\n",
       "      <td>73041443</td>\n",
       "    </tr>\n",
       "    <tr>\n",
       "      <th>1</th>\n",
       "      <td>2022-01-23 11:09:22</td>\n",
       "      <td>4</td>\n",
       "      <td>110</td>\n",
       "      <td>309</td>\n",
       "      <td>325757</td>\n",
       "      <td>60500835</td>\n",
       "    </tr>\n",
       "    <tr>\n",
       "      <th>2</th>\n",
       "      <td>2022-01-24 19:40:03</td>\n",
       "      <td>1</td>\n",
       "      <td>10</td>\n",
       "      <td>891</td>\n",
       "      <td>986730</td>\n",
       "      <td>43230531</td>\n",
       "    </tr>\n",
       "    <tr>\n",
       "      <th>3</th>\n",
       "      <td>2022-01-14 18:01:22</td>\n",
       "      <td>5</td>\n",
       "      <td>70</td>\n",
       "      <td>749</td>\n",
       "      <td>868648</td>\n",
       "      <td>46180789</td>\n",
       "    </tr>\n",
       "    <tr>\n",
       "      <th>4</th>\n",
       "      <td>2022-01-19 22:32:43</td>\n",
       "      <td>2</td>\n",
       "      <td>10</td>\n",
       "      <td>469</td>\n",
       "      <td>863523</td>\n",
       "      <td>59266169</td>\n",
       "    </tr>\n",
       "    <tr>\n",
       "      <th>...</th>\n",
       "      <td>...</td>\n",
       "      <td>...</td>\n",
       "      <td>...</td>\n",
       "      <td>...</td>\n",
       "      <td>...</td>\n",
       "      <td>...</td>\n",
       "    </tr>\n",
       "    <tr>\n",
       "      <th>26052</th>\n",
       "      <td>2022-01-04 05:21:39</td>\n",
       "      <td>4</td>\n",
       "      <td>10</td>\n",
       "      <td>763</td>\n",
       "      <td>182587</td>\n",
       "      <td>85041983</td>\n",
       "    </tr>\n",
       "    <tr>\n",
       "      <th>26053</th>\n",
       "      <td>2022-01-18 14:43:12</td>\n",
       "      <td>3</td>\n",
       "      <td>60</td>\n",
       "      <td>790</td>\n",
       "      <td>187031</td>\n",
       "      <td>47894568</td>\n",
       "    </tr>\n",
       "    <tr>\n",
       "      <th>26054</th>\n",
       "      <td>2022-01-26 18:08:02</td>\n",
       "      <td>1</td>\n",
       "      <td>90</td>\n",
       "      <td>502</td>\n",
       "      <td>247419</td>\n",
       "      <td>75350869</td>\n",
       "    </tr>\n",
       "    <tr>\n",
       "      <th>26055</th>\n",
       "      <td>2022-01-18 05:55:09</td>\n",
       "      <td>2</td>\n",
       "      <td>80</td>\n",
       "      <td>418</td>\n",
       "      <td>474601</td>\n",
       "      <td>79438423</td>\n",
       "    </tr>\n",
       "    <tr>\n",
       "      <th>26056</th>\n",
       "      <td>2022-01-09 01:06:30</td>\n",
       "      <td>2</td>\n",
       "      <td>50</td>\n",
       "      <td>802</td>\n",
       "      <td>898956</td>\n",
       "      <td>87138202</td>\n",
       "    </tr>\n",
       "  </tbody>\n",
       "</table>\n",
       "<p>26057 rows × 6 columns</p>\n",
       "</div>"
      ],
      "text/plain": [
       "                      date  cutlery  tips  order_price     uid  order_id\n",
       "0      2022-01-17 06:38:43        3   100         1001  120967  73041443\n",
       "1      2022-01-23 11:09:22        4   110          309  325757  60500835\n",
       "2      2022-01-24 19:40:03        1    10          891  986730  43230531\n",
       "3      2022-01-14 18:01:22        5    70          749  868648  46180789\n",
       "4      2022-01-19 22:32:43        2    10          469  863523  59266169\n",
       "...                    ...      ...   ...          ...     ...       ...\n",
       "26052  2022-01-04 05:21:39        4    10          763  182587  85041983\n",
       "26053  2022-01-18 14:43:12        3    60          790  187031  47894568\n",
       "26054  2022-01-26 18:08:02        1    90          502  247419  75350869\n",
       "26055  2022-01-18 05:55:09        2    80          418  474601  79438423\n",
       "26056  2022-01-09 01:06:30        2    50          802  898956  87138202\n",
       "\n",
       "[26057 rows x 6 columns]"
      ]
     },
     "execution_count": 32,
     "metadata": {},
     "output_type": "execute_result"
    }
   ],
   "source": [
    "test"
   ]
  },
  {
   "cell_type": "code",
   "execution_count": 46,
   "id": "31fb7934",
   "metadata": {},
   "outputs": [
    {
     "data": {
      "text/plain": [
       "78.87790616733955"
      ]
     },
     "execution_count": 46,
     "metadata": {},
     "output_type": "execute_result"
    }
   ],
   "source": [
    "test[(test[\"order_price\"]!=0) & (test[\"cutlery\"]>2)][\"tips\"].mean()"
   ]
  },
  {
   "cell_type": "code",
   "execution_count": 48,
   "id": "799ae237",
   "metadata": {},
   "outputs": [
    {
     "data": {
      "text/plain": [
       "51.55533176681213"
      ]
     },
     "execution_count": 48,
     "metadata": {},
     "output_type": "execute_result"
    }
   ],
   "source": [
    "test[(test[\"order_price\"]!=0) & (test[\"cutlery\"]<=2)][\"tips\"].mean()"
   ]
  },
  {
   "cell_type": "code",
   "execution_count": 36,
   "id": "8a7b5390",
   "metadata": {},
   "outputs": [
    {
     "data": {
      "text/plain": [
       "0"
      ]
     },
     "execution_count": 36,
     "metadata": {},
     "output_type": "execute_result"
    }
   ],
   "source": [
    "test[test[\"cutlery\"]>2].order_price.min()"
   ]
  },
  {
   "cell_type": "code",
   "execution_count": 45,
   "id": "e70cf0c1",
   "metadata": {},
   "outputs": [
    {
     "data": {
      "text/plain": [
       "254"
      ]
     },
     "execution_count": 45,
     "metadata": {},
     "output_type": "execute_result"
    }
   ],
   "source": [
    "test[(test[\"order_price\"]!=0) & (test[\"cutlery\"]>2)].order_price.min()"
   ]
  },
  {
   "cell_type": "code",
   "execution_count": 50,
   "id": "40100658",
   "metadata": {},
   "outputs": [
    {
     "data": {
      "text/plain": [
       "1044"
      ]
     },
     "execution_count": 50,
     "metadata": {},
     "output_type": "execute_result"
    }
   ],
   "source": [
    "test[(test[\"order_price\"]!=0) & (test[\"cutlery\"]<=2)].order_price.max()"
   ]
  },
  {
   "cell_type": "code",
   "execution_count": 52,
   "id": "c213df67",
   "metadata": {},
   "outputs": [
    {
     "name": "stdout",
     "output_type": "stream",
     "text": [
      "<class 'pandas.core.frame.DataFrame'>\n",
      "RangeIndex: 26057 entries, 0 to 26056\n",
      "Data columns (total 6 columns):\n",
      " #   Column       Non-Null Count  Dtype \n",
      "---  ------       --------------  ----- \n",
      " 0   date         26057 non-null  object\n",
      " 1   cutlery      26057 non-null  int64 \n",
      " 2   tips         26057 non-null  int64 \n",
      " 3   order_price  26057 non-null  int64 \n",
      " 4   uid          26057 non-null  int64 \n",
      " 5   order_id     26057 non-null  int64 \n",
      "dtypes: int64(5), object(1)\n",
      "memory usage: 1.2+ MB\n"
     ]
    }
   ],
   "source": [
    "test.info()"
   ]
  },
  {
   "cell_type": "code",
   "execution_count": 54,
   "id": "ce29ed0c",
   "metadata": {},
   "outputs": [],
   "source": [
    "from datetime import datetime"
   ]
  },
  {
   "cell_type": "code",
   "execution_count": 76,
   "id": "1724e982",
   "metadata": {},
   "outputs": [],
   "source": [
    "testt = test.query(\"date < '2022-01-09'\")"
   ]
  },
  {
   "cell_type": "code",
   "execution_count": 75,
   "id": "5ce077bd",
   "metadata": {},
   "outputs": [
    {
     "data": {
      "text/plain": [
       "17221"
      ]
     },
     "execution_count": 75,
     "metadata": {},
     "output_type": "execute_result"
    }
   ],
   "source": [
    "testt.uid.count()"
   ]
  },
  {
   "cell_type": "code",
   "execution_count": 74,
   "id": "b095f7bf",
   "metadata": {},
   "outputs": [
    {
     "data": {
      "text/plain": [
       "0        120967\n",
       "18       255228\n",
       "23       781632\n",
       "46       638996\n",
       "52       686259\n",
       "          ...  \n",
       "26027    739019\n",
       "26033    540487\n",
       "26034    117066\n",
       "26038    958020\n",
       "26043    908699\n",
       "Name: uid, Length: 3529, dtype: int64"
      ]
     },
     "execution_count": 74,
     "metadata": {},
     "output_type": "execute_result"
    }
   ],
   "source": [
    "testt[(testt[\"order_price\"]>800)&(test[\"cutlery\"]>2)].uid"
   ]
  },
  {
   "cell_type": "code",
   "execution_count": 73,
   "id": "964726ed",
   "metadata": {},
   "outputs": [
    {
     "data": {
      "text/plain": [
       "3529"
      ]
     },
     "execution_count": 73,
     "metadata": {},
     "output_type": "execute_result"
    }
   ],
   "source": [
    "testt[(testt[\"order_price\"]>800)&(test[\"cutlery\"]>2)].uid.count()"
   ]
  },
  {
   "cell_type": "code",
   "execution_count": null,
   "id": "8e4f9468",
   "metadata": {},
   "outputs": [],
   "source": []
  }
 ],
 "metadata": {
  "kernelspec": {
   "display_name": "Python 3 (ipykernel)",
   "language": "python",
   "name": "python3"
  },
  "language_info": {
   "codemirror_mode": {
    "name": "ipython",
    "version": 3
   },
   "file_extension": ".py",
   "mimetype": "text/x-python",
   "name": "python",
   "nbconvert_exporter": "python",
   "pygments_lexer": "ipython3",
   "version": "3.9.7"
  }
 },
 "nbformat": 4,
 "nbformat_minor": 5
}
