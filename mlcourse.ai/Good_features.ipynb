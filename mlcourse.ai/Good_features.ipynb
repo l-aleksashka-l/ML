{
 "cells": [
  {
   "cell_type": "markdown",
   "id": "a33f0c64",
   "metadata": {},
   "source": [
    "### Digits after (,) "
   ]
  },
  {
   "cell_type": "code",
   "execution_count": 1,
   "id": "0e726f25",
   "metadata": {},
   "outputs": [],
   "source": [
    "def toFixed(numObj, digits=0):\n",
    "    return f\"{numObj:.{digits}f}\""
   ]
  },
  {
   "cell_type": "code",
   "execution_count": null,
   "id": "0a4f9c4d",
   "metadata": {},
   "outputs": [],
   "source": []
  }
 ],
 "metadata": {
  "kernelspec": {
   "display_name": "Python 3 (ipykernel)",
   "language": "python",
   "name": "python3"
  },
  "language_info": {
   "codemirror_mode": {
    "name": "ipython",
    "version": 3
   },
   "file_extension": ".py",
   "mimetype": "text/x-python",
   "name": "python",
   "nbconvert_exporter": "python",
   "pygments_lexer": "ipython3",
   "version": "3.9.7"
  }
 },
 "nbformat": 4,
 "nbformat_minor": 5
}
