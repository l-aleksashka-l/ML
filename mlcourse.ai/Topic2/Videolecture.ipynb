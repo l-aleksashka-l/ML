{
 "cells": [
  {
   "cell_type": "markdown",
   "id": "d414c7b1",
   "metadata": {},
   "source": [
    "# Link to Github with QR-code"
   ]
  },
  {
   "cell_type": "code",
   "execution_count": 13,
   "id": "efc095db",
   "metadata": {},
   "outputs": [],
   "source": [
    "import pyqrcode\n",
    "from pyqrcode import QRCode"
   ]
  },
  {
   "cell_type": "code",
   "execution_count": 4,
   "id": "eca114ab",
   "metadata": {},
   "outputs": [],
   "source": [
    "gitlink = \"https://github.com/l-aleksashka-l\""
   ]
  },
  {
   "cell_type": "code",
   "execution_count": 5,
   "id": "9451ffa3",
   "metadata": {},
   "outputs": [],
   "source": [
    "url = pyqrcode.create(gitlink)"
   ]
  },
  {
   "cell_type": "code",
   "execution_count": 7,
   "id": "a4ea60ef",
   "metadata": {},
   "outputs": [],
   "source": [
    "url.svg(\"git.svg\", scale=8)"
   ]
  },
  {
   "cell_type": "markdown",
   "id": "cbc923a6",
   "metadata": {},
   "source": [
    "<img src=\"git.svg\">"
   ]
  },
  {
   "cell_type": "markdown",
   "id": "0c6e4a6c",
   "metadata": {},
   "source": [
    "# Language Detection"
   ]
  },
  {
   "cell_type": "code",
   "execution_count": 16,
   "id": "adc52f68",
   "metadata": {},
   "outputs": [],
   "source": [
    "from langdetect import detect"
   ]
  },
  {
   "cell_type": "code",
   "execution_count": 32,
   "id": "9e5e8d16",
   "metadata": {},
   "outputs": [
    {
     "name": "stdout",
     "output_type": "stream",
     "text": [
      "Enter any text in any language: Красота\n"
     ]
    }
   ],
   "source": [
    "text = input(\"Enter any text in any language: \")"
   ]
  },
  {
   "cell_type": "code",
   "execution_count": 31,
   "id": "adccae5f",
   "metadata": {},
   "outputs": [
    {
     "name": "stdout",
     "output_type": "stream",
     "text": [
      "ru\n"
     ]
    }
   ],
   "source": [
    "print(detect(text))"
   ]
  },
  {
   "cell_type": "markdown",
   "id": "becfb2a5",
   "metadata": {},
   "source": [
    "# YT Video Downloader"
   ]
  },
  {
   "cell_type": "code",
   "execution_count": 33,
   "id": "c0cbc397",
   "metadata": {},
   "outputs": [],
   "source": [
    "import pytube"
   ]
  },
  {
   "cell_type": "code",
   "execution_count": 35,
   "id": "57513f03",
   "metadata": {},
   "outputs": [
    {
     "name": "stdout",
     "output_type": "stream",
     "text": [
      "Enter YouTube Video URL: https://youtu.be/vm63p8Od0bM\n"
     ]
    }
   ],
   "source": [
    "link = input('Enter YouTube Video URL: ')"
   ]
  },
  {
   "cell_type": "code",
   "execution_count": 36,
   "id": "8385f699",
   "metadata": {},
   "outputs": [],
   "source": [
    "yt = pytube.YouTube(link)"
   ]
  },
  {
   "cell_type": "code",
   "execution_count": 39,
   "id": "f59d511b",
   "metadata": {},
   "outputs": [
    {
     "name": "stdout",
     "output_type": "stream",
     "text": [
      "Downloaded:  https://youtu.be/vm63p8Od0bM\n"
     ]
    }
   ],
   "source": [
    "yt.streams.first().download()\n",
    "print(\"Downloaded: \", link)"
   ]
  },
  {
   "cell_type": "markdown",
   "id": "9a7987cf",
   "metadata": {},
   "source": [
    "# Convert Images to PDF"
   ]
  },
  {
   "cell_type": "code",
   "execution_count": 41,
   "id": "1cbd668f",
   "metadata": {},
   "outputs": [],
   "source": [
    "from fpdf import FPDF"
   ]
  },
  {
   "cell_type": "code",
   "execution_count": 42,
   "id": "b6815a1a",
   "metadata": {},
   "outputs": [],
   "source": [
    "pdf = FPDF()"
   ]
  },
  {
   "cell_type": "code",
   "execution_count": 43,
   "id": "e41caf7e",
   "metadata": {},
   "outputs": [],
   "source": [
    "list_of_images = [\"git.svg\"]"
   ]
  },
  {
   "cell_type": "code",
   "execution_count": 45,
   "id": "80b49c5e",
   "metadata": {},
   "outputs": [],
   "source": [
    "#for i in list_of_images:\n",
    "#    pdf.add_page()\n",
    "#    pdf.image(i,x,y,w,h)"
   ]
  },
  {
   "cell_type": "markdown",
   "id": "f05b1312",
   "metadata": {},
   "source": [
    "# Videolecture"
   ]
  },
  {
   "cell_type": "code",
   "execution_count": 189,
   "id": "6ddcc4e6",
   "metadata": {},
   "outputs": [],
   "source": [
    "import pandas as pd\n",
    "from matplotlib import pyplot as plt\n",
    "import seaborn as sns\n",
    "import numpy as np\n",
    "%matplotlib inline"
   ]
  },
  {
   "cell_type": "code",
   "execution_count": 48,
   "id": "48c3f7fb",
   "metadata": {},
   "outputs": [
    {
     "name": "stdout",
     "output_type": "stream",
     "text": [
      "Topic2.1.ipynb      Videolecture.ipynb  years_stats.html\r\n",
      "Topic2.2.ipynb      git.svg\r\n"
     ]
    }
   ],
   "source": [
    "ls\n",
    "#seaborn like "
   ]
  },
  {
   "cell_type": "code",
   "execution_count": 50,
   "id": "1d30575b",
   "metadata": {},
   "outputs": [],
   "source": [
    "df = pd.read_csv('csv/telecom_churn.csv')"
   ]
  },
  {
   "cell_type": "code",
   "execution_count": 52,
   "id": "d9c5bebd",
   "metadata": {},
   "outputs": [
    {
     "data": {
      "text/html": [
       "<div>\n",
       "<style scoped>\n",
       "    .dataframe tbody tr th:only-of-type {\n",
       "        vertical-align: middle;\n",
       "    }\n",
       "\n",
       "    .dataframe tbody tr th {\n",
       "        vertical-align: top;\n",
       "    }\n",
       "\n",
       "    .dataframe thead th {\n",
       "        text-align: right;\n",
       "    }\n",
       "</style>\n",
       "<table border=\"1\" class=\"dataframe\">\n",
       "  <thead>\n",
       "    <tr style=\"text-align: right;\">\n",
       "      <th></th>\n",
       "      <th>State</th>\n",
       "      <th>Account length</th>\n",
       "      <th>Area code</th>\n",
       "      <th>International plan</th>\n",
       "      <th>Voice mail plan</th>\n",
       "      <th>Number vmail messages</th>\n",
       "      <th>Total day minutes</th>\n",
       "      <th>Total day calls</th>\n",
       "      <th>Total day charge</th>\n",
       "      <th>Total eve minutes</th>\n",
       "      <th>Total eve calls</th>\n",
       "      <th>Total eve charge</th>\n",
       "      <th>Total night minutes</th>\n",
       "      <th>Total night calls</th>\n",
       "      <th>Total night charge</th>\n",
       "      <th>Total intl minutes</th>\n",
       "      <th>Total intl calls</th>\n",
       "      <th>Total intl charge</th>\n",
       "      <th>Customer service calls</th>\n",
       "      <th>Churn</th>\n",
       "    </tr>\n",
       "  </thead>\n",
       "  <tbody>\n",
       "    <tr>\n",
       "      <th>0</th>\n",
       "      <td>KS</td>\n",
       "      <td>128</td>\n",
       "      <td>415</td>\n",
       "      <td>No</td>\n",
       "      <td>Yes</td>\n",
       "      <td>25</td>\n",
       "      <td>265.1</td>\n",
       "      <td>110</td>\n",
       "      <td>45.07</td>\n",
       "      <td>197.4</td>\n",
       "      <td>99</td>\n",
       "      <td>16.78</td>\n",
       "      <td>244.7</td>\n",
       "      <td>91</td>\n",
       "      <td>11.01</td>\n",
       "      <td>10.0</td>\n",
       "      <td>3</td>\n",
       "      <td>2.70</td>\n",
       "      <td>1</td>\n",
       "      <td>False</td>\n",
       "    </tr>\n",
       "    <tr>\n",
       "      <th>1</th>\n",
       "      <td>OH</td>\n",
       "      <td>107</td>\n",
       "      <td>415</td>\n",
       "      <td>No</td>\n",
       "      <td>Yes</td>\n",
       "      <td>26</td>\n",
       "      <td>161.6</td>\n",
       "      <td>123</td>\n",
       "      <td>27.47</td>\n",
       "      <td>195.5</td>\n",
       "      <td>103</td>\n",
       "      <td>16.62</td>\n",
       "      <td>254.4</td>\n",
       "      <td>103</td>\n",
       "      <td>11.45</td>\n",
       "      <td>13.7</td>\n",
       "      <td>3</td>\n",
       "      <td>3.70</td>\n",
       "      <td>1</td>\n",
       "      <td>False</td>\n",
       "    </tr>\n",
       "    <tr>\n",
       "      <th>2</th>\n",
       "      <td>NJ</td>\n",
       "      <td>137</td>\n",
       "      <td>415</td>\n",
       "      <td>No</td>\n",
       "      <td>No</td>\n",
       "      <td>0</td>\n",
       "      <td>243.4</td>\n",
       "      <td>114</td>\n",
       "      <td>41.38</td>\n",
       "      <td>121.2</td>\n",
       "      <td>110</td>\n",
       "      <td>10.30</td>\n",
       "      <td>162.6</td>\n",
       "      <td>104</td>\n",
       "      <td>7.32</td>\n",
       "      <td>12.2</td>\n",
       "      <td>5</td>\n",
       "      <td>3.29</td>\n",
       "      <td>0</td>\n",
       "      <td>False</td>\n",
       "    </tr>\n",
       "    <tr>\n",
       "      <th>3</th>\n",
       "      <td>OH</td>\n",
       "      <td>84</td>\n",
       "      <td>408</td>\n",
       "      <td>Yes</td>\n",
       "      <td>No</td>\n",
       "      <td>0</td>\n",
       "      <td>299.4</td>\n",
       "      <td>71</td>\n",
       "      <td>50.90</td>\n",
       "      <td>61.9</td>\n",
       "      <td>88</td>\n",
       "      <td>5.26</td>\n",
       "      <td>196.9</td>\n",
       "      <td>89</td>\n",
       "      <td>8.86</td>\n",
       "      <td>6.6</td>\n",
       "      <td>7</td>\n",
       "      <td>1.78</td>\n",
       "      <td>2</td>\n",
       "      <td>False</td>\n",
       "    </tr>\n",
       "    <tr>\n",
       "      <th>4</th>\n",
       "      <td>OK</td>\n",
       "      <td>75</td>\n",
       "      <td>415</td>\n",
       "      <td>Yes</td>\n",
       "      <td>No</td>\n",
       "      <td>0</td>\n",
       "      <td>166.7</td>\n",
       "      <td>113</td>\n",
       "      <td>28.34</td>\n",
       "      <td>148.3</td>\n",
       "      <td>122</td>\n",
       "      <td>12.61</td>\n",
       "      <td>186.9</td>\n",
       "      <td>121</td>\n",
       "      <td>8.41</td>\n",
       "      <td>10.1</td>\n",
       "      <td>3</td>\n",
       "      <td>2.73</td>\n",
       "      <td>3</td>\n",
       "      <td>False</td>\n",
       "    </tr>\n",
       "  </tbody>\n",
       "</table>\n",
       "</div>"
      ],
      "text/plain": [
       "  State  Account length  Area code International plan Voice mail plan  \\\n",
       "0    KS             128        415                 No             Yes   \n",
       "1    OH             107        415                 No             Yes   \n",
       "2    NJ             137        415                 No              No   \n",
       "3    OH              84        408                Yes              No   \n",
       "4    OK              75        415                Yes              No   \n",
       "\n",
       "   Number vmail messages  Total day minutes  Total day calls  \\\n",
       "0                     25              265.1              110   \n",
       "1                     26              161.6              123   \n",
       "2                      0              243.4              114   \n",
       "3                      0              299.4               71   \n",
       "4                      0              166.7              113   \n",
       "\n",
       "   Total day charge  Total eve minutes  Total eve calls  Total eve charge  \\\n",
       "0             45.07              197.4               99             16.78   \n",
       "1             27.47              195.5              103             16.62   \n",
       "2             41.38              121.2              110             10.30   \n",
       "3             50.90               61.9               88              5.26   \n",
       "4             28.34              148.3              122             12.61   \n",
       "\n",
       "   Total night minutes  Total night calls  Total night charge  \\\n",
       "0                244.7                 91               11.01   \n",
       "1                254.4                103               11.45   \n",
       "2                162.6                104                7.32   \n",
       "3                196.9                 89                8.86   \n",
       "4                186.9                121                8.41   \n",
       "\n",
       "   Total intl minutes  Total intl calls  Total intl charge  \\\n",
       "0                10.0                 3               2.70   \n",
       "1                13.7                 3               3.70   \n",
       "2                12.2                 5               3.29   \n",
       "3                 6.6                 7               1.78   \n",
       "4                10.1                 3               2.73   \n",
       "\n",
       "   Customer service calls  Churn  \n",
       "0                       1  False  \n",
       "1                       1  False  \n",
       "2                       0  False  \n",
       "3                       2  False  \n",
       "4                       3  False  "
      ]
     },
     "execution_count": 52,
     "metadata": {},
     "output_type": "execute_result"
    }
   ],
   "source": [
    "df.head()"
   ]
  },
  {
   "cell_type": "markdown",
   "id": "ee2ca614",
   "metadata": {},
   "source": [
    "## 1.  Признаки по одному"
   ]
  },
  {
   "cell_type": "markdown",
   "id": "0c3834c9",
   "metadata": {},
   "source": [
    "### 1.1. Количественные"
   ]
  },
  {
   "cell_type": "code",
   "execution_count": 53,
   "id": "43f595a5",
   "metadata": {},
   "outputs": [
    {
     "data": {
      "text/plain": [
       "<AxesSubplot:>"
      ]
     },
     "execution_count": 53,
     "metadata": {},
     "output_type": "execute_result"
    },
    {
     "data": {
      "image/png": "[encoded data removed]",
      "text/plain": [
       "<Figure size 432x288 with 1 Axes>"
      ]
     },
     "metadata": {
      "needs_background": "light"
     },
     "output_type": "display_data"
    }
   ],
   "source": [
    "df['Total day minutes'].hist()"
   ]
  },
  {
   "cell_type": "code",
   "execution_count": 54,
   "id": "aec706a2",
   "metadata": {},
   "outputs": [
    {
     "name": "stderr",
     "output_type": "stream",
     "text": [
      "/Users/aleksashka/opt/anaconda3/lib/python3.9/site-packages/seaborn/_decorators.py:36: FutureWarning: Pass the following variable as a keyword arg: x. From version 0.12, the only valid positional argument will be `data`, and passing other arguments without an explicit keyword will result in an error or misinterpretation.\n",
      "  warnings.warn(\n"
     ]
    },
    {
     "data": {
      "text/plain": [
       "<AxesSubplot:xlabel='Total day minutes'>"
      ]
     },
     "execution_count": 54,
     "metadata": {},
     "output_type": "execute_result"
    },
    {
     "data": {
      "image/png": "[encoded data removed]",
      "text/plain": [
       "<Figure size 432x288 with 1 Axes>"
      ]
     },
     "metadata": {
      "needs_background": "light"
     },
     "output_type": "display_data"
    }
   ],
   "source": [
    "sns.boxplot(df['Total day minutes'])"
   ]
  },
  {
   "cell_type": "code",
   "execution_count": 56,
   "id": "7117db87",
   "metadata": {},
   "outputs": [
    {
     "data": {
      "image/png": "[encoded data removed]",
      "text/plain": [
       "<Figure size 432x288 with 16 Axes>"
      ]
     },
     "metadata": {
      "needs_background": "light"
     },
     "output_type": "display_data"
    }
   ],
   "source": [
    "df.hist();"
   ]
  },
  {
   "cell_type": "markdown",
   "id": "fc6d8c72",
   "metadata": {},
   "source": [
    "### 1.2. Категориальные"
   ]
  },
  {
   "cell_type": "code",
   "execution_count": 60,
   "id": "a3316a33",
   "metadata": {},
   "outputs": [
    {
     "data": {
      "text/plain": [
       "WV    106\n",
       "MN     84\n",
       "NY     83\n",
       "AL     80\n",
       "WI     78\n",
       "Name: State, dtype: int64"
      ]
     },
     "execution_count": 60,
     "metadata": {},
     "output_type": "execute_result"
    }
   ],
   "source": [
    "df['State'].value_counts().head()"
   ]
  },
  {
   "cell_type": "code",
   "execution_count": 63,
   "id": "e3631aae",
   "metadata": {},
   "outputs": [
    {
     "data": {
      "text/plain": [
       "False    2850\n",
       "True      483\n",
       "Name: Churn, dtype: int64"
      ]
     },
     "execution_count": 63,
     "metadata": {},
     "output_type": "execute_result"
    }
   ],
   "source": [
    "df['Churn'].value_counts().head()"
   ]
  },
  {
   "cell_type": "code",
   "execution_count": 65,
   "id": "0513a224",
   "metadata": {},
   "outputs": [
    {
     "name": "stderr",
     "output_type": "stream",
     "text": [
      "/Users/aleksashka/opt/anaconda3/lib/python3.9/site-packages/seaborn/_decorators.py:36: FutureWarning: Pass the following variable as a keyword arg: x. From version 0.12, the only valid positional argument will be `data`, and passing other arguments without an explicit keyword will result in an error or misinterpretation.\n",
      "  warnings.warn(\n"
     ]
    },
    {
     "data": {
      "text/plain": [
       "<AxesSubplot:xlabel='Churn', ylabel='count'>"
      ]
     },
     "execution_count": 65,
     "metadata": {},
     "output_type": "execute_result"
    },
    {
     "data": {
      "image/png": "[encoded data removed]",
      "text/plain": [
       "<Figure size 432x288 with 1 Axes>"
      ]
     },
     "metadata": {
      "needs_background": "light"
     },
     "output_type": "display_data"
    }
   ],
   "source": [
    "sns.countplot(df['Churn'])"
   ]
  },
  {
   "cell_type": "code",
   "execution_count": 67,
   "id": "b2f875e2",
   "metadata": {},
   "outputs": [
    {
     "name": "stderr",
     "output_type": "stream",
     "text": [
      "/Users/aleksashka/opt/anaconda3/lib/python3.9/site-packages/seaborn/_decorators.py:36: FutureWarning: Pass the following variable as a keyword arg: x. From version 0.12, the only valid positional argument will be `data`, and passing other arguments without an explicit keyword will result in an error or misinterpretation.\n",
      "  warnings.warn(\n"
     ]
    },
    {
     "data": {
      "image/png": "[encoded data removed]",
      "text/plain": [
       "<Figure size 432x288 with 1 Axes>"
      ]
     },
     "metadata": {
      "needs_background": "light"
     },
     "output_type": "display_data"
    }
   ],
   "source": [
    "sns.countplot(df['State']);"
   ]
  },
  {
   "cell_type": "code",
   "execution_count": 78,
   "id": "10271558",
   "metadata": {},
   "outputs": [
    {
     "name": "stderr",
     "output_type": "stream",
     "text": [
      "/Users/aleksashka/opt/anaconda3/lib/python3.9/site-packages/seaborn/_decorators.py:36: FutureWarning: Pass the following variable as a keyword arg: x. From version 0.12, the only valid positional argument will be `data`, and passing other arguments without an explicit keyword will result in an error or misinterpretation.\n",
      "  warnings.warn(\n"
     ]
    },
    {
     "data": {
      "image/png": "[encoded data removed]",
      "text/plain": [
       "<Figure size 432x288 with 1 Axes>"
      ]
     },
     "metadata": {
      "needs_background": "light"
     },
     "output_type": "display_data"
    }
   ],
   "source": [
    "sns.countplot(df[df['State'].isin(df['State'].value_counts().head().index)]['State']);"
   ]
  },
  {
   "cell_type": "code",
   "execution_count": 75,
   "id": "0ff4b2cb",
   "metadata": {},
   "outputs": [
    {
     "data": {
      "text/html": [
       "<div>\n",
       "<style scoped>\n",
       "    .dataframe tbody tr th:only-of-type {\n",
       "        vertical-align: middle;\n",
       "    }\n",
       "\n",
       "    .dataframe tbody tr th {\n",
       "        vertical-align: top;\n",
       "    }\n",
       "\n",
       "    .dataframe thead th {\n",
       "        text-align: right;\n",
       "    }\n",
       "</style>\n",
       "<table border=\"1\" class=\"dataframe\">\n",
       "  <thead>\n",
       "    <tr style=\"text-align: right;\">\n",
       "      <th></th>\n",
       "      <th>State</th>\n",
       "      <th>Account length</th>\n",
       "      <th>Area code</th>\n",
       "      <th>International plan</th>\n",
       "      <th>Voice mail plan</th>\n",
       "      <th>Number vmail messages</th>\n",
       "      <th>Total day minutes</th>\n",
       "      <th>Total day calls</th>\n",
       "      <th>Total day charge</th>\n",
       "      <th>Total eve minutes</th>\n",
       "      <th>Total eve calls</th>\n",
       "      <th>Total eve charge</th>\n",
       "      <th>Total night minutes</th>\n",
       "      <th>Total night calls</th>\n",
       "      <th>Total night charge</th>\n",
       "      <th>Total intl minutes</th>\n",
       "      <th>Total intl calls</th>\n",
       "      <th>Total intl charge</th>\n",
       "      <th>Customer service calls</th>\n",
       "      <th>Churn</th>\n",
       "    </tr>\n",
       "  </thead>\n",
       "  <tbody>\n",
       "    <tr>\n",
       "      <th>5</th>\n",
       "      <td>AL</td>\n",
       "      <td>118</td>\n",
       "      <td>510</td>\n",
       "      <td>Yes</td>\n",
       "      <td>No</td>\n",
       "      <td>0</td>\n",
       "      <td>223.4</td>\n",
       "      <td>98</td>\n",
       "      <td>37.98</td>\n",
       "      <td>220.6</td>\n",
       "      <td>101</td>\n",
       "      <td>18.75</td>\n",
       "      <td>203.9</td>\n",
       "      <td>118</td>\n",
       "      <td>9.18</td>\n",
       "      <td>6.3</td>\n",
       "      <td>6</td>\n",
       "      <td>1.70</td>\n",
       "      <td>0</td>\n",
       "      <td>False</td>\n",
       "    </tr>\n",
       "    <tr>\n",
       "      <th>9</th>\n",
       "      <td>WV</td>\n",
       "      <td>141</td>\n",
       "      <td>415</td>\n",
       "      <td>Yes</td>\n",
       "      <td>Yes</td>\n",
       "      <td>37</td>\n",
       "      <td>258.6</td>\n",
       "      <td>84</td>\n",
       "      <td>43.96</td>\n",
       "      <td>222.0</td>\n",
       "      <td>111</td>\n",
       "      <td>18.87</td>\n",
       "      <td>326.4</td>\n",
       "      <td>97</td>\n",
       "      <td>14.69</td>\n",
       "      <td>11.2</td>\n",
       "      <td>5</td>\n",
       "      <td>3.02</td>\n",
       "      <td>0</td>\n",
       "      <td>False</td>\n",
       "    </tr>\n",
       "    <tr>\n",
       "      <th>15</th>\n",
       "      <td>NY</td>\n",
       "      <td>161</td>\n",
       "      <td>415</td>\n",
       "      <td>No</td>\n",
       "      <td>No</td>\n",
       "      <td>0</td>\n",
       "      <td>332.9</td>\n",
       "      <td>67</td>\n",
       "      <td>56.59</td>\n",
       "      <td>317.8</td>\n",
       "      <td>97</td>\n",
       "      <td>27.01</td>\n",
       "      <td>160.6</td>\n",
       "      <td>128</td>\n",
       "      <td>7.23</td>\n",
       "      <td>5.4</td>\n",
       "      <td>9</td>\n",
       "      <td>1.46</td>\n",
       "      <td>4</td>\n",
       "      <td>True</td>\n",
       "    </tr>\n",
       "    <tr>\n",
       "      <th>44</th>\n",
       "      <td>WI</td>\n",
       "      <td>64</td>\n",
       "      <td>510</td>\n",
       "      <td>No</td>\n",
       "      <td>No</td>\n",
       "      <td>0</td>\n",
       "      <td>154.0</td>\n",
       "      <td>67</td>\n",
       "      <td>26.18</td>\n",
       "      <td>225.8</td>\n",
       "      <td>118</td>\n",
       "      <td>19.19</td>\n",
       "      <td>265.3</td>\n",
       "      <td>86</td>\n",
       "      <td>11.94</td>\n",
       "      <td>3.5</td>\n",
       "      <td>3</td>\n",
       "      <td>0.95</td>\n",
       "      <td>1</td>\n",
       "      <td>False</td>\n",
       "    </tr>\n",
       "    <tr>\n",
       "      <th>58</th>\n",
       "      <td>WI</td>\n",
       "      <td>68</td>\n",
       "      <td>415</td>\n",
       "      <td>No</td>\n",
       "      <td>No</td>\n",
       "      <td>0</td>\n",
       "      <td>148.8</td>\n",
       "      <td>70</td>\n",
       "      <td>25.30</td>\n",
       "      <td>246.5</td>\n",
       "      <td>164</td>\n",
       "      <td>20.95</td>\n",
       "      <td>129.8</td>\n",
       "      <td>103</td>\n",
       "      <td>5.84</td>\n",
       "      <td>12.1</td>\n",
       "      <td>3</td>\n",
       "      <td>3.27</td>\n",
       "      <td>3</td>\n",
       "      <td>False</td>\n",
       "    </tr>\n",
       "    <tr>\n",
       "      <th>...</th>\n",
       "      <td>...</td>\n",
       "      <td>...</td>\n",
       "      <td>...</td>\n",
       "      <td>...</td>\n",
       "      <td>...</td>\n",
       "      <td>...</td>\n",
       "      <td>...</td>\n",
       "      <td>...</td>\n",
       "      <td>...</td>\n",
       "      <td>...</td>\n",
       "      <td>...</td>\n",
       "      <td>...</td>\n",
       "      <td>...</td>\n",
       "      <td>...</td>\n",
       "      <td>...</td>\n",
       "      <td>...</td>\n",
       "      <td>...</td>\n",
       "      <td>...</td>\n",
       "      <td>...</td>\n",
       "      <td>...</td>\n",
       "    </tr>\n",
       "    <tr>\n",
       "      <th>3303</th>\n",
       "      <td>WI</td>\n",
       "      <td>114</td>\n",
       "      <td>415</td>\n",
       "      <td>No</td>\n",
       "      <td>Yes</td>\n",
       "      <td>26</td>\n",
       "      <td>137.1</td>\n",
       "      <td>88</td>\n",
       "      <td>23.31</td>\n",
       "      <td>155.7</td>\n",
       "      <td>125</td>\n",
       "      <td>13.23</td>\n",
       "      <td>247.6</td>\n",
       "      <td>94</td>\n",
       "      <td>11.14</td>\n",
       "      <td>11.5</td>\n",
       "      <td>7</td>\n",
       "      <td>3.11</td>\n",
       "      <td>2</td>\n",
       "      <td>False</td>\n",
       "    </tr>\n",
       "    <tr>\n",
       "      <th>3306</th>\n",
       "      <td>AL</td>\n",
       "      <td>106</td>\n",
       "      <td>408</td>\n",
       "      <td>No</td>\n",
       "      <td>Yes</td>\n",
       "      <td>29</td>\n",
       "      <td>83.6</td>\n",
       "      <td>131</td>\n",
       "      <td>14.21</td>\n",
       "      <td>203.9</td>\n",
       "      <td>131</td>\n",
       "      <td>17.33</td>\n",
       "      <td>229.5</td>\n",
       "      <td>73</td>\n",
       "      <td>10.33</td>\n",
       "      <td>8.1</td>\n",
       "      <td>3</td>\n",
       "      <td>2.19</td>\n",
       "      <td>1</td>\n",
       "      <td>False</td>\n",
       "    </tr>\n",
       "    <tr>\n",
       "      <th>3310</th>\n",
       "      <td>NY</td>\n",
       "      <td>94</td>\n",
       "      <td>415</td>\n",
       "      <td>No</td>\n",
       "      <td>No</td>\n",
       "      <td>0</td>\n",
       "      <td>190.4</td>\n",
       "      <td>91</td>\n",
       "      <td>32.37</td>\n",
       "      <td>92.0</td>\n",
       "      <td>107</td>\n",
       "      <td>7.82</td>\n",
       "      <td>224.8</td>\n",
       "      <td>108</td>\n",
       "      <td>10.12</td>\n",
       "      <td>13.6</td>\n",
       "      <td>17</td>\n",
       "      <td>3.67</td>\n",
       "      <td>2</td>\n",
       "      <td>False</td>\n",
       "    </tr>\n",
       "    <tr>\n",
       "      <th>3324</th>\n",
       "      <td>WV</td>\n",
       "      <td>159</td>\n",
       "      <td>415</td>\n",
       "      <td>No</td>\n",
       "      <td>No</td>\n",
       "      <td>0</td>\n",
       "      <td>169.8</td>\n",
       "      <td>114</td>\n",
       "      <td>28.87</td>\n",
       "      <td>197.7</td>\n",
       "      <td>105</td>\n",
       "      <td>16.80</td>\n",
       "      <td>193.7</td>\n",
       "      <td>82</td>\n",
       "      <td>8.72</td>\n",
       "      <td>11.6</td>\n",
       "      <td>4</td>\n",
       "      <td>3.13</td>\n",
       "      <td>1</td>\n",
       "      <td>False</td>\n",
       "    </tr>\n",
       "    <tr>\n",
       "      <th>3329</th>\n",
       "      <td>WV</td>\n",
       "      <td>68</td>\n",
       "      <td>415</td>\n",
       "      <td>No</td>\n",
       "      <td>No</td>\n",
       "      <td>0</td>\n",
       "      <td>231.1</td>\n",
       "      <td>57</td>\n",
       "      <td>39.29</td>\n",
       "      <td>153.4</td>\n",
       "      <td>55</td>\n",
       "      <td>13.04</td>\n",
       "      <td>191.3</td>\n",
       "      <td>123</td>\n",
       "      <td>8.61</td>\n",
       "      <td>9.6</td>\n",
       "      <td>4</td>\n",
       "      <td>2.59</td>\n",
       "      <td>3</td>\n",
       "      <td>False</td>\n",
       "    </tr>\n",
       "  </tbody>\n",
       "</table>\n",
       "<p>431 rows × 20 columns</p>\n",
       "</div>"
      ],
      "text/plain": [
       "     State  Account length  Area code International plan Voice mail plan  \\\n",
       "5       AL             118        510                Yes              No   \n",
       "9       WV             141        415                Yes             Yes   \n",
       "15      NY             161        415                 No              No   \n",
       "44      WI              64        510                 No              No   \n",
       "58      WI              68        415                 No              No   \n",
       "...    ...             ...        ...                ...             ...   \n",
       "3303    WI             114        415                 No             Yes   \n",
       "3306    AL             106        408                 No             Yes   \n",
       "3310    NY              94        415                 No              No   \n",
       "3324    WV             159        415                 No              No   \n",
       "3329    WV              68        415                 No              No   \n",
       "\n",
       "      Number vmail messages  Total day minutes  Total day calls  \\\n",
       "5                         0              223.4               98   \n",
       "9                        37              258.6               84   \n",
       "15                        0              332.9               67   \n",
       "44                        0              154.0               67   \n",
       "58                        0              148.8               70   \n",
       "...                     ...                ...              ...   \n",
       "3303                     26              137.1               88   \n",
       "3306                     29               83.6              131   \n",
       "3310                      0              190.4               91   \n",
       "3324                      0              169.8              114   \n",
       "3329                      0              231.1               57   \n",
       "\n",
       "      Total day charge  Total eve minutes  Total eve calls  Total eve charge  \\\n",
       "5                37.98              220.6              101             18.75   \n",
       "9                43.96              222.0              111             18.87   \n",
       "15               56.59              317.8               97             27.01   \n",
       "44               26.18              225.8              118             19.19   \n",
       "58               25.30              246.5              164             20.95   \n",
       "...                ...                ...              ...               ...   \n",
       "3303             23.31              155.7              125             13.23   \n",
       "3306             14.21              203.9              131             17.33   \n",
       "3310             32.37               92.0              107              7.82   \n",
       "3324             28.87              197.7              105             16.80   \n",
       "3329             39.29              153.4               55             13.04   \n",
       "\n",
       "      Total night minutes  Total night calls  Total night charge  \\\n",
       "5                   203.9                118                9.18   \n",
       "9                   326.4                 97               14.69   \n",
       "15                  160.6                128                7.23   \n",
       "44                  265.3                 86               11.94   \n",
       "58                  129.8                103                5.84   \n",
       "...                   ...                ...                 ...   \n",
       "3303                247.6                 94               11.14   \n",
       "3306                229.5                 73               10.33   \n",
       "3310                224.8                108               10.12   \n",
       "3324                193.7                 82                8.72   \n",
       "3329                191.3                123                8.61   \n",
       "\n",
       "      Total intl minutes  Total intl calls  Total intl charge  \\\n",
       "5                    6.3                 6               1.70   \n",
       "9                   11.2                 5               3.02   \n",
       "15                   5.4                 9               1.46   \n",
       "44                   3.5                 3               0.95   \n",
       "58                  12.1                 3               3.27   \n",
       "...                  ...               ...                ...   \n",
       "3303                11.5                 7               3.11   \n",
       "3306                 8.1                 3               2.19   \n",
       "3310                13.6                17               3.67   \n",
       "3324                11.6                 4               3.13   \n",
       "3329                 9.6                 4               2.59   \n",
       "\n",
       "      Customer service calls  Churn  \n",
       "5                          0  False  \n",
       "9                          0  False  \n",
       "15                         4   True  \n",
       "44                         1  False  \n",
       "58                         3  False  \n",
       "...                      ...    ...  \n",
       "3303                       2  False  \n",
       "3306                       1  False  \n",
       "3310                       2  False  \n",
       "3324                       1  False  \n",
       "3329                       3  False  \n",
       "\n",
       "[431 rows x 20 columns]"
      ]
     },
     "execution_count": 75,
     "metadata": {},
     "output_type": "execute_result"
    }
   ],
   "source": [
    "df[df['State'].isin(df['State'].value_counts().head().index)]"
   ]
  },
  {
   "cell_type": "code",
   "execution_count": 76,
   "id": "ef21855a",
   "metadata": {},
   "outputs": [
    {
     "data": {
      "text/plain": [
       "Index(['WV', 'MN', 'NY', 'AL', 'WI'], dtype='object')"
      ]
     },
     "execution_count": 76,
     "metadata": {},
     "output_type": "execute_result"
    }
   ],
   "source": [
    "df['State'].value_counts().head().index"
   ]
  },
  {
   "cell_type": "markdown",
   "id": "b1e46bb0",
   "metadata": {},
   "source": [
    "## 2. Взаимодействия\n",
    "### 2.1. Количественные - Количественные"
   ]
  },
  {
   "cell_type": "code",
   "execution_count": 79,
   "id": "14c1b846",
   "metadata": {},
   "outputs": [
    {
     "data": {
      "image/png": "[encoded data removed]",
      "text/plain": [
       "<Figure size 432x288 with 4 Axes>"
      ]
     },
     "metadata": {
      "needs_background": "light"
     },
     "output_type": "display_data"
    }
   ],
   "source": [
    "feat = [f for f in df.columns if 'charge' in f]\n",
    "\n",
    "df[feat].hist();"
   ]
  },
  {
   "cell_type": "code",
   "execution_count": 80,
   "id": "03558d07",
   "metadata": {},
   "outputs": [
    {
     "data": {
      "text/plain": [
       "<seaborn.axisgrid.PairGrid at 0x7fc4c82bfbb0>"
      ]
     },
     "execution_count": 80,
     "metadata": {},
     "output_type": "execute_result"
    },
    {
     "data": {
      "image/png": "[encoded data removed]",
      "text/plain": [
       "<Figure size 720x720 with 20 Axes>"
      ]
     },
     "metadata": {
      "needs_background": "light"
     },
     "output_type": "display_data"
    }
   ],
   "source": [
    "sns.pairplot(df[feat])"
   ]
  },
  {
   "cell_type": "code",
   "execution_count": 89,
   "id": "de8002e5",
   "metadata": {},
   "outputs": [
    {
     "data": {
      "text/plain": [
       "Text(0, 0.5, 'International charge')"
      ]
     },
     "execution_count": 89,
     "metadata": {},
     "output_type": "execute_result"
    },
    {
     "data": {
      "image/png": "[encoded data removed]",
      "text/plain": [
       "<Figure size 432x288 with 1 Axes>"
      ]
     },
     "metadata": {
      "needs_background": "light"
     },
     "output_type": "display_data"
    }
   ],
   "source": [
    "plt.scatter(df['Total eve charge'], df['Total intl charge'],   \n",
    "            color=df['Churn'].map({False:'green', True:'red'}))\n",
    "plt.xlabel('Evening charge')\n",
    "plt.ylabel('International charge')"
   ]
  },
  {
   "cell_type": "code",
   "execution_count": 103,
   "id": "dc7ebbcc",
   "metadata": {},
   "outputs": [
    {
     "data": {
      "text/plain": [
       "Text(0.5, 1.0, 'Churn/loyal')"
      ]
     },
     "execution_count": 103,
     "metadata": {},
     "output_type": "execute_result"
    },
    {
     "data": {
      "image/png": "[encoded data removed]",
      "text/plain": [
       "<Figure size 432x288 with 1 Axes>"
      ]
     },
     "metadata": {
      "needs_background": "light"
     },
     "output_type": "display_data"
    }
   ],
   "source": [
    "plt.scatter(df[df['Churn']]['Total eve charge'], df[df['Churn']]['Total intl charge'],  color='red', label='churn');\n",
    "plt.scatter(df[~df['Churn']]['Total eve charge'], df[~df['Churn']]['Total intl charge'], color='green', label='loyal');\n",
    "plt.legend();\n",
    "plt.title('Churn/loyal')"
   ]
  },
  {
   "cell_type": "code",
   "execution_count": 104,
   "id": "f382cac8",
   "metadata": {},
   "outputs": [
    {
     "data": {
      "text/html": [
       "<div>\n",
       "<style scoped>\n",
       "    .dataframe tbody tr th:only-of-type {\n",
       "        vertical-align: middle;\n",
       "    }\n",
       "\n",
       "    .dataframe tbody tr th {\n",
       "        vertical-align: top;\n",
       "    }\n",
       "\n",
       "    .dataframe thead th {\n",
       "        text-align: right;\n",
       "    }\n",
       "</style>\n",
       "<table border=\"1\" class=\"dataframe\">\n",
       "  <thead>\n",
       "    <tr style=\"text-align: right;\">\n",
       "      <th></th>\n",
       "      <th>Account length</th>\n",
       "      <th>Area code</th>\n",
       "      <th>Number vmail messages</th>\n",
       "      <th>Total day minutes</th>\n",
       "      <th>Total day calls</th>\n",
       "      <th>Total day charge</th>\n",
       "      <th>Total eve minutes</th>\n",
       "      <th>Total eve calls</th>\n",
       "      <th>Total eve charge</th>\n",
       "      <th>Total night minutes</th>\n",
       "      <th>Total night calls</th>\n",
       "      <th>Total night charge</th>\n",
       "      <th>Total intl minutes</th>\n",
       "      <th>Total intl calls</th>\n",
       "      <th>Total intl charge</th>\n",
       "      <th>Customer service calls</th>\n",
       "      <th>Churn</th>\n",
       "    </tr>\n",
       "  </thead>\n",
       "  <tbody>\n",
       "    <tr>\n",
       "      <th>Account length</th>\n",
       "      <td>1.000000</td>\n",
       "      <td>-0.012463</td>\n",
       "      <td>-0.004628</td>\n",
       "      <td>0.006216</td>\n",
       "      <td>0.038470</td>\n",
       "      <td>0.006214</td>\n",
       "      <td>-0.006757</td>\n",
       "      <td>0.019260</td>\n",
       "      <td>-0.006745</td>\n",
       "      <td>-0.008955</td>\n",
       "      <td>-0.013176</td>\n",
       "      <td>-0.008960</td>\n",
       "      <td>0.009514</td>\n",
       "      <td>0.020661</td>\n",
       "      <td>0.009546</td>\n",
       "      <td>-0.003796</td>\n",
       "      <td>0.016541</td>\n",
       "    </tr>\n",
       "    <tr>\n",
       "      <th>Area code</th>\n",
       "      <td>-0.012463</td>\n",
       "      <td>1.000000</td>\n",
       "      <td>-0.001994</td>\n",
       "      <td>-0.008264</td>\n",
       "      <td>-0.009646</td>\n",
       "      <td>-0.008264</td>\n",
       "      <td>0.003580</td>\n",
       "      <td>-0.011886</td>\n",
       "      <td>0.003607</td>\n",
       "      <td>-0.005825</td>\n",
       "      <td>0.016522</td>\n",
       "      <td>-0.005845</td>\n",
       "      <td>-0.018288</td>\n",
       "      <td>-0.024179</td>\n",
       "      <td>-0.018395</td>\n",
       "      <td>0.027572</td>\n",
       "      <td>0.006174</td>\n",
       "    </tr>\n",
       "    <tr>\n",
       "      <th>Number vmail messages</th>\n",
       "      <td>-0.004628</td>\n",
       "      <td>-0.001994</td>\n",
       "      <td>1.000000</td>\n",
       "      <td>0.000778</td>\n",
       "      <td>-0.009548</td>\n",
       "      <td>0.000776</td>\n",
       "      <td>0.017562</td>\n",
       "      <td>-0.005864</td>\n",
       "      <td>0.017578</td>\n",
       "      <td>0.007681</td>\n",
       "      <td>0.007123</td>\n",
       "      <td>0.007663</td>\n",
       "      <td>0.002856</td>\n",
       "      <td>0.013957</td>\n",
       "      <td>0.002884</td>\n",
       "      <td>-0.013263</td>\n",
       "      <td>-0.089728</td>\n",
       "    </tr>\n",
       "    <tr>\n",
       "      <th>Total day minutes</th>\n",
       "      <td>0.006216</td>\n",
       "      <td>-0.008264</td>\n",
       "      <td>0.000778</td>\n",
       "      <td>1.000000</td>\n",
       "      <td>0.006750</td>\n",
       "      <td>1.000000</td>\n",
       "      <td>0.007043</td>\n",
       "      <td>0.015769</td>\n",
       "      <td>0.007029</td>\n",
       "      <td>0.004323</td>\n",
       "      <td>0.022972</td>\n",
       "      <td>0.004300</td>\n",
       "      <td>-0.010155</td>\n",
       "      <td>0.008033</td>\n",
       "      <td>-0.010092</td>\n",
       "      <td>-0.013423</td>\n",
       "      <td>0.205151</td>\n",
       "    </tr>\n",
       "    <tr>\n",
       "      <th>Total day calls</th>\n",
       "      <td>0.038470</td>\n",
       "      <td>-0.009646</td>\n",
       "      <td>-0.009548</td>\n",
       "      <td>0.006750</td>\n",
       "      <td>1.000000</td>\n",
       "      <td>0.006753</td>\n",
       "      <td>-0.021451</td>\n",
       "      <td>0.006462</td>\n",
       "      <td>-0.021449</td>\n",
       "      <td>0.022938</td>\n",
       "      <td>-0.019557</td>\n",
       "      <td>0.022927</td>\n",
       "      <td>0.021565</td>\n",
       "      <td>0.004574</td>\n",
       "      <td>0.021666</td>\n",
       "      <td>-0.018942</td>\n",
       "      <td>0.018459</td>\n",
       "    </tr>\n",
       "    <tr>\n",
       "      <th>Total day charge</th>\n",
       "      <td>0.006214</td>\n",
       "      <td>-0.008264</td>\n",
       "      <td>0.000776</td>\n",
       "      <td>1.000000</td>\n",
       "      <td>0.006753</td>\n",
       "      <td>1.000000</td>\n",
       "      <td>0.007050</td>\n",
       "      <td>0.015769</td>\n",
       "      <td>0.007036</td>\n",
       "      <td>0.004324</td>\n",
       "      <td>0.022972</td>\n",
       "      <td>0.004301</td>\n",
       "      <td>-0.010157</td>\n",
       "      <td>0.008032</td>\n",
       "      <td>-0.010094</td>\n",
       "      <td>-0.013427</td>\n",
       "      <td>0.205151</td>\n",
       "    </tr>\n",
       "    <tr>\n",
       "      <th>Total eve minutes</th>\n",
       "      <td>-0.006757</td>\n",
       "      <td>0.003580</td>\n",
       "      <td>0.017562</td>\n",
       "      <td>0.007043</td>\n",
       "      <td>-0.021451</td>\n",
       "      <td>0.007050</td>\n",
       "      <td>1.000000</td>\n",
       "      <td>-0.011430</td>\n",
       "      <td>1.000000</td>\n",
       "      <td>-0.012584</td>\n",
       "      <td>0.007586</td>\n",
       "      <td>-0.012593</td>\n",
       "      <td>-0.011035</td>\n",
       "      <td>0.002541</td>\n",
       "      <td>-0.011067</td>\n",
       "      <td>-0.012985</td>\n",
       "      <td>0.092796</td>\n",
       "    </tr>\n",
       "    <tr>\n",
       "      <th>Total eve calls</th>\n",
       "      <td>0.019260</td>\n",
       "      <td>-0.011886</td>\n",
       "      <td>-0.005864</td>\n",
       "      <td>0.015769</td>\n",
       "      <td>0.006462</td>\n",
       "      <td>0.015769</td>\n",
       "      <td>-0.011430</td>\n",
       "      <td>1.000000</td>\n",
       "      <td>-0.011423</td>\n",
       "      <td>-0.002093</td>\n",
       "      <td>0.007710</td>\n",
       "      <td>-0.002056</td>\n",
       "      <td>0.008703</td>\n",
       "      <td>0.017434</td>\n",
       "      <td>0.008674</td>\n",
       "      <td>0.002423</td>\n",
       "      <td>0.009233</td>\n",
       "    </tr>\n",
       "    <tr>\n",
       "      <th>Total eve charge</th>\n",
       "      <td>-0.006745</td>\n",
       "      <td>0.003607</td>\n",
       "      <td>0.017578</td>\n",
       "      <td>0.007029</td>\n",
       "      <td>-0.021449</td>\n",
       "      <td>0.007036</td>\n",
       "      <td>1.000000</td>\n",
       "      <td>-0.011423</td>\n",
       "      <td>1.000000</td>\n",
       "      <td>-0.012592</td>\n",
       "      <td>0.007596</td>\n",
       "      <td>-0.012601</td>\n",
       "      <td>-0.011043</td>\n",
       "      <td>0.002541</td>\n",
       "      <td>-0.011074</td>\n",
       "      <td>-0.012987</td>\n",
       "      <td>0.092786</td>\n",
       "    </tr>\n",
       "    <tr>\n",
       "      <th>Total night minutes</th>\n",
       "      <td>-0.008955</td>\n",
       "      <td>-0.005825</td>\n",
       "      <td>0.007681</td>\n",
       "      <td>0.004323</td>\n",
       "      <td>0.022938</td>\n",
       "      <td>0.004324</td>\n",
       "      <td>-0.012584</td>\n",
       "      <td>-0.002093</td>\n",
       "      <td>-0.012592</td>\n",
       "      <td>1.000000</td>\n",
       "      <td>0.011204</td>\n",
       "      <td>0.999999</td>\n",
       "      <td>-0.015207</td>\n",
       "      <td>-0.012353</td>\n",
       "      <td>-0.015180</td>\n",
       "      <td>-0.009288</td>\n",
       "      <td>0.035493</td>\n",
       "    </tr>\n",
       "    <tr>\n",
       "      <th>Total night calls</th>\n",
       "      <td>-0.013176</td>\n",
       "      <td>0.016522</td>\n",
       "      <td>0.007123</td>\n",
       "      <td>0.022972</td>\n",
       "      <td>-0.019557</td>\n",
       "      <td>0.022972</td>\n",
       "      <td>0.007586</td>\n",
       "      <td>0.007710</td>\n",
       "      <td>0.007596</td>\n",
       "      <td>0.011204</td>\n",
       "      <td>1.000000</td>\n",
       "      <td>0.011188</td>\n",
       "      <td>-0.013605</td>\n",
       "      <td>0.000305</td>\n",
       "      <td>-0.013630</td>\n",
       "      <td>-0.012802</td>\n",
       "      <td>0.006141</td>\n",
       "    </tr>\n",
       "    <tr>\n",
       "      <th>Total night charge</th>\n",
       "      <td>-0.008960</td>\n",
       "      <td>-0.005845</td>\n",
       "      <td>0.007663</td>\n",
       "      <td>0.004300</td>\n",
       "      <td>0.022927</td>\n",
       "      <td>0.004301</td>\n",
       "      <td>-0.012593</td>\n",
       "      <td>-0.002056</td>\n",
       "      <td>-0.012601</td>\n",
       "      <td>0.999999</td>\n",
       "      <td>0.011188</td>\n",
       "      <td>1.000000</td>\n",
       "      <td>-0.015214</td>\n",
       "      <td>-0.012329</td>\n",
       "      <td>-0.015186</td>\n",
       "      <td>-0.009277</td>\n",
       "      <td>0.035496</td>\n",
       "    </tr>\n",
       "    <tr>\n",
       "      <th>Total intl minutes</th>\n",
       "      <td>0.009514</td>\n",
       "      <td>-0.018288</td>\n",
       "      <td>0.002856</td>\n",
       "      <td>-0.010155</td>\n",
       "      <td>0.021565</td>\n",
       "      <td>-0.010157</td>\n",
       "      <td>-0.011035</td>\n",
       "      <td>0.008703</td>\n",
       "      <td>-0.011043</td>\n",
       "      <td>-0.015207</td>\n",
       "      <td>-0.013605</td>\n",
       "      <td>-0.015214</td>\n",
       "      <td>1.000000</td>\n",
       "      <td>0.032304</td>\n",
       "      <td>0.999993</td>\n",
       "      <td>-0.009640</td>\n",
       "      <td>0.068239</td>\n",
       "    </tr>\n",
       "    <tr>\n",
       "      <th>Total intl calls</th>\n",
       "      <td>0.020661</td>\n",
       "      <td>-0.024179</td>\n",
       "      <td>0.013957</td>\n",
       "      <td>0.008033</td>\n",
       "      <td>0.004574</td>\n",
       "      <td>0.008032</td>\n",
       "      <td>0.002541</td>\n",
       "      <td>0.017434</td>\n",
       "      <td>0.002541</td>\n",
       "      <td>-0.012353</td>\n",
       "      <td>0.000305</td>\n",
       "      <td>-0.012329</td>\n",
       "      <td>0.032304</td>\n",
       "      <td>1.000000</td>\n",
       "      <td>0.032372</td>\n",
       "      <td>-0.017561</td>\n",
       "      <td>-0.052844</td>\n",
       "    </tr>\n",
       "    <tr>\n",
       "      <th>Total intl charge</th>\n",
       "      <td>0.009546</td>\n",
       "      <td>-0.018395</td>\n",
       "      <td>0.002884</td>\n",
       "      <td>-0.010092</td>\n",
       "      <td>0.021666</td>\n",
       "      <td>-0.010094</td>\n",
       "      <td>-0.011067</td>\n",
       "      <td>0.008674</td>\n",
       "      <td>-0.011074</td>\n",
       "      <td>-0.015180</td>\n",
       "      <td>-0.013630</td>\n",
       "      <td>-0.015186</td>\n",
       "      <td>0.999993</td>\n",
       "      <td>0.032372</td>\n",
       "      <td>1.000000</td>\n",
       "      <td>-0.009675</td>\n",
       "      <td>0.068259</td>\n",
       "    </tr>\n",
       "    <tr>\n",
       "      <th>Customer service calls</th>\n",
       "      <td>-0.003796</td>\n",
       "      <td>0.027572</td>\n",
       "      <td>-0.013263</td>\n",
       "      <td>-0.013423</td>\n",
       "      <td>-0.018942</td>\n",
       "      <td>-0.013427</td>\n",
       "      <td>-0.012985</td>\n",
       "      <td>0.002423</td>\n",
       "      <td>-0.012987</td>\n",
       "      <td>-0.009288</td>\n",
       "      <td>-0.012802</td>\n",
       "      <td>-0.009277</td>\n",
       "      <td>-0.009640</td>\n",
       "      <td>-0.017561</td>\n",
       "      <td>-0.009675</td>\n",
       "      <td>1.000000</td>\n",
       "      <td>0.208750</td>\n",
       "    </tr>\n",
       "    <tr>\n",
       "      <th>Churn</th>\n",
       "      <td>0.016541</td>\n",
       "      <td>0.006174</td>\n",
       "      <td>-0.089728</td>\n",
       "      <td>0.205151</td>\n",
       "      <td>0.018459</td>\n",
       "      <td>0.205151</td>\n",
       "      <td>0.092796</td>\n",
       "      <td>0.009233</td>\n",
       "      <td>0.092786</td>\n",
       "      <td>0.035493</td>\n",
       "      <td>0.006141</td>\n",
       "      <td>0.035496</td>\n",
       "      <td>0.068239</td>\n",
       "      <td>-0.052844</td>\n",
       "      <td>0.068259</td>\n",
       "      <td>0.208750</td>\n",
       "      <td>1.000000</td>\n",
       "    </tr>\n",
       "  </tbody>\n",
       "</table>\n",
       "</div>"
      ],
      "text/plain": [
       "                        Account length  Area code  Number vmail messages  \\\n",
       "Account length                1.000000  -0.012463              -0.004628   \n",
       "Area code                    -0.012463   1.000000              -0.001994   \n",
       "Number vmail messages        -0.004628  -0.001994               1.000000   \n",
       "Total day minutes             0.006216  -0.008264               0.000778   \n",
       "Total day calls               0.038470  -0.009646              -0.009548   \n",
       "Total day charge              0.006214  -0.008264               0.000776   \n",
       "Total eve minutes            -0.006757   0.003580               0.017562   \n",
       "Total eve calls               0.019260  -0.011886              -0.005864   \n",
       "Total eve charge             -0.006745   0.003607               0.017578   \n",
       "Total night minutes          -0.008955  -0.005825               0.007681   \n",
       "Total night calls            -0.013176   0.016522               0.007123   \n",
       "Total night charge           -0.008960  -0.005845               0.007663   \n",
       "Total intl minutes            0.009514  -0.018288               0.002856   \n",
       "Total intl calls              0.020661  -0.024179               0.013957   \n",
       "Total intl charge             0.009546  -0.018395               0.002884   \n",
       "Customer service calls       -0.003796   0.027572              -0.013263   \n",
       "Churn                         0.016541   0.006174              -0.089728   \n",
       "\n",
       "                        Total day minutes  Total day calls  Total day charge  \\\n",
       "Account length                   0.006216         0.038470          0.006214   \n",
       "Area code                       -0.008264        -0.009646         -0.008264   \n",
       "Number vmail messages            0.000778        -0.009548          0.000776   \n",
       "Total day minutes                1.000000         0.006750          1.000000   \n",
       "Total day calls                  0.006750         1.000000          0.006753   \n",
       "Total day charge                 1.000000         0.006753          1.000000   \n",
       "Total eve minutes                0.007043        -0.021451          0.007050   \n",
       "Total eve calls                  0.015769         0.006462          0.015769   \n",
       "Total eve charge                 0.007029        -0.021449          0.007036   \n",
       "Total night minutes              0.004323         0.022938          0.004324   \n",
       "Total night calls                0.022972        -0.019557          0.022972   \n",
       "Total night charge               0.004300         0.022927          0.004301   \n",
       "Total intl minutes              -0.010155         0.021565         -0.010157   \n",
       "Total intl calls                 0.008033         0.004574          0.008032   \n",
       "Total intl charge               -0.010092         0.021666         -0.010094   \n",
       "Customer service calls          -0.013423        -0.018942         -0.013427   \n",
       "Churn                            0.205151         0.018459          0.205151   \n",
       "\n",
       "                        Total eve minutes  Total eve calls  Total eve charge  \\\n",
       "Account length                  -0.006757         0.019260         -0.006745   \n",
       "Area code                        0.003580        -0.011886          0.003607   \n",
       "Number vmail messages            0.017562        -0.005864          0.017578   \n",
       "Total day minutes                0.007043         0.015769          0.007029   \n",
       "Total day calls                 -0.021451         0.006462         -0.021449   \n",
       "Total day charge                 0.007050         0.015769          0.007036   \n",
       "Total eve minutes                1.000000        -0.011430          1.000000   \n",
       "Total eve calls                 -0.011430         1.000000         -0.011423   \n",
       "Total eve charge                 1.000000        -0.011423          1.000000   \n",
       "Total night minutes             -0.012584        -0.002093         -0.012592   \n",
       "Total night calls                0.007586         0.007710          0.007596   \n",
       "Total night charge              -0.012593        -0.002056         -0.012601   \n",
       "Total intl minutes              -0.011035         0.008703         -0.011043   \n",
       "Total intl calls                 0.002541         0.017434          0.002541   \n",
       "Total intl charge               -0.011067         0.008674         -0.011074   \n",
       "Customer service calls          -0.012985         0.002423         -0.012987   \n",
       "Churn                            0.092796         0.009233          0.092786   \n",
       "\n",
       "                        Total night minutes  Total night calls  \\\n",
       "Account length                    -0.008955          -0.013176   \n",
       "Area code                         -0.005825           0.016522   \n",
       "Number vmail messages              0.007681           0.007123   \n",
       "Total day minutes                  0.004323           0.022972   \n",
       "Total day calls                    0.022938          -0.019557   \n",
       "Total day charge                   0.004324           0.022972   \n",
       "Total eve minutes                 -0.012584           0.007586   \n",
       "Total eve calls                   -0.002093           0.007710   \n",
       "Total eve charge                  -0.012592           0.007596   \n",
       "Total night minutes                1.000000           0.011204   \n",
       "Total night calls                  0.011204           1.000000   \n",
       "Total night charge                 0.999999           0.011188   \n",
       "Total intl minutes                -0.015207          -0.013605   \n",
       "Total intl calls                  -0.012353           0.000305   \n",
       "Total intl charge                 -0.015180          -0.013630   \n",
       "Customer service calls            -0.009288          -0.012802   \n",
       "Churn                              0.035493           0.006141   \n",
       "\n",
       "                        Total night charge  Total intl minutes  \\\n",
       "Account length                   -0.008960            0.009514   \n",
       "Area code                        -0.005845           -0.018288   \n",
       "Number vmail messages             0.007663            0.002856   \n",
       "Total day minutes                 0.004300           -0.010155   \n",
       "Total day calls                   0.022927            0.021565   \n",
       "Total day charge                  0.004301           -0.010157   \n",
       "Total eve minutes                -0.012593           -0.011035   \n",
       "Total eve calls                  -0.002056            0.008703   \n",
       "Total eve charge                 -0.012601           -0.011043   \n",
       "Total night minutes               0.999999           -0.015207   \n",
       "Total night calls                 0.011188           -0.013605   \n",
       "Total night charge                1.000000           -0.015214   \n",
       "Total intl minutes               -0.015214            1.000000   \n",
       "Total intl calls                 -0.012329            0.032304   \n",
       "Total intl charge                -0.015186            0.999993   \n",
       "Customer service calls           -0.009277           -0.009640   \n",
       "Churn                             0.035496            0.068239   \n",
       "\n",
       "                        Total intl calls  Total intl charge  \\\n",
       "Account length                  0.020661           0.009546   \n",
       "Area code                      -0.024179          -0.018395   \n",
       "Number vmail messages           0.013957           0.002884   \n",
       "Total day minutes               0.008033          -0.010092   \n",
       "Total day calls                 0.004574           0.021666   \n",
       "Total day charge                0.008032          -0.010094   \n",
       "Total eve minutes               0.002541          -0.011067   \n",
       "Total eve calls                 0.017434           0.008674   \n",
       "Total eve charge                0.002541          -0.011074   \n",
       "Total night minutes            -0.012353          -0.015180   \n",
       "Total night calls               0.000305          -0.013630   \n",
       "Total night charge             -0.012329          -0.015186   \n",
       "Total intl minutes              0.032304           0.999993   \n",
       "Total intl calls                1.000000           0.032372   \n",
       "Total intl charge               0.032372           1.000000   \n",
       "Customer service calls         -0.017561          -0.009675   \n",
       "Churn                          -0.052844           0.068259   \n",
       "\n",
       "                        Customer service calls     Churn  \n",
       "Account length                       -0.003796  0.016541  \n",
       "Area code                             0.027572  0.006174  \n",
       "Number vmail messages                -0.013263 -0.089728  \n",
       "Total day minutes                    -0.013423  0.205151  \n",
       "Total day calls                      -0.018942  0.018459  \n",
       "Total day charge                     -0.013427  0.205151  \n",
       "Total eve minutes                    -0.012985  0.092796  \n",
       "Total eve calls                       0.002423  0.009233  \n",
       "Total eve charge                     -0.012987  0.092786  \n",
       "Total night minutes                  -0.009288  0.035493  \n",
       "Total night calls                    -0.012802  0.006141  \n",
       "Total night charge                   -0.009277  0.035496  \n",
       "Total intl minutes                   -0.009640  0.068239  \n",
       "Total intl calls                     -0.017561 -0.052844  \n",
       "Total intl charge                    -0.009675  0.068259  \n",
       "Customer service calls                1.000000  0.208750  \n",
       "Churn                                 0.208750  1.000000  "
      ]
     },
     "execution_count": 104,
     "metadata": {},
     "output_type": "execute_result"
    }
   ],
   "source": [
    "df.corr()"
   ]
  },
  {
   "cell_type": "code",
   "execution_count": 106,
   "id": "041c07a8",
   "metadata": {},
   "outputs": [
    {
     "data": {
      "text/plain": [
       "<AxesSubplot:>"
      ]
     },
     "execution_count": 106,
     "metadata": {},
     "output_type": "execute_result"
    },
    {
     "data": {
      "image/png": "[encoded data removed]",
      "text/plain": [
       "<Figure size 432x288 with 2 Axes>"
      ]
     },
     "metadata": {
      "needs_background": "light"
     },
     "output_type": "display_data"
    }
   ],
   "source": [
    "sns.heatmap(df.corr())"
   ]
  },
  {
   "cell_type": "markdown",
   "id": "106dae17",
   "metadata": {},
   "source": [
    "Так как от Charge ничего не зависит (Charge ~ Minutes) можно его дропнуть из таблицы\n"
   ]
  },
  {
   "cell_type": "code",
   "execution_count": 108,
   "id": "ef10ce0c",
   "metadata": {},
   "outputs": [
    {
     "data": {
      "text/html": [
       "<div>\n",
       "<style scoped>\n",
       "    .dataframe tbody tr th:only-of-type {\n",
       "        vertical-align: middle;\n",
       "    }\n",
       "\n",
       "    .dataframe tbody tr th {\n",
       "        vertical-align: top;\n",
       "    }\n",
       "\n",
       "    .dataframe thead th {\n",
       "        text-align: right;\n",
       "    }\n",
       "</style>\n",
       "<table border=\"1\" class=\"dataframe\">\n",
       "  <thead>\n",
       "    <tr style=\"text-align: right;\">\n",
       "      <th></th>\n",
       "      <th>State</th>\n",
       "      <th>Account length</th>\n",
       "      <th>Area code</th>\n",
       "      <th>International plan</th>\n",
       "      <th>Voice mail plan</th>\n",
       "      <th>Number vmail messages</th>\n",
       "      <th>Total day minutes</th>\n",
       "      <th>Total day calls</th>\n",
       "      <th>Total eve minutes</th>\n",
       "      <th>Total eve calls</th>\n",
       "      <th>Total night minutes</th>\n",
       "      <th>Total night calls</th>\n",
       "      <th>Total intl minutes</th>\n",
       "      <th>Total intl calls</th>\n",
       "      <th>Customer service calls</th>\n",
       "      <th>Churn</th>\n",
       "    </tr>\n",
       "  </thead>\n",
       "  <tbody>\n",
       "    <tr>\n",
       "      <th>0</th>\n",
       "      <td>KS</td>\n",
       "      <td>128</td>\n",
       "      <td>415</td>\n",
       "      <td>No</td>\n",
       "      <td>Yes</td>\n",
       "      <td>25</td>\n",
       "      <td>265.1</td>\n",
       "      <td>110</td>\n",
       "      <td>197.4</td>\n",
       "      <td>99</td>\n",
       "      <td>244.7</td>\n",
       "      <td>91</td>\n",
       "      <td>10.0</td>\n",
       "      <td>3</td>\n",
       "      <td>1</td>\n",
       "      <td>False</td>\n",
       "    </tr>\n",
       "    <tr>\n",
       "      <th>1</th>\n",
       "      <td>OH</td>\n",
       "      <td>107</td>\n",
       "      <td>415</td>\n",
       "      <td>No</td>\n",
       "      <td>Yes</td>\n",
       "      <td>26</td>\n",
       "      <td>161.6</td>\n",
       "      <td>123</td>\n",
       "      <td>195.5</td>\n",
       "      <td>103</td>\n",
       "      <td>254.4</td>\n",
       "      <td>103</td>\n",
       "      <td>13.7</td>\n",
       "      <td>3</td>\n",
       "      <td>1</td>\n",
       "      <td>False</td>\n",
       "    </tr>\n",
       "    <tr>\n",
       "      <th>2</th>\n",
       "      <td>NJ</td>\n",
       "      <td>137</td>\n",
       "      <td>415</td>\n",
       "      <td>No</td>\n",
       "      <td>No</td>\n",
       "      <td>0</td>\n",
       "      <td>243.4</td>\n",
       "      <td>114</td>\n",
       "      <td>121.2</td>\n",
       "      <td>110</td>\n",
       "      <td>162.6</td>\n",
       "      <td>104</td>\n",
       "      <td>12.2</td>\n",
       "      <td>5</td>\n",
       "      <td>0</td>\n",
       "      <td>False</td>\n",
       "    </tr>\n",
       "    <tr>\n",
       "      <th>3</th>\n",
       "      <td>OH</td>\n",
       "      <td>84</td>\n",
       "      <td>408</td>\n",
       "      <td>Yes</td>\n",
       "      <td>No</td>\n",
       "      <td>0</td>\n",
       "      <td>299.4</td>\n",
       "      <td>71</td>\n",
       "      <td>61.9</td>\n",
       "      <td>88</td>\n",
       "      <td>196.9</td>\n",
       "      <td>89</td>\n",
       "      <td>6.6</td>\n",
       "      <td>7</td>\n",
       "      <td>2</td>\n",
       "      <td>False</td>\n",
       "    </tr>\n",
       "    <tr>\n",
       "      <th>4</th>\n",
       "      <td>OK</td>\n",
       "      <td>75</td>\n",
       "      <td>415</td>\n",
       "      <td>Yes</td>\n",
       "      <td>No</td>\n",
       "      <td>0</td>\n",
       "      <td>166.7</td>\n",
       "      <td>113</td>\n",
       "      <td>148.3</td>\n",
       "      <td>122</td>\n",
       "      <td>186.9</td>\n",
       "      <td>121</td>\n",
       "      <td>10.1</td>\n",
       "      <td>3</td>\n",
       "      <td>3</td>\n",
       "      <td>False</td>\n",
       "    </tr>\n",
       "    <tr>\n",
       "      <th>...</th>\n",
       "      <td>...</td>\n",
       "      <td>...</td>\n",
       "      <td>...</td>\n",
       "      <td>...</td>\n",
       "      <td>...</td>\n",
       "      <td>...</td>\n",
       "      <td>...</td>\n",
       "      <td>...</td>\n",
       "      <td>...</td>\n",
       "      <td>...</td>\n",
       "      <td>...</td>\n",
       "      <td>...</td>\n",
       "      <td>...</td>\n",
       "      <td>...</td>\n",
       "      <td>...</td>\n",
       "      <td>...</td>\n",
       "    </tr>\n",
       "    <tr>\n",
       "      <th>3328</th>\n",
       "      <td>AZ</td>\n",
       "      <td>192</td>\n",
       "      <td>415</td>\n",
       "      <td>No</td>\n",
       "      <td>Yes</td>\n",
       "      <td>36</td>\n",
       "      <td>156.2</td>\n",
       "      <td>77</td>\n",
       "      <td>215.5</td>\n",
       "      <td>126</td>\n",
       "      <td>279.1</td>\n",
       "      <td>83</td>\n",
       "      <td>9.9</td>\n",
       "      <td>6</td>\n",
       "      <td>2</td>\n",
       "      <td>False</td>\n",
       "    </tr>\n",
       "    <tr>\n",
       "      <th>3329</th>\n",
       "      <td>WV</td>\n",
       "      <td>68</td>\n",
       "      <td>415</td>\n",
       "      <td>No</td>\n",
       "      <td>No</td>\n",
       "      <td>0</td>\n",
       "      <td>231.1</td>\n",
       "      <td>57</td>\n",
       "      <td>153.4</td>\n",
       "      <td>55</td>\n",
       "      <td>191.3</td>\n",
       "      <td>123</td>\n",
       "      <td>9.6</td>\n",
       "      <td>4</td>\n",
       "      <td>3</td>\n",
       "      <td>False</td>\n",
       "    </tr>\n",
       "    <tr>\n",
       "      <th>3330</th>\n",
       "      <td>RI</td>\n",
       "      <td>28</td>\n",
       "      <td>510</td>\n",
       "      <td>No</td>\n",
       "      <td>No</td>\n",
       "      <td>0</td>\n",
       "      <td>180.8</td>\n",
       "      <td>109</td>\n",
       "      <td>288.8</td>\n",
       "      <td>58</td>\n",
       "      <td>191.9</td>\n",
       "      <td>91</td>\n",
       "      <td>14.1</td>\n",
       "      <td>6</td>\n",
       "      <td>2</td>\n",
       "      <td>False</td>\n",
       "    </tr>\n",
       "    <tr>\n",
       "      <th>3331</th>\n",
       "      <td>CT</td>\n",
       "      <td>184</td>\n",
       "      <td>510</td>\n",
       "      <td>Yes</td>\n",
       "      <td>No</td>\n",
       "      <td>0</td>\n",
       "      <td>213.8</td>\n",
       "      <td>105</td>\n",
       "      <td>159.6</td>\n",
       "      <td>84</td>\n",
       "      <td>139.2</td>\n",
       "      <td>137</td>\n",
       "      <td>5.0</td>\n",
       "      <td>10</td>\n",
       "      <td>2</td>\n",
       "      <td>False</td>\n",
       "    </tr>\n",
       "    <tr>\n",
       "      <th>3332</th>\n",
       "      <td>TN</td>\n",
       "      <td>74</td>\n",
       "      <td>415</td>\n",
       "      <td>No</td>\n",
       "      <td>Yes</td>\n",
       "      <td>25</td>\n",
       "      <td>234.4</td>\n",
       "      <td>113</td>\n",
       "      <td>265.9</td>\n",
       "      <td>82</td>\n",
       "      <td>241.4</td>\n",
       "      <td>77</td>\n",
       "      <td>13.7</td>\n",
       "      <td>4</td>\n",
       "      <td>0</td>\n",
       "      <td>False</td>\n",
       "    </tr>\n",
       "  </tbody>\n",
       "</table>\n",
       "<p>3333 rows × 16 columns</p>\n",
       "</div>"
      ],
      "text/plain": [
       "     State  Account length  Area code International plan Voice mail plan  \\\n",
       "0       KS             128        415                 No             Yes   \n",
       "1       OH             107        415                 No             Yes   \n",
       "2       NJ             137        415                 No              No   \n",
       "3       OH              84        408                Yes              No   \n",
       "4       OK              75        415                Yes              No   \n",
       "...    ...             ...        ...                ...             ...   \n",
       "3328    AZ             192        415                 No             Yes   \n",
       "3329    WV              68        415                 No              No   \n",
       "3330    RI              28        510                 No              No   \n",
       "3331    CT             184        510                Yes              No   \n",
       "3332    TN              74        415                 No             Yes   \n",
       "\n",
       "      Number vmail messages  Total day minutes  Total day calls  \\\n",
       "0                        25              265.1              110   \n",
       "1                        26              161.6              123   \n",
       "2                         0              243.4              114   \n",
       "3                         0              299.4               71   \n",
       "4                         0              166.7              113   \n",
       "...                     ...                ...              ...   \n",
       "3328                     36              156.2               77   \n",
       "3329                      0              231.1               57   \n",
       "3330                      0              180.8              109   \n",
       "3331                      0              213.8              105   \n",
       "3332                     25              234.4              113   \n",
       "\n",
       "      Total eve minutes  Total eve calls  Total night minutes  \\\n",
       "0                 197.4               99                244.7   \n",
       "1                 195.5              103                254.4   \n",
       "2                 121.2              110                162.6   \n",
       "3                  61.9               88                196.9   \n",
       "4                 148.3              122                186.9   \n",
       "...                 ...              ...                  ...   \n",
       "3328              215.5              126                279.1   \n",
       "3329              153.4               55                191.3   \n",
       "3330              288.8               58                191.9   \n",
       "3331              159.6               84                139.2   \n",
       "3332              265.9               82                241.4   \n",
       "\n",
       "      Total night calls  Total intl minutes  Total intl calls  \\\n",
       "0                    91                10.0                 3   \n",
       "1                   103                13.7                 3   \n",
       "2                   104                12.2                 5   \n",
       "3                    89                 6.6                 7   \n",
       "4                   121                10.1                 3   \n",
       "...                 ...                 ...               ...   \n",
       "3328                 83                 9.9                 6   \n",
       "3329                123                 9.6                 4   \n",
       "3330                 91                14.1                 6   \n",
       "3331                137                 5.0                10   \n",
       "3332                 77                13.7                 4   \n",
       "\n",
       "      Customer service calls  Churn  \n",
       "0                          1  False  \n",
       "1                          1  False  \n",
       "2                          0  False  \n",
       "3                          2  False  \n",
       "4                          3  False  \n",
       "...                      ...    ...  \n",
       "3328                       2  False  \n",
       "3329                       3  False  \n",
       "3330                       2  False  \n",
       "3331                       2  False  \n",
       "3332                       0  False  \n",
       "\n",
       "[3333 rows x 16 columns]"
      ]
     },
     "execution_count": 108,
     "metadata": {},
     "output_type": "execute_result"
    }
   ],
   "source": [
    "df.drop(feat, axis=1)"
   ]
  },
  {
   "cell_type": "code",
   "execution_count": 109,
   "id": "4b326ee7",
   "metadata": {},
   "outputs": [
    {
     "data": {
      "text/plain": [
       "Index(['State', 'Account length', 'Area code', 'International plan',\n",
       "       'Voice mail plan', 'Number vmail messages', 'Total day minutes',\n",
       "       'Total day calls', 'Total day charge', 'Total eve minutes',\n",
       "       'Total eve calls', 'Total eve charge', 'Total night minutes',\n",
       "       'Total night calls', 'Total night charge', 'Total intl minutes',\n",
       "       'Total intl calls', 'Total intl charge', 'Customer service calls',\n",
       "       'Churn'],\n",
       "      dtype='object')"
      ]
     },
     "execution_count": 109,
     "metadata": {},
     "output_type": "execute_result"
    }
   ],
   "source": [
    "df.columns"
   ]
  },
  {
   "cell_type": "markdown",
   "id": "c67f3e58",
   "metadata": {},
   "source": [
    "Как видим, Charge не удалилось из общей таблицы для этого добавим inplace"
   ]
  },
  {
   "cell_type": "code",
   "execution_count": 111,
   "id": "5d32fd71",
   "metadata": {},
   "outputs": [],
   "source": [
    "df.drop(feat, axis=1, inplace=True)"
   ]
  },
  {
   "cell_type": "code",
   "execution_count": 112,
   "id": "3a9e981c",
   "metadata": {},
   "outputs": [
    {
     "data": {
      "text/plain": [
       "Index(['State', 'Account length', 'Area code', 'International plan',\n",
       "       'Voice mail plan', 'Number vmail messages', 'Total day minutes',\n",
       "       'Total day calls', 'Total eve minutes', 'Total eve calls',\n",
       "       'Total night minutes', 'Total night calls', 'Total intl minutes',\n",
       "       'Total intl calls', 'Customer service calls', 'Churn'],\n",
       "      dtype='object')"
      ]
     },
     "execution_count": 112,
     "metadata": {},
     "output_type": "execute_result"
    }
   ],
   "source": [
    "df.columns"
   ]
  },
  {
   "cell_type": "code",
   "execution_count": 113,
   "id": "a1835f54",
   "metadata": {},
   "outputs": [
    {
     "data": {
      "text/plain": [
       "<AxesSubplot:>"
      ]
     },
     "execution_count": 113,
     "metadata": {},
     "output_type": "execute_result"
    },
    {
     "data": {
      "image/png": "[encoded data removed]",
      "text/plain": [
       "<Figure size 432x288 with 2 Axes>"
      ]
     },
     "metadata": {
      "needs_background": "light"
     },
     "output_type": "display_data"
    }
   ],
   "source": [
    "sns.heatmap(df.corr())"
   ]
  },
  {
   "cell_type": "markdown",
   "id": "ca350627",
   "metadata": {},
   "source": [
    "### 2.1. Количественные - Категориальные & Количественные - Бинарные"
   ]
  },
  {
   "cell_type": "code",
   "execution_count": 115,
   "id": "0428f1d8",
   "metadata": {},
   "outputs": [
    {
     "data": {
      "image/png": "[encoded data removed]",
      "text/plain": [
       "<Figure size 432x288 with 1 Axes>"
      ]
     },
     "metadata": {
      "needs_background": "light"
     },
     "output_type": "display_data"
    }
   ],
   "source": [
    "sns.boxplot(x='Churn', y='Total day minutes', data=df);"
   ]
  },
  {
   "cell_type": "code",
   "execution_count": 116,
   "id": "a4a1c2c7",
   "metadata": {},
   "outputs": [
    {
     "data": {
      "image/png": "[encoded data removed]",
      "text/plain": [
       "<Figure size 432x288 with 1 Axes>"
      ]
     },
     "metadata": {
      "needs_background": "light"
     },
     "output_type": "display_data"
    }
   ],
   "source": [
    "sns.boxplot(x='State', y='Total day minutes', data=df);"
   ]
  },
  {
   "cell_type": "code",
   "execution_count": 117,
   "id": "01ec40ef",
   "metadata": {},
   "outputs": [
    {
     "data": {
      "image/png": "[encoded data removed]",
      "text/plain": [
       "<Figure size 432x288 with 1 Axes>"
      ]
     },
     "metadata": {
      "needs_background": "light"
     },
     "output_type": "display_data"
    }
   ],
   "source": [
    "sns.violinplot(x='Churn', y='Total day minutes', data=df);"
   ]
  },
  {
   "cell_type": "code",
   "execution_count": 118,
   "id": "5ceedcd3",
   "metadata": {},
   "outputs": [
    {
     "data": {
      "text/plain": [
       "International plan\n",
       "No     178.893887\n",
       "Yes    187.986997\n",
       "Name: Total day minutes, dtype: float64"
      ]
     },
     "execution_count": 118,
     "metadata": {},
     "output_type": "execute_result"
    }
   ],
   "source": [
    "df.groupby('International plan')['Total day minutes'].mean()"
   ]
  },
  {
   "cell_type": "code",
   "execution_count": 120,
   "id": "99cb34a2",
   "metadata": {},
   "outputs": [
    {
     "data": {
      "image/png": "[encoded data removed]",
      "text/plain": [
       "<Figure size 432x288 with 1 Axes>"
      ]
     },
     "metadata": {
      "needs_background": "light"
     },
     "output_type": "display_data"
    }
   ],
   "source": [
    "sns.boxplot(x='International plan', y='Total day minutes', data=df);"
   ]
  },
  {
   "cell_type": "markdown",
   "id": "689a55a1",
   "metadata": {},
   "source": [
    "## 2.3. Категориальный - категориальный или Бинарный - бинарный"
   ]
  },
  {
   "cell_type": "code",
   "execution_count": 121,
   "id": "230dbdad",
   "metadata": {},
   "outputs": [
    {
     "data": {
      "text/html": [
       "<div>\n",
       "<style scoped>\n",
       "    .dataframe tbody tr th:only-of-type {\n",
       "        vertical-align: middle;\n",
       "    }\n",
       "\n",
       "    .dataframe tbody tr th {\n",
       "        vertical-align: top;\n",
       "    }\n",
       "\n",
       "    .dataframe thead th {\n",
       "        text-align: right;\n",
       "    }\n",
       "</style>\n",
       "<table border=\"1\" class=\"dataframe\">\n",
       "  <thead>\n",
       "    <tr style=\"text-align: right;\">\n",
       "      <th>Churn</th>\n",
       "      <th>False</th>\n",
       "      <th>True</th>\n",
       "    </tr>\n",
       "    <tr>\n",
       "      <th>International plan</th>\n",
       "      <th></th>\n",
       "      <th></th>\n",
       "    </tr>\n",
       "  </thead>\n",
       "  <tbody>\n",
       "    <tr>\n",
       "      <th>No</th>\n",
       "      <td>2664</td>\n",
       "      <td>346</td>\n",
       "    </tr>\n",
       "    <tr>\n",
       "      <th>Yes</th>\n",
       "      <td>186</td>\n",
       "      <td>137</td>\n",
       "    </tr>\n",
       "  </tbody>\n",
       "</table>\n",
       "</div>"
      ],
      "text/plain": [
       "Churn               False  True\n",
       "International plan             \n",
       "No                   2664   346\n",
       "Yes                   186   137"
      ]
     },
     "execution_count": 121,
     "metadata": {},
     "output_type": "execute_result"
    }
   ],
   "source": [
    "pd.crosstab(df['International plan'], df['Churn'])"
   ]
  },
  {
   "cell_type": "code",
   "execution_count": 122,
   "id": "885a84a3",
   "metadata": {},
   "outputs": [
    {
     "data": {
      "text/plain": [
       "<AxesSubplot:xlabel='International plan', ylabel='count'>"
      ]
     },
     "execution_count": 122,
     "metadata": {},
     "output_type": "execute_result"
    },
    {
     "data": {
      "image/png": "[encoded data removed]",
      "text/plain": [
       "<Figure size 432x288 with 1 Axes>"
      ]
     },
     "metadata": {
      "needs_background": "light"
     },
     "output_type": "display_data"
    }
   ],
   "source": [
    "sns.countplot(x='International plan', hue='Churn', data=df)"
   ]
  },
  {
   "cell_type": "code",
   "execution_count": 124,
   "id": "81762d84",
   "metadata": {},
   "outputs": [
    {
     "data": {
      "text/plain": [
       "<AxesSubplot:xlabel='Customer service calls', ylabel='count'>"
      ]
     },
     "execution_count": 124,
     "metadata": {},
     "output_type": "execute_result"
    },
    {
     "data": {
      "image/png": "[encoded data removed]",
      "text/plain": [
       "<Figure size 432x288 with 1 Axes>"
      ]
     },
     "metadata": {
      "needs_background": "light"
     },
     "output_type": "display_data"
    }
   ],
   "source": [
    "sns.countplot(x='Customer service calls', hue='Churn', data=df)"
   ]
  },
  {
   "cell_type": "code",
   "execution_count": 125,
   "id": "ba537903",
   "metadata": {},
   "outputs": [],
   "source": [
    "from sklearn.manifold import TSNE"
   ]
  },
  {
   "cell_type": "code",
   "execution_count": 128,
   "id": "487e63fd",
   "metadata": {},
   "outputs": [],
   "source": [
    "tsne = TSNE(random_state=0)"
   ]
  },
  {
   "cell_type": "code",
   "execution_count": 130,
   "id": "1e016931",
   "metadata": {},
   "outputs": [],
   "source": [
    "df2 = df.drop('State', axis=1)"
   ]
  },
  {
   "cell_type": "code",
   "execution_count": 131,
   "id": "75de22a9",
   "metadata": {},
   "outputs": [],
   "source": [
    "df2['International plan'] = df2['International plan'].map({'Yes': 1, 'No':0})\n",
    "df2['Voice mail plan'] = df2['Voice mail plan'].map({'Yes': 1, 'No':0})"
   ]
  },
  {
   "cell_type": "code",
   "execution_count": 132,
   "id": "fbab5c22",
   "metadata": {},
   "outputs": [
    {
     "data": {
      "text/plain": [
       "TSNE(random_state=0)"
      ]
     },
     "execution_count": 132,
     "metadata": {},
     "output_type": "execute_result"
    }
   ],
   "source": [
    "tsne.fit(df2)"
   ]
  },
  {
   "cell_type": "code",
   "execution_count": 133,
   "id": "c5bd3142",
   "metadata": {},
   "outputs": [
    {
     "data": {
      "text/html": [
       "<div>\n",
       "<style scoped>\n",
       "    .dataframe tbody tr th:only-of-type {\n",
       "        vertical-align: middle;\n",
       "    }\n",
       "\n",
       "    .dataframe tbody tr th {\n",
       "        vertical-align: top;\n",
       "    }\n",
       "\n",
       "    .dataframe thead th {\n",
       "        text-align: right;\n",
       "    }\n",
       "</style>\n",
       "<table border=\"1\" class=\"dataframe\">\n",
       "  <thead>\n",
       "    <tr style=\"text-align: right;\">\n",
       "      <th></th>\n",
       "      <th>Account length</th>\n",
       "      <th>Area code</th>\n",
       "      <th>International plan</th>\n",
       "      <th>Voice mail plan</th>\n",
       "      <th>Number vmail messages</th>\n",
       "      <th>Total day minutes</th>\n",
       "      <th>Total day calls</th>\n",
       "      <th>Total eve minutes</th>\n",
       "      <th>Total eve calls</th>\n",
       "      <th>Total night minutes</th>\n",
       "      <th>Total night calls</th>\n",
       "      <th>Total intl minutes</th>\n",
       "      <th>Total intl calls</th>\n",
       "      <th>Customer service calls</th>\n",
       "      <th>Churn</th>\n",
       "    </tr>\n",
       "  </thead>\n",
       "  <tbody>\n",
       "    <tr>\n",
       "      <th>0</th>\n",
       "      <td>128</td>\n",
       "      <td>415</td>\n",
       "      <td>0</td>\n",
       "      <td>1</td>\n",
       "      <td>25</td>\n",
       "      <td>265.1</td>\n",
       "      <td>110</td>\n",
       "      <td>197.4</td>\n",
       "      <td>99</td>\n",
       "      <td>244.7</td>\n",
       "      <td>91</td>\n",
       "      <td>10.0</td>\n",
       "      <td>3</td>\n",
       "      <td>1</td>\n",
       "      <td>False</td>\n",
       "    </tr>\n",
       "    <tr>\n",
       "      <th>1</th>\n",
       "      <td>107</td>\n",
       "      <td>415</td>\n",
       "      <td>0</td>\n",
       "      <td>1</td>\n",
       "      <td>26</td>\n",
       "      <td>161.6</td>\n",
       "      <td>123</td>\n",
       "      <td>195.5</td>\n",
       "      <td>103</td>\n",
       "      <td>254.4</td>\n",
       "      <td>103</td>\n",
       "      <td>13.7</td>\n",
       "      <td>3</td>\n",
       "      <td>1</td>\n",
       "      <td>False</td>\n",
       "    </tr>\n",
       "    <tr>\n",
       "      <th>2</th>\n",
       "      <td>137</td>\n",
       "      <td>415</td>\n",
       "      <td>0</td>\n",
       "      <td>0</td>\n",
       "      <td>0</td>\n",
       "      <td>243.4</td>\n",
       "      <td>114</td>\n",
       "      <td>121.2</td>\n",
       "      <td>110</td>\n",
       "      <td>162.6</td>\n",
       "      <td>104</td>\n",
       "      <td>12.2</td>\n",
       "      <td>5</td>\n",
       "      <td>0</td>\n",
       "      <td>False</td>\n",
       "    </tr>\n",
       "    <tr>\n",
       "      <th>3</th>\n",
       "      <td>84</td>\n",
       "      <td>408</td>\n",
       "      <td>1</td>\n",
       "      <td>0</td>\n",
       "      <td>0</td>\n",
       "      <td>299.4</td>\n",
       "      <td>71</td>\n",
       "      <td>61.9</td>\n",
       "      <td>88</td>\n",
       "      <td>196.9</td>\n",
       "      <td>89</td>\n",
       "      <td>6.6</td>\n",
       "      <td>7</td>\n",
       "      <td>2</td>\n",
       "      <td>False</td>\n",
       "    </tr>\n",
       "    <tr>\n",
       "      <th>4</th>\n",
       "      <td>75</td>\n",
       "      <td>415</td>\n",
       "      <td>1</td>\n",
       "      <td>0</td>\n",
       "      <td>0</td>\n",
       "      <td>166.7</td>\n",
       "      <td>113</td>\n",
       "      <td>148.3</td>\n",
       "      <td>122</td>\n",
       "      <td>186.9</td>\n",
       "      <td>121</td>\n",
       "      <td>10.1</td>\n",
       "      <td>3</td>\n",
       "      <td>3</td>\n",
       "      <td>False</td>\n",
       "    </tr>\n",
       "    <tr>\n",
       "      <th>...</th>\n",
       "      <td>...</td>\n",
       "      <td>...</td>\n",
       "      <td>...</td>\n",
       "      <td>...</td>\n",
       "      <td>...</td>\n",
       "      <td>...</td>\n",
       "      <td>...</td>\n",
       "      <td>...</td>\n",
       "      <td>...</td>\n",
       "      <td>...</td>\n",
       "      <td>...</td>\n",
       "      <td>...</td>\n",
       "      <td>...</td>\n",
       "      <td>...</td>\n",
       "      <td>...</td>\n",
       "    </tr>\n",
       "    <tr>\n",
       "      <th>3328</th>\n",
       "      <td>192</td>\n",
       "      <td>415</td>\n",
       "      <td>0</td>\n",
       "      <td>1</td>\n",
       "      <td>36</td>\n",
       "      <td>156.2</td>\n",
       "      <td>77</td>\n",
       "      <td>215.5</td>\n",
       "      <td>126</td>\n",
       "      <td>279.1</td>\n",
       "      <td>83</td>\n",
       "      <td>9.9</td>\n",
       "      <td>6</td>\n",
       "      <td>2</td>\n",
       "      <td>False</td>\n",
       "    </tr>\n",
       "    <tr>\n",
       "      <th>3329</th>\n",
       "      <td>68</td>\n",
       "      <td>415</td>\n",
       "      <td>0</td>\n",
       "      <td>0</td>\n",
       "      <td>0</td>\n",
       "      <td>231.1</td>\n",
       "      <td>57</td>\n",
       "      <td>153.4</td>\n",
       "      <td>55</td>\n",
       "      <td>191.3</td>\n",
       "      <td>123</td>\n",
       "      <td>9.6</td>\n",
       "      <td>4</td>\n",
       "      <td>3</td>\n",
       "      <td>False</td>\n",
       "    </tr>\n",
       "    <tr>\n",
       "      <th>3330</th>\n",
       "      <td>28</td>\n",
       "      <td>510</td>\n",
       "      <td>0</td>\n",
       "      <td>0</td>\n",
       "      <td>0</td>\n",
       "      <td>180.8</td>\n",
       "      <td>109</td>\n",
       "      <td>288.8</td>\n",
       "      <td>58</td>\n",
       "      <td>191.9</td>\n",
       "      <td>91</td>\n",
       "      <td>14.1</td>\n",
       "      <td>6</td>\n",
       "      <td>2</td>\n",
       "      <td>False</td>\n",
       "    </tr>\n",
       "    <tr>\n",
       "      <th>3331</th>\n",
       "      <td>184</td>\n",
       "      <td>510</td>\n",
       "      <td>1</td>\n",
       "      <td>0</td>\n",
       "      <td>0</td>\n",
       "      <td>213.8</td>\n",
       "      <td>105</td>\n",
       "      <td>159.6</td>\n",
       "      <td>84</td>\n",
       "      <td>139.2</td>\n",
       "      <td>137</td>\n",
       "      <td>5.0</td>\n",
       "      <td>10</td>\n",
       "      <td>2</td>\n",
       "      <td>False</td>\n",
       "    </tr>\n",
       "    <tr>\n",
       "      <th>3332</th>\n",
       "      <td>74</td>\n",
       "      <td>415</td>\n",
       "      <td>0</td>\n",
       "      <td>1</td>\n",
       "      <td>25</td>\n",
       "      <td>234.4</td>\n",
       "      <td>113</td>\n",
       "      <td>265.9</td>\n",
       "      <td>82</td>\n",
       "      <td>241.4</td>\n",
       "      <td>77</td>\n",
       "      <td>13.7</td>\n",
       "      <td>4</td>\n",
       "      <td>0</td>\n",
       "      <td>False</td>\n",
       "    </tr>\n",
       "  </tbody>\n",
       "</table>\n",
       "<p>3333 rows × 15 columns</p>\n",
       "</div>"
      ],
      "text/plain": [
       "      Account length  Area code  International plan  Voice mail plan  \\\n",
       "0                128        415                   0                1   \n",
       "1                107        415                   0                1   \n",
       "2                137        415                   0                0   \n",
       "3                 84        408                   1                0   \n",
       "4                 75        415                   1                0   \n",
       "...              ...        ...                 ...              ...   \n",
       "3328             192        415                   0                1   \n",
       "3329              68        415                   0                0   \n",
       "3330              28        510                   0                0   \n",
       "3331             184        510                   1                0   \n",
       "3332              74        415                   0                1   \n",
       "\n",
       "      Number vmail messages  Total day minutes  Total day calls  \\\n",
       "0                        25              265.1              110   \n",
       "1                        26              161.6              123   \n",
       "2                         0              243.4              114   \n",
       "3                         0              299.4               71   \n",
       "4                         0              166.7              113   \n",
       "...                     ...                ...              ...   \n",
       "3328                     36              156.2               77   \n",
       "3329                      0              231.1               57   \n",
       "3330                      0              180.8              109   \n",
       "3331                      0              213.8              105   \n",
       "3332                     25              234.4              113   \n",
       "\n",
       "      Total eve minutes  Total eve calls  Total night minutes  \\\n",
       "0                 197.4               99                244.7   \n",
       "1                 195.5              103                254.4   \n",
       "2                 121.2              110                162.6   \n",
       "3                  61.9               88                196.9   \n",
       "4                 148.3              122                186.9   \n",
       "...                 ...              ...                  ...   \n",
       "3328              215.5              126                279.1   \n",
       "3329              153.4               55                191.3   \n",
       "3330              288.8               58                191.9   \n",
       "3331              159.6               84                139.2   \n",
       "3332              265.9               82                241.4   \n",
       "\n",
       "      Total night calls  Total intl minutes  Total intl calls  \\\n",
       "0                    91                10.0                 3   \n",
       "1                   103                13.7                 3   \n",
       "2                   104                12.2                 5   \n",
       "3                    89                 6.6                 7   \n",
       "4                   121                10.1                 3   \n",
       "...                 ...                 ...               ...   \n",
       "3328                 83                 9.9                 6   \n",
       "3329                123                 9.6                 4   \n",
       "3330                 91                14.1                 6   \n",
       "3331                137                 5.0                10   \n",
       "3332                 77                13.7                 4   \n",
       "\n",
       "      Customer service calls  Churn  \n",
       "0                          1  False  \n",
       "1                          1  False  \n",
       "2                          0  False  \n",
       "3                          2  False  \n",
       "4                          3  False  \n",
       "...                      ...    ...  \n",
       "3328                       2  False  \n",
       "3329                       3  False  \n",
       "3330                       2  False  \n",
       "3331                       2  False  \n",
       "3332                       0  False  \n",
       "\n",
       "[3333 rows x 15 columns]"
      ]
     },
     "execution_count": 133,
     "metadata": {},
     "output_type": "execute_result"
    }
   ],
   "source": [
    "df2"
   ]
  },
  {
   "cell_type": "code",
   "execution_count": 134,
   "id": "4fb04fff",
   "metadata": {},
   "outputs": [],
   "source": [
    "tsne_representation = tsne.fit_transform"
   ]
  },
  {
   "cell_type": "code",
   "execution_count": 136,
   "id": "5fb3e9e5",
   "metadata": {},
   "outputs": [
    {
     "data": {
      "text/plain": [
       "<matplotlib.collections.PathCollection at 0x7fc483b0dcd0>"
      ]
     },
     "execution_count": 136,
     "metadata": {},
     "output_type": "execute_result"
    },
    {
     "data": {
      "image/png": "[encoded data removed]",
      "text/plain": [
       "<Figure size 432x288 with 1 Axes>"
      ]
     },
     "metadata": {
      "needs_background": "light"
     },
     "output_type": "display_data"
    }
   ],
   "source": [
    "plt.scatter(tsne.embedding_[:, 1], tsne.embedding_[:, 0])"
   ]
  },
  {
   "cell_type": "code",
   "execution_count": 141,
   "id": "c4560f81",
   "metadata": {},
   "outputs": [
    {
     "data": {
      "text/plain": [
       "<matplotlib.collections.PathCollection at 0x7fc482905280>"
      ]
     },
     "execution_count": 141,
     "metadata": {},
     "output_type": "execute_result"
    },
    {
     "data": {
      "image/png": "[encoded data removed]",
      "text/plain": [
       "<Figure size 432x288 with 1 Axes>"
      ]
     },
     "metadata": {
      "needs_background": "light"
     },
     "output_type": "display_data"
    }
   ],
   "source": [
    "plt.scatter(tsne.embedding_[df['Churn'], 1], tsne.embedding_[df['Churn'], 0], color='blue')\n",
    "plt.scatter(tsne.embedding_[~df['Churn'], 1], tsne.embedding_[~df['Churn'], 0], color='orange')"
   ]
  },
  {
   "cell_type": "code",
   "execution_count": 149,
   "id": "7c12590d",
   "metadata": {},
   "outputs": [],
   "source": [
    "poll_data = pd.read_csv('mlcourse_open_first_survey_parsed.csv', index_col='id')"
   ]
  },
  {
   "cell_type": "code",
   "execution_count": 150,
   "id": "0e7b7da2",
   "metadata": {},
   "outputs": [
    {
     "data": {
      "text/html": [
       "<div>\n",
       "<style scoped>\n",
       "    .dataframe tbody tr th:only-of-type {\n",
       "        vertical-align: middle;\n",
       "    }\n",
       "\n",
       "    .dataframe tbody tr th {\n",
       "        vertical-align: top;\n",
       "    }\n",
       "\n",
       "    .dataframe thead th {\n",
       "        text-align: right;\n",
       "    }\n",
       "</style>\n",
       "<table border=\"1\" class=\"dataframe\">\n",
       "  <thead>\n",
       "    <tr style=\"text-align: right;\">\n",
       "      <th></th>\n",
       "      <th>Timestamp</th>\n",
       "      <th>Представьтесь в 2-3 фразах</th>\n",
       "      <th>Работали ли Вы с Jupyter notebooks?</th>\n",
       "      <th>Что Вы ждете от курса?</th>\n",
       "      <th>Потом мы прямо этот же набор данных поанализируем с Pandas. Так что какой Ваш любимый вид спорта?</th>\n",
       "      <th>Ладно, посерьезней: согласны ли Вы на обработку персональных данных?</th>\n",
       "      <th>Какие оцениваете свой уровень математической подготовки? (матан, линал, теорвер)</th>\n",
       "      <th>Чему равна дисперсия равномерного на [0,6] распределения?</th>\n",
       "      <th>Найдите минимум функции 3x^4-8x^3+6x^2-12 на отрезке [-3,3]</th>\n",
       "      <th>Сколько параметров у нормального распределения?</th>\n",
       "      <th>Сможете написать на Python генератор чисел Фибоначчи?</th>\n",
       "      <th>Хорошо, а готовы к началу курса (6 сентября 2017) освоить азы Python? На уровне Code Academy, DataCamp или github.com/Yorko/python_intro</th>\n",
       "      <th>Оцените свой уровень владения GitHub</th>\n",
       "      <th>Посоветуйте хороший фильм в стиле \"Игра в имитацию\" :)</th>\n",
       "    </tr>\n",
       "    <tr>\n",
       "      <th>id</th>\n",
       "      <th></th>\n",
       "      <th></th>\n",
       "      <th></th>\n",
       "      <th></th>\n",
       "      <th></th>\n",
       "      <th></th>\n",
       "      <th></th>\n",
       "      <th></th>\n",
       "      <th></th>\n",
       "      <th></th>\n",
       "      <th></th>\n",
       "      <th></th>\n",
       "      <th></th>\n",
       "      <th></th>\n",
       "    </tr>\n",
       "  </thead>\n",
       "  <tbody>\n",
       "    <tr>\n",
       "      <th>0</th>\n",
       "      <td>2016/12/05 10:39:59 am GMT+3</td>\n",
       "      <td>крутой Developer</td>\n",
       "      <td>Да</td>\n",
       "      <td>Ребята, вижу ваш настрой, уверен курс будет ин...</td>\n",
       "      <td>Starcraft</td>\n",
       "      <td>Да</td>\n",
       "      <td>4</td>\n",
       "      <td>3</td>\n",
       "      <td>-12</td>\n",
       "      <td>2.0</td>\n",
       "      <td>Да</td>\n",
       "      <td>Да</td>\n",
       "      <td>Проф</td>\n",
       "      <td>Прочитай книгу Лема \"Голос Неба\", очень много ...</td>\n",
       "    </tr>\n",
       "    <tr>\n",
       "      <th>1</th>\n",
       "      <td>2016/12/05 10:44:27 am GMT+3</td>\n",
       "      <td>Разработчик Navision. Изучаю тему DS для возмо...</td>\n",
       "      <td>Да</td>\n",
       "      <td>Практики, подкрепленной теорией. Хочется упоря...</td>\n",
       "      <td>NaN</td>\n",
       "      <td>Да</td>\n",
       "      <td>1</td>\n",
       "      <td>3</td>\n",
       "      <td>NaN</td>\n",
       "      <td>2.0</td>\n",
       "      <td>Да, но фиговый.</td>\n",
       "      <td>Да</td>\n",
       "      <td>Могу скачать материалы</td>\n",
       "      <td>NaN</td>\n",
       "    </tr>\n",
       "  </tbody>\n",
       "</table>\n",
       "</div>"
      ],
      "text/plain": [
       "                       Timestamp  \\\n",
       "id                                 \n",
       "0   2016/12/05 10:39:59 am GMT+3   \n",
       "1   2016/12/05 10:44:27 am GMT+3   \n",
       "\n",
       "                           Представьтесь в 2-3 фразах  \\\n",
       "id                                                      \n",
       "0                                    крутой Developer   \n",
       "1   Разработчик Navision. Изучаю тему DS для возмо...   \n",
       "\n",
       "   Работали ли Вы с Jupyter notebooks?  \\\n",
       "id                                       \n",
       "0                                   Да   \n",
       "1                                   Да   \n",
       "\n",
       "                               Что Вы ждете от курса?  \\\n",
       "id                                                      \n",
       "0   Ребята, вижу ваш настрой, уверен курс будет ин...   \n",
       "1   Практики, подкрепленной теорией. Хочется упоря...   \n",
       "\n",
       "   Потом мы прямо этот же набор данных поанализируем с Pandas. Так что какой Ваш любимый вид спорта?  \\\n",
       "id                                                                                                     \n",
       "0                                           Starcraft                                                  \n",
       "1                                                 NaN                                                  \n",
       "\n",
       "   Ладно, посерьезней: согласны ли Вы на обработку персональных данных?  \\\n",
       "id                                                                        \n",
       "0                                                  Да                     \n",
       "1                                                  Да                     \n",
       "\n",
       "    Какие оцениваете свой уровень математической подготовки? (матан, линал, теорвер)  \\\n",
       "id                                                                                     \n",
       "0                                                   4                                  \n",
       "1                                                   1                                  \n",
       "\n",
       "   Чему равна дисперсия равномерного на [0,6] распределения?  \\\n",
       "id                                                             \n",
       "0                                                   3          \n",
       "1                                                   3          \n",
       "\n",
       "   Найдите минимум функции 3x^4-8x^3+6x^2-12 на отрезке [-3,3]  \\\n",
       "id                                                               \n",
       "0                                                 -12            \n",
       "1                                                 NaN            \n",
       "\n",
       "    Сколько параметров у нормального распределения?  \\\n",
       "id                                                    \n",
       "0                                               2.0   \n",
       "1                                               2.0   \n",
       "\n",
       "   Сможете написать на Python генератор чисел Фибоначчи?  \\\n",
       "id                                                         \n",
       "0                                                  Да      \n",
       "1                                     Да, но фиговый.      \n",
       "\n",
       "   Хорошо, а готовы к началу курса (6 сентября 2017) освоить азы Python? На уровне Code Academy, DataCamp или github.com/Yorko/python_intro  \\\n",
       "id                                                                                                                                            \n",
       "0                                                  Да                                                                                         \n",
       "1                                                  Да                                                                                         \n",
       "\n",
       "   Оцените свой уровень владения GitHub  \\\n",
       "id                                        \n",
       "0                                  Проф   \n",
       "1                Могу скачать материалы   \n",
       "\n",
       "   Посоветуйте хороший фильм в стиле \"Игра в имитацию\" :)  \n",
       "id                                                         \n",
       "0   Прочитай книгу Лема \"Голос Неба\", очень много ...      \n",
       "1                                                 NaN      "
      ]
     },
     "execution_count": 150,
     "metadata": {},
     "output_type": "execute_result"
    }
   ],
   "source": [
    "poll_data.head(2)"
   ]
  },
  {
   "cell_type": "code",
   "execution_count": 151,
   "id": "f82f6bcb",
   "metadata": {},
   "outputs": [
    {
     "data": {
      "text/plain": [
       "(2944, 14)"
      ]
     },
     "execution_count": 151,
     "metadata": {},
     "output_type": "execute_result"
    }
   ],
   "source": [
    "poll_data.shape"
   ]
  },
  {
   "cell_type": "code",
   "execution_count": 152,
   "id": "d1c984cb",
   "metadata": {},
   "outputs": [
    {
     "data": {
      "text/plain": [
       "Index(['Timestamp', 'Представьтесь в 2-3 фразах',\n",
       "       'Работали ли Вы с Jupyter notebooks?', 'Что Вы ждете от курса?',\n",
       "       'Потом мы прямо этот же набор данных поанализируем с Pandas. Так что какой Ваш любимый вид спорта?',\n",
       "       'Ладно, посерьезней: согласны ли Вы на обработку персональных данных?',\n",
       "       'Какие оцениваете свой уровень математической подготовки? (матан, линал, теорвер)',\n",
       "       'Чему равна дисперсия равномерного на [0,6] распределения?',\n",
       "       'Найдите минимум функции 3x^4-8x^3+6x^2-12 на отрезке [-3,3]',\n",
       "       'Сколько параметров у нормального распределения?',\n",
       "       'Сможете написать на Python генератор чисел Фибоначчи?',\n",
       "       'Хорошо, а готовы к началу курса (6 сентября 2017) освоить азы Python? На уровне Code Academy, DataCamp или github.com/Yorko/python_intro',\n",
       "       'Оцените свой уровень владения GitHub',\n",
       "       'Посоветуйте хороший фильм в стиле \"Игра в имитацию\" :)'],\n",
       "      dtype='object')"
      ]
     },
     "execution_count": 152,
     "metadata": {},
     "output_type": "execute_result"
    }
   ],
   "source": [
    "poll_data.columns"
   ]
  },
  {
   "cell_type": "code",
   "execution_count": 153,
   "id": "2376188c",
   "metadata": {},
   "outputs": [
    {
     "data": {
      "text/plain": [
       "<zip at 0x7fc483d5ad80>"
      ]
     },
     "execution_count": 153,
     "metadata": {},
     "output_type": "execute_result"
    }
   ],
   "source": [
    "zip(poll_data.columns, ['time', 'intro', 'jupyter', 'expect', 'sport', 'personal', 'math_level', 'task1',\n",
    "                       'task2', 'task3', 'fib_gen','python','github', 'film'])"
   ]
  },
  {
   "cell_type": "code",
   "execution_count": 154,
   "id": "7e3b5d23",
   "metadata": {},
   "outputs": [
    {
     "data": {
      "text/plain": [
       "{'Timestamp': 'time',\n",
       " 'Представьтесь в 2-3 фразах': 'intro',\n",
       " 'Работали ли Вы с Jupyter notebooks?': 'jupyter',\n",
       " 'Что Вы ждете от курса?': 'expect',\n",
       " 'Потом мы прямо этот же набор данных поанализируем с Pandas. Так что какой Ваш любимый вид спорта?': 'sport',\n",
       " 'Ладно, посерьезней: согласны ли Вы на обработку персональных данных?': 'personal',\n",
       " 'Какие оцениваете свой уровень математической подготовки? (матан, линал, теорвер)': 'math_level',\n",
       " 'Чему равна дисперсия равномерного на [0,6] распределения?': 'task1',\n",
       " 'Найдите минимум функции 3x^4-8x^3+6x^2-12 на отрезке [-3,3]': 'task2',\n",
       " 'Сколько параметров у нормального распределения?': 'task3',\n",
       " 'Сможете написать на Python генератор чисел Фибоначчи?': 'fib_gen',\n",
       " 'Хорошо, а готовы к началу курса (6 сентября 2017) освоить азы Python? На уровне Code Academy, DataCamp или github.com/Yorko/python_intro': 'python',\n",
       " 'Оцените свой уровень владения GitHub': 'github',\n",
       " 'Посоветуйте хороший фильм в стиле \"Игра в имитацию\" :)': 'film'}"
      ]
     },
     "execution_count": 154,
     "metadata": {},
     "output_type": "execute_result"
    }
   ],
   "source": [
    "dict(zip(poll_data.columns, ['time', 'intro', 'jupyter', 'expect', 'sport', 'personal', 'math_level', 'task1',\n",
    "                       'task2', 'task3', 'fib_gen','python','github', 'film']))"
   ]
  },
  {
   "cell_type": "code",
   "execution_count": 157,
   "id": "1c2676c9",
   "metadata": {},
   "outputs": [],
   "source": [
    "poll_data.rename(columns=dict(zip(poll_data.columns, ['time', 'intro', 'jupyter', 'expect', 'sport', 'personal', 'math_level', 'task1',\n",
    "                       'task2', 'task3', 'fib_gen','python','github', 'film'])), inplace=True)"
   ]
  },
  {
   "cell_type": "code",
   "execution_count": 159,
   "id": "63bfee36",
   "metadata": {},
   "outputs": [
    {
     "data": {
      "text/html": [
       "<div>\n",
       "<style scoped>\n",
       "    .dataframe tbody tr th:only-of-type {\n",
       "        vertical-align: middle;\n",
       "    }\n",
       "\n",
       "    .dataframe tbody tr th {\n",
       "        vertical-align: top;\n",
       "    }\n",
       "\n",
       "    .dataframe thead th {\n",
       "        text-align: right;\n",
       "    }\n",
       "</style>\n",
       "<table border=\"1\" class=\"dataframe\">\n",
       "  <thead>\n",
       "    <tr style=\"text-align: right;\">\n",
       "      <th></th>\n",
       "      <th>time</th>\n",
       "      <th>intro</th>\n",
       "      <th>jupyter</th>\n",
       "      <th>expect</th>\n",
       "      <th>sport</th>\n",
       "      <th>personal</th>\n",
       "      <th>math_level</th>\n",
       "      <th>task1</th>\n",
       "      <th>task2</th>\n",
       "      <th>task3</th>\n",
       "      <th>fib_gen</th>\n",
       "      <th>python</th>\n",
       "      <th>github</th>\n",
       "      <th>film</th>\n",
       "    </tr>\n",
       "    <tr>\n",
       "      <th>id</th>\n",
       "      <th></th>\n",
       "      <th></th>\n",
       "      <th></th>\n",
       "      <th></th>\n",
       "      <th></th>\n",
       "      <th></th>\n",
       "      <th></th>\n",
       "      <th></th>\n",
       "      <th></th>\n",
       "      <th></th>\n",
       "      <th></th>\n",
       "      <th></th>\n",
       "      <th></th>\n",
       "      <th></th>\n",
       "    </tr>\n",
       "  </thead>\n",
       "  <tbody>\n",
       "    <tr>\n",
       "      <th>0</th>\n",
       "      <td>2016/12/05 10:39:59 am GMT+3</td>\n",
       "      <td>крутой Developer</td>\n",
       "      <td>Да</td>\n",
       "      <td>Ребята, вижу ваш настрой, уверен курс будет ин...</td>\n",
       "      <td>Starcraft</td>\n",
       "      <td>Да</td>\n",
       "      <td>4</td>\n",
       "      <td>3</td>\n",
       "      <td>-12</td>\n",
       "      <td>2.0</td>\n",
       "      <td>Да</td>\n",
       "      <td>Да</td>\n",
       "      <td>Проф</td>\n",
       "      <td>Прочитай книгу Лема \"Голос Неба\", очень много ...</td>\n",
       "    </tr>\n",
       "    <tr>\n",
       "      <th>1</th>\n",
       "      <td>2016/12/05 10:44:27 am GMT+3</td>\n",
       "      <td>Разработчик Navision. Изучаю тему DS для возмо...</td>\n",
       "      <td>Да</td>\n",
       "      <td>Практики, подкрепленной теорией. Хочется упоря...</td>\n",
       "      <td>NaN</td>\n",
       "      <td>Да</td>\n",
       "      <td>1</td>\n",
       "      <td>3</td>\n",
       "      <td>NaN</td>\n",
       "      <td>2.0</td>\n",
       "      <td>Да, но фиговый.</td>\n",
       "      <td>Да</td>\n",
       "      <td>Могу скачать материалы</td>\n",
       "      <td>NaN</td>\n",
       "    </tr>\n",
       "  </tbody>\n",
       "</table>\n",
       "</div>"
      ],
      "text/plain": [
       "                            time  \\\n",
       "id                                 \n",
       "0   2016/12/05 10:39:59 am GMT+3   \n",
       "1   2016/12/05 10:44:27 am GMT+3   \n",
       "\n",
       "                                                intro jupyter  \\\n",
       "id                                                              \n",
       "0                                    крутой Developer      Да   \n",
       "1   Разработчик Navision. Изучаю тему DS для возмо...      Да   \n",
       "\n",
       "                                               expect      sport personal  \\\n",
       "id                                                                          \n",
       "0   Ребята, вижу ваш настрой, уверен курс будет ин...  Starcraft       Да   \n",
       "1   Практики, подкрепленной теорией. Хочется упоря...        NaN       Да   \n",
       "\n",
       "    math_level task1 task2  task3          fib_gen python  \\\n",
       "id                                                          \n",
       "0            4     3   -12    2.0               Да     Да   \n",
       "1            1     3   NaN    2.0  Да, но фиговый.     Да   \n",
       "\n",
       "                    github                                               film  \n",
       "id                                                                             \n",
       "0                     Проф  Прочитай книгу Лема \"Голос Неба\", очень много ...  \n",
       "1   Могу скачать материалы                                                NaN  "
      ]
     },
     "execution_count": 159,
     "metadata": {},
     "output_type": "execute_result"
    }
   ],
   "source": [
    "poll_data.head(2)"
   ]
  },
  {
   "cell_type": "code",
   "execution_count": 161,
   "id": "77efa48f",
   "metadata": {},
   "outputs": [
    {
     "data": {
      "text/plain": [
       "Да                                                              2071\n",
       "Нет                                                              766\n",
       "немного                                                            7\n",
       "Немного                                                            3\n",
       "Немного,  недавно начал проходить курс от яндекса на курсоре       2\n",
       "                                                                ... \n",
       "пару раз включал                                                   1\n",
       "Пробовал, не впечатлился. Попробую еще раз.                        1\n",
       "Работал с Pandas и numpy                                           1\n",
       "Знаю о инх, не работал.                                            1\n",
       "чуток                                                              1\n",
       "Name: jupyter, Length: 85, dtype: int64"
      ]
     },
     "execution_count": 161,
     "metadata": {},
     "output_type": "execute_result"
    }
   ],
   "source": [
    "poll_data['jupyter'].value_counts()"
   ]
  },
  {
   "cell_type": "code",
   "execution_count": 167,
   "id": "1ce2d056",
   "metadata": {},
   "outputs": [
    {
     "data": {
      "text/plain": [
       "1.0    2071\n",
       "0.0     766\n",
       "2       107\n",
       "Name: jupyter, dtype: int64"
      ]
     },
     "execution_count": 167,
     "metadata": {},
     "output_type": "execute_result"
    }
   ],
   "source": [
    "poll_data['jupyter'].map({'Да':1, 'Нет':0}).fillna('2').value_counts()"
   ]
  },
  {
   "cell_type": "code",
   "execution_count": 170,
   "id": "10540d2e",
   "metadata": {},
   "outputs": [],
   "source": [
    "jupyter_levels = poll_data['jupyter'].map({'Да':1, 'Нет':0}).fillna('2.0')"
   ]
  },
  {
   "cell_type": "code",
   "execution_count": 171,
   "id": "a82261d0",
   "metadata": {},
   "outputs": [
    {
     "name": "stderr",
     "output_type": "stream",
     "text": [
      "/Users/aleksashka/opt/anaconda3/lib/python3.9/site-packages/seaborn/_decorators.py:36: FutureWarning: Pass the following variable as a keyword arg: x. From version 0.12, the only valid positional argument will be `data`, and passing other arguments without an explicit keyword will result in an error or misinterpretation.\n",
      "  warnings.warn(\n"
     ]
    },
    {
     "data": {
      "text/plain": [
       "<AxesSubplot:xlabel='jupyter', ylabel='count'>"
      ]
     },
     "execution_count": 171,
     "metadata": {},
     "output_type": "execute_result"
    },
    {
     "data": {
      "image/png": "[encoded data removed]",
      "text/plain": [
       "<Figure size 432x288 with 1 Axes>"
      ]
     },
     "metadata": {
      "needs_background": "light"
     },
     "output_type": "display_data"
    }
   ],
   "source": [
    "sns.countplot(jupyter_levels)"
   ]
  },
  {
   "cell_type": "code",
   "execution_count": 175,
   "id": "174cd296",
   "metadata": {},
   "outputs": [
    {
     "data": {
      "text/plain": [
       "Футбол               197\n",
       "футбол               113\n",
       "Баскетбол            113\n",
       "Плавание              94\n",
       "Хоккей                66\n",
       "Волейбол              62\n",
       "Бег                   51\n",
       "баскетбол             38\n",
       "Бокс                  38\n",
       "Шахматы               36\n",
       "Теннис                35\n",
       "плавание              35\n",
       "бег                   33\n",
       "хоккей                30\n",
       "Сноуборд              27\n",
       "Настольный теннис     24\n",
       "теннис                23\n",
       "Фигурное катание      23\n",
       "Биатлон               23\n",
       "настольный теннис     21\n",
       "Name: sport, dtype: int64"
      ]
     },
     "execution_count": 175,
     "metadata": {},
     "output_type": "execute_result"
    }
   ],
   "source": [
    "poll_data['sport'].value_counts().head(20)"
   ]
  },
  {
   "cell_type": "code",
   "execution_count": 177,
   "id": "a9733ffe",
   "metadata": {},
   "outputs": [
    {
     "data": {
      "text/plain": [
       "4"
      ]
     },
     "execution_count": 177,
     "metadata": {},
     "output_type": "execute_result"
    }
   ],
   "source": [
    "poll_data['task3'].nunique()"
   ]
  },
  {
   "cell_type": "code",
   "execution_count": 180,
   "id": "7fa7443b",
   "metadata": {},
   "outputs": [
    {
     "data": {
      "text/plain": [
       "2.0    2519\n",
       "1.0      86\n",
       "3.0      80\n",
       "4.0      40\n",
       "Name: task3, dtype: int64"
      ]
     },
     "execution_count": 180,
     "metadata": {},
     "output_type": "execute_result"
    }
   ],
   "source": [
    "poll_data['task3'].value_counts()"
   ]
  },
  {
   "cell_type": "code",
   "execution_count": 185,
   "id": "6a6c66ae",
   "metadata": {},
   "outputs": [
    {
     "data": {
      "text/plain": [
       "0.8556385869565217"
      ]
     },
     "execution_count": 185,
     "metadata": {},
     "output_type": "execute_result"
    }
   ],
   "source": [
    "(poll_data['task3']==2).sum() / poll_data.shape[0]"
   ]
  },
  {
   "cell_type": "code",
   "execution_count": 187,
   "id": "0c2eb24a",
   "metadata": {},
   "outputs": [
    {
     "data": {
      "text/plain": [
       "0.9244036697247706"
      ]
     },
     "execution_count": 187,
     "metadata": {},
     "output_type": "execute_result"
    }
   ],
   "source": [
    "(poll_data['task3']==2).sum() / poll_data['task3'].dropna().shape[0]"
   ]
  },
  {
   "cell_type": "code",
   "execution_count": 195,
   "id": "2e074196",
   "metadata": {},
   "outputs": [
    {
     "data": {
      "text/plain": [
       "array([list(['крутой', 'Developer']),\n",
       "       list(['Разработчик', 'Navision.', 'Изучаю', 'тему', 'DS', 'для', 'возможной', 'переквалификации.']),\n",
       "       list(['Я', 'Software', 'Engeneer', 'разработчик,', 'активно', 'интересующийся', 'областью', 'машинного', 'обучения.', 'Имею', 'реальный', 'опыт', 'в', 'DL', '(неcколько', 'задача', 'связанных', 'с', 'разпознавание', 'объектов', 'и', 'классификацией', 'изображений).']),\n",
       "       ...,\n",
       "       list(['Занимаюсь', 'сопровождением', 'автоматизированных', 'систем,', 'в', 'т.ч.', 'тех,', 'в', 'которых', 'очень', 'много', 'данных', 'в', 'БД', 'хранится.', 'Люблю', '\"покопаться\"', 'в', 'данных.', 'Изучаю', 'питон', 'с', '2017', 'года']),\n",
       "       list(['разработчик', 'Python,', 'JS']),\n",
       "       list(['Работал', 'аналитиком', 'в', 'разных', 'сферах,', 'включая', 'e-commerce,', 'телеком', 'и', 'онлайн-банкинг.', 'Увлекаюсь', 'программированием'])],\n",
       "      dtype=object)"
      ]
     },
     "execution_count": 195,
     "metadata": {},
     "output_type": "execute_result"
    }
   ],
   "source": [
    "poll_data['intro'].apply(lambda s: s.strip().split()).values"
   ]
  },
  {
   "cell_type": "code",
   "execution_count": 196,
   "id": "000d37b1",
   "metadata": {},
   "outputs": [
    {
     "data": {
      "text/plain": [
       "array(['крутой', 'Developer', 'Разработчик', ..., 'онлайн-банкинг.',\n",
       "       'Увлекаюсь', 'программированием'], dtype='<U81')"
      ]
     },
     "execution_count": 196,
     "metadata": {},
     "output_type": "execute_result"
    }
   ],
   "source": [
    "np.concatenate(poll_data['intro'].apply(lambda s: s.strip().split()).values)"
   ]
  },
  {
   "cell_type": "code",
   "execution_count": 197,
   "id": "bf42b695",
   "metadata": {},
   "outputs": [],
   "source": [
    "all_worlds = set(np.concatenate(poll_data['intro'].apply(lambda s: s.strip().split()).values))"
   ]
  },
  {
   "cell_type": "code",
   "execution_count": 198,
   "id": "e2cd34d2",
   "metadata": {},
   "outputs": [
    {
     "data": {
      "text/plain": [
       "{'Турист',\n",
       " 'небольщой',\n",
       " 'студии',\n",
       " 'питону',\n",
       " 'обеспечения,',\n",
       " 'МАИ,',\n",
       " 'Veeam.',\n",
       " 'Общий',\n",
       " 'главный',\n",
       " 'СПбГЭТУ',\n",
       " 'РАН.',\n",
       " 'работающий',\n",
       " 'учившийся',\n",
       " '6).',\n",
       " 'том',\n",
       " 'перспективную',\n",
       " 'управление\"',\n",
       " 'Да',\n",
       " '(1998-2003).',\n",
       " 'эконометрики.',\n",
       " 'придется',\n",
       " 'years',\n",
       " 'погрузиться',\n",
       " 'инженер',\n",
       " 'коммуникациях',\n",
       " 'бэкэнд',\n",
       " 'применение',\n",
       " 'академические',\n",
       " 'станет',\n",
       " 'Инженер-электрик,',\n",
       " 'ABBYY)',\n",
       " 'Приветствую!',\n",
       " 'физику.',\n",
       " 'специалистом',\n",
       " 'привет.',\n",
       " 'ФКТиПМ',\n",
       " 'максимальное',\n",
       " 'жизненная',\n",
       " 'инструмент',\n",
       " 'собираюсь',\n",
       " 'загруженности',\n",
       " 'поиска',\n",
       " 'Сколтехе.',\n",
       " 'сетям',\n",
       " 'Insight',\n",
       " 'но,',\n",
       " '4',\n",
       " 'Строю',\n",
       " 'нравятся',\n",
       " 'angular,',\n",
       " 'Физик-практик,',\n",
       " 'технологических',\n",
       " 'моделист,',\n",
       " 'Великобритании',\n",
       " 'так..',\n",
       " 'Nissan',\n",
       " 'бизнесу',\n",
       " 'читатель',\n",
       " 'фронтов,',\n",
       " 'назвать',\n",
       " 'безопасности,',\n",
       " 'провинциальном',\n",
       " 'улучшить',\n",
       " 'данных)',\n",
       " 'заинтересовал',\n",
       " '\"ЛЭТИ\"',\n",
       " 'прошлого',\n",
       " 'образов.',\n",
       " 'тестирование,',\n",
       " 'Львов,',\n",
       " 'Со',\n",
       " 'Beeline',\n",
       " 'компьютер',\n",
       " 'сетевые',\n",
       " 'участник',\n",
       " 'постдок',\n",
       " 'лингвистика\"',\n",
       " 'строю',\n",
       " 'национальном',\n",
       " 'researcher,',\n",
       " 'and',\n",
       " 'датасайнтс.',\n",
       " 'милые',\n",
       " 'университете.',\n",
       " 'вед.',\n",
       " 'лекцию',\n",
       " 'аутсорсе,',\n",
       " 'Белоруссии.',\n",
       " 'знания,',\n",
       " 'разработчиком',\n",
       " 'аналитику.',\n",
       " 'Чингиз',\n",
       " 'Генплана',\n",
       " 'Учил',\n",
       " 'Данных',\n",
       " 'Администратор',\n",
       " 'мечтатель.',\n",
       " 'естественных',\n",
       " 'DS,',\n",
       " 'Здравствуйте!',\n",
       " 'Езжу',\n",
       " 'ФУ',\n",
       " 'Инженер-программист,',\n",
       " 'хакерспейсов.',\n",
       " 'пошла',\n",
       " 'директором.',\n",
       " 'страдает',\n",
       " 'Сергей',\n",
       " 'Нашел',\n",
       " 'TI7)',\n",
       " 'диасофт/sql',\n",
       " 'Студентка-магистр',\n",
       " 'исследования',\n",
       " 'Framework.',\n",
       " 'Java/Scala-разработчик',\n",
       " 'Джуниор,',\n",
       " 'настоящие',\n",
       " 'рисках',\n",
       " 'наркотик.',\n",
       " 'продолжительное',\n",
       " 'формирования',\n",
       " 'СПбПУ',\n",
       " 'три',\n",
       " 'Фомин',\n",
       " 'понимаю,',\n",
       " 'учиться,',\n",
       " 'статью',\n",
       " 'опфт',\n",
       " 'студент)))',\n",
       " 'изучал',\n",
       " 'Социология,',\n",
       " '.net',\n",
       " 'Политеха',\n",
       " 'только)',\n",
       " 'их.',\n",
       " 'старое.',\n",
       " 'неуч',\n",
       " 'занимающей',\n",
       " 'спортивному',\n",
       " 'регрессии.',\n",
       " 'художником',\n",
       " 'Innova',\n",
       " 'заимел',\n",
       " 'олимпиадной',\n",
       " 'my',\n",
       " 'ещё',\n",
       " 'Армянин,',\n",
       " 'сего,',\n",
       " '2ом',\n",
       " 'теми,',\n",
       " 'мечтающая',\n",
       " 'University',\n",
       " 'чего-то',\n",
       " 'an',\n",
       " 'данные\"',\n",
       " 'экспериментов',\n",
       " 'Надеюсь,',\n",
       " 'Интернет',\n",
       " 'представляла,',\n",
       " 'читаю,',\n",
       " 'competition',\n",
       " 'данных(1год)',\n",
       " 'Неюный,',\n",
       " 'поступить',\n",
       " '\"Мехатроника',\n",
       " '21',\n",
       " 'всевозможными',\n",
       " 'питон.',\n",
       " 'Переделываю',\n",
       " '\"прикладная',\n",
       " 'мечтатель,',\n",
       " 'обучиться',\n",
       " 'і',\n",
       " 'математике,',\n",
       " 'нейросетки',\n",
       " 'BigData.',\n",
       " 'поиском',\n",
       " 'GIFTD.',\n",
       " 'опытом,',\n",
       " 'Начал',\n",
       " 'практике.',\n",
       " 'введение',\n",
       " 'двух',\n",
       " 'текстов/NLP,',\n",
       " 'визуализации',\n",
       " 'недавнего',\n",
       " 'освоенных',\n",
       " 'физик,',\n",
       " 'spark',\n",
       " 'хитрых',\n",
       " 'диссертации',\n",
       " 'IT-компании',\n",
       " 'мониторингом',\n",
       " 'вернуться',\n",
       " 'ИППИ.',\n",
       " 'вещами',\n",
       " '3-го',\n",
       " 'мира',\n",
       " 'Человек',\n",
       " 'php/mysql.',\n",
       " 'больше',\n",
       " 'чуть-чуть',\n",
       " 'плейбой,',\n",
       " 'Количественным',\n",
       " 'знать',\n",
       " 'офтальмологического',\n",
       " 'enthuisiast',\n",
       " 'практически',\n",
       " 'управления',\n",
       " 'Analyst-expert',\n",
       " 'программистом/аналитиком',\n",
       " 'телекоме,',\n",
       " 'языков,',\n",
       " 'ветряных',\n",
       " 'ТОГУ',\n",
       " 'электроники',\n",
       " 'ситуаций',\n",
       " 'биоинформатикой,',\n",
       " 'Grenoble',\n",
       " 'умные',\n",
       " 'пройти.',\n",
       " 'NG)',\n",
       " 'переработки',\n",
       " 'попробовать',\n",
       " 'спроса,',\n",
       " 'центре',\n",
       " 'профессию.',\n",
       " 'devops',\n",
       " 'Студент,',\n",
       " 'нейронками,',\n",
       " 'пониманию',\n",
       " 'Java',\n",
       " 'количество',\n",
       " 'фронт-энд',\n",
       " 'университетской',\n",
       " 'Информации',\n",
       " 'Безработный',\n",
       " 'Около',\n",
       " 'информационным',\n",
       " 'им.Плеханова,',\n",
       " 'мечтает',\n",
       " 'сама',\n",
       " 'Специалист',\n",
       " 'анализа.',\n",
       " 'серьёзных',\n",
       " 'лингвистикой',\n",
       " 'школе',\n",
       " 'веселые',\n",
       " 'МФТИ/TU',\n",
       " 'благодаря',\n",
       " 'экономиечской',\n",
       " 'ИИ),',\n",
       " 'недель',\n",
       " 'ошибку.',\n",
       " 'второго',\n",
       " '\"Механика',\n",
       " 'Front-end',\n",
       " 'аналитику,',\n",
       " 'Systems.',\n",
       " 'интернет-рекламу.',\n",
       " 'tutu.ru',\n",
       " 'хайлоад,',\n",
       " 'данная',\n",
       " 'студент-магистр',\n",
       " 'гемблинге,',\n",
       " 'работающие',\n",
       " 'гитхаб,',\n",
       " 'Алматы.',\n",
       " 'стала',\n",
       " 'наанализе',\n",
       " 'характер',\n",
       " 'Необходимы',\n",
       " 'mathematician',\n",
       " 'музыку.',\n",
       " 'budding',\n",
       " 'Конструктор,',\n",
       " 'Aleksandrov',\n",
       " 'имеет',\n",
       " 'редактор',\n",
       " 'экономика',\n",
       " 'гуманитарной',\n",
       " 'чутка',\n",
       " 'лишь',\n",
       " 'специализирующийся',\n",
       " 'NumPy,',\n",
       " 'интереснее.',\n",
       " 'блистал',\n",
       " 'рядов)',\n",
       " 'вместо',\n",
       " 'социология,',\n",
       " 'Westminster',\n",
       " 'ШАД,',\n",
       " 'линейные',\n",
       " 'тут',\n",
       " 'устроумный,',\n",
       " 'Прикладное',\n",
       " '(разработка',\n",
       " 'Челябинске,',\n",
       " 'котиков',\n",
       " 'суток!',\n",
       " 'кругозор=)',\n",
       " 'Киеве',\n",
       " 'существует',\n",
       " 'велосипед',\n",
       " 'Эстонии,',\n",
       " 'и',\n",
       " 'Последний',\n",
       " 'опыт',\n",
       " 'Web',\n",
       " 'возможный',\n",
       " 'Всеукраинской',\n",
       " 'отчество',\n",
       " 'новой',\n",
       " 'призванию',\n",
       " 'МГУ,',\n",
       " 'DL.',\n",
       " 'им.Губкина.',\n",
       " 'мобильной',\n",
       " '.Net',\n",
       " 'OpenStack,',\n",
       " 'планирующий',\n",
       " 'разными',\n",
       " 'теорвера',\n",
       " 'небольшом',\n",
       " 'учёный,',\n",
       " 'Думаю,',\n",
       " 'ФИВТ',\n",
       " 'приносят',\n",
       " 'Коростелев',\n",
       " 'университета',\n",
       " 'сложные,',\n",
       " 'Теоретическая',\n",
       " 'Супрунов',\n",
       " 'мимику',\n",
       " 'искусственным',\n",
       " 'Итмо.',\n",
       " 'Vision',\n",
       " 'код,',\n",
       " 'своём',\n",
       " 'СПбПУ,',\n",
       " 'авиационный',\n",
       " 'курса',\n",
       " '(R).',\n",
       " 'in',\n",
       " 'Иркутске.',\n",
       " 'мониторинга',\n",
       " 'теорвер,',\n",
       " 'Математик,',\n",
       " 'Научный',\n",
       " 'deeplearning.ai',\n",
       " 'покер',\n",
       " 'решением',\n",
       " 'Patient',\n",
       " 'JS).',\n",
       " 'визуализация',\n",
       " 'разрабатываю',\n",
       " '(в',\n",
       " 'мне',\n",
       " 'ml',\n",
       " 'штуками',\n",
       " 'мощь',\n",
       " 'проектики',\n",
       " 'спортом,',\n",
       " 'отрасли.',\n",
       " 'Санкт-Петербурге,',\n",
       " 'Специалист(МАИ),',\n",
       " 'К.В.',\n",
       " 'мной',\n",
       " 'text',\n",
       " 'Вторая',\n",
       " 'аппаратуры.',\n",
       " 'курсере.',\n",
       " 'обучить',\n",
       " 'начать.',\n",
       " 'team',\n",
       " 'душа',\n",
       " 'связан',\n",
       " 'своей',\n",
       " 'закончить.',\n",
       " 'стоит',\n",
       " 'физтехе,',\n",
       " '150',\n",
       " 'умная)',\n",
       " 'Ремонтирую',\n",
       " 'научных',\n",
       " 'Сколтех,',\n",
       " 'Андрей,',\n",
       " '(IT,',\n",
       " 'самообразования',\n",
       " 'работе',\n",
       " 'Любознательный,',\n",
       " 'Coach.',\n",
       " 'поставки',\n",
       " 'администратор',\n",
       " 'преобразовывать',\n",
       " 'лингвистики',\n",
       " 'являюсь',\n",
       " 'Локомотив',\n",
       " 'where',\n",
       " 'Склонность',\n",
       " 'магистратуры',\n",
       " 'систем,',\n",
       " 'Любопытна',\n",
       " '8',\n",
       " 'Python-разработчик',\n",
       " \"centr'a\",\n",
       " 'Когда',\n",
       " 'advertising',\n",
       " 'обществу\".',\n",
       " 'докторант',\n",
       " 'финансовое',\n",
       " 'чуть',\n",
       " 'абстрактный',\n",
       " 'Любительское',\n",
       " 'Владислав.',\n",
       " 'обучения,',\n",
       " '(Python).',\n",
       " 'путают.',\n",
       " 'умеющий',\n",
       " 'senior',\n",
       " 'школе).Хочу',\n",
       " 'Learning.',\n",
       " 'представитель',\n",
       " 'Потом',\n",
       " 'Алексей',\n",
       " 'медиа.',\n",
       " 'предприятиях.',\n",
       " 'Фаундер',\n",
       " 'ФКН,',\n",
       " 'Mathematician',\n",
       " 'торгую',\n",
       " 'целью',\n",
       " 'необходимым',\n",
       " 'Интуит.',\n",
       " 'автоматизатор.',\n",
       " 'питерской',\n",
       " '4-ого',\n",
       " 'мобильных',\n",
       " 'была',\n",
       " 'пойти',\n",
       " 'бэкенд',\n",
       " 'разное',\n",
       " 'Университет',\n",
       " 'Банк\"',\n",
       " 'Руководитель',\n",
       " 'поспорить,',\n",
       " 'кфмн',\n",
       " ';)))',\n",
       " 'выучить',\n",
       " 'член',\n",
       " 'Орбитсофт',\n",
       " 'Компьютерной',\n",
       " 'science-образование,',\n",
       " 'ни',\n",
       " 'партнер',\n",
       " 'тематике,',\n",
       " 'Учащийся',\n",
       " 'МИИТ',\n",
       " 'Германии.',\n",
       " 'паттернов',\n",
       " 'ЯМ.',\n",
       " 'аутсорс',\n",
       " 'МФТИ,',\n",
       " 'Два',\n",
       " 'product',\n",
       " 'тема.',\n",
       " 'машинному',\n",
       " 'Технопарка.',\n",
       " 'космос',\n",
       " 'yearning',\n",
       " 'Andrey',\n",
       " 'мфти',\n",
       " '\"Big',\n",
       " 'нейромаркетинговыми',\n",
       " 'ваш',\n",
       " 'физфак',\n",
       " 'энтузиастом.',\n",
       " 'Solution',\n",
       " 'заинтересовало',\n",
       " 'ModuleWorks.',\n",
       " 'общие',\n",
       " 'отлично',\n",
       " 'понял.',\n",
       " 'stuck',\n",
       " 'он',\n",
       " 'распознавание',\n",
       " 'учебную',\n",
       " 'Физтех-школа',\n",
       " 'моделированию,',\n",
       " 'идеальный',\n",
       " 'учился',\n",
       " 'PL',\n",
       " 'vk.com/dsclubspb',\n",
       " '(state-of-the-art).',\n",
       " 'scikit-learn',\n",
       " 'методы',\n",
       " 'фупм',\n",
       " 'поведенческой',\n",
       " 'слак',\n",
       " 'сфере,',\n",
       " 'интересующих',\n",
       " 'того',\n",
       " 'консультант,',\n",
       " 'индустрии',\n",
       " '26',\n",
       " 'несколькими',\n",
       " 'веб-разработкой',\n",
       " 'классификатора',\n",
       " 'ХПИ.',\n",
       " 'информатика,',\n",
       " '(Web',\n",
       " 'упущенное,',\n",
       " 'моделированием,',\n",
       " 'кибернетики',\n",
       " 'СПбГЭУ',\n",
       " 'Внутренний',\n",
       " 'процессы',\n",
       " 'поборю',\n",
       " 'статистику',\n",
       " 'экономика\"',\n",
       " 'ФЭН',\n",
       " 'приложениями',\n",
       " 'гос.',\n",
       " 'доволен',\n",
       " 'DS/ML',\n",
       " 'Intelligence',\n",
       " 'сервисы(c',\n",
       " 'апгрейду)))',\n",
       " 'перейдем',\n",
       " 'информационную',\n",
       " 'Артур.',\n",
       " 'самое',\n",
       " 'дома,',\n",
       " 'биоданными',\n",
       " 'времья',\n",
       " 'Бэкграунд',\n",
       " 'Увлёкся',\n",
       " 'заинтересован',\n",
       " 'закончив',\n",
       " 'экономике.',\n",
       " 'Russia',\n",
       " 'модельки.',\n",
       " 'Новосибирского',\n",
       " '(стремлюсь',\n",
       " 'последнего',\n",
       " '4-й).',\n",
       " 'iOS-разработчик,',\n",
       " 'Оказавшись',\n",
       " 'к.х.н.,',\n",
       " 'МосгортрансНИИпроекте.',\n",
       " 'публикаций',\n",
       " 'Экономического',\n",
       " 'Самарского',\n",
       " 'после',\n",
       " 'менеджер',\n",
       " 'собственного',\n",
       " 'университета,',\n",
       " 'математику,',\n",
       " 'Карьеристка,',\n",
       " 'производительности',\n",
       " 'insecure',\n",
       " 'КРОК.',\n",
       " 'собой,',\n",
       " 'игровом',\n",
       " 'успешных',\n",
       " 'Kaggle.',\n",
       " '(MEAN',\n",
       " 'аналитик\".',\n",
       " \"'18\",\n",
       " 'вознкновения',\n",
       " 'Дмитрий,',\n",
       " 'Programmer',\n",
       " 'анализа,',\n",
       " 'сайентист.',\n",
       " 'IT-проектов.',\n",
       " 'Младшим',\n",
       " 'навыков.',\n",
       " 'НИУ-ВШЭ.',\n",
       " 'Медленно',\n",
       " 'мат.моделей',\n",
       " 'спорта,',\n",
       " 'информационные',\n",
       " 'Innopolis',\n",
       " 'математику',\n",
       " 'науке',\n",
       " '\"введение',\n",
       " 'экс',\n",
       " 'Юра',\n",
       " 'рекламном',\n",
       " 'Курчатовский',\n",
       " 'студент:)',\n",
       " 'Национального',\n",
       " 'Пожелайте',\n",
       " 'Hopkins',\n",
       " 'т.п.',\n",
       " 'наук,',\n",
       " 'компьютерного',\n",
       " 'Инженер-математик,',\n",
       " 'существующие',\n",
       " 'tell?',\n",
       " 'Яндексе',\n",
       " 'прогу',\n",
       " 'части',\n",
       " 'programmer',\n",
       " 'программу.',\n",
       " 'вселенной',\n",
       " 'fullstack',\n",
       " 'выбирала',\n",
       " 'бизнес/продуктовым',\n",
       " 'языка,',\n",
       " 'московской',\n",
       " 'говорю',\n",
       " 'связи,',\n",
       " 'скверно',\n",
       " 'политехнического',\n",
       " 'Дружбы',\n",
       " 'ресурсани',\n",
       " 'осваиваю',\n",
       " 'ИНС',\n",
       " 'GST,',\n",
       " 'wannabe',\n",
       " 'challenge',\n",
       " 'Увлекался',\n",
       " 'графов.',\n",
       " 'удовольствие.',\n",
       " 'Тимлид',\n",
       " '(Лондон)',\n",
       " 'вшэ',\n",
       " 'Прокачиваем',\n",
       " 'GoTo',\n",
       " 'буду',\n",
       " 'интересующися',\n",
       " 'RND,',\n",
       " 'ML,',\n",
       " 'сколковской',\n",
       " 'Высокий',\n",
       " 'Баумана.',\n",
       " 'Не',\n",
       " 'информатика\".',\n",
       " 'Разрабтка',\n",
       " 'ABBYY',\n",
       " 'на',\n",
       " 'роботов.',\n",
       " 'Питонист-любитель',\n",
       " 'Вечная',\n",
       " 'текстур',\n",
       " 'метолы',\n",
       " 'участие',\n",
       " 'лет.',\n",
       " '\"Системы',\n",
       " 'вещей',\n",
       " 'неплохой',\n",
       " 'инженерного',\n",
       " 'vision-у.',\n",
       " 'НН,',\n",
       " 'тестирования.',\n",
       " 'расчетов',\n",
       " 'лимита',\n",
       " 'мат-мех',\n",
       " 'железячной',\n",
       " 'продажах.',\n",
       " 'Стандартный',\n",
       " 'физико-техническом',\n",
       " 'Teradata',\n",
       " 'sales',\n",
       " 'валютный',\n",
       " 'Retail',\n",
       " 'бауманка',\n",
       " 'целом.',\n",
       " 'банковском',\n",
       " 'попадя)',\n",
       " 'BIG',\n",
       " 'квантитативные',\n",
       " 'работал',\n",
       " 'парсинг',\n",
       " 'тер.физика,',\n",
       " 'Мат.',\n",
       " 'Тинькофф',\n",
       " 'задач',\n",
       " 'другой',\n",
       " 'HEP',\n",
       " 'мопедке',\n",
       " 'ИИ.',\n",
       " '12',\n",
       " 'рад,',\n",
       " 'Испытываю',\n",
       " 'процессе',\n",
       " 'научную',\n",
       " 'продолжил',\n",
       " 'Архитектов',\n",
       " 'Киева.',\n",
       " 'датасатанист,',\n",
       " 'Dropbike.ca',\n",
       " 'алгебры',\n",
       " 'ФАЛТ',\n",
       " 'МИЭФ;',\n",
       " 'Badoo',\n",
       " 'надо',\n",
       " 'ml,',\n",
       " 'После',\n",
       " 'всего',\n",
       " 'Беларуси',\n",
       " 'Book',\n",
       " 'BI-аналитик',\n",
       " 'душу.',\n",
       " 'рекламе.',\n",
       " 'техническом',\n",
       " 'уютном',\n",
       " 'Linux,',\n",
       " 'дальше',\n",
       " '2005',\n",
       " 'оптимального',\n",
       " 'прогала',\n",
       " 'комфортно.',\n",
       " 'геймдеве',\n",
       " 'Apple,',\n",
       " 'гик,',\n",
       " 'профессиональной',\n",
       " 'индустрии,',\n",
       " 'lover.',\n",
       " 'danascientist,',\n",
       " 'где',\n",
       " 'МГИМО,',\n",
       " 'улице',\n",
       " 'оставил.',\n",
       " 'Есть',\n",
       " 'майноре.',\n",
       " 'Веб-девелопер,',\n",
       " 'ранее,',\n",
       " 'развитием',\n",
       " '\"МТС\"',\n",
       " 'сотрудника,',\n",
       " 'Первое',\n",
       " 'Писался',\n",
       " 'профессию',\n",
       " 'Студентка,',\n",
       " 'нужны',\n",
       " \"Python'e.\",\n",
       " 'вы',\n",
       " 'госслужащие.',\n",
       " 'над',\n",
       " 'вывести',\n",
       " 'Мгу,',\n",
       " 'Sсientistа,',\n",
       " 'принята',\n",
       " 'маркетинга,',\n",
       " '\"Математические',\n",
       " 'обучаюсь',\n",
       " 'Мечтатель',\n",
       " 'Банке.',\n",
       " 'отношений',\n",
       " 'видео',\n",
       " 'Развиваю',\n",
       " 'подтянуть',\n",
       " 'базы',\n",
       " 'классификация',\n",
       " 'огромным',\n",
       " 'Salesforce',\n",
       " 'Поиск',\n",
       " 'подтянул',\n",
       " 'Zeptolab.',\n",
       " 'мыслитель.',\n",
       " 'Билайне.',\n",
       " 'учителя,',\n",
       " 'бродяга,',\n",
       " 'всегда',\n",
       " 'компьютерная',\n",
       " 'работы.',\n",
       " 'Бывший',\n",
       " 'qa',\n",
       " 'МехМат',\n",
       " 'алгоритмов.',\n",
       " '(хотя',\n",
       " 'думал,',\n",
       " 'тестовым',\n",
       " 'визуализацией',\n",
       " 'Увлеченный',\n",
       " 'Защищаю',\n",
       " 'PTC',\n",
       " 'ой',\n",
       " 'Поиске.',\n",
       " 'Для',\n",
       " 'Ученый,',\n",
       " 'BI',\n",
       " 'бизнесом,',\n",
       " 'Со-основатель',\n",
       " '\"переквалифицироваться',\n",
       " 'экосистем',\n",
       " 'без',\n",
       " 'переводом,',\n",
       " 'вектор',\n",
       " 'зрение',\n",
       " 'нахождением',\n",
       " 'ленивый.',\n",
       " ':)).',\n",
       " 'безопасность.',\n",
       " 'Прогер',\n",
       " 'касаюсь',\n",
       " 'WEB-девелопер,',\n",
       " 'Инженер-программист.',\n",
       " 'МестныйМастер',\n",
       " 'коленку.',\n",
       " 'HERMES).',\n",
       " 'н.с.',\n",
       " 'э',\n",
       " 'визуальных',\n",
       " 'года).',\n",
       " 'Fintech',\n",
       " 'Журналист.',\n",
       " 'Москве,',\n",
       " 'участвуем',\n",
       " 'интересно',\n",
       " 'сравниться',\n",
       " 'обратной',\n",
       " 'ACM',\n",
       " 'digital',\n",
       " 'Воронцова.',\n",
       " 'Верю,',\n",
       " 'компьютерной',\n",
       " 'футбол.',\n",
       " 'Яндекса.',\n",
       " 'жизненное',\n",
       " 'обработкой.',\n",
       " 'Project',\n",
       " 'Специальность',\n",
       " 'Ai',\n",
       " 'Шевченка.',\n",
       " 'раньше',\n",
       " 'желания',\n",
       " 'Минска',\n",
       " 'профи,',\n",
       " '\"Большие',\n",
       " 'java',\n",
       " 'Ексел',\n",
       " 'медицинское',\n",
       " 'сбере,',\n",
       " 'проектирую',\n",
       " 'оптимист.',\n",
       " 'современные',\n",
       " 'датамайнинг.',\n",
       " 'имени',\n",
       " 'славный',\n",
       " 'ХД',\n",
       " '4ый',\n",
       " 'Данных\"',\n",
       " 'рынках',\n",
       " '3-60',\n",
       " 'сверточным',\n",
       " 'познанию',\n",
       " 'РУДН',\n",
       " 'направлении)))',\n",
       " 'На',\n",
       " 'знания',\n",
       " 'Карлсруэ.',\n",
       " 'ЮУрГУ.',\n",
       " 'Zeptolab',\n",
       " 'полученные',\n",
       " 'Поступаю',\n",
       " '\"Журналистика',\n",
       " 'научными',\n",
       " 'ковыряю',\n",
       " 'научным',\n",
       " 'смежную',\n",
       " 'алгоритмами',\n",
       " '1C),',\n",
       " 'ко',\n",
       " 'финансов.',\n",
       " 'права',\n",
       " 'Рассчитываю',\n",
       " '\"КПИ',\n",
       " 'теперь',\n",
       " 'Верую',\n",
       " 'ИТ-специалист',\n",
       " 'Development',\n",
       " 'вышки',\n",
       " '\"Компьютерные',\n",
       " 'математики',\n",
       " '38',\n",
       " 'пробраться',\n",
       " 'Транснефть-Технологии.',\n",
       " 'магистратура',\n",
       " 'руководителем.',\n",
       " 'интересны',\n",
       " 'программирую,читаю',\n",
       " 'заснеженной',\n",
       " 'forest',\n",
       " 'геймдеве,',\n",
       " 'х-к',\n",
       " 'программы',\n",
       " 'знаниями',\n",
       " 'парень,',\n",
       " 'консультант.',\n",
       " 'AutoCAD,',\n",
       " 'web-разработчик,',\n",
       " 'питоне',\n",
       " 'С++,',\n",
       " 'E-commerce',\n",
       " 'небольшим',\n",
       " 'рукой',\n",
       " 'Recognition.',\n",
       " '24',\n",
       " 'подготовки',\n",
       " 'математические',\n",
       " '123',\n",
       " 'am',\n",
       " 'Diginetica.',\n",
       " 'технология.',\n",
       " 'алгоритмических',\n",
       " 'Oracle.',\n",
       " 'имеется.',\n",
       " 'разработчик-бегун',\n",
       " '(теория',\n",
       " 'Интересен',\n",
       " 'практических',\n",
       " 'sql.',\n",
       " 'программирую,',\n",
       " 'границами',\n",
       " 'дверь.',\n",
       " 'обучении',\n",
       " 'сетей\".',\n",
       " 'FMCG',\n",
       " 'теоретическими',\n",
       " 'оторванного',\n",
       " \"Python'ом\",\n",
       " 'ЛЭТИ.',\n",
       " 'тишник',\n",
       " 'агентстве.',\n",
       " 'Implementation',\n",
       " 'поработать',\n",
       " 'третьем',\n",
       " 'Первая.',\n",
       " '(1-ый',\n",
       " 'музыку',\n",
       " 'лучшему.',\n",
       " 'методов',\n",
       " 'аналитику',\n",
       " 'лени',\n",
       " 'обработке',\n",
       " 'программироавнием',\n",
       " 'системе',\n",
       " 'включая',\n",
       " 'информационной',\n",
       " 'Neural',\n",
       " 'Хорошо',\n",
       " 'Механико-математического',\n",
       " 'этанола.',\n",
       " 'любовь',\n",
       " 'курсов',\n",
       " 'Solutions\"',\n",
       " 'аспирантом',\n",
       " 'банках,',\n",
       " 'мат',\n",
       " 'фрилансом,',\n",
       " 'Артур',\n",
       " 'engineer',\n",
       " 'ботов,',\n",
       " 'задачи.',\n",
       " 'М.И.',\n",
       " 'детской',\n",
       " 'темой',\n",
       " 'science.',\n",
       " 'РАНХиГС.',\n",
       " 'разговоров.',\n",
       " '43',\n",
       " '(физика).',\n",
       " 'РАНХИГС.',\n",
       " 'ДВГУПС,',\n",
       " 'технарем',\n",
       " '23',\n",
       " 'практику',\n",
       " 'экономики,',\n",
       " 'specialist.',\n",
       " 'слаке',\n",
       " 'давности.',\n",
       " 'фразу',\n",
       " 'языковыми',\n",
       " 'Высоковского',\n",
       " 'Web.',\n",
       " 'курс).',\n",
       " 'C,',\n",
       " 'катался',\n",
       " 'интеллекта,',\n",
       " 'обучение',\n",
       " 'малом',\n",
       " 'мнистом',\n",
       " 'professional',\n",
       " 'возможно!',\n",
       " 'Яндекс.',\n",
       " 'Битрикс',\n",
       " 'научный',\n",
       " 'персонализации',\n",
       " 'могу;(',\n",
       " 'яндексовскую',\n",
       " 'отрасли,',\n",
       " 'близнецы',\n",
       " 'ready',\n",
       " 'Анализа',\n",
       " 'education',\n",
       " 'риски).',\n",
       " 'СПб.',\n",
       " ...}"
      ]
     },
     "execution_count": 198,
     "metadata": {},
     "output_type": "execute_result"
    }
   ],
   "source": [
    "all_worlds"
   ]
  },
  {
   "cell_type": "code",
   "execution_count": 199,
   "id": "93a70d65",
   "metadata": {},
   "outputs": [
    {
     "data": {
      "text/plain": [
       "8294"
      ]
     },
     "execution_count": 199,
     "metadata": {},
     "output_type": "execute_result"
    }
   ],
   "source": [
    "len(all_worlds)"
   ]
  },
  {
   "cell_type": "code",
   "execution_count": 201,
   "id": "5a51116a",
   "metadata": {},
   "outputs": [],
   "source": [
    "all_worlds = np.concatenate(poll_data['intro'].apply(lambda s: s.strip().split()).values)"
   ]
  },
  {
   "cell_type": "code",
   "execution_count": 202,
   "id": "34f77540",
   "metadata": {},
   "outputs": [
    {
     "data": {
      "text/plain": [
       "array(['крутой', 'Developer', 'Разработчик', ..., 'онлайн-банкинг.',\n",
       "       'Увлекаюсь', 'программированием'], dtype='<U81')"
      ]
     },
     "execution_count": 202,
     "metadata": {},
     "output_type": "execute_result"
    }
   ],
   "source": [
    "all_worlds"
   ]
  },
  {
   "cell_type": "code",
   "execution_count": 203,
   "id": "1bd331a7",
   "metadata": {},
   "outputs": [
    {
     "data": {
      "text/plain": [
       "26533"
      ]
     },
     "execution_count": 203,
     "metadata": {},
     "output_type": "execute_result"
    }
   ],
   "source": [
    "len(all_worlds)"
   ]
  },
  {
   "cell_type": "code",
   "execution_count": 204,
   "id": "c0be4f7a",
   "metadata": {},
   "outputs": [
    {
     "data": {
      "text/plain": [
       "в                  1235\n",
       "и                   734\n",
       "на                  409\n",
       "по                  283\n",
       "Студент             279\n",
       "                   ... \n",
       "направления,          1\n",
       "нетехнического        1\n",
       "Биоинформатик,        1\n",
       "права.                1\n",
       "онлайн-банкинг.       1\n",
       "Length: 8294, dtype: int64"
      ]
     },
     "execution_count": 204,
     "metadata": {},
     "output_type": "execute_result"
    }
   ],
   "source": [
    "pd.Series(list(all_worlds)).value_counts()"
   ]
  },
  {
   "cell_type": "code",
   "execution_count": 206,
   "id": "f29d451e",
   "metadata": {},
   "outputs": [],
   "source": [
    "from nltk.corpus import stopwords"
   ]
  },
  {
   "cell_type": "code",
   "execution_count": 207,
   "id": "24a80f37",
   "metadata": {},
   "outputs": [
    {
     "name": "stderr",
     "output_type": "stream",
     "text": [
      "[nltk_data] Downloading package stopwords to\n",
      "[nltk_data]     /Users/aleksashka/nltk_data...\n",
      "[nltk_data]   Unzipping corpora/stopwords.zip.\n"
     ]
    },
    {
     "data": {
      "text/plain": [
       "True"
      ]
     },
     "execution_count": 207,
     "metadata": {},
     "output_type": "execute_result"
    }
   ],
   "source": [
    "nltk.download('stopwords')"
   ]
  },
  {
   "cell_type": "code",
   "execution_count": 208,
   "id": "ccc0588f",
   "metadata": {},
   "outputs": [
    {
     "data": {
      "text/plain": [
       "['и',\n",
       " 'в',\n",
       " 'во',\n",
       " 'не',\n",
       " 'что',\n",
       " 'он',\n",
       " 'на',\n",
       " 'я',\n",
       " 'с',\n",
       " 'со',\n",
       " 'как',\n",
       " 'а',\n",
       " 'то',\n",
       " 'все',\n",
       " 'она',\n",
       " 'так',\n",
       " 'его',\n",
       " 'но',\n",
       " 'да',\n",
       " 'ты',\n",
       " 'к',\n",
       " 'у',\n",
       " 'же',\n",
       " 'вы',\n",
       " 'за',\n",
       " 'бы',\n",
       " 'по',\n",
       " 'только',\n",
       " 'ее',\n",
       " 'мне',\n",
       " 'было',\n",
       " 'вот',\n",
       " 'от',\n",
       " 'меня',\n",
       " 'еще',\n",
       " 'нет',\n",
       " 'о',\n",
       " 'из',\n",
       " 'ему',\n",
       " 'теперь',\n",
       " 'когда',\n",
       " 'даже',\n",
       " 'ну',\n",
       " 'вдруг',\n",
       " 'ли',\n",
       " 'если',\n",
       " 'уже',\n",
       " 'или',\n",
       " 'ни',\n",
       " 'быть',\n",
       " 'был',\n",
       " 'него',\n",
       " 'до',\n",
       " 'вас',\n",
       " 'нибудь',\n",
       " 'опять',\n",
       " 'уж',\n",
       " 'вам',\n",
       " 'ведь',\n",
       " 'там',\n",
       " 'потом',\n",
       " 'себя',\n",
       " 'ничего',\n",
       " 'ей',\n",
       " 'может',\n",
       " 'они',\n",
       " 'тут',\n",
       " 'где',\n",
       " 'есть',\n",
       " 'надо',\n",
       " 'ней',\n",
       " 'для',\n",
       " 'мы',\n",
       " 'тебя',\n",
       " 'их',\n",
       " 'чем',\n",
       " 'была',\n",
       " 'сам',\n",
       " 'чтоб',\n",
       " 'без',\n",
       " 'будто',\n",
       " 'чего',\n",
       " 'раз',\n",
       " 'тоже',\n",
       " 'себе',\n",
       " 'под',\n",
       " 'будет',\n",
       " 'ж',\n",
       " 'тогда',\n",
       " 'кто',\n",
       " 'этот',\n",
       " 'того',\n",
       " 'потому',\n",
       " 'этого',\n",
       " 'какой',\n",
       " 'совсем',\n",
       " 'ним',\n",
       " 'здесь',\n",
       " 'этом',\n",
       " 'один',\n",
       " 'почти',\n",
       " 'мой',\n",
       " 'тем',\n",
       " 'чтобы',\n",
       " 'нее',\n",
       " 'сейчас',\n",
       " 'были',\n",
       " 'куда',\n",
       " 'зачем',\n",
       " 'всех',\n",
       " 'никогда',\n",
       " 'можно',\n",
       " 'при',\n",
       " 'наконец',\n",
       " 'два',\n",
       " 'об',\n",
       " 'другой',\n",
       " 'хоть',\n",
       " 'после',\n",
       " 'над',\n",
       " 'больше',\n",
       " 'тот',\n",
       " 'через',\n",
       " 'эти',\n",
       " 'нас',\n",
       " 'про',\n",
       " 'всего',\n",
       " 'них',\n",
       " 'какая',\n",
       " 'много',\n",
       " 'разве',\n",
       " 'три',\n",
       " 'эту',\n",
       " 'моя',\n",
       " 'впрочем',\n",
       " 'хорошо',\n",
       " 'свою',\n",
       " 'этой',\n",
       " 'перед',\n",
       " 'иногда',\n",
       " 'лучше',\n",
       " 'чуть',\n",
       " 'том',\n",
       " 'нельзя',\n",
       " 'такой',\n",
       " 'им',\n",
       " 'более',\n",
       " 'всегда',\n",
       " 'конечно',\n",
       " 'всю',\n",
       " 'между']"
      ]
     },
     "execution_count": 208,
     "metadata": {},
     "output_type": "execute_result"
    }
   ],
   "source": [
    "len(stopwords.words('russian'))"
   ]
  },
  {
   "cell_type": "code",
   "execution_count": 220,
   "id": "a684e78f",
   "metadata": {},
   "outputs": [],
   "source": [
    "word_series = pd.Series(list(all_worlds))"
   ]
  },
  {
   "cell_type": "code",
   "execution_count": 224,
   "id": "1366e7fc",
   "metadata": {},
   "outputs": [
    {
     "data": {
      "text/plain": [
       "Студент        279\n",
       "Работаю        201\n",
       "курса          187\n",
       "данных         178\n",
       "Data           173\n",
       "Я              166\n",
       "работаю        157\n",
       "data           130\n",
       "машинным       123\n",
       "ML             122\n",
       "хочу           122\n",
       "-              114\n",
       "занимаюсь      103\n",
       "интересуюсь    101\n",
       "Хочу            98\n",
       "dtype: int64"
      ]
     },
     "execution_count": 224,
     "metadata": {},
     "output_type": "execute_result"
    }
   ],
   "source": [
    "word_series[~word_series.isin(stopwords.words('russian'))].value_counts().head(15)"
   ]
  },
  {
   "cell_type": "code",
   "execution_count": 222,
   "id": "4c852bc3",
   "metadata": {},
   "outputs": [
    {
     "data": {
      "text/plain": [
       "0        False\n",
       "1        False\n",
       "2        False\n",
       "3        False\n",
       "4        False\n",
       "         ...  \n",
       "26528    False\n",
       "26529     True\n",
       "26530    False\n",
       "26531    False\n",
       "26532    False\n",
       "Length: 26533, dtype: bool"
      ]
     },
     "execution_count": 222,
     "metadata": {},
     "output_type": "execute_result"
    }
   ],
   "source": [
    "word_series.isin(stop)"
   ]
  },
  {
   "cell_type": "code",
   "execution_count": 216,
   "id": "3724121f",
   "metadata": {},
   "outputs": [],
   "source": [
    "stop = stopwords.words('russian')"
   ]
  },
  {
   "cell_type": "code",
   "execution_count": null,
   "id": "b135c9ed",
   "metadata": {},
   "outputs": [],
   "source": []
  },
  {
   "cell_type": "code",
   "execution_count": null,
   "id": "d43bb744",
   "metadata": {},
   "outputs": [],
   "source": []
  },
  {
   "cell_type": "code",
   "execution_count": null,
   "id": "347325b1",
   "metadata": {},
   "outputs": [],
   "source": []
  }
 ],
 "metadata": {
  "kernelspec": {
   "display_name": "Python 3 (ipykernel)",
   "language": "python",
   "name": "python3"
  },
  "language_info": {
   "codemirror_mode": {
    "name": "ipython",
    "version": 3
   },
   "file_extension": ".py",
   "mimetype": "text/x-python",
   "name": "python",
   "nbconvert_exporter": "python",
   "pygments_lexer": "ipython3",
   "version": "3.9.7"
  }
 },
 "nbformat": 4,
 "nbformat_minor": 5
}
